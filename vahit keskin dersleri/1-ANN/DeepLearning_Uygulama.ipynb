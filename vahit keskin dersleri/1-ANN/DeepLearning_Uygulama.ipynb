{
 "cells": [
  {
   "cell_type": "markdown",
   "id": "915a20e1-fab8-4328-82a4-9d3998ff66f9",
   "metadata": {},
   "source": [
    "# Yapay Sinir Ağları ile Rakam Tanıma\n",
    "* İş problemi (El yazısı hatayı tanımlama)\n",
    "* Veriyi anlamak (Veriyi anlamaya çalışacağız)\n",
    "* Veriyi Hazırlamak (Veri Hazırlama)\n",
    "* Modelleme (Modelleyeceğiz)\n",
    "* Değelendirme (Evaluation)"
   ]
  },
  {
   "cell_type": "markdown",
   "id": "b6f3fa4f-d419-4297-a406-ac64e9830c55",
   "metadata": {},
   "source": [
    "## iş problemi\n",
    "problem : İnsan gücü kaynağını daha verimli kullanabilir miyiz ?"
   ]
  },
  {
   "cell_type": "code",
   "execution_count": 3,
   "id": "01c26e71-d095-4c12-a11a-2873b53810e2",
   "metadata": {
    "tags": []
   },
   "outputs": [],
   "source": [
    "import tensorflow as tf\n",
    "from tensorflow.keras.datasets import mnist\n",
    "from tensorflow.keras.models import load_model, Sequential\n",
    "from tensorflow.keras.layers import Dense, Flatten\n",
    "from tensorflow.keras.utils import to_categorical, plot_model"
   ]
  },
  {
   "cell_type": "code",
   "execution_count": 4,
   "id": "18fded65-fff2-46e8-8f34-34c5a8118c06",
   "metadata": {
    "tags": []
   },
   "outputs": [],
   "source": [
    "import matplotlib.pyplot as plt\n",
    "import numpy as np"
   ]
  },
  {
   "cell_type": "markdown",
   "id": "fbfd2117-a13e-4974-9273-83adb922ccd0",
   "metadata": {},
   "source": [
    "data load"
   ]
  },
  {
   "cell_type": "code",
   "execution_count": 86,
   "id": "553b76db-7767-4bba-8321-95e20c5a6aa6",
   "metadata": {
    "tags": []
   },
   "outputs": [],
   "source": [
    "(x_train,y_train), (x_test,y_test) = mnist.load_data()"
   ]
  },
  {
   "cell_type": "code",
   "execution_count": 87,
   "id": "eb4a4fd9-feaf-4dbf-87ef-fcb44551535a",
   "metadata": {
    "tags": []
   },
   "outputs": [
    {
     "data": {
      "text/plain": [
       "(60000, 28, 28)"
      ]
     },
     "execution_count": 87,
     "metadata": {},
     "output_type": "execute_result"
    }
   ],
   "source": [
    "x_train.shape"
   ]
  },
  {
   "cell_type": "code",
   "execution_count": 11,
   "id": "500c9f2a-8aa7-4135-95b0-bde03d76bf92",
   "metadata": {
    "tags": []
   },
   "outputs": [
    {
     "data": {
      "text/plain": [
       "(60000,)"
      ]
     },
     "execution_count": 11,
     "metadata": {},
     "output_type": "execute_result"
    }
   ],
   "source": [
    "y_train.shape"
   ]
  },
  {
   "cell_type": "code",
   "execution_count": 13,
   "id": "36cd7e71-947e-41d0-9671-b2dee84521c5",
   "metadata": {
    "tags": []
   },
   "outputs": [
    {
     "data": {
      "text/plain": [
       "(10000, 28, 28)"
      ]
     },
     "execution_count": 13,
     "metadata": {},
     "output_type": "execute_result"
    }
   ],
   "source": [
    "x_test.shape"
   ]
  },
  {
   "cell_type": "code",
   "execution_count": 15,
   "id": "ad9b075e-98c3-4cdf-b768-081e07c07614",
   "metadata": {
    "tags": []
   },
   "outputs": [
    {
     "data": {
      "text/plain": [
       "(10000,)"
      ]
     },
     "execution_count": 15,
     "metadata": {},
     "output_type": "execute_result"
    }
   ],
   "source": [
    "y_test.shape"
   ]
  },
  {
   "cell_type": "code",
   "execution_count": 16,
   "id": "a51869bf-ebd2-4c79-ba52-8cbec6b6344b",
   "metadata": {
    "tags": []
   },
   "outputs": [
    {
     "data": {
      "text/plain": [
       "array([5, 0, 4, ..., 5, 6, 8], dtype=uint8)"
      ]
     },
     "execution_count": 16,
     "metadata": {},
     "output_type": "execute_result"
    }
   ],
   "source": [
    "y_train"
   ]
  },
  {
   "cell_type": "code",
   "execution_count": 17,
   "id": "4212ffa5-9dc3-4f05-b620-d7fc4d30b944",
   "metadata": {
    "collapsed": true,
    "jupyter": {
     "outputs_hidden": true
    },
    "tags": []
   },
   "outputs": [
    {
     "data": {
      "text/plain": [
       "array([[[0, 0, 0, ..., 0, 0, 0],\n",
       "        [0, 0, 0, ..., 0, 0, 0],\n",
       "        [0, 0, 0, ..., 0, 0, 0],\n",
       "        ...,\n",
       "        [0, 0, 0, ..., 0, 0, 0],\n",
       "        [0, 0, 0, ..., 0, 0, 0],\n",
       "        [0, 0, 0, ..., 0, 0, 0]],\n",
       "\n",
       "       [[0, 0, 0, ..., 0, 0, 0],\n",
       "        [0, 0, 0, ..., 0, 0, 0],\n",
       "        [0, 0, 0, ..., 0, 0, 0],\n",
       "        ...,\n",
       "        [0, 0, 0, ..., 0, 0, 0],\n",
       "        [0, 0, 0, ..., 0, 0, 0],\n",
       "        [0, 0, 0, ..., 0, 0, 0]],\n",
       "\n",
       "       [[0, 0, 0, ..., 0, 0, 0],\n",
       "        [0, 0, 0, ..., 0, 0, 0],\n",
       "        [0, 0, 0, ..., 0, 0, 0],\n",
       "        ...,\n",
       "        [0, 0, 0, ..., 0, 0, 0],\n",
       "        [0, 0, 0, ..., 0, 0, 0],\n",
       "        [0, 0, 0, ..., 0, 0, 0]],\n",
       "\n",
       "       ...,\n",
       "\n",
       "       [[0, 0, 0, ..., 0, 0, 0],\n",
       "        [0, 0, 0, ..., 0, 0, 0],\n",
       "        [0, 0, 0, ..., 0, 0, 0],\n",
       "        ...,\n",
       "        [0, 0, 0, ..., 0, 0, 0],\n",
       "        [0, 0, 0, ..., 0, 0, 0],\n",
       "        [0, 0, 0, ..., 0, 0, 0]],\n",
       "\n",
       "       [[0, 0, 0, ..., 0, 0, 0],\n",
       "        [0, 0, 0, ..., 0, 0, 0],\n",
       "        [0, 0, 0, ..., 0, 0, 0],\n",
       "        ...,\n",
       "        [0, 0, 0, ..., 0, 0, 0],\n",
       "        [0, 0, 0, ..., 0, 0, 0],\n",
       "        [0, 0, 0, ..., 0, 0, 0]],\n",
       "\n",
       "       [[0, 0, 0, ..., 0, 0, 0],\n",
       "        [0, 0, 0, ..., 0, 0, 0],\n",
       "        [0, 0, 0, ..., 0, 0, 0],\n",
       "        ...,\n",
       "        [0, 0, 0, ..., 0, 0, 0],\n",
       "        [0, 0, 0, ..., 0, 0, 0],\n",
       "        [0, 0, 0, ..., 0, 0, 0]]], dtype=uint8)"
      ]
     },
     "execution_count": 17,
     "metadata": {},
     "output_type": "execute_result"
    }
   ],
   "source": [
    "x_train"
   ]
  },
  {
   "cell_type": "code",
   "execution_count": 18,
   "id": "92e53aff-6b59-4567-81b7-7152e5565bec",
   "metadata": {
    "tags": []
   },
   "outputs": [
    {
     "data": {
      "text/plain": [
       "array([0, 1, 2, 3, 4, 5, 6, 7, 8, 9], dtype=uint8)"
      ]
     },
     "execution_count": 18,
     "metadata": {},
     "output_type": "execute_result"
    }
   ],
   "source": [
    "np.unique(y_train)"
   ]
  },
  {
   "cell_type": "code",
   "execution_count": 20,
   "id": "1caae6c9-593a-4e10-81a3-2e2fcf7ca891",
   "metadata": {
    "tags": []
   },
   "outputs": [],
   "source": [
    "num_labels = len(np.unique(y_train))"
   ]
  },
  {
   "cell_type": "markdown",
   "id": "35cebe99-482f-407d-aa8f-e76b28ed1475",
   "metadata": {},
   "source": [
    "# veri setinden örnekler gösterilmesi"
   ]
  },
  {
   "cell_type": "code",
   "execution_count": 31,
   "id": "1d7e5c31-99e3-4900-986a-608aeaf383b0",
   "metadata": {
    "tags": []
   },
   "outputs": [
    {
     "data": {
      "text/plain": [
       "<matplotlib.image.AxesImage at 0x1bac9d137d0>"
      ]
     },
     "execution_count": 31,
     "metadata": {},
     "output_type": "execute_result"
    },
    {
     "data": {
      "image/png": "[encoded data removed]",
      "text/plain": [
       "<Figure size 1000x1000 with 1 Axes>"
      ]
     },
     "metadata": {},
     "output_type": "display_data"
    }
   ],
   "source": [
    "plt.figure(figsize=(10,10))\n",
    "plt.imshow(x_train[10], cmap='gray')"
   ]
  },
  {
   "cell_type": "code",
   "execution_count": 54,
   "id": "a9c27d28-78c5-408d-ae72-d70c3ced9f46",
   "metadata": {
    "tags": []
   },
   "outputs": [],
   "source": [
    "def visualize_img(data,rng):\n",
    "    plt.figure(figsize=(10,10))\n",
    "    for n in range(rng):\n",
    "        ax = plt.subplot(5,5,n+1)\n",
    "        plt.imshow(data[n], cmap='gray')\n"
   ]
  },
  {
   "cell_type": "code",
   "execution_count": 55,
   "id": "8c78ca19-b211-4efd-9861-09efaca624ef",
   "metadata": {
    "tags": []
   },
   "outputs": [
    {
     "data": {
      "image/png": "[encoded data removed]",
      "text/plain": [
       "<Figure size 1000x1000 with 10 Axes>"
      ]
     },
     "metadata": {},
     "output_type": "display_data"
    }
   ],
   "source": [
    "visualize_img(x_train,10)"
   ]
  },
  {
   "cell_type": "markdown",
   "id": "c85d3dc7-fdf1-4664-af0c-f8a046ebf424",
   "metadata": {},
   "source": [
    "* bir bilgisayar renk göstermek istediğinde rgb kullannır, kırmızı yeşil mavi, . \n",
    "* rgb (0-255)\n",
    "* r:250    g:0        b:250"
   ]
  },
  {
   "cell_type": "code",
   "execution_count": 51,
   "id": "6d49eea7-da95-4544-92d5-3a597adc189f",
   "metadata": {
    "tags": []
   },
   "outputs": [
    {
     "data": {
      "text/plain": [
       "(28, 28)"
      ]
     },
     "execution_count": 51,
     "metadata": {},
     "output_type": "execute_result"
    }
   ],
   "source": [
    "x_train[2].shape"
   ]
  },
  {
   "cell_type": "code",
   "execution_count": 52,
   "id": "a1947937-e6b4-4e6f-80b0-3e8f7fd47dcf",
   "metadata": {
    "tags": []
   },
   "outputs": [
    {
     "data": {
      "text/plain": [
       "(60000, 28, 28)"
      ]
     },
     "execution_count": 52,
     "metadata": {},
     "output_type": "execute_result"
    }
   ],
   "source": [
    "x_train.shape"
   ]
  },
  {
   "cell_type": "code",
   "execution_count": 56,
   "id": "d2af722c-d568-495e-a6de-839fa70dd715",
   "metadata": {
    "tags": []
   },
   "outputs": [
    {
     "data": {
      "text/plain": [
       "49"
      ]
     },
     "execution_count": 56,
     "metadata": {},
     "output_type": "execute_result"
    }
   ],
   "source": [
    "x_train[2][14,10]"
   ]
  },
  {
   "cell_type": "code",
   "execution_count": 60,
   "id": "b80c2ecc-83aa-4408-99aa-c8e5f4398802",
   "metadata": {
    "tags": []
   },
   "outputs": [
    {
     "data": {
      "text/plain": [
       "24.799744897959183"
      ]
     },
     "execution_count": 60,
     "metadata": {},
     "output_type": "execute_result"
    }
   ],
   "source": [
    "x_train[2].mean()"
   ]
  },
  {
   "cell_type": "code",
   "execution_count": 66,
   "id": "b3e9525c-d06d-4fe0-9473-a9fec5134162",
   "metadata": {
    "tags": []
   },
   "outputs": [
    {
     "data": {
      "text/plain": [
       "array([[ 49, 116, 144, 150, 241, 243, 234, 179, 241, 252],\n",
       "       [254, 250, 240, 198, 143,  91,  28,   5, 233, 250],\n",
       "       [ 98,  56,   0,   0,   0,   0,   0, 102, 254, 220],\n",
       "       [  0,   0,   0,   0,   0,   0,   0, 169, 254, 137],\n",
       "       [  0,   0,   0,   0,   0,   0,   0, 169, 254,  57],\n",
       "       [  0,   0,   0,   0,   0,   0,   0, 169, 254,  57]], dtype=uint8)"
      ]
     },
     "execution_count": 66,
     "metadata": {},
     "output_type": "execute_result"
    }
   ],
   "source": [
    "x_train[2][14:20 , 10:20]"
   ]
  },
  {
   "cell_type": "code",
   "execution_count": 67,
   "id": "d9c11a23-2bed-4256-ad7e-e86af437e22c",
   "metadata": {
    "tags": []
   },
   "outputs": [
    {
     "data": {
      "text/plain": [
       "96.51666666666667"
      ]
     },
     "execution_count": 67,
     "metadata": {},
     "output_type": "execute_result"
    }
   ],
   "source": [
    "x_train[2][14:20 , 10:20].mean()"
   ]
  },
  {
   "cell_type": "code",
   "execution_count": 73,
   "id": "47c53c7b-9e01-42a6-9966-7539d339d2cd",
   "metadata": {
    "tags": []
   },
   "outputs": [],
   "source": [
    "def pixel_visualize(img):\n",
    "    fig = plt.figure(figsize=(12,12))\n",
    "    ax = fig.add_subplot(111)\n",
    "    ax.imshow(img,cmap='gray')\n",
    "    width,height =img.shape\n",
    "    threshhold = img.max() /2.5\n",
    "    for x in range(width):\n",
    "        for y in range(height):\n",
    "            ax.annotate(str(round(img[x][y], 2)), xy=(y,x),\n",
    "                      color='white' if img[x][y]< threshhold else 'black')"
   ]
  },
  {
   "cell_type": "code",
   "execution_count": 74,
   "id": "32a8cf73-27ea-482d-ac83-1d971ee9620d",
   "metadata": {
    "tags": []
   },
   "outputs": [
    {
     "data": {
      "image/png": "[encoded data removed]",
      "text/plain": [
       "<Figure size 1200x1200 with 1 Axes>"
      ]
     },
     "metadata": {},
     "output_type": "display_data"
    }
   ],
   "source": [
    "pixel_visualize(x_train[2])"
   ]
  },
  {
   "cell_type": "markdown",
   "id": "948fbba3-0173-4b76-8646-938987765220",
   "metadata": {},
   "source": [
    "# Veriyi Hazırlama"
   ]
  },
  {
   "cell_type": "markdown",
   "id": "bb29eebc-969b-4cb9-ba71-c7edfdbfe5bb",
   "metadata": {},
   "source": [
    "Encoding\n",
    "* önce: [0 1 2 3 4 5 6 7 8 9]\n",
    "* sonra:[0 0 1 0 0 0 0 0 0 0] mesela şu an 2 yi ifade ediyoruz "
   ]
  },
  {
   "cell_type": "code",
   "execution_count": 88,
   "id": "963cabb1-7640-4c23-aba5-dd46b2d349c5",
   "metadata": {
    "tags": []
   },
   "outputs": [
    {
     "data": {
      "text/plain": [
       "array([5, 0, 4, 1, 9], dtype=uint8)"
      ]
     },
     "execution_count": 88,
     "metadata": {},
     "output_type": "execute_result"
    }
   ],
   "source": [
    "y_train[0:5]"
   ]
  },
  {
   "cell_type": "code",
   "execution_count": 89,
   "id": "2e32b11f-45a0-448c-b1f9-295e8dee65a9",
   "metadata": {
    "tags": []
   },
   "outputs": [],
   "source": [
    "y_train = to_categorical(y_train) # one hot encode..\n",
    "y_test = to_categorical(y_test)   # one hot encode.."
   ]
  },
  {
   "cell_type": "code",
   "execution_count": 90,
   "id": "1ef44f4f-2e87-4173-84b1-8cea0c551f05",
   "metadata": {
    "tags": []
   },
   "outputs": [
    {
     "data": {
      "text/plain": [
       "array([[0., 0., 0., 0., 0., 1., 0., 0., 0., 0.],\n",
       "       [1., 0., 0., 0., 0., 0., 0., 0., 0., 0.],\n",
       "       [0., 0., 0., 0., 1., 0., 0., 0., 0., 0.],\n",
       "       [0., 1., 0., 0., 0., 0., 0., 0., 0., 0.],\n",
       "       [0., 0., 0., 0., 0., 0., 0., 0., 0., 1.]], dtype=float32)"
      ]
     },
     "execution_count": 90,
     "metadata": {},
     "output_type": "execute_result"
    }
   ],
   "source": [
    "y_train[0:5]"
   ]
  },
  {
   "cell_type": "markdown",
   "id": "431d47d4-436e-4317-a2e5-df2967b1b425",
   "metadata": {},
   "source": [
    "Reshaping\n",
    "* amaç : 28*28 lik resim ve 60 bin gözlem var,  elimizdeki pikselleri ifade etmemiz de lazım"
   ]
  },
  {
   "cell_type": "code",
   "execution_count": 91,
   "id": "409df935-baf5-4a28-ab5e-f83c43ebbfb5",
   "metadata": {
    "tags": []
   },
   "outputs": [],
   "source": [
    "image_size = x_train.shape[1]"
   ]
  },
  {
   "cell_type": "code",
   "execution_count": 92,
   "id": "c2cb347f-0ede-4f98-b764-b50781d44aa6",
   "metadata": {
    "tags": []
   },
   "outputs": [
    {
     "data": {
      "text/plain": [
       "28"
      ]
     },
     "execution_count": 92,
     "metadata": {},
     "output_type": "execute_result"
    }
   ],
   "source": [
    "image_size"
   ]
  },
  {
   "cell_type": "code",
   "execution_count": 93,
   "id": "efa75d3a-c06c-4821-9c3b-ea4454aa704f",
   "metadata": {
    "tags": []
   },
   "outputs": [
    {
     "data": {
      "text/plain": [
       "(60000, 28, 28)"
      ]
     },
     "execution_count": 93,
     "metadata": {},
     "output_type": "execute_result"
    }
   ],
   "source": [
    "x_train.shape"
   ]
  },
  {
   "cell_type": "code",
   "execution_count": 94,
   "id": "25d0bf95-372a-4954-9097-15a442758c80",
   "metadata": {
    "tags": []
   },
   "outputs": [
    {
     "data": {
      "text/plain": [
       "(10000, 28, 28)"
      ]
     },
     "execution_count": 94,
     "metadata": {},
     "output_type": "execute_result"
    }
   ],
   "source": [
    "x_test.shape"
   ]
  },
  {
   "cell_type": "code",
   "execution_count": 95,
   "id": "a3410a5b-f849-4c79-8323-fb9ded8b41a2",
   "metadata": {
    "tags": []
   },
   "outputs": [],
   "source": [
    "x_train = x_train.reshape(x_train.shape[0],28,28,1)\n",
    "x_test = x_test.reshape(x_test.shape[0] , 28,28,1)"
   ]
  },
  {
   "cell_type": "code",
   "execution_count": 96,
   "id": "886cec1a-a25c-44e3-971e-9083f18422fc",
   "metadata": {
    "tags": []
   },
   "outputs": [
    {
     "data": {
      "text/plain": [
       "(60000, 28, 28, 1)"
      ]
     },
     "execution_count": 96,
     "metadata": {},
     "output_type": "execute_result"
    }
   ],
   "source": [
    "x_train.shape"
   ]
  },
  {
   "cell_type": "markdown",
   "id": "0cc9e4f0-e989-434c-9b92-7c8fba742139",
   "metadata": {},
   "source": [
    "Normalizasyon - standartlaştırma\n",
    "* 0 ile 255 arasında ki değerlerin 0 ile 1 arasına çekmek, öğrenme hızını arttırır"
   ]
  },
  {
   "cell_type": "code",
   "execution_count": 97,
   "id": "dae074f1-9be4-4526-a5fe-a021fdf9022f",
   "metadata": {
    "tags": []
   },
   "outputs": [],
   "source": [
    "x_train = x_train.astype('float32') / 255\n",
    "\n",
    "x_test = x_test.astype('float32') / 255"
   ]
  },
  {
   "cell_type": "markdown",
   "id": "e11b5dbd-1e94-410c-ace8-d566d19a422d",
   "metadata": {},
   "source": [
    "# modelleme"
   ]
  },
  {
   "cell_type": "markdown",
   "id": "4ab3e7bf-a4ce-4f62-827b-a7053d997d83",
   "metadata": {},
   "source": [
    "modelin mimarisi"
   ]
  },
  {
   "cell_type": "code",
   "execution_count": 117,
   "id": "1a8944e3-6ae1-48e0-b3ff-3e50109bdd45",
   "metadata": {
    "tags": []
   },
   "outputs": [],
   "source": [
    "model = tf.keras.Sequential([Flatten(input_shape = (28,28,1)),\n",
    "                             Dense(units = 128, activation='relu',name='layer1'),\n",
    "                             Dense(units= num_labels, activation='softmax', name = 'output_layer')])\n",
    "\n",
    "model.compile(loss ='categorical_crossentropy',\n",
    "              optimizer = 'adam',\n",
    "              metrics=[tf.keras.metrics.Precision(),\n",
    "                       tf.keras.metrics.Recall(),\n",
    "                       'accuracy'])"
   ]
  },
  {
   "cell_type": "code",
   "execution_count": 107,
   "id": "f0c83582-ac4d-4fc1-bc42-5c302ddc96ff",
   "metadata": {
    "collapsed": true,
    "jupyter": {
     "outputs_hidden": true
    },
    "tags": []
   },
   "outputs": [
    {
     "data": {
      "text/plain": [
       "\u001b[1;31mSignature:\u001b[0m\n",
       "\u001b[0mmodel\u001b[0m\u001b[1;33m.\u001b[0m\u001b[0mcompile\u001b[0m\u001b[1;33m(\u001b[0m\u001b[1;33m\n",
       "\u001b[0m    \u001b[0moptimizer\u001b[0m\u001b[1;33m=\u001b[0m\u001b[1;34m'rmsprop'\u001b[0m\u001b[1;33m,\u001b[0m\u001b[1;33m\n",
       "\u001b[0m    \u001b[0mloss\u001b[0m\u001b[1;33m=\u001b[0m\u001b[1;32mNone\u001b[0m\u001b[1;33m,\u001b[0m\u001b[1;33m\n",
       "\u001b[0m    \u001b[0mmetrics\u001b[0m\u001b[1;33m=\u001b[0m\u001b[1;32mNone\u001b[0m\u001b[1;33m,\u001b[0m\u001b[1;33m\n",
       "\u001b[0m    \u001b[0mloss_weights\u001b[0m\u001b[1;33m=\u001b[0m\u001b[1;32mNone\u001b[0m\u001b[1;33m,\u001b[0m\u001b[1;33m\n",
       "\u001b[0m    \u001b[0mweighted_metrics\u001b[0m\u001b[1;33m=\u001b[0m\u001b[1;32mNone\u001b[0m\u001b[1;33m,\u001b[0m\u001b[1;33m\n",
       "\u001b[0m    \u001b[0mrun_eagerly\u001b[0m\u001b[1;33m=\u001b[0m\u001b[1;32mNone\u001b[0m\u001b[1;33m,\u001b[0m\u001b[1;33m\n",
       "\u001b[0m    \u001b[0msteps_per_execution\u001b[0m\u001b[1;33m=\u001b[0m\u001b[1;32mNone\u001b[0m\u001b[1;33m,\u001b[0m\u001b[1;33m\n",
       "\u001b[0m    \u001b[0mjit_compile\u001b[0m\u001b[1;33m=\u001b[0m\u001b[1;32mNone\u001b[0m\u001b[1;33m,\u001b[0m\u001b[1;33m\n",
       "\u001b[0m    \u001b[0mpss_evaluation_shards\u001b[0m\u001b[1;33m=\u001b[0m\u001b[1;36m0\u001b[0m\u001b[1;33m,\u001b[0m\u001b[1;33m\n",
       "\u001b[0m    \u001b[1;33m**\u001b[0m\u001b[0mkwargs\u001b[0m\u001b[1;33m,\u001b[0m\u001b[1;33m\n",
       "\u001b[0m\u001b[1;33m)\u001b[0m\u001b[1;33m\u001b[0m\u001b[1;33m\u001b[0m\u001b[0m\n",
       "\u001b[1;31mDocstring:\u001b[0m\n",
       "Configures the model for training.\n",
       "\n",
       "Example:\n",
       "\n",
       "```python\n",
       "model.compile(optimizer=tf.keras.optimizers.Adam(learning_rate=1e-3),\n",
       "              loss=tf.keras.losses.BinaryCrossentropy(),\n",
       "              metrics=[tf.keras.metrics.BinaryAccuracy(),\n",
       "                       tf.keras.metrics.FalseNegatives()])\n",
       "```\n",
       "\n",
       "Args:\n",
       "    optimizer: String (name of optimizer) or optimizer instance. See\n",
       "      `tf.keras.optimizers`.\n",
       "    loss: Loss function. May be a string (name of loss function), or\n",
       "      a `tf.keras.losses.Loss` instance. See `tf.keras.losses`. A loss\n",
       "      function is any callable with the signature `loss = fn(y_true,\n",
       "      y_pred)`, where `y_true` are the ground truth values, and\n",
       "      `y_pred` are the model's predictions.\n",
       "      `y_true` should have shape\n",
       "      `(batch_size, d0, .. dN)` (except in the case of\n",
       "      sparse loss functions such as\n",
       "      sparse categorical crossentropy which expects integer arrays of\n",
       "      shape `(batch_size, d0, .. dN-1)`).\n",
       "      `y_pred` should have shape `(batch_size, d0, .. dN)`.\n",
       "      The loss function should return a float tensor.\n",
       "      If a custom `Loss` instance is\n",
       "      used and reduction is set to `None`, return value has shape\n",
       "      `(batch_size, d0, .. dN-1)` i.e. per-sample or per-timestep loss\n",
       "      values; otherwise, it is a scalar. If the model has multiple\n",
       "      outputs, you can use a different loss on each output by passing a\n",
       "      dictionary or a list of losses. The loss value that will be\n",
       "      minimized by the model will then be the sum of all individual\n",
       "      losses, unless `loss_weights` is specified.\n",
       "    metrics: List of metrics to be evaluated by the model during\n",
       "      training and testing. Each of this can be a string (name of a\n",
       "      built-in function), function or a `tf.keras.metrics.Metric`\n",
       "      instance. See `tf.keras.metrics`. Typically you will use\n",
       "      `metrics=['accuracy']`.\n",
       "      A function is any callable with the signature `result = fn(y_true,\n",
       "      y_pred)`. To specify different metrics for different outputs of a\n",
       "      multi-output model, you could also pass a dictionary, such as\n",
       "      `metrics={'output_a':'accuracy', 'output_b':['accuracy', 'mse']}`.\n",
       "      You can also pass a list to specify a metric or a list of metrics\n",
       "      for each output, such as\n",
       "      `metrics=[['accuracy'], ['accuracy', 'mse']]`\n",
       "      or `metrics=['accuracy', ['accuracy', 'mse']]`. When you pass the\n",
       "      strings 'accuracy' or 'acc', we convert this to one of\n",
       "      `tf.keras.metrics.BinaryAccuracy`,\n",
       "      `tf.keras.metrics.CategoricalAccuracy`,\n",
       "      `tf.keras.metrics.SparseCategoricalAccuracy` based on the shapes\n",
       "      of the targets and of the model output. We do a similar\n",
       "      conversion for the strings 'crossentropy' and 'ce' as well.\n",
       "      The metrics passed here are evaluated without sample weighting; if\n",
       "      you would like sample weighting to apply, you can specify your\n",
       "      metrics via the `weighted_metrics` argument instead.\n",
       "    loss_weights: Optional list or dictionary specifying scalar\n",
       "      coefficients (Python floats) to weight the loss contributions of\n",
       "      different model outputs. The loss value that will be minimized by\n",
       "      the model will then be the *weighted sum* of all individual\n",
       "      losses, weighted by the `loss_weights` coefficients.  If a list,\n",
       "      it is expected to have a 1:1 mapping to the model's outputs. If a\n",
       "      dict, it is expected to map output names (strings) to scalar\n",
       "      coefficients.\n",
       "    weighted_metrics: List of metrics to be evaluated and weighted by\n",
       "      `sample_weight` or `class_weight` during training and testing.\n",
       "    run_eagerly: Bool. If `True`, this `Model`'s logic will not be\n",
       "      wrapped in a `tf.function`. Recommended to leave this as `None`\n",
       "      unless your `Model` cannot be run inside a `tf.function`.\n",
       "      `run_eagerly=True` is not supported when using\n",
       "      `tf.distribute.experimental.ParameterServerStrategy`. Defaults to\n",
       "       `False`.\n",
       "    steps_per_execution: Int or `'auto'`. The number of batches to\n",
       "      run during each `tf.function` call. If set to \"auto\", keras will\n",
       "      automatically tune `steps_per_execution` during runtime. Running\n",
       "      multiple batches inside a single `tf.function` call can greatly\n",
       "      improve performance on TPUs, when used with distributed strategies\n",
       "      such as `ParameterServerStrategy`, or with small models with a\n",
       "      large Python overhead. At most, one full epoch will be run each\n",
       "      execution. If a number larger than the size of the epoch is\n",
       "      passed, the execution will be truncated to the size of the epoch.\n",
       "      Note that if `steps_per_execution` is set to `N`,\n",
       "      `Callback.on_batch_begin` and `Callback.on_batch_end` methods will\n",
       "      only be called every `N` batches (i.e. before/after each\n",
       "      `tf.function` execution). Defaults to `1`.\n",
       "    jit_compile: If `True`, compile the model training step with XLA.\n",
       "      [XLA](https://www.tensorflow.org/xla) is an optimizing compiler\n",
       "      for machine learning.\n",
       "      `jit_compile` is not enabled for by default.\n",
       "      Note that `jit_compile=True`\n",
       "      may not necessarily work for all models.\n",
       "      For more information on supported operations please refer to the\n",
       "      [XLA documentation](https://www.tensorflow.org/xla).\n",
       "      Also refer to\n",
       "      [known XLA issues](https://www.tensorflow.org/xla/known_issues)\n",
       "      for more details.\n",
       "    pss_evaluation_shards: Integer or 'auto'. Used for\n",
       "      `tf.distribute.ParameterServerStrategy` training only. This arg\n",
       "      sets the number of shards to split the dataset into, to enable an\n",
       "      exact visitation guarantee for evaluation, meaning the model will\n",
       "      be applied to each dataset element exactly once, even if workers\n",
       "      fail. The dataset must be sharded to ensure separate workers do\n",
       "      not process the same data. The number of shards should be at least\n",
       "      the number of workers for good performance. A value of 'auto'\n",
       "      turns on exact evaluation and uses a heuristic for the number of\n",
       "      shards based on the number of workers. 0, meaning no\n",
       "      visitation guarantee is provided. NOTE: Custom implementations of\n",
       "      `Model.test_step` will be ignored when doing exact evaluation.\n",
       "      Defaults to `0`.\n",
       "    **kwargs: Arguments supported for backwards compatibility only.\n",
       "\u001b[1;31mFile:\u001b[0m      c:\\users\\ycanf\\anaconda3\\lib\\site-packages\\keras\\src\\engine\\training.py\n",
       "\u001b[1;31mType:\u001b[0m      method"
      ]
     },
     "metadata": {},
     "output_type": "display_data"
    }
   ],
   "source": [
    "?model.compile"
   ]
  },
  {
   "cell_type": "code",
   "execution_count": 108,
   "id": "d3f71a6e-3d2c-41e9-95ae-27adf4ec552b",
   "metadata": {
    "collapsed": true,
    "jupyter": {
     "outputs_hidden": true
    },
    "tags": []
   },
   "outputs": [
    {
     "data": {
      "text/plain": [
       "\u001b[1;31mInit signature:\u001b[0m \u001b[0mtf\u001b[0m\u001b[1;33m.\u001b[0m\u001b[0mkeras\u001b[0m\u001b[1;33m.\u001b[0m\u001b[0mSequential\u001b[0m\u001b[1;33m(\u001b[0m\u001b[0mlayers\u001b[0m\u001b[1;33m=\u001b[0m\u001b[1;32mNone\u001b[0m\u001b[1;33m,\u001b[0m \u001b[0mname\u001b[0m\u001b[1;33m=\u001b[0m\u001b[1;32mNone\u001b[0m\u001b[1;33m)\u001b[0m\u001b[1;33m\u001b[0m\u001b[1;33m\u001b[0m\u001b[0m\n",
       "\u001b[1;31mDocstring:\u001b[0m     \n",
       "`Sequential` groups a linear stack of layers into a `tf.keras.Model`.\n",
       "\n",
       "`Sequential` provides training and inference features on this model.\n",
       "\n",
       "Examples:\n",
       "\n",
       "```python\n",
       "model = tf.keras.Sequential()\n",
       "model.add(tf.keras.Input(shape=(16,)))\n",
       "model.add(tf.keras.layers.Dense(8))\n",
       "\n",
       "# Note that you can also omit the initial `Input`.\n",
       "# In that case the model doesn't have any weights until the first call\n",
       "# to a training/evaluation method (since it isn't yet built):\n",
       "model = tf.keras.Sequential()\n",
       "model.add(tf.keras.layers.Dense(8))\n",
       "model.add(tf.keras.layers.Dense(4))\n",
       "# model.weights not created yet\n",
       "\n",
       "# Whereas if you specify an `Input`, the model gets built\n",
       "# continuously as you are adding layers:\n",
       "model = tf.keras.Sequential()\n",
       "model.add(tf.keras.Input(shape=(16,)))\n",
       "model.add(tf.keras.layers.Dense(4))\n",
       "len(model.weights)\n",
       "# Returns \"2\"\n",
       "\n",
       "# When using the delayed-build pattern (no input shape specified), you can\n",
       "# choose to manually build your model by calling\n",
       "# `build(batch_input_shape)`:\n",
       "model = tf.keras.Sequential()\n",
       "model.add(tf.keras.layers.Dense(8))\n",
       "model.add(tf.keras.layers.Dense(4))\n",
       "model.build((None, 16))\n",
       "len(model.weights)\n",
       "# Returns \"4\"\n",
       "\n",
       "# Note that when using the delayed-build pattern (no input shape specified),\n",
       "# the model gets built the first time you call `fit`, `eval`, or `predict`,\n",
       "# or the first time you call the model on some input data.\n",
       "model = tf.keras.Sequential()\n",
       "model.add(tf.keras.layers.Dense(8))\n",
       "model.add(tf.keras.layers.Dense(1))\n",
       "model.compile(optimizer='sgd', loss='mse')\n",
       "# This builds the model for the first time:\n",
       "model.fit(x, y, batch_size=32, epochs=10)\n",
       "```\n",
       "\u001b[1;31mInit docstring:\u001b[0m\n",
       "Creates a `Sequential` model instance.\n",
       "\n",
       "Args:\n",
       "  layers: Optional list of layers to add to the model.\n",
       "  name: Optional name for the model.\n",
       "\u001b[1;31mFile:\u001b[0m           c:\\users\\ycanf\\anaconda3\\lib\\site-packages\\keras\\src\\engine\\sequential.py\n",
       "\u001b[1;31mType:\u001b[0m           type\n",
       "\u001b[1;31mSubclasses:\u001b[0m     "
      ]
     },
     "metadata": {},
     "output_type": "display_data"
    }
   ],
   "source": [
    "?tf.keras.Sequential"
   ]
  },
  {
   "cell_type": "code",
   "execution_count": 119,
   "id": "86170e85-52c4-4df7-b99f-751451257b6e",
   "metadata": {
    "collapsed": true,
    "jupyter": {
     "outputs_hidden": true
    },
    "tags": []
   },
   "outputs": [
    {
     "name": "stdout",
     "output_type": "stream",
     "text": [
      "Model: \"sequential_2\"\n",
      "_________________________________________________________________\n",
      " Layer (type)                Output Shape              Param #   \n",
      "=================================================================\n",
      " flatten_2 (Flatten)         (None, 784)               0         \n",
      "                                                                 \n",
      " layer1 (Dense)              (None, 128)               100480    \n",
      "                                                                 \n",
      " output_layer (Dense)        (None, 10)                1290      \n",
      "                                                                 \n",
      "=================================================================\n",
      "Total params: 101770 (397.54 KB)\n",
      "Trainable params: 101770 (397.54 KB)\n",
      "Non-trainable params: 0 (0.00 Byte)\n",
      "_________________________________________________________________\n"
     ]
    }
   ],
   "source": [
    "model.summary()"
   ]
  },
  {
   "cell_type": "code",
   "execution_count": 130,
   "id": "e53d7526-f027-4799-ad9d-96bb034a7b24",
   "metadata": {
    "tags": []
   },
   "outputs": [
    {
     "name": "stdout",
     "output_type": "stream",
     "text": [
      "Epoch 1/10\n",
      "469/469 [==============================] - 2s 3ms/step - loss: 0.0611 - precision_1: 0.9855 - recall: 0.9796 - accuracy: 0.9827 - val_loss: 0.0841 - val_precision_1: 0.9794 - val_recall: 0.9721 - val_accuracy: 0.9748\n",
      "Epoch 2/10\n",
      "469/469 [==============================] - 2s 3ms/step - loss: 0.0514 - precision_1: 0.9875 - recall: 0.9824 - accuracy: 0.9850 - val_loss: 0.0796 - val_precision_1: 0.9784 - val_recall: 0.9735 - val_accuracy: 0.9752\n",
      "Epoch 3/10\n",
      "469/469 [==============================] - 1s 3ms/step - loss: 0.0436 - precision_1: 0.9898 - recall: 0.9856 - accuracy: 0.9877 - val_loss: 0.0744 - val_precision_1: 0.9796 - val_recall: 0.9749 - val_accuracy: 0.9766\n",
      "Epoch 4/10\n",
      "469/469 [==============================] - 2s 4ms/step - loss: 0.0361 - precision_1: 0.9917 - recall: 0.9883 - accuracy: 0.9901 - val_loss: 0.0795 - val_precision_1: 0.9788 - val_recall: 0.9743 - val_accuracy: 0.9759\n",
      "Epoch 5/10\n",
      "469/469 [==============================] - 2s 4ms/step - loss: 0.0309 - precision_1: 0.9931 - recall: 0.9903 - accuracy: 0.9916 - val_loss: 0.0716 - val_precision_1: 0.9802 - val_recall: 0.9760 - val_accuracy: 0.9770\n",
      "Epoch 6/10\n",
      "469/469 [==============================] - 2s 4ms/step - loss: 0.0262 - precision_1: 0.9944 - recall: 0.9922 - accuracy: 0.9932 - val_loss: 0.0733 - val_precision_1: 0.9803 - val_recall: 0.9772 - val_accuracy: 0.9784\n",
      "Epoch 7/10\n",
      "469/469 [==============================] - 2s 4ms/step - loss: 0.0226 - precision_1: 0.9952 - recall: 0.9933 - accuracy: 0.9942 - val_loss: 0.0774 - val_precision_1: 0.9793 - val_recall: 0.9764 - val_accuracy: 0.9776\n",
      "Epoch 8/10\n",
      "469/469 [==============================] - 2s 4ms/step - loss: 0.0190 - precision_1: 0.9965 - recall: 0.9950 - accuracy: 0.9957 - val_loss: 0.0769 - val_precision_1: 0.9791 - val_recall: 0.9764 - val_accuracy: 0.9772\n",
      "Epoch 9/10\n",
      "469/469 [==============================] - 2s 3ms/step - loss: 0.0167 - precision_1: 0.9968 - recall: 0.9954 - accuracy: 0.9962 - val_loss: 0.0848 - val_precision_1: 0.9773 - val_recall: 0.9738 - val_accuracy: 0.9754\n",
      "Epoch 10/10\n",
      "469/469 [==============================] - 2s 4ms/step - loss: 0.0147 - precision_1: 0.9973 - recall: 0.9964 - accuracy: 0.9969 - val_loss: 0.0766 - val_precision_1: 0.9796 - val_recall: 0.9769 - val_accuracy: 0.9782\n"
     ]
    },
    {
     "data": {
      "text/plain": [
       "<keras.src.callbacks.History at 0x1bad18658d0>"
      ]
     },
     "execution_count": 130,
     "metadata": {},
     "output_type": "execute_result"
    }
   ],
   "source": [
    "model.fit(x_train, y_train, epochs=10 , batch_size = 128, validation_data=(x_test, y_test))"
   ]
  },
  {
   "cell_type": "code",
   "execution_count": 121,
   "id": "a74d2c28-dbb3-481e-9ea1-4577e77989d5",
   "metadata": {
    "collapsed": true,
    "jupyter": {
     "outputs_hidden": true
    },
    "tags": []
   },
   "outputs": [
    {
     "data": {
      "text/plain": [
       "\u001b[1;31mSignature:\u001b[0m\n",
       "\u001b[0mmodel\u001b[0m\u001b[1;33m.\u001b[0m\u001b[0mfit\u001b[0m\u001b[1;33m(\u001b[0m\u001b[1;33m\n",
       "\u001b[0m    \u001b[0mx\u001b[0m\u001b[1;33m=\u001b[0m\u001b[1;32mNone\u001b[0m\u001b[1;33m,\u001b[0m\u001b[1;33m\n",
       "\u001b[0m    \u001b[0my\u001b[0m\u001b[1;33m=\u001b[0m\u001b[1;32mNone\u001b[0m\u001b[1;33m,\u001b[0m\u001b[1;33m\n",
       "\u001b[0m    \u001b[0mbatch_size\u001b[0m\u001b[1;33m=\u001b[0m\u001b[1;32mNone\u001b[0m\u001b[1;33m,\u001b[0m\u001b[1;33m\n",
       "\u001b[0m    \u001b[0mepochs\u001b[0m\u001b[1;33m=\u001b[0m\u001b[1;36m1\u001b[0m\u001b[1;33m,\u001b[0m\u001b[1;33m\n",
       "\u001b[0m    \u001b[0mverbose\u001b[0m\u001b[1;33m=\u001b[0m\u001b[1;34m'auto'\u001b[0m\u001b[1;33m,\u001b[0m\u001b[1;33m\n",
       "\u001b[0m    \u001b[0mcallbacks\u001b[0m\u001b[1;33m=\u001b[0m\u001b[1;32mNone\u001b[0m\u001b[1;33m,\u001b[0m\u001b[1;33m\n",
       "\u001b[0m    \u001b[0mvalidation_split\u001b[0m\u001b[1;33m=\u001b[0m\u001b[1;36m0.0\u001b[0m\u001b[1;33m,\u001b[0m\u001b[1;33m\n",
       "\u001b[0m    \u001b[0mvalidation_data\u001b[0m\u001b[1;33m=\u001b[0m\u001b[1;32mNone\u001b[0m\u001b[1;33m,\u001b[0m\u001b[1;33m\n",
       "\u001b[0m    \u001b[0mshuffle\u001b[0m\u001b[1;33m=\u001b[0m\u001b[1;32mTrue\u001b[0m\u001b[1;33m,\u001b[0m\u001b[1;33m\n",
       "\u001b[0m    \u001b[0mclass_weight\u001b[0m\u001b[1;33m=\u001b[0m\u001b[1;32mNone\u001b[0m\u001b[1;33m,\u001b[0m\u001b[1;33m\n",
       "\u001b[0m    \u001b[0msample_weight\u001b[0m\u001b[1;33m=\u001b[0m\u001b[1;32mNone\u001b[0m\u001b[1;33m,\u001b[0m\u001b[1;33m\n",
       "\u001b[0m    \u001b[0minitial_epoch\u001b[0m\u001b[1;33m=\u001b[0m\u001b[1;36m0\u001b[0m\u001b[1;33m,\u001b[0m\u001b[1;33m\n",
       "\u001b[0m    \u001b[0msteps_per_epoch\u001b[0m\u001b[1;33m=\u001b[0m\u001b[1;32mNone\u001b[0m\u001b[1;33m,\u001b[0m\u001b[1;33m\n",
       "\u001b[0m    \u001b[0mvalidation_steps\u001b[0m\u001b[1;33m=\u001b[0m\u001b[1;32mNone\u001b[0m\u001b[1;33m,\u001b[0m\u001b[1;33m\n",
       "\u001b[0m    \u001b[0mvalidation_batch_size\u001b[0m\u001b[1;33m=\u001b[0m\u001b[1;32mNone\u001b[0m\u001b[1;33m,\u001b[0m\u001b[1;33m\n",
       "\u001b[0m    \u001b[0mvalidation_freq\u001b[0m\u001b[1;33m=\u001b[0m\u001b[1;36m1\u001b[0m\u001b[1;33m,\u001b[0m\u001b[1;33m\n",
       "\u001b[0m    \u001b[0mmax_queue_size\u001b[0m\u001b[1;33m=\u001b[0m\u001b[1;36m10\u001b[0m\u001b[1;33m,\u001b[0m\u001b[1;33m\n",
       "\u001b[0m    \u001b[0mworkers\u001b[0m\u001b[1;33m=\u001b[0m\u001b[1;36m1\u001b[0m\u001b[1;33m,\u001b[0m\u001b[1;33m\n",
       "\u001b[0m    \u001b[0muse_multiprocessing\u001b[0m\u001b[1;33m=\u001b[0m\u001b[1;32mFalse\u001b[0m\u001b[1;33m,\u001b[0m\u001b[1;33m\n",
       "\u001b[0m\u001b[1;33m)\u001b[0m\u001b[1;33m\u001b[0m\u001b[1;33m\u001b[0m\u001b[0m\n",
       "\u001b[1;31mDocstring:\u001b[0m\n",
       "Trains the model for a fixed number of epochs (dataset iterations).\n",
       "\n",
       "Args:\n",
       "    x: Input data. It could be:\n",
       "      - A Numpy array (or array-like), or a list of arrays\n",
       "        (in case the model has multiple inputs).\n",
       "      - A TensorFlow tensor, or a list of tensors\n",
       "        (in case the model has multiple inputs).\n",
       "      - A dict mapping input names to the corresponding array/tensors,\n",
       "        if the model has named inputs.\n",
       "      - A `tf.data` dataset. Should return a tuple\n",
       "        of either `(inputs, targets)` or\n",
       "        `(inputs, targets, sample_weights)`.\n",
       "      - A generator or `keras.utils.Sequence` returning `(inputs,\n",
       "        targets)` or `(inputs, targets, sample_weights)`.\n",
       "      - A `tf.keras.utils.experimental.DatasetCreator`, which wraps a\n",
       "        callable that takes a single argument of type\n",
       "        `tf.distribute.InputContext`, and returns a `tf.data.Dataset`.\n",
       "        `DatasetCreator` should be used when users prefer to specify the\n",
       "        per-replica batching and sharding logic for the `Dataset`.\n",
       "        See `tf.keras.utils.experimental.DatasetCreator` doc for more\n",
       "        information.\n",
       "      A more detailed description of unpacking behavior for iterator\n",
       "      types (Dataset, generator, Sequence) is given below. If these\n",
       "      include `sample_weights` as a third component, note that sample\n",
       "      weighting applies to the `weighted_metrics` argument but not the\n",
       "      `metrics` argument in `compile()`. If using\n",
       "      `tf.distribute.experimental.ParameterServerStrategy`, only\n",
       "      `DatasetCreator` type is supported for `x`.\n",
       "    y: Target data. Like the input data `x`,\n",
       "      it could be either Numpy array(s) or TensorFlow tensor(s).\n",
       "      It should be consistent with `x` (you cannot have Numpy inputs and\n",
       "      tensor targets, or inversely). If `x` is a dataset, generator,\n",
       "      or `keras.utils.Sequence` instance, `y` should\n",
       "      not be specified (since targets will be obtained from `x`).\n",
       "    batch_size: Integer or `None`.\n",
       "        Number of samples per gradient update.\n",
       "        If unspecified, `batch_size` will default to 32.\n",
       "        Do not specify the `batch_size` if your data is in the\n",
       "        form of datasets, generators, or `keras.utils.Sequence`\n",
       "        instances (since they generate batches).\n",
       "    epochs: Integer. Number of epochs to train the model.\n",
       "        An epoch is an iteration over the entire `x` and `y`\n",
       "        data provided\n",
       "        (unless the `steps_per_epoch` flag is set to\n",
       "        something other than None).\n",
       "        Note that in conjunction with `initial_epoch`,\n",
       "        `epochs` is to be understood as \"final epoch\".\n",
       "        The model is not trained for a number of iterations\n",
       "        given by `epochs`, but merely until the epoch\n",
       "        of index `epochs` is reached.\n",
       "    verbose: 'auto', 0, 1, or 2. Verbosity mode.\n",
       "        0 = silent, 1 = progress bar, 2 = one line per epoch.\n",
       "        'auto' becomes 1 for most cases, but 2 when used with\n",
       "        `ParameterServerStrategy`. Note that the progress bar is not\n",
       "        particularly useful when logged to a file, so verbose=2 is\n",
       "        recommended when not running interactively (eg, in a production\n",
       "        environment). Defaults to 'auto'.\n",
       "    callbacks: List of `keras.callbacks.Callback` instances.\n",
       "        List of callbacks to apply during training.\n",
       "        See `tf.keras.callbacks`. Note\n",
       "        `tf.keras.callbacks.ProgbarLogger` and\n",
       "        `tf.keras.callbacks.History` callbacks are created automatically\n",
       "        and need not be passed into `model.fit`.\n",
       "        `tf.keras.callbacks.ProgbarLogger` is created or not based on\n",
       "        `verbose` argument to `model.fit`.\n",
       "        Callbacks with batch-level calls are currently unsupported with\n",
       "        `tf.distribute.experimental.ParameterServerStrategy`, and users\n",
       "        are advised to implement epoch-level calls instead with an\n",
       "        appropriate `steps_per_epoch` value.\n",
       "    validation_split: Float between 0 and 1.\n",
       "        Fraction of the training data to be used as validation data.\n",
       "        The model will set apart this fraction of the training data,\n",
       "        will not train on it, and will evaluate\n",
       "        the loss and any model metrics\n",
       "        on this data at the end of each epoch.\n",
       "        The validation data is selected from the last samples\n",
       "        in the `x` and `y` data provided, before shuffling. This\n",
       "        argument is not supported when `x` is a dataset, generator or\n",
       "        `keras.utils.Sequence` instance.\n",
       "        If both `validation_data` and `validation_split` are provided,\n",
       "        `validation_data` will override `validation_split`.\n",
       "        `validation_split` is not yet supported with\n",
       "        `tf.distribute.experimental.ParameterServerStrategy`.\n",
       "    validation_data: Data on which to evaluate\n",
       "        the loss and any model metrics at the end of each epoch.\n",
       "        The model will not be trained on this data. Thus, note the fact\n",
       "        that the validation loss of data provided using\n",
       "        `validation_split` or `validation_data` is not affected by\n",
       "        regularization layers like noise and dropout.\n",
       "        `validation_data` will override `validation_split`.\n",
       "        `validation_data` could be:\n",
       "          - A tuple `(x_val, y_val)` of Numpy arrays or tensors.\n",
       "          - A tuple `(x_val, y_val, val_sample_weights)` of NumPy\n",
       "            arrays.\n",
       "          - A `tf.data.Dataset`.\n",
       "          - A Python generator or `keras.utils.Sequence` returning\n",
       "          `(inputs, targets)` or `(inputs, targets, sample_weights)`.\n",
       "        `validation_data` is not yet supported with\n",
       "        `tf.distribute.experimental.ParameterServerStrategy`.\n",
       "    shuffle: Boolean (whether to shuffle the training data\n",
       "        before each epoch) or str (for 'batch'). This argument is\n",
       "        ignored when `x` is a generator or an object of tf.data.Dataset.\n",
       "        'batch' is a special option for dealing\n",
       "        with the limitations of HDF5 data; it shuffles in batch-sized\n",
       "        chunks. Has no effect when `steps_per_epoch` is not `None`.\n",
       "    class_weight: Optional dictionary mapping class indices (integers)\n",
       "        to a weight (float) value, used for weighting the loss function\n",
       "        (during training only).\n",
       "        This can be useful to tell the model to\n",
       "        \"pay more attention\" to samples from\n",
       "        an under-represented class. When `class_weight` is specified\n",
       "        and targets have a rank of 2 or greater, either `y` must be\n",
       "        one-hot encoded, or an explicit final dimension of `1` must\n",
       "        be included for sparse class labels.\n",
       "    sample_weight: Optional Numpy array of weights for\n",
       "        the training samples, used for weighting the loss function\n",
       "        (during training only). You can either pass a flat (1D)\n",
       "        Numpy array with the same length as the input samples\n",
       "        (1:1 mapping between weights and samples),\n",
       "        or in the case of temporal data,\n",
       "        you can pass a 2D array with shape\n",
       "        `(samples, sequence_length)`,\n",
       "        to apply a different weight to every timestep of every sample.\n",
       "        This argument is not supported when `x` is a dataset, generator,\n",
       "        or `keras.utils.Sequence` instance, instead provide the\n",
       "        sample_weights as the third element of `x`.\n",
       "        Note that sample weighting does not apply to metrics specified\n",
       "        via the `metrics` argument in `compile()`. To apply sample\n",
       "        weighting to your metrics, you can specify them via the\n",
       "        `weighted_metrics` in `compile()` instead.\n",
       "    initial_epoch: Integer.\n",
       "        Epoch at which to start training\n",
       "        (useful for resuming a previous training run).\n",
       "    steps_per_epoch: Integer or `None`.\n",
       "        Total number of steps (batches of samples)\n",
       "        before declaring one epoch finished and starting the\n",
       "        next epoch. When training with input tensors such as\n",
       "        TensorFlow data tensors, the default `None` is equal to\n",
       "        the number of samples in your dataset divided by\n",
       "        the batch size, or 1 if that cannot be determined. If x is a\n",
       "        `tf.data` dataset, and 'steps_per_epoch'\n",
       "        is None, the epoch will run until the input dataset is\n",
       "        exhausted.  When passing an infinitely repeating dataset, you\n",
       "        must specify the `steps_per_epoch` argument. If\n",
       "        `steps_per_epoch=-1` the training will run indefinitely with an\n",
       "        infinitely repeating dataset.  This argument is not supported\n",
       "        with array inputs.\n",
       "        When using `tf.distribute.experimental.ParameterServerStrategy`:\n",
       "          * `steps_per_epoch=None` is not supported.\n",
       "    validation_steps: Only relevant if `validation_data` is provided and\n",
       "        is a `tf.data` dataset. Total number of steps (batches of\n",
       "        samples) to draw before stopping when performing validation\n",
       "        at the end of every epoch. If 'validation_steps' is None,\n",
       "        validation will run until the `validation_data` dataset is\n",
       "        exhausted. In the case of an infinitely repeated dataset, it\n",
       "        will run into an infinite loop. If 'validation_steps' is\n",
       "        specified and only part of the dataset will be consumed, the\n",
       "        evaluation will start from the beginning of the dataset at each\n",
       "        epoch. This ensures that the same validation samples are used\n",
       "        every time.\n",
       "    validation_batch_size: Integer or `None`.\n",
       "        Number of samples per validation batch.\n",
       "        If unspecified, will default to `batch_size`.\n",
       "        Do not specify the `validation_batch_size` if your data is in\n",
       "        the form of datasets, generators, or `keras.utils.Sequence`\n",
       "        instances (since they generate batches).\n",
       "    validation_freq: Only relevant if validation data is provided.\n",
       "      Integer or `collections.abc.Container` instance (e.g. list, tuple,\n",
       "      etc.).  If an integer, specifies how many training epochs to run\n",
       "      before a new validation run is performed, e.g. `validation_freq=2`\n",
       "      runs validation every 2 epochs. If a Container, specifies the\n",
       "      epochs on which to run validation, e.g.\n",
       "      `validation_freq=[1, 2, 10]` runs validation at the end of the\n",
       "      1st, 2nd, and 10th epochs.\n",
       "    max_queue_size: Integer. Used for generator or\n",
       "      `keras.utils.Sequence` input only. Maximum size for the generator\n",
       "      queue.  If unspecified, `max_queue_size` will default to 10.\n",
       "    workers: Integer. Used for generator or `keras.utils.Sequence` input\n",
       "        only. Maximum number of processes to spin up\n",
       "        when using process-based threading. If unspecified, `workers`\n",
       "        will default to 1.\n",
       "    use_multiprocessing: Boolean. Used for generator or\n",
       "        `keras.utils.Sequence` input only. If `True`, use process-based\n",
       "        threading. If unspecified, `use_multiprocessing` will default to\n",
       "        `False`. Note that because this implementation relies on\n",
       "        multiprocessing, you should not pass non-pickleable arguments to\n",
       "        the generator as they can't be passed easily to children\n",
       "        processes.\n",
       "\n",
       "Unpacking behavior for iterator-like inputs:\n",
       "    A common pattern is to pass a tf.data.Dataset, generator, or\n",
       "  tf.keras.utils.Sequence to the `x` argument of fit, which will in fact\n",
       "  yield not only features (x) but optionally targets (y) and sample\n",
       "  weights.  Keras requires that the output of such iterator-likes be\n",
       "  unambiguous. The iterator should return a tuple of length 1, 2, or 3,\n",
       "  where the optional second and third elements will be used for y and\n",
       "  sample_weight respectively. Any other type provided will be wrapped in\n",
       "  a length one tuple, effectively treating everything as 'x'. When\n",
       "  yielding dicts, they should still adhere to the top-level tuple\n",
       "  structure.\n",
       "  e.g. `({\"x0\": x0, \"x1\": x1}, y)`. Keras will not attempt to separate\n",
       "  features, targets, and weights from the keys of a single dict.\n",
       "    A notable unsupported data type is the namedtuple. The reason is\n",
       "  that it behaves like both an ordered datatype (tuple) and a mapping\n",
       "  datatype (dict). So given a namedtuple of the form:\n",
       "      `namedtuple(\"example_tuple\", [\"y\", \"x\"])`\n",
       "  it is ambiguous whether to reverse the order of the elements when\n",
       "  interpreting the value. Even worse is a tuple of the form:\n",
       "      `namedtuple(\"other_tuple\", [\"x\", \"y\", \"z\"])`\n",
       "  where it is unclear if the tuple was intended to be unpacked into x,\n",
       "  y, and sample_weight or passed through as a single element to `x`. As\n",
       "  a result the data processing code will simply raise a ValueError if it\n",
       "  encounters a namedtuple. (Along with instructions to remedy the\n",
       "  issue.)\n",
       "\n",
       "Returns:\n",
       "    A `History` object. Its `History.history` attribute is\n",
       "    a record of training loss values and metrics values\n",
       "    at successive epochs, as well as validation loss values\n",
       "    and validation metrics values (if applicable).\n",
       "\n",
       "Raises:\n",
       "    RuntimeError: 1. If the model was never compiled or,\n",
       "    2. If `model.fit` is  wrapped in `tf.function`.\n",
       "\n",
       "    ValueError: In case of mismatch between the provided input data\n",
       "        and what the model expects or when the input data is empty.\n",
       "\u001b[1;31mFile:\u001b[0m      c:\\users\\ycanf\\anaconda3\\lib\\site-packages\\keras\\src\\engine\\training.py\n",
       "\u001b[1;31mType:\u001b[0m      method"
      ]
     },
     "metadata": {},
     "output_type": "display_data"
    }
   ],
   "source": [
    "?model.fit"
   ]
  },
  {
   "cell_type": "code",
   "execution_count": 127,
   "id": "3a90a2ce-1a8b-4cb7-b7e8-075d993ef6b0",
   "metadata": {
    "tags": []
   },
   "outputs": [
    {
     "name": "stdout",
     "output_type": "stream",
     "text": [
      "313/313 [==============================] - 0s 1ms/step\n"
     ]
    }
   ],
   "source": [
    "y_pred = model.predict(x_test)"
   ]
  },
  {
   "cell_type": "raw",
   "id": "ed021033-06f3-4ab5-98f4-b7474b1fb918",
   "metadata": {},
   "source": [
    "Değerlendirme, Evaluation"
   ]
  },
  {
   "cell_type": "code",
   "execution_count": 131,
   "id": "d642ad2b-c24a-4a01-ac90-260af0fe9989",
   "metadata": {
    "collapsed": true,
    "jupyter": {
     "outputs_hidden": true
    },
    "tags": []
   },
   "outputs": [
    {
     "name": "stdout",
     "output_type": "stream",
     "text": [
      "Epoch 1/10\n",
      "469/469 [==============================] - 2s 4ms/step - loss: 0.0116 - precision_1: 0.9980 - recall: 0.9974 - accuracy: 0.9977 - val_loss: 0.0804 - val_precision_1: 0.9800 - val_recall: 0.9772 - val_accuracy: 0.9782\n",
      "Epoch 2/10\n",
      "469/469 [==============================] - 2s 3ms/step - loss: 0.0097 - precision_1: 0.9985 - recall: 0.9980 - accuracy: 0.9983 - val_loss: 0.0788 - val_precision_1: 0.9789 - val_recall: 0.9773 - val_accuracy: 0.9780\n",
      "Epoch 3/10\n",
      "469/469 [==============================] - 2s 3ms/step - loss: 0.0099 - precision_1: 0.9979 - recall: 0.9973 - accuracy: 0.9975 - val_loss: 0.0817 - val_precision_1: 0.9790 - val_recall: 0.9769 - val_accuracy: 0.9779\n",
      "Epoch 4/10\n",
      "469/469 [==============================] - 2s 3ms/step - loss: 0.0074 - precision_1: 0.9989 - recall: 0.9987 - accuracy: 0.9988 - val_loss: 0.0898 - val_precision_1: 0.9771 - val_recall: 0.9755 - val_accuracy: 0.9760\n",
      "Epoch 5/10\n",
      "469/469 [==============================] - 2s 3ms/step - loss: 0.0061 - precision_1: 0.9991 - recall: 0.9989 - accuracy: 0.9991 - val_loss: 0.0876 - val_precision_1: 0.9794 - val_recall: 0.9771 - val_accuracy: 0.9776\n",
      "Epoch 6/10\n",
      "469/469 [==============================] - 2s 3ms/step - loss: 0.0065 - precision_1: 0.9991 - recall: 0.9988 - accuracy: 0.9990 - val_loss: 0.0885 - val_precision_1: 0.9788 - val_recall: 0.9770 - val_accuracy: 0.9776\n",
      "Epoch 7/10\n",
      "469/469 [==============================] - 2s 3ms/step - loss: 0.0061 - precision_1: 0.9988 - recall: 0.9985 - accuracy: 0.9986 - val_loss: 0.0884 - val_precision_1: 0.9804 - val_recall: 0.9791 - val_accuracy: 0.9797\n",
      "Epoch 8/10\n",
      "469/469 [==============================] - 2s 3ms/step - loss: 0.0041 - precision_1: 0.9994 - recall: 0.9992 - accuracy: 0.9993 - val_loss: 0.0919 - val_precision_1: 0.9786 - val_recall: 0.9771 - val_accuracy: 0.9778\n",
      "Epoch 9/10\n",
      "469/469 [==============================] - 2s 3ms/step - loss: 0.0033 - precision_1: 0.9997 - recall: 0.9997 - accuracy: 0.9997 - val_loss: 0.0909 - val_precision_1: 0.9800 - val_recall: 0.9785 - val_accuracy: 0.9791\n",
      "Epoch 10/10\n",
      "469/469 [==============================] - 2s 3ms/step - loss: 0.0026 - precision_1: 0.9998 - recall: 0.9997 - accuracy: 0.9997 - val_loss: 0.0917 - val_precision_1: 0.9793 - val_recall: 0.9771 - val_accuracy: 0.9777\n"
     ]
    }
   ],
   "source": [
    "history = model.fit(x_train, y_train, epochs=10 , batch_size = 128, validation_data=(x_test, y_test))"
   ]
  },
  {
   "cell_type": "markdown",
   "id": "69242bab-c690-4dfc-8dab-b387d01a770a",
   "metadata": {},
   "source": [
    "###################################\n",
    "# Accuracy ve Loss Grafikleri\n",
    "############3######################"
   ]
  },
  {
   "cell_type": "code",
   "execution_count": 137,
   "id": "bc9ea91a-becc-4310-ac74-66d17e68bce8",
   "metadata": {
    "tags": []
   },
   "outputs": [
    {
     "data": {
      "image/png": "[encoded data removed]",
      "text/plain": [
       "<Figure size 2000x500 with 2 Axes>"
      ]
     },
     "metadata": {},
     "output_type": "display_data"
    }
   ],
   "source": [
    "# Graph 1 Accuracy\n",
    "plt.figure(figsize= (20,5))\n",
    "plt.subplot(1,2,1)\n",
    "plt.plot(history.history['accuracy'], color='b', label= 'Training Accuracy')\n",
    "plt.plot(history.history['val_accuracy'], color = 'r', label = 'Validation Accuracy')\n",
    "plt.legend(loc='lower right')\n",
    "plt.xlabel('Epoch', fontsize=16)\n",
    "plt.ylabel('Accuracy', fontsize=16)\n",
    "plt.ylim([min(plt.ylim()), 1])\n",
    "plt.title('Eğitim ve Test Başarım Grafiği', fontsize= 16 )\n",
    "\n",
    "# Graph 2 Loss\n",
    "plt.subplot(1,2,2)\n",
    "plt.plot(history.history['loss'], color='b', label= 'Training Loss')\n",
    "plt.plot(history.history['val_loss'], color = 'r', label = 'Validation Loss')\n",
    "plt.legend(loc='upper right')\n",
    "plt.xlabel('Epoch', fontsize=16)\n",
    "plt.ylabel('Loss', fontsize=16)\n",
    "plt.ylim([0,max(plt.ylim())])\n",
    "plt.title('Eğitim ve Test Başarım Grafiği', fontsize= 16 )\n",
    "plt.show()"
   ]
  },
  {
   "cell_type": "code",
   "execution_count": 139,
   "id": "b1fda761-1582-426a-8dbd-fa8afcb2f4bc",
   "metadata": {
    "tags": []
   },
   "outputs": [],
   "source": [
    "loss, precision, recall, acc = model.evaluate(x_test,y_test,verbose=False)"
   ]
  },
  {
   "cell_type": "code",
   "execution_count": 140,
   "id": "3b8a15a2-289e-46ff-a964-7182c864fbdb",
   "metadata": {
    "tags": []
   },
   "outputs": [
    {
     "name": "stdout",
     "output_type": "stream",
     "text": [
      "\n",
      "Test Accuracy: 97.8%\n",
      "\n",
      "Test Loss: 9.2%\n",
      "\n",
      "Test Precision: 97.9%\n",
      "\n",
      "Test Recall: 97.7%\n"
     ]
    }
   ],
   "source": [
    "print(\"\\nTest Accuracy: %.1f%%\" % (100.0 * acc))\n",
    "print(\"\\nTest Loss: %.1f%%\" % (100.0 * loss))\n",
    "print(\"\\nTest Precision: %.1f%%\" % (100.0 * precision))\n",
    "print(\"\\nTest Recall: %.1f%%\" % (100.0 * recall))"
   ]
  },
  {
   "cell_type": "markdown",
   "id": "9f7d45cc-0cf7-4361-9b44-ec323df38be0",
   "metadata": {},
   "source": [
    "* Accuracy: Tahminde bulunulduğunda doğru sınıflandırma oranı.  \n",
    "* Precision : Tahmin ettiklerimizin başarısı.\n",
    "* Recall : Sınıfların gerçek değerlerinin kaç tanesini doğru tahmin ettik diye bakılıyor."
   ]
  },
  {
   "cell_type": "markdown",
   "id": "65277acb-d810-4376-a65e-6472cfde4d94",
   "metadata": {},
   "source": [
    "Deployment"
   ]
  },
  {
   "cell_type": "code",
   "execution_count": 141,
   "id": "a83bd2be-3e7c-4a67-87ef-036a24f60903",
   "metadata": {
    "tags": []
   },
   "outputs": [
    {
     "name": "stderr",
     "output_type": "stream",
     "text": [
      "C:\\Users\\ycanf\\anaconda3\\Lib\\site-packages\\keras\\src\\engine\\training.py:3103: UserWarning: You are saving your model as an HDF5 file via `model.save()`. This file format is considered legacy. We recommend using instead the native Keras format, e.g. `model.save('my_model.keras')`.\n",
      "  saving_api.save_model(\n"
     ]
    }
   ],
   "source": [
    "model.save(\"mnist_model.h5\")"
   ]
  },
  {
   "cell_type": "code",
   "execution_count": 142,
   "id": "41fe1f59-a8cd-4148-bcd2-77deb8656a9c",
   "metadata": {
    "tags": []
   },
   "outputs": [],
   "source": [
    "import random \n",
    "random = random.randint(0,x_test.shape[0])"
   ]
  },
  {
   "cell_type": "code",
   "execution_count": 143,
   "id": "355200b6-f2e3-47eb-bbd6-aec0e3feb993",
   "metadata": {
    "tags": []
   },
   "outputs": [
    {
     "data": {
      "text/plain": [
       "6032"
      ]
     },
     "execution_count": 143,
     "metadata": {},
     "output_type": "execute_result"
    }
   ],
   "source": [
    "random"
   ]
  },
  {
   "cell_type": "code",
   "execution_count": 144,
   "id": "88f0975d-7342-4ed3-8516-1a248a1eef23",
   "metadata": {
    "tags": []
   },
   "outputs": [],
   "source": [
    "test_image = x_test[random]"
   ]
  },
  {
   "cell_type": "code",
   "execution_count": 145,
   "id": "8efb8749-3806-42d3-a863-9a93e29e0563",
   "metadata": {
    "collapsed": true,
    "jupyter": {
     "outputs_hidden": true
    },
    "tags": []
   },
   "outputs": [
    {
     "data": {
      "text/plain": [
       "array([[[0.        ],\n",
       "        [0.        ],\n",
       "        [0.        ],\n",
       "        [0.        ],\n",
       "        [0.        ],\n",
       "        [0.        ],\n",
       "        [0.        ],\n",
       "        [0.        ],\n",
       "        [0.        ],\n",
       "        [0.        ],\n",
       "        [0.        ],\n",
       "        [0.        ],\n",
       "        [0.        ],\n",
       "        [0.        ],\n",
       "        [0.        ],\n",
       "        [0.        ],\n",
       "        [0.        ],\n",
       "        [0.        ],\n",
       "        [0.        ],\n",
       "        [0.        ],\n",
       "        [0.        ],\n",
       "        [0.        ],\n",
       "        [0.        ],\n",
       "        [0.        ],\n",
       "        [0.        ],\n",
       "        [0.        ],\n",
       "        [0.        ],\n",
       "        [0.        ]],\n",
       "\n",
       "       [[0.        ],\n",
       "        [0.        ],\n",
       "        [0.        ],\n",
       "        [0.        ],\n",
       "        [0.        ],\n",
       "        [0.        ],\n",
       "        [0.        ],\n",
       "        [0.        ],\n",
       "        [0.        ],\n",
       "        [0.        ],\n",
       "        [0.        ],\n",
       "        [0.        ],\n",
       "        [0.        ],\n",
       "        [0.        ],\n",
       "        [0.        ],\n",
       "        [0.        ],\n",
       "        [0.        ],\n",
       "        [0.        ],\n",
       "        [0.        ],\n",
       "        [0.        ],\n",
       "        [0.        ],\n",
       "        [0.        ],\n",
       "        [0.        ],\n",
       "        [0.        ],\n",
       "        [0.        ],\n",
       "        [0.        ],\n",
       "        [0.        ],\n",
       "        [0.        ]],\n",
       "\n",
       "       [[0.        ],\n",
       "        [0.        ],\n",
       "        [0.        ],\n",
       "        [0.        ],\n",
       "        [0.        ],\n",
       "        [0.        ],\n",
       "        [0.        ],\n",
       "        [0.        ],\n",
       "        [0.        ],\n",
       "        [0.        ],\n",
       "        [0.        ],\n",
       "        [0.        ],\n",
       "        [0.        ],\n",
       "        [0.        ],\n",
       "        [0.        ],\n",
       "        [0.        ],\n",
       "        [0.        ],\n",
       "        [0.        ],\n",
       "        [0.        ],\n",
       "        [0.        ],\n",
       "        [0.        ],\n",
       "        [0.        ],\n",
       "        [0.        ],\n",
       "        [0.        ],\n",
       "        [0.        ],\n",
       "        [0.        ],\n",
       "        [0.        ],\n",
       "        [0.        ]],\n",
       "\n",
       "       [[0.        ],\n",
       "        [0.        ],\n",
       "        [0.        ],\n",
       "        [0.        ],\n",
       "        [0.        ],\n",
       "        [0.        ],\n",
       "        [0.        ],\n",
       "        [0.        ],\n",
       "        [0.        ],\n",
       "        [0.        ],\n",
       "        [0.        ],\n",
       "        [0.        ],\n",
       "        [0.        ],\n",
       "        [0.        ],\n",
       "        [0.        ],\n",
       "        [0.        ],\n",
       "        [0.        ],\n",
       "        [0.        ],\n",
       "        [0.        ],\n",
       "        [0.        ],\n",
       "        [0.        ],\n",
       "        [0.        ],\n",
       "        [0.        ],\n",
       "        [0.        ],\n",
       "        [0.        ],\n",
       "        [0.        ],\n",
       "        [0.        ],\n",
       "        [0.        ]],\n",
       "\n",
       "       [[0.        ],\n",
       "        [0.        ],\n",
       "        [0.        ],\n",
       "        [0.        ],\n",
       "        [0.        ],\n",
       "        [0.        ],\n",
       "        [0.        ],\n",
       "        [0.        ],\n",
       "        [0.        ],\n",
       "        [0.        ],\n",
       "        [0.        ],\n",
       "        [0.        ],\n",
       "        [0.        ],\n",
       "        [0.        ],\n",
       "        [0.        ],\n",
       "        [0.        ],\n",
       "        [0.        ],\n",
       "        [0.        ],\n",
       "        [0.        ],\n",
       "        [0.        ],\n",
       "        [0.        ],\n",
       "        [0.        ],\n",
       "        [0.        ],\n",
       "        [0.        ],\n",
       "        [0.        ],\n",
       "        [0.        ],\n",
       "        [0.        ],\n",
       "        [0.        ]],\n",
       "\n",
       "       [[0.        ],\n",
       "        [0.        ],\n",
       "        [0.        ],\n",
       "        [0.        ],\n",
       "        [0.        ],\n",
       "        [0.        ],\n",
       "        [0.        ],\n",
       "        [0.        ],\n",
       "        [0.        ],\n",
       "        [0.        ],\n",
       "        [0.        ],\n",
       "        [0.        ],\n",
       "        [0.        ],\n",
       "        [0.        ],\n",
       "        [0.        ],\n",
       "        [0.        ],\n",
       "        [0.        ],\n",
       "        [0.        ],\n",
       "        [0.        ],\n",
       "        [0.        ],\n",
       "        [0.        ],\n",
       "        [0.        ],\n",
       "        [0.        ],\n",
       "        [0.        ],\n",
       "        [0.        ],\n",
       "        [0.        ],\n",
       "        [0.        ],\n",
       "        [0.        ]],\n",
       "\n",
       "       [[0.        ],\n",
       "        [0.        ],\n",
       "        [0.        ],\n",
       "        [0.        ],\n",
       "        [0.        ],\n",
       "        [0.        ],\n",
       "        [0.        ],\n",
       "        [0.        ],\n",
       "        [0.        ],\n",
       "        [0.        ],\n",
       "        [0.        ],\n",
       "        [0.        ],\n",
       "        [0.        ],\n",
       "        [0.        ],\n",
       "        [0.        ],\n",
       "        [0.        ],\n",
       "        [0.        ],\n",
       "        [0.        ],\n",
       "        [0.        ],\n",
       "        [0.        ],\n",
       "        [0.        ],\n",
       "        [0.        ],\n",
       "        [0.        ],\n",
       "        [0.        ],\n",
       "        [0.        ],\n",
       "        [0.        ],\n",
       "        [0.        ],\n",
       "        [0.        ]],\n",
       "\n",
       "       [[0.        ],\n",
       "        [0.        ],\n",
       "        [0.        ],\n",
       "        [0.        ],\n",
       "        [0.        ],\n",
       "        [0.        ],\n",
       "        [0.        ],\n",
       "        [0.        ],\n",
       "        [0.        ],\n",
       "        [0.        ],\n",
       "        [0.21568628],\n",
       "        [0.79607844],\n",
       "        [0.99607843],\n",
       "        [1.        ],\n",
       "        [0.7294118 ],\n",
       "        [0.05098039],\n",
       "        [0.        ],\n",
       "        [0.        ],\n",
       "        [0.        ],\n",
       "        [0.        ],\n",
       "        [0.        ],\n",
       "        [0.        ],\n",
       "        [0.        ],\n",
       "        [0.        ],\n",
       "        [0.        ],\n",
       "        [0.        ],\n",
       "        [0.        ],\n",
       "        [0.        ]],\n",
       "\n",
       "       [[0.        ],\n",
       "        [0.        ],\n",
       "        [0.        ],\n",
       "        [0.        ],\n",
       "        [0.        ],\n",
       "        [0.        ],\n",
       "        [0.        ],\n",
       "        [0.        ],\n",
       "        [0.        ],\n",
       "        [0.41568628],\n",
       "        [0.92156863],\n",
       "        [0.99215686],\n",
       "        [0.99215686],\n",
       "        [0.99607843],\n",
       "        [0.99215686],\n",
       "        [0.44313726],\n",
       "        [0.        ],\n",
       "        [0.        ],\n",
       "        [0.        ],\n",
       "        [0.        ],\n",
       "        [0.        ],\n",
       "        [0.        ],\n",
       "        [0.        ],\n",
       "        [0.        ],\n",
       "        [0.        ],\n",
       "        [0.        ],\n",
       "        [0.        ],\n",
       "        [0.        ]],\n",
       "\n",
       "       [[0.        ],\n",
       "        [0.        ],\n",
       "        [0.        ],\n",
       "        [0.        ],\n",
       "        [0.        ],\n",
       "        [0.        ],\n",
       "        [0.        ],\n",
       "        [0.        ],\n",
       "        [0.33333334],\n",
       "        [0.99607843],\n",
       "        [0.99215686],\n",
       "        [0.9843137 ],\n",
       "        [0.9019608 ],\n",
       "        [0.77254903],\n",
       "        [0.91764706],\n",
       "        [0.9764706 ],\n",
       "        [0.54901963],\n",
       "        [0.16862746],\n",
       "        [0.        ],\n",
       "        [0.        ],\n",
       "        [0.        ],\n",
       "        [0.        ],\n",
       "        [0.        ],\n",
       "        [0.        ],\n",
       "        [0.        ],\n",
       "        [0.        ],\n",
       "        [0.        ],\n",
       "        [0.        ]],\n",
       "\n",
       "       [[0.        ],\n",
       "        [0.        ],\n",
       "        [0.        ],\n",
       "        [0.        ],\n",
       "        [0.        ],\n",
       "        [0.        ],\n",
       "        [0.        ],\n",
       "        [0.        ],\n",
       "        [0.72156864],\n",
       "        [0.99607843],\n",
       "        [0.9254902 ],\n",
       "        [0.44313726],\n",
       "        [0.        ],\n",
       "        [0.        ],\n",
       "        [0.05098039],\n",
       "        [0.8627451 ],\n",
       "        [0.99215686],\n",
       "        [0.62352943],\n",
       "        [0.        ],\n",
       "        [0.        ],\n",
       "        [0.        ],\n",
       "        [0.        ],\n",
       "        [0.        ],\n",
       "        [0.        ],\n",
       "        [0.        ],\n",
       "        [0.        ],\n",
       "        [0.        ],\n",
       "        [0.        ]],\n",
       "\n",
       "       [[0.        ],\n",
       "        [0.        ],\n",
       "        [0.        ],\n",
       "        [0.        ],\n",
       "        [0.        ],\n",
       "        [0.        ],\n",
       "        [0.        ],\n",
       "        [0.09411765],\n",
       "        [0.99607843],\n",
       "        [0.9254902 ],\n",
       "        [0.19607843],\n",
       "        [0.        ],\n",
       "        [0.        ],\n",
       "        [0.        ],\n",
       "        [0.        ],\n",
       "        [0.8156863 ],\n",
       "        [0.99607843],\n",
       "        [0.99607843],\n",
       "        [0.09019608],\n",
       "        [0.        ],\n",
       "        [0.        ],\n",
       "        [0.        ],\n",
       "        [0.        ],\n",
       "        [0.        ],\n",
       "        [0.        ],\n",
       "        [0.        ],\n",
       "        [0.        ],\n",
       "        [0.        ]],\n",
       "\n",
       "       [[0.        ],\n",
       "        [0.        ],\n",
       "        [0.        ],\n",
       "        [0.        ],\n",
       "        [0.        ],\n",
       "        [0.        ],\n",
       "        [0.        ],\n",
       "        [0.09411765],\n",
       "        [0.99215686],\n",
       "        [0.87058824],\n",
       "        [0.21568628],\n",
       "        [0.05098039],\n",
       "        [0.18431373],\n",
       "        [0.54509807],\n",
       "        [0.7411765 ],\n",
       "        [0.9764706 ],\n",
       "        [0.99215686],\n",
       "        [0.99607843],\n",
       "        [0.21960784],\n",
       "        [0.        ],\n",
       "        [0.        ],\n",
       "        [0.        ],\n",
       "        [0.        ],\n",
       "        [0.        ],\n",
       "        [0.        ],\n",
       "        [0.        ],\n",
       "        [0.        ],\n",
       "        [0.        ]],\n",
       "\n",
       "       [[0.        ],\n",
       "        [0.        ],\n",
       "        [0.        ],\n",
       "        [0.        ],\n",
       "        [0.        ],\n",
       "        [0.        ],\n",
       "        [0.        ],\n",
       "        [0.01960784],\n",
       "        [0.7372549 ],\n",
       "        [0.99607843],\n",
       "        [0.99215686],\n",
       "        [0.8627451 ],\n",
       "        [0.99215686],\n",
       "        [0.99607843],\n",
       "        [0.99215686],\n",
       "        [0.99215686],\n",
       "        [0.99215686],\n",
       "        [0.99607843],\n",
       "        [0.12156863],\n",
       "        [0.        ],\n",
       "        [0.        ],\n",
       "        [0.        ],\n",
       "        [0.        ],\n",
       "        [0.        ],\n",
       "        [0.        ],\n",
       "        [0.        ],\n",
       "        [0.        ],\n",
       "        [0.        ]],\n",
       "\n",
       "       [[0.        ],\n",
       "        [0.        ],\n",
       "        [0.        ],\n",
       "        [0.        ],\n",
       "        [0.        ],\n",
       "        [0.        ],\n",
       "        [0.        ],\n",
       "        [0.        ],\n",
       "        [0.23137255],\n",
       "        [0.99607843],\n",
       "        [0.99215686],\n",
       "        [0.99215686],\n",
       "        [0.99215686],\n",
       "        [0.99607843],\n",
       "        [0.99215686],\n",
       "        [0.56078434],\n",
       "        [0.627451  ],\n",
       "        [0.99607843],\n",
       "        [0.4509804 ],\n",
       "        [0.        ],\n",
       "        [0.        ],\n",
       "        [0.        ],\n",
       "        [0.        ],\n",
       "        [0.        ],\n",
       "        [0.        ],\n",
       "        [0.        ],\n",
       "        [0.        ],\n",
       "        [0.        ]],\n",
       "\n",
       "       [[0.        ],\n",
       "        [0.        ],\n",
       "        [0.        ],\n",
       "        [0.        ],\n",
       "        [0.        ],\n",
       "        [0.        ],\n",
       "        [0.        ],\n",
       "        [0.        ],\n",
       "        [0.        ],\n",
       "        [0.10196079],\n",
       "        [0.49803922],\n",
       "        [0.65882355],\n",
       "        [0.8235294 ],\n",
       "        [0.49803922],\n",
       "        [0.03529412],\n",
       "        [0.        ],\n",
       "        [0.        ],\n",
       "        [0.99607843],\n",
       "        [0.4509804 ],\n",
       "        [0.        ],\n",
       "        [0.        ],\n",
       "        [0.        ],\n",
       "        [0.        ],\n",
       "        [0.        ],\n",
       "        [0.        ],\n",
       "        [0.        ],\n",
       "        [0.        ],\n",
       "        [0.        ]],\n",
       "\n",
       "       [[0.        ],\n",
       "        [0.        ],\n",
       "        [0.        ],\n",
       "        [0.        ],\n",
       "        [0.        ],\n",
       "        [0.        ],\n",
       "        [0.        ],\n",
       "        [0.        ],\n",
       "        [0.        ],\n",
       "        [0.        ],\n",
       "        [0.        ],\n",
       "        [0.        ],\n",
       "        [0.03529412],\n",
       "        [0.        ],\n",
       "        [0.        ],\n",
       "        [0.        ],\n",
       "        [0.        ],\n",
       "        [0.6627451 ],\n",
       "        [0.64705884],\n",
       "        [0.        ],\n",
       "        [0.        ],\n",
       "        [0.        ],\n",
       "        [0.        ],\n",
       "        [0.        ],\n",
       "        [0.        ],\n",
       "        [0.        ],\n",
       "        [0.        ],\n",
       "        [0.        ]],\n",
       "\n",
       "       [[0.        ],\n",
       "        [0.        ],\n",
       "        [0.        ],\n",
       "        [0.        ],\n",
       "        [0.        ],\n",
       "        [0.        ],\n",
       "        [0.        ],\n",
       "        [0.        ],\n",
       "        [0.        ],\n",
       "        [0.        ],\n",
       "        [0.        ],\n",
       "        [0.        ],\n",
       "        [0.        ],\n",
       "        [0.        ],\n",
       "        [0.        ],\n",
       "        [0.        ],\n",
       "        [0.        ],\n",
       "        [0.6313726 ],\n",
       "        [0.89411765],\n",
       "        [0.08235294],\n",
       "        [0.        ],\n",
       "        [0.        ],\n",
       "        [0.        ],\n",
       "        [0.        ],\n",
       "        [0.        ],\n",
       "        [0.        ],\n",
       "        [0.        ],\n",
       "        [0.        ]],\n",
       "\n",
       "       [[0.        ],\n",
       "        [0.        ],\n",
       "        [0.        ],\n",
       "        [0.        ],\n",
       "        [0.        ],\n",
       "        [0.        ],\n",
       "        [0.        ],\n",
       "        [0.        ],\n",
       "        [0.        ],\n",
       "        [0.        ],\n",
       "        [0.        ],\n",
       "        [0.        ],\n",
       "        [0.        ],\n",
       "        [0.        ],\n",
       "        [0.        ],\n",
       "        [0.        ],\n",
       "        [0.        ],\n",
       "        [0.6313726 ],\n",
       "        [0.99215686],\n",
       "        [0.30980393],\n",
       "        [0.        ],\n",
       "        [0.        ],\n",
       "        [0.        ],\n",
       "        [0.        ],\n",
       "        [0.        ],\n",
       "        [0.        ],\n",
       "        [0.        ],\n",
       "        [0.        ]],\n",
       "\n",
       "       [[0.        ],\n",
       "        [0.        ],\n",
       "        [0.        ],\n",
       "        [0.        ],\n",
       "        [0.        ],\n",
       "        [0.        ],\n",
       "        [0.        ],\n",
       "        [0.        ],\n",
       "        [0.        ],\n",
       "        [0.        ],\n",
       "        [0.        ],\n",
       "        [0.        ],\n",
       "        [0.        ],\n",
       "        [0.        ],\n",
       "        [0.        ],\n",
       "        [0.        ],\n",
       "        [0.        ],\n",
       "        [0.40784314],\n",
       "        [0.99607843],\n",
       "        [0.5411765 ],\n",
       "        [0.        ],\n",
       "        [0.        ],\n",
       "        [0.        ],\n",
       "        [0.        ],\n",
       "        [0.        ],\n",
       "        [0.        ],\n",
       "        [0.        ],\n",
       "        [0.        ]],\n",
       "\n",
       "       [[0.        ],\n",
       "        [0.        ],\n",
       "        [0.        ],\n",
       "        [0.        ],\n",
       "        [0.        ],\n",
       "        [0.        ],\n",
       "        [0.        ],\n",
       "        [0.        ],\n",
       "        [0.        ],\n",
       "        [0.        ],\n",
       "        [0.        ],\n",
       "        [0.        ],\n",
       "        [0.        ],\n",
       "        [0.        ],\n",
       "        [0.        ],\n",
       "        [0.        ],\n",
       "        [0.        ],\n",
       "        [0.1254902 ],\n",
       "        [0.94509804],\n",
       "        [0.7372549 ],\n",
       "        [0.        ],\n",
       "        [0.        ],\n",
       "        [0.        ],\n",
       "        [0.        ],\n",
       "        [0.        ],\n",
       "        [0.        ],\n",
       "        [0.        ],\n",
       "        [0.        ]],\n",
       "\n",
       "       [[0.        ],\n",
       "        [0.        ],\n",
       "        [0.        ],\n",
       "        [0.        ],\n",
       "        [0.        ],\n",
       "        [0.        ],\n",
       "        [0.        ],\n",
       "        [0.        ],\n",
       "        [0.        ],\n",
       "        [0.        ],\n",
       "        [0.        ],\n",
       "        [0.        ],\n",
       "        [0.        ],\n",
       "        [0.        ],\n",
       "        [0.        ],\n",
       "        [0.        ],\n",
       "        [0.        ],\n",
       "        [0.        ],\n",
       "        [0.7372549 ],\n",
       "        [0.9764706 ],\n",
       "        [0.25490198],\n",
       "        [0.        ],\n",
       "        [0.        ],\n",
       "        [0.        ],\n",
       "        [0.        ],\n",
       "        [0.        ],\n",
       "        [0.        ],\n",
       "        [0.        ]],\n",
       "\n",
       "       [[0.        ],\n",
       "        [0.        ],\n",
       "        [0.        ],\n",
       "        [0.        ],\n",
       "        [0.        ],\n",
       "        [0.        ],\n",
       "        [0.        ],\n",
       "        [0.        ],\n",
       "        [0.        ],\n",
       "        [0.        ],\n",
       "        [0.        ],\n",
       "        [0.        ],\n",
       "        [0.        ],\n",
       "        [0.        ],\n",
       "        [0.        ],\n",
       "        [0.        ],\n",
       "        [0.        ],\n",
       "        [0.        ],\n",
       "        [0.5411765 ],\n",
       "        [0.99215686],\n",
       "        [0.627451  ],\n",
       "        [0.        ],\n",
       "        [0.        ],\n",
       "        [0.        ],\n",
       "        [0.        ],\n",
       "        [0.        ],\n",
       "        [0.        ],\n",
       "        [0.        ]],\n",
       "\n",
       "       [[0.        ],\n",
       "        [0.        ],\n",
       "        [0.        ],\n",
       "        [0.        ],\n",
       "        [0.        ],\n",
       "        [0.        ],\n",
       "        [0.        ],\n",
       "        [0.        ],\n",
       "        [0.        ],\n",
       "        [0.        ],\n",
       "        [0.        ],\n",
       "        [0.        ],\n",
       "        [0.        ],\n",
       "        [0.        ],\n",
       "        [0.        ],\n",
       "        [0.        ],\n",
       "        [0.        ],\n",
       "        [0.        ],\n",
       "        [0.13333334],\n",
       "        [0.94509804],\n",
       "        [0.8627451 ],\n",
       "        [0.10196079],\n",
       "        [0.        ],\n",
       "        [0.        ],\n",
       "        [0.        ],\n",
       "        [0.        ],\n",
       "        [0.        ],\n",
       "        [0.        ]],\n",
       "\n",
       "       [[0.        ],\n",
       "        [0.        ],\n",
       "        [0.        ],\n",
       "        [0.        ],\n",
       "        [0.        ],\n",
       "        [0.        ],\n",
       "        [0.        ],\n",
       "        [0.        ],\n",
       "        [0.        ],\n",
       "        [0.        ],\n",
       "        [0.        ],\n",
       "        [0.        ],\n",
       "        [0.        ],\n",
       "        [0.        ],\n",
       "        [0.        ],\n",
       "        [0.        ],\n",
       "        [0.        ],\n",
       "        [0.        ],\n",
       "        [0.        ],\n",
       "        [0.6156863 ],\n",
       "        [0.99215686],\n",
       "        [0.5568628 ],\n",
       "        [0.        ],\n",
       "        [0.        ],\n",
       "        [0.        ],\n",
       "        [0.        ],\n",
       "        [0.        ],\n",
       "        [0.        ]],\n",
       "\n",
       "       [[0.        ],\n",
       "        [0.        ],\n",
       "        [0.        ],\n",
       "        [0.        ],\n",
       "        [0.        ],\n",
       "        [0.        ],\n",
       "        [0.        ],\n",
       "        [0.        ],\n",
       "        [0.        ],\n",
       "        [0.        ],\n",
       "        [0.        ],\n",
       "        [0.        ],\n",
       "        [0.        ],\n",
       "        [0.        ],\n",
       "        [0.        ],\n",
       "        [0.        ],\n",
       "        [0.        ],\n",
       "        [0.        ],\n",
       "        [0.        ],\n",
       "        [0.28235295],\n",
       "        [0.9647059 ],\n",
       "        [0.94509804],\n",
       "        [0.07450981],\n",
       "        [0.        ],\n",
       "        [0.        ],\n",
       "        [0.        ],\n",
       "        [0.        ],\n",
       "        [0.        ]],\n",
       "\n",
       "       [[0.        ],\n",
       "        [0.        ],\n",
       "        [0.        ],\n",
       "        [0.        ],\n",
       "        [0.        ],\n",
       "        [0.        ],\n",
       "        [0.        ],\n",
       "        [0.        ],\n",
       "        [0.        ],\n",
       "        [0.        ],\n",
       "        [0.        ],\n",
       "        [0.        ],\n",
       "        [0.        ],\n",
       "        [0.        ],\n",
       "        [0.        ],\n",
       "        [0.        ],\n",
       "        [0.        ],\n",
       "        [0.        ],\n",
       "        [0.        ],\n",
       "        [0.        ],\n",
       "        [0.4627451 ],\n",
       "        [0.89411765],\n",
       "        [0.05882353],\n",
       "        [0.        ],\n",
       "        [0.        ],\n",
       "        [0.        ],\n",
       "        [0.        ],\n",
       "        [0.        ]],\n",
       "\n",
       "       [[0.        ],\n",
       "        [0.        ],\n",
       "        [0.        ],\n",
       "        [0.        ],\n",
       "        [0.        ],\n",
       "        [0.        ],\n",
       "        [0.        ],\n",
       "        [0.        ],\n",
       "        [0.        ],\n",
       "        [0.        ],\n",
       "        [0.        ],\n",
       "        [0.        ],\n",
       "        [0.        ],\n",
       "        [0.        ],\n",
       "        [0.        ],\n",
       "        [0.        ],\n",
       "        [0.        ],\n",
       "        [0.        ],\n",
       "        [0.        ],\n",
       "        [0.        ],\n",
       "        [0.        ],\n",
       "        [0.        ],\n",
       "        [0.        ],\n",
       "        [0.        ],\n",
       "        [0.        ],\n",
       "        [0.        ],\n",
       "        [0.        ],\n",
       "        [0.        ]]], dtype=float32)"
      ]
     },
     "execution_count": 145,
     "metadata": {},
     "output_type": "execute_result"
    }
   ],
   "source": [
    "test_image"
   ]
  },
  {
   "cell_type": "code",
   "execution_count": 146,
   "id": "def2f83e-d824-4bb7-9d2e-5d8214c2a900",
   "metadata": {
    "tags": []
   },
   "outputs": [
    {
     "data": {
      "text/plain": [
       "array([0., 0., 0., 0., 0., 0., 0., 0., 0., 1.], dtype=float32)"
      ]
     },
     "execution_count": 146,
     "metadata": {},
     "output_type": "execute_result"
    }
   ],
   "source": [
    "y_test[random]"
   ]
  },
  {
   "cell_type": "code",
   "execution_count": 147,
   "id": "1607abb6-5ea8-43f3-ba1e-0c060e366d41",
   "metadata": {
    "tags": []
   },
   "outputs": [
    {
     "data": {
      "text/plain": [
       "<matplotlib.image.AxesImage at 0x1bad3a39f90>"
      ]
     },
     "execution_count": 147,
     "metadata": {},
     "output_type": "execute_result"
    },
    {
     "data": {
      "image/png": "[encoded data removed]",
      "text/plain": [
       "<Figure size 640x480 with 1 Axes>"
      ]
     },
     "metadata": {},
     "output_type": "display_data"
    }
   ],
   "source": [
    "plt.imshow(test_image.reshape(28,28), cmap='gray')"
   ]
  },
  {
   "cell_type": "code",
   "execution_count": 149,
   "id": "95c168cd-806d-44a8-b729-cdab776d328d",
   "metadata": {
    "tags": []
   },
   "outputs": [],
   "source": [
    "test_data = x_test[random].reshape(1,28,28,1)"
   ]
  },
  {
   "cell_type": "code",
   "execution_count": 150,
   "id": "6646eafa-0983-41d0-b543-8089ec30d01d",
   "metadata": {
    "tags": []
   },
   "outputs": [
    {
     "name": "stdout",
     "output_type": "stream",
     "text": [
      "1/1 [==============================] - 0s 29ms/step\n"
     ]
    }
   ],
   "source": [
    "probability = model.predict(test_data)"
   ]
  },
  {
   "cell_type": "code",
   "execution_count": 151,
   "id": "d3175b02-2c41-4f73-a686-d3aa6f03b4df",
   "metadata": {
    "tags": []
   },
   "outputs": [
    {
     "data": {
      "text/plain": [
       "array([[3.6374440e-18, 6.9946221e-10, 7.7185962e-15, 9.5759223e-09,\n",
       "        1.0961587e-08, 5.6881383e-10, 1.2692717e-19, 4.9763321e-10,\n",
       "        1.1618739e-11, 1.0000000e+00]], dtype=float32)"
      ]
     },
     "execution_count": 151,
     "metadata": {},
     "output_type": "execute_result"
    }
   ],
   "source": [
    "probability"
   ]
  },
  {
   "cell_type": "code",
   "execution_count": 154,
   "id": "412e7a15-a426-4291-b6a6-e3f8a87fface",
   "metadata": {
    "tags": []
   },
   "outputs": [],
   "source": [
    "predicted_classes = np.argmax(probability)"
   ]
  },
  {
   "cell_type": "code",
   "execution_count": 155,
   "id": "033db417-9731-46c0-bc18-332b10bb67cf",
   "metadata": {
    "tags": []
   },
   "outputs": [
    {
     "data": {
      "text/plain": [
       "9"
      ]
     },
     "execution_count": 155,
     "metadata": {},
     "output_type": "execute_result"
    }
   ],
   "source": [
    "predicted_classes"
   ]
  },
  {
   "cell_type": "code",
   "execution_count": 156,
   "id": "ae85afe6-4c46-443b-9928-ebf13b432d2d",
   "metadata": {
    "collapsed": true,
    "jupyter": {
     "outputs_hidden": true
    },
    "tags": []
   },
   "outputs": [
    {
     "data": {
      "text/plain": [
       "\u001b[1;31mSignature:\u001b[0m \u001b[0mnp\u001b[0m\u001b[1;33m.\u001b[0m\u001b[0margmax\u001b[0m\u001b[1;33m(\u001b[0m\u001b[0ma\u001b[0m\u001b[1;33m,\u001b[0m \u001b[0maxis\u001b[0m\u001b[1;33m=\u001b[0m\u001b[1;32mNone\u001b[0m\u001b[1;33m,\u001b[0m \u001b[0mout\u001b[0m\u001b[1;33m=\u001b[0m\u001b[1;32mNone\u001b[0m\u001b[1;33m,\u001b[0m \u001b[1;33m*\u001b[0m\u001b[1;33m,\u001b[0m \u001b[0mkeepdims\u001b[0m\u001b[1;33m=\u001b[0m\u001b[1;33m<\u001b[0m\u001b[0mno\u001b[0m \u001b[0mvalue\u001b[0m\u001b[1;33m>\u001b[0m\u001b[1;33m)\u001b[0m\u001b[1;33m\u001b[0m\u001b[1;33m\u001b[0m\u001b[0m\n",
       "\u001b[1;31mDocstring:\u001b[0m\n",
       "Returns the indices of the maximum values along an axis.\n",
       "\n",
       "Parameters\n",
       "----------\n",
       "a : array_like\n",
       "    Input array.\n",
       "axis : int, optional\n",
       "    By default, the index is into the flattened array, otherwise\n",
       "    along the specified axis.\n",
       "out : array, optional\n",
       "    If provided, the result will be inserted into this array. It should\n",
       "    be of the appropriate shape and dtype.\n",
       "keepdims : bool, optional\n",
       "    If this is set to True, the axes which are reduced are left\n",
       "    in the result as dimensions with size one. With this option,\n",
       "    the result will broadcast correctly against the array.\n",
       "\n",
       "    .. versionadded:: 1.22.0\n",
       "\n",
       "Returns\n",
       "-------\n",
       "index_array : ndarray of ints\n",
       "    Array of indices into the array. It has the same shape as `a.shape`\n",
       "    with the dimension along `axis` removed. If `keepdims` is set to True,\n",
       "    then the size of `axis` will be 1 with the resulting array having same\n",
       "    shape as `a.shape`.\n",
       "\n",
       "See Also\n",
       "--------\n",
       "ndarray.argmax, argmin\n",
       "amax : The maximum value along a given axis.\n",
       "unravel_index : Convert a flat index into an index tuple.\n",
       "take_along_axis : Apply ``np.expand_dims(index_array, axis)``\n",
       "                  from argmax to an array as if by calling max.\n",
       "\n",
       "Notes\n",
       "-----\n",
       "In case of multiple occurrences of the maximum values, the indices\n",
       "corresponding to the first occurrence are returned.\n",
       "\n",
       "Examples\n",
       "--------\n",
       ">>> a = np.arange(6).reshape(2,3) + 10\n",
       ">>> a\n",
       "array([[10, 11, 12],\n",
       "       [13, 14, 15]])\n",
       ">>> np.argmax(a)\n",
       "5\n",
       ">>> np.argmax(a, axis=0)\n",
       "array([1, 1, 1])\n",
       ">>> np.argmax(a, axis=1)\n",
       "array([2, 2])\n",
       "\n",
       "Indexes of the maximal elements of a N-dimensional array:\n",
       "\n",
       ">>> ind = np.unravel_index(np.argmax(a, axis=None), a.shape)\n",
       ">>> ind\n",
       "(1, 2)\n",
       ">>> a[ind]\n",
       "15\n",
       "\n",
       ">>> b = np.arange(6)\n",
       ">>> b[1] = 5\n",
       ">>> b\n",
       "array([0, 5, 2, 3, 4, 5])\n",
       ">>> np.argmax(b)  # Only the first occurrence is returned.\n",
       "1\n",
       "\n",
       ">>> x = np.array([[4,2,3], [1,0,3]])\n",
       ">>> index_array = np.argmax(x, axis=-1)\n",
       ">>> # Same as np.amax(x, axis=-1, keepdims=True)\n",
       ">>> np.take_along_axis(x, np.expand_dims(index_array, axis=-1), axis=-1)\n",
       "array([[4],\n",
       "       [3]])\n",
       ">>> # Same as np.amax(x, axis=-1)\n",
       ">>> np.take_along_axis(x, np.expand_dims(index_array, axis=-1), axis=-1).squeeze(axis=-1)\n",
       "array([4, 3])\n",
       "\n",
       "Setting `keepdims` to `True`,\n",
       "\n",
       ">>> x = np.arange(24).reshape((2, 3, 4))\n",
       ">>> res = np.argmax(x, axis=1, keepdims=True)\n",
       ">>> res.shape\n",
       "(2, 1, 4)\n",
       "\u001b[1;31mFile:\u001b[0m      c:\\users\\ycanf\\anaconda3\\lib\\site-packages\\numpy\\core\\fromnumeric.py\n",
       "\u001b[1;31mType:\u001b[0m      function"
      ]
     },
     "metadata": {},
     "output_type": "display_data"
    }
   ],
   "source": [
    "?np.argmax"
   ]
  },
  {
   "cell_type": "code",
   "execution_count": null,
   "id": "16cdeda2-4fd6-4034-9e38-83b45e7a81aa",
   "metadata": {},
   "outputs": [],
   "source": []
  }
 ],
 "metadata": {
  "kernelspec": {
   "display_name": "Python 3 (ipykernel)",
   "language": "python",
   "name": "python3"
  },
  "language_info": {
   "codemirror_mode": {
    "name": "ipython",
    "version": 3
   },
   "file_extension": ".py",
   "mimetype": "text/x-python",
   "name": "python",
   "nbconvert_exporter": "python",
   "pygments_lexer": "ipython3",
   "version": "3.11.4"
  }
 },
 "nbformat": 4,
 "nbformat_minor": 5
}
