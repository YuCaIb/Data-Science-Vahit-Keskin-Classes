{
 "cells": [
  {
   "cell_type": "markdown",
   "id": "603b9fc3-1855-4f1f-ae4b-616abd83cbf8",
   "metadata": {},
   "source": [
    "# Veri Ön İşleme\n",
    "* Veri mi Model mi ? tabi ki veri!\n",
    "* Makine öğrenmesi modelinin amacı genellenebilir yapılar ortaya koymaktadır. Belirli olaylar gözlendiğinde belirli tahmin sonuçları vermektir.\n",
    "* Eğer veriniz kötü ise, makine öprenmesi araçlarınız kullanışsız olacaktır.\n",
    "-------------------\n",
    "# Veri Temizleme (Data cleaning/cleasing)\n",
    "* Gürültülü Veri(erkeğin hamile olması, bir bebek biberonun 1 miliyon lira olması )\n",
    "* Eksik Veri Analizi (Eksik kısım)\n",
    "* Aykırı Gözlem Analizi (Veride ki aykırılıklar mesela 1 miliyon km üzerinde olamaz araba km si )\n",
    "------------------------\n",
    "# Veri Standardizasyonu\n",
    "* 0-1 Dönüşümü\n",
    "* z-skoruna dönüştürme\n",
    "* Logaritmik Dönüşüm\n",
    "-----------------\n",
    "# Veri İndirgeme\n",
    "* Gözlem sayısının azaltılması\n",
    "* Değişken sayısının azaltılması\n",
    "-----------------------------\n",
    "# Değişken Dönüşümleri\n",
    "* Sürekli değişkenlerde dönüşümler\n",
    "* Kategorik değişkenlerde dönüşümler"
   ]
  },
  {
   "cell_type": "markdown",
   "id": "f361435d-5ff1-4609-87a0-ad10e9c40d07",
   "metadata": {},
   "source": [
    "# Aykırı Gözlem Analizi\n",
    "* Veride genel eğilimin oldukça dışına çıkan ya da diğer gözlemelerden oldukça farklı olan gözlemlere aykırı gözlem denir.\n",
    "* Aykırılığı ifade eden nümerik değer aykırı değer denir.\n",
    "* Aykırı değeri barındıran gözlem birimine aykırı gözlem denir. \n",
    "* (Outlayers, aşırı değer, uç değer, sıradışı değer gibi isimleri var)"
   ]
  },
  {
   "cell_type": "markdown",
   "id": "f1f565d7-d8e7-4c6d-b31c-d277a3b740ba",
   "metadata": {},
   "source": [
    "# Neye göre Kime göre aykırı gözlem ?\n",
    "\n",
    "### Veri setinin genel eğiliminin dışına çıkmayı nasıl tanımlarız ? \n",
    "##### Not : Eğer kurulan modelin bir genelleme kaygısı varsa(ki olmalı!) ; zaten çok seyrek olan senoryalar ve genele uymayan yapıları çalışmanın dışında bırakmak gerekir.\n",
    "\n",
    "* Sektör bilgisi (bir ev fiyat tahmin modelinde 1000 metrekarelik evleri modellemeye almamak! )\n",
    "\n",
    "* Standart Sapma Yaklaşımı: Bir değişkenin ortalaması üzerine aynı değişkenin standart sapması hesaplanarak eklenir. 1,2 ya da 3 SS değeri ortalama üzerine eklenerek ortaya çıkan bu değer eşik değer olarak düşünülür ve bu değerden yukarıda ya da aşağıda olan değerler aykırı değer olarak tanımlanır.\n",
    "\n",
    "* Z-skoru yaklaşımı: SS yöntemine benzer şekilde çalışır. değiken standart normal dağılıma uyarlanır, yani standartlaştırılır. Sonrasında -örneğin- dağılımın sağından ve solundan -+25 değerine göre bir eşik değer konulurve bu değerin üzerinde ya da altında olan değerler aykırı değer olarak işaretlenir.\n",
    "\n",
    "* Boxplot(interquartile range IQR) yöntemi : En sık kullanılan yönetmlerden birisidir. Değikenin değerleri küçükten büyüğe sıralanır. Çeyrekliklerine (yüzdeliklerine) yani Q1,Q3 değerlerine karşılık değerler üzerinden bir eşik değer hesaplanır ve bu eşik değere göre aykırı değer tanımı yapılır.\n",
    "* IQR = 1,5 x (Q3-Q1)\n",
    "* Alt Eşik değer = Q1-IQR\n",
    "* Üst Eşik değer = Q3+IQR"
   ]
  },
  {
   "cell_type": "markdown",
   "id": "85da72fc-cdfd-4241-b8e4-c51050c5ae97",
   "metadata": {},
   "source": [
    "# Aykırı değerleri yakalamak"
   ]
  },
  {
   "cell_type": "code",
   "execution_count": 1,
   "id": "a25c5e4f-b12f-4b93-ad97-a235938c3060",
   "metadata": {
    "tags": []
   },
   "outputs": [],
   "source": [
    "import seaborn as sns"
   ]
  },
  {
   "cell_type": "code",
   "execution_count": 2,
   "id": "5b439dca-7e60-4f04-b43c-e444e7afab5c",
   "metadata": {
    "tags": []
   },
   "outputs": [],
   "source": [
    "df= sns.load_dataset('diamonds')\n"
   ]
  },
  {
   "cell_type": "code",
   "execution_count": 3,
   "id": "de837221-291a-428f-98a9-5a6faf011dbc",
   "metadata": {
    "tags": []
   },
   "outputs": [],
   "source": [
    "df = df.select_dtypes(include=['float64', 'int64'])"
   ]
  },
  {
   "cell_type": "code",
   "execution_count": 4,
   "id": "64150835-c65c-4bb9-827d-0add724fedb9",
   "metadata": {
    "tags": []
   },
   "outputs": [],
   "source": [
    "df= df.dropna()"
   ]
  },
  {
   "cell_type": "code",
   "execution_count": 5,
   "id": "b5b78ba9-77c5-42fd-805a-6cee9f5ed754",
   "metadata": {
    "tags": []
   },
   "outputs": [
    {
     "data": {
      "text/html": [
       "<div>\n",
       "<style scoped>\n",
       "    .dataframe tbody tr th:only-of-type {\n",
       "        vertical-align: middle;\n",
       "    }\n",
       "\n",
       "    .dataframe tbody tr th {\n",
       "        vertical-align: top;\n",
       "    }\n",
       "\n",
       "    .dataframe thead th {\n",
       "        text-align: right;\n",
       "    }\n",
       "</style>\n",
       "<table border=\"1\" class=\"dataframe\">\n",
       "  <thead>\n",
       "    <tr style=\"text-align: right;\">\n",
       "      <th></th>\n",
       "      <th>carat</th>\n",
       "      <th>depth</th>\n",
       "      <th>table</th>\n",
       "      <th>price</th>\n",
       "      <th>x</th>\n",
       "      <th>y</th>\n",
       "      <th>z</th>\n",
       "    </tr>\n",
       "  </thead>\n",
       "  <tbody>\n",
       "    <tr>\n",
       "      <th>0</th>\n",
       "      <td>0.23</td>\n",
       "      <td>61.5</td>\n",
       "      <td>55.0</td>\n",
       "      <td>326</td>\n",
       "      <td>3.95</td>\n",
       "      <td>3.98</td>\n",
       "      <td>2.43</td>\n",
       "    </tr>\n",
       "    <tr>\n",
       "      <th>1</th>\n",
       "      <td>0.21</td>\n",
       "      <td>59.8</td>\n",
       "      <td>61.0</td>\n",
       "      <td>326</td>\n",
       "      <td>3.89</td>\n",
       "      <td>3.84</td>\n",
       "      <td>2.31</td>\n",
       "    </tr>\n",
       "    <tr>\n",
       "      <th>2</th>\n",
       "      <td>0.23</td>\n",
       "      <td>56.9</td>\n",
       "      <td>65.0</td>\n",
       "      <td>327</td>\n",
       "      <td>4.05</td>\n",
       "      <td>4.07</td>\n",
       "      <td>2.31</td>\n",
       "    </tr>\n",
       "    <tr>\n",
       "      <th>3</th>\n",
       "      <td>0.29</td>\n",
       "      <td>62.4</td>\n",
       "      <td>58.0</td>\n",
       "      <td>334</td>\n",
       "      <td>4.20</td>\n",
       "      <td>4.23</td>\n",
       "      <td>2.63</td>\n",
       "    </tr>\n",
       "    <tr>\n",
       "      <th>4</th>\n",
       "      <td>0.31</td>\n",
       "      <td>63.3</td>\n",
       "      <td>58.0</td>\n",
       "      <td>335</td>\n",
       "      <td>4.34</td>\n",
       "      <td>4.35</td>\n",
       "      <td>2.75</td>\n",
       "    </tr>\n",
       "  </tbody>\n",
       "</table>\n",
       "</div>"
      ],
      "text/plain": [
       "   carat  depth  table  price     x     y     z\n",
       "0   0.23   61.5   55.0    326  3.95  3.98  2.43\n",
       "1   0.21   59.8   61.0    326  3.89  3.84  2.31\n",
       "2   0.23   56.9   65.0    327  4.05  4.07  2.31\n",
       "3   0.29   62.4   58.0    334  4.20  4.23  2.63\n",
       "4   0.31   63.3   58.0    335  4.34  4.35  2.75"
      ]
     },
     "execution_count": 5,
     "metadata": {},
     "output_type": "execute_result"
    }
   ],
   "source": [
    "df.head()"
   ]
  },
  {
   "cell_type": "code",
   "execution_count": 6,
   "id": "d547fe9f-f52b-4c89-b853-21c7dafee9e1",
   "metadata": {
    "tags": []
   },
   "outputs": [],
   "source": [
    "df_table = df.table"
   ]
  },
  {
   "cell_type": "code",
   "execution_count": 14,
   "id": "508a4cdd-c266-4bf0-9553-4100a65d726f",
   "metadata": {
    "tags": []
   },
   "outputs": [
    {
     "data": {
      "text/plain": [
       "0    55.0\n",
       "1    61.0\n",
       "2    65.0\n",
       "3    58.0\n",
       "4    58.0\n",
       "Name: table, dtype: float64"
      ]
     },
     "execution_count": 14,
     "metadata": {},
     "output_type": "execute_result"
    }
   ],
   "source": [
    "df_table.head()"
   ]
  },
  {
   "cell_type": "code",
   "execution_count": 15,
   "id": "56f351d3-ae83-4ba1-99f1-e5b13fb2d4f7",
   "metadata": {
    "tags": []
   },
   "outputs": [
    {
     "data": {
      "text/plain": [
       "<Axes: xlabel='table'>"
      ]
     },
     "execution_count": 15,
     "metadata": {},
     "output_type": "execute_result"
    },
    {
     "data": {
      "image/png": "[encoded data removed]",
      "text/plain": [
       "<Figure size 640x480 with 1 Axes>"
      ]
     },
     "metadata": {},
     "output_type": "display_data"
    }
   ],
   "source": [
    "sns.boxplot(x= df_table)"
   ]
  },
  {
   "cell_type": "code",
   "execution_count": 16,
   "id": "e6cac324-4452-4d14-8e2d-0008337eb856",
   "metadata": {
    "tags": []
   },
   "outputs": [],
   "source": [
    "Q1 = df_table.quantile(0.25)\n",
    "Q3= df_table.quantile(0.75)\n",
    "IQR = Q3-Q1"
   ]
  },
  {
   "cell_type": "code",
   "execution_count": 20,
   "id": "f25e98fe-170a-434b-997f-7628224da7d8",
   "metadata": {
    "tags": []
   },
   "outputs": [
    {
     "data": {
      "text/plain": [
       "56.0"
      ]
     },
     "execution_count": 20,
     "metadata": {},
     "output_type": "execute_result"
    }
   ],
   "source": [
    "Q1"
   ]
  },
  {
   "cell_type": "code",
   "execution_count": 21,
   "id": "6d51fa5c-a233-491c-975f-9fadf226a85c",
   "metadata": {
    "tags": []
   },
   "outputs": [
    {
     "data": {
      "text/plain": [
       "3.0"
      ]
     },
     "execution_count": 21,
     "metadata": {},
     "output_type": "execute_result"
    }
   ],
   "source": [
    "IQR"
   ]
  },
  {
   "cell_type": "code",
   "execution_count": 23,
   "id": "5d927030-ce77-4e0b-b270-614ddc98054d",
   "metadata": {
    "tags": []
   },
   "outputs": [],
   "source": [
    "alt_sinir = Q1 - 1.5*IQR"
   ]
  },
  {
   "cell_type": "code",
   "execution_count": 24,
   "id": "5f6302cc-227a-4de8-a128-b432ef801755",
   "metadata": {
    "tags": []
   },
   "outputs": [
    {
     "data": {
      "text/plain": [
       "51.5"
      ]
     },
     "execution_count": 24,
     "metadata": {},
     "output_type": "execute_result"
    }
   ],
   "source": [
    "alt_sinir"
   ]
  },
  {
   "cell_type": "code",
   "execution_count": 25,
   "id": "558d9a9d-87c0-4785-9e75-d9215eddff10",
   "metadata": {
    "tags": []
   },
   "outputs": [],
   "source": [
    "ust_sinir = Q3 + 1.5*IQR"
   ]
  },
  {
   "cell_type": "code",
   "execution_count": 26,
   "id": "d9e4cc87-ab8f-4c7e-977a-0cde5ece56a7",
   "metadata": {
    "tags": []
   },
   "outputs": [
    {
     "data": {
      "text/plain": [
       "63.5"
      ]
     },
     "execution_count": 26,
     "metadata": {},
     "output_type": "execute_result"
    }
   ],
   "source": [
    "ust_sinir"
   ]
  },
  {
   "cell_type": "code",
   "execution_count": 28,
   "id": "74958380-1bc0-452f-a308-3e390fa99743",
   "metadata": {
    "tags": []
   },
   "outputs": [
    {
     "data": {
      "text/plain": [
       "0        False\n",
       "1        False\n",
       "2         True\n",
       "3        False\n",
       "4        False\n",
       "         ...  \n",
       "53935    False\n",
       "53936    False\n",
       "53937    False\n",
       "53938    False\n",
       "53939    False\n",
       "Name: table, Length: 53940, dtype: bool"
      ]
     },
     "execution_count": 28,
     "metadata": {},
     "output_type": "execute_result"
    }
   ],
   "source": [
    "(df_table < alt_sinir )| (df_table > ust_sinir)"
   ]
  },
  {
   "cell_type": "code",
   "execution_count": 29,
   "id": "2e522f08-521d-4aab-8b23-2b1e6e1b30c5",
   "metadata": {
    "tags": []
   },
   "outputs": [],
   "source": [
    "aykiri_tf= (df_table < alt_sinir )"
   ]
  },
  {
   "cell_type": "code",
   "execution_count": 37,
   "id": "f0f5e1fb-6d10-4237-8428-659ec4e922af",
   "metadata": {
    "tags": []
   },
   "outputs": [
    {
     "data": {
      "text/plain": [
       "1515     51.0\n",
       "3238     50.1\n",
       "3979     51.0\n",
       "4150     51.0\n",
       "5979     49.0\n",
       "7418     50.0\n",
       "8853     51.0\n",
       "11368    43.0\n",
       "22701    49.0\n",
       "25179    50.0\n",
       "26387    51.0\n",
       "33586    51.0\n",
       "35633    44.0\n",
       "45798    51.0\n",
       "46040    51.0\n",
       "47630    51.0\n",
       "Name: table, dtype: float64"
      ]
     },
     "execution_count": 37,
     "metadata": {},
     "output_type": "execute_result"
    }
   ],
   "source": [
    "df_table[aykiri_tf]"
   ]
  },
  {
   "cell_type": "code",
   "execution_count": 38,
   "id": "d9e524a2-f141-4fb5-8f62-f6e60f08c372",
   "metadata": {
    "tags": []
   },
   "outputs": [
    {
     "data": {
      "text/plain": [
       "Int64Index([ 1515,  3238,  3979,  4150,  5979,  7418,  8853, 11368, 22701,\n",
       "            25179, 26387, 33586, 35633, 45798, 46040, 47630],\n",
       "           dtype='int64')"
      ]
     },
     "execution_count": 38,
     "metadata": {},
     "output_type": "execute_result"
    }
   ],
   "source": [
    "df_table[aykiri_tf].index"
   ]
  },
  {
   "cell_type": "markdown",
   "id": "93e36e88-b574-499d-9067-f681f17978f8",
   "metadata": {
    "tags": []
   },
   "source": [
    "# Aykırı Değer Problemini Çözme\n",
    "* Silebiliriz\n",
    "* Ortalama ile doldurabiliriz\n",
    "* Baskılayabiliriz"
   ]
  },
  {
   "cell_type": "markdown",
   "id": "d550877a-cfd8-4566-8ed3-da7202dd2af1",
   "metadata": {},
   "source": [
    "# Silme\n"
   ]
  },
  {
   "cell_type": "code",
   "execution_count": 49,
   "id": "60f9f9ad-70ff-461b-b8d5-a0475bb8da4a",
   "metadata": {
    "tags": []
   },
   "outputs": [],
   "source": [
    "import pandas as pd"
   ]
  },
  {
   "cell_type": "code",
   "execution_count": 50,
   "id": "0eff5a8f-9b25-42ec-9ec2-8643243c5225",
   "metadata": {
    "tags": []
   },
   "outputs": [],
   "source": [
    "df_table = pd.DataFrame(df_table)"
   ]
  },
  {
   "cell_type": "code",
   "execution_count": 52,
   "id": "2cfa6ebe-e2bf-4224-bb10-54a3e63e5617",
   "metadata": {
    "tags": []
   },
   "outputs": [
    {
     "data": {
      "text/plain": [
       "(53940, 1)"
      ]
     },
     "execution_count": 52,
     "metadata": {},
     "output_type": "execute_result"
    }
   ],
   "source": [
    "df_table.shape"
   ]
  },
  {
   "cell_type": "code",
   "execution_count": 57,
   "id": "636ea86c-81a3-4caf-9860-e67ba7103433",
   "metadata": {
    "tags": []
   },
   "outputs": [],
   "source": [
    "t_df = df_table[~ ( ( (df_table) < (alt_sinir) ) | ( ( df_table ) >  ( ust_sinir ) ) ).any(axis=1) ]"
   ]
  },
  {
   "cell_type": "code",
   "execution_count": 60,
   "id": "f0027bf8-46ec-4a4a-8d51-fd2cd58fec4b",
   "metadata": {
    "tags": []
   },
   "outputs": [
    {
     "data": {
      "text/plain": [
       "(53335, 1)"
      ]
     },
     "execution_count": 60,
     "metadata": {},
     "output_type": "execute_result"
    }
   ],
   "source": [
    "t_df.shape"
   ]
  },
  {
   "cell_type": "markdown",
   "id": "94b6dc44-539c-4b86-90fe-73419349433e",
   "metadata": {},
   "source": [
    "# Ortalama ile Doldurma"
   ]
  },
  {
   "cell_type": "code",
   "execution_count": 61,
   "id": "362051f3-5248-4da9-8f62-cfa58a3aff7e",
   "metadata": {
    "tags": []
   },
   "outputs": [],
   "source": [
    "df = sns.load_dataset('diamonds')\n",
    "df = df.select_dtypes(include= ['float64', 'int64'])"
   ]
  },
  {
   "cell_type": "code",
   "execution_count": 62,
   "id": "1fd88f34-ba3a-4fb4-b03e-852d5dfa7322",
   "metadata": {
    "tags": []
   },
   "outputs": [],
   "source": [
    "df= df.dropna()"
   ]
  },
  {
   "cell_type": "code",
   "execution_count": 63,
   "id": "2e86908c-5e87-478f-87ce-df154c765967",
   "metadata": {
    "tags": []
   },
   "outputs": [
    {
     "data": {
      "text/html": [
       "<div>\n",
       "<style scoped>\n",
       "    .dataframe tbody tr th:only-of-type {\n",
       "        vertical-align: middle;\n",
       "    }\n",
       "\n",
       "    .dataframe tbody tr th {\n",
       "        vertical-align: top;\n",
       "    }\n",
       "\n",
       "    .dataframe thead th {\n",
       "        text-align: right;\n",
       "    }\n",
       "</style>\n",
       "<table border=\"1\" class=\"dataframe\">\n",
       "  <thead>\n",
       "    <tr style=\"text-align: right;\">\n",
       "      <th></th>\n",
       "      <th>carat</th>\n",
       "      <th>depth</th>\n",
       "      <th>table</th>\n",
       "      <th>price</th>\n",
       "      <th>x</th>\n",
       "      <th>y</th>\n",
       "      <th>z</th>\n",
       "    </tr>\n",
       "  </thead>\n",
       "  <tbody>\n",
       "    <tr>\n",
       "      <th>0</th>\n",
       "      <td>0.23</td>\n",
       "      <td>61.5</td>\n",
       "      <td>55.0</td>\n",
       "      <td>326</td>\n",
       "      <td>3.95</td>\n",
       "      <td>3.98</td>\n",
       "      <td>2.43</td>\n",
       "    </tr>\n",
       "    <tr>\n",
       "      <th>1</th>\n",
       "      <td>0.21</td>\n",
       "      <td>59.8</td>\n",
       "      <td>61.0</td>\n",
       "      <td>326</td>\n",
       "      <td>3.89</td>\n",
       "      <td>3.84</td>\n",
       "      <td>2.31</td>\n",
       "    </tr>\n",
       "    <tr>\n",
       "      <th>2</th>\n",
       "      <td>0.23</td>\n",
       "      <td>56.9</td>\n",
       "      <td>65.0</td>\n",
       "      <td>327</td>\n",
       "      <td>4.05</td>\n",
       "      <td>4.07</td>\n",
       "      <td>2.31</td>\n",
       "    </tr>\n",
       "    <tr>\n",
       "      <th>3</th>\n",
       "      <td>0.29</td>\n",
       "      <td>62.4</td>\n",
       "      <td>58.0</td>\n",
       "      <td>334</td>\n",
       "      <td>4.20</td>\n",
       "      <td>4.23</td>\n",
       "      <td>2.63</td>\n",
       "    </tr>\n",
       "    <tr>\n",
       "      <th>4</th>\n",
       "      <td>0.31</td>\n",
       "      <td>63.3</td>\n",
       "      <td>58.0</td>\n",
       "      <td>335</td>\n",
       "      <td>4.34</td>\n",
       "      <td>4.35</td>\n",
       "      <td>2.75</td>\n",
       "    </tr>\n",
       "  </tbody>\n",
       "</table>\n",
       "</div>"
      ],
      "text/plain": [
       "   carat  depth  table  price     x     y     z\n",
       "0   0.23   61.5   55.0    326  3.95  3.98  2.43\n",
       "1   0.21   59.8   61.0    326  3.89  3.84  2.31\n",
       "2   0.23   56.9   65.0    327  4.05  4.07  2.31\n",
       "3   0.29   62.4   58.0    334  4.20  4.23  2.63\n",
       "4   0.31   63.3   58.0    335  4.34  4.35  2.75"
      ]
     },
     "execution_count": 63,
     "metadata": {},
     "output_type": "execute_result"
    }
   ],
   "source": [
    "df.head()"
   ]
  },
  {
   "cell_type": "code",
   "execution_count": 64,
   "id": "b992e549-915a-4bcd-9cad-b06bf9f7e087",
   "metadata": {
    "tags": []
   },
   "outputs": [
    {
     "data": {
      "text/plain": [
       "0    False\n",
       "1    False\n",
       "2    False\n",
       "3    False\n",
       "4    False\n",
       "Name: table, dtype: bool"
      ]
     },
     "execution_count": 64,
     "metadata": {},
     "output_type": "execute_result"
    }
   ],
   "source": [
    "aykiri_tf.head()"
   ]
  },
  {
   "cell_type": "code",
   "execution_count": 65,
   "id": "44b8e764-bdea-40b1-ae0a-6000cb190d27",
   "metadata": {
    "tags": []
   },
   "outputs": [
    {
     "data": {
      "text/plain": [
       "table    57.457184\n",
       "dtype: float64"
      ]
     },
     "execution_count": 65,
     "metadata": {},
     "output_type": "execute_result"
    }
   ],
   "source": [
    "df_table.mean()"
   ]
  },
  {
   "cell_type": "code",
   "execution_count": 66,
   "id": "0329b092-1565-414d-852f-2f8e555b4e6b",
   "metadata": {
    "tags": []
   },
   "outputs": [],
   "source": [
    "df_table[aykiri_tf] = df_table.mean()"
   ]
  },
  {
   "cell_type": "code",
   "execution_count": 67,
   "id": "2eca5358-86d9-4648-b6c1-6a2c63e69cbf",
   "metadata": {
    "tags": []
   },
   "outputs": [
    {
     "data": {
      "text/html": [
       "<div>\n",
       "<style scoped>\n",
       "    .dataframe tbody tr th:only-of-type {\n",
       "        vertical-align: middle;\n",
       "    }\n",
       "\n",
       "    .dataframe tbody tr th {\n",
       "        vertical-align: top;\n",
       "    }\n",
       "\n",
       "    .dataframe thead th {\n",
       "        text-align: right;\n",
       "    }\n",
       "</style>\n",
       "<table border=\"1\" class=\"dataframe\">\n",
       "  <thead>\n",
       "    <tr style=\"text-align: right;\">\n",
       "      <th></th>\n",
       "      <th>table</th>\n",
       "    </tr>\n",
       "  </thead>\n",
       "  <tbody>\n",
       "    <tr>\n",
       "      <th>1515</th>\n",
       "      <td>57.457184</td>\n",
       "    </tr>\n",
       "    <tr>\n",
       "      <th>3238</th>\n",
       "      <td>57.457184</td>\n",
       "    </tr>\n",
       "    <tr>\n",
       "      <th>3979</th>\n",
       "      <td>57.457184</td>\n",
       "    </tr>\n",
       "    <tr>\n",
       "      <th>4150</th>\n",
       "      <td>57.457184</td>\n",
       "    </tr>\n",
       "    <tr>\n",
       "      <th>5979</th>\n",
       "      <td>57.457184</td>\n",
       "    </tr>\n",
       "    <tr>\n",
       "      <th>7418</th>\n",
       "      <td>57.457184</td>\n",
       "    </tr>\n",
       "    <tr>\n",
       "      <th>8853</th>\n",
       "      <td>57.457184</td>\n",
       "    </tr>\n",
       "    <tr>\n",
       "      <th>11368</th>\n",
       "      <td>57.457184</td>\n",
       "    </tr>\n",
       "    <tr>\n",
       "      <th>22701</th>\n",
       "      <td>57.457184</td>\n",
       "    </tr>\n",
       "    <tr>\n",
       "      <th>25179</th>\n",
       "      <td>57.457184</td>\n",
       "    </tr>\n",
       "    <tr>\n",
       "      <th>26387</th>\n",
       "      <td>57.457184</td>\n",
       "    </tr>\n",
       "    <tr>\n",
       "      <th>33586</th>\n",
       "      <td>57.457184</td>\n",
       "    </tr>\n",
       "    <tr>\n",
       "      <th>35633</th>\n",
       "      <td>57.457184</td>\n",
       "    </tr>\n",
       "    <tr>\n",
       "      <th>45798</th>\n",
       "      <td>57.457184</td>\n",
       "    </tr>\n",
       "    <tr>\n",
       "      <th>46040</th>\n",
       "      <td>57.457184</td>\n",
       "    </tr>\n",
       "    <tr>\n",
       "      <th>47630</th>\n",
       "      <td>57.457184</td>\n",
       "    </tr>\n",
       "  </tbody>\n",
       "</table>\n",
       "</div>"
      ],
      "text/plain": [
       "           table\n",
       "1515   57.457184\n",
       "3238   57.457184\n",
       "3979   57.457184\n",
       "4150   57.457184\n",
       "5979   57.457184\n",
       "7418   57.457184\n",
       "8853   57.457184\n",
       "11368  57.457184\n",
       "22701  57.457184\n",
       "25179  57.457184\n",
       "26387  57.457184\n",
       "33586  57.457184\n",
       "35633  57.457184\n",
       "45798  57.457184\n",
       "46040  57.457184\n",
       "47630  57.457184"
      ]
     },
     "execution_count": 67,
     "metadata": {},
     "output_type": "execute_result"
    }
   ],
   "source": [
    "df_table[aykiri_tf]"
   ]
  },
  {
   "cell_type": "markdown",
   "id": "fac018cf-e520-4914-affd-b71be9ae5d3d",
   "metadata": {},
   "source": [
    "# Baskılama\n",
    "* üstteyse üst sınır değerine, alttaysa alt sınır değerine çeviririz."
   ]
  },
  {
   "cell_type": "code",
   "execution_count": 68,
   "id": "b2a0e59b-db68-43fd-80e4-6b82108f1394",
   "metadata": {
    "tags": []
   },
   "outputs": [],
   "source": [
    "df = sns.load_dataset('diamonds')\n",
    "df = df.select_dtypes(include= ['float64', 'int64'])"
   ]
  },
  {
   "cell_type": "code",
   "execution_count": 69,
   "id": "07db1985-0d0c-42f6-9dec-fb513bb6a51e",
   "metadata": {
    "tags": []
   },
   "outputs": [],
   "source": [
    "df= df.dropna()"
   ]
  },
  {
   "cell_type": "code",
   "execution_count": 70,
   "id": "6d0e7cdd-f42b-46ab-9952-a43f991d9051",
   "metadata": {
    "tags": []
   },
   "outputs": [
    {
     "data": {
      "text/html": [
       "<div>\n",
       "<style scoped>\n",
       "    .dataframe tbody tr th:only-of-type {\n",
       "        vertical-align: middle;\n",
       "    }\n",
       "\n",
       "    .dataframe tbody tr th {\n",
       "        vertical-align: top;\n",
       "    }\n",
       "\n",
       "    .dataframe thead th {\n",
       "        text-align: right;\n",
       "    }\n",
       "</style>\n",
       "<table border=\"1\" class=\"dataframe\">\n",
       "  <thead>\n",
       "    <tr style=\"text-align: right;\">\n",
       "      <th></th>\n",
       "      <th>carat</th>\n",
       "      <th>depth</th>\n",
       "      <th>table</th>\n",
       "      <th>price</th>\n",
       "      <th>x</th>\n",
       "      <th>y</th>\n",
       "      <th>z</th>\n",
       "    </tr>\n",
       "  </thead>\n",
       "  <tbody>\n",
       "    <tr>\n",
       "      <th>0</th>\n",
       "      <td>0.23</td>\n",
       "      <td>61.5</td>\n",
       "      <td>55.0</td>\n",
       "      <td>326</td>\n",
       "      <td>3.95</td>\n",
       "      <td>3.98</td>\n",
       "      <td>2.43</td>\n",
       "    </tr>\n",
       "    <tr>\n",
       "      <th>1</th>\n",
       "      <td>0.21</td>\n",
       "      <td>59.8</td>\n",
       "      <td>61.0</td>\n",
       "      <td>326</td>\n",
       "      <td>3.89</td>\n",
       "      <td>3.84</td>\n",
       "      <td>2.31</td>\n",
       "    </tr>\n",
       "    <tr>\n",
       "      <th>2</th>\n",
       "      <td>0.23</td>\n",
       "      <td>56.9</td>\n",
       "      <td>65.0</td>\n",
       "      <td>327</td>\n",
       "      <td>4.05</td>\n",
       "      <td>4.07</td>\n",
       "      <td>2.31</td>\n",
       "    </tr>\n",
       "    <tr>\n",
       "      <th>3</th>\n",
       "      <td>0.29</td>\n",
       "      <td>62.4</td>\n",
       "      <td>58.0</td>\n",
       "      <td>334</td>\n",
       "      <td>4.20</td>\n",
       "      <td>4.23</td>\n",
       "      <td>2.63</td>\n",
       "    </tr>\n",
       "    <tr>\n",
       "      <th>4</th>\n",
       "      <td>0.31</td>\n",
       "      <td>63.3</td>\n",
       "      <td>58.0</td>\n",
       "      <td>335</td>\n",
       "      <td>4.34</td>\n",
       "      <td>4.35</td>\n",
       "      <td>2.75</td>\n",
       "    </tr>\n",
       "  </tbody>\n",
       "</table>\n",
       "</div>"
      ],
      "text/plain": [
       "   carat  depth  table  price     x     y     z\n",
       "0   0.23   61.5   55.0    326  3.95  3.98  2.43\n",
       "1   0.21   59.8   61.0    326  3.89  3.84  2.31\n",
       "2   0.23   56.9   65.0    327  4.05  4.07  2.31\n",
       "3   0.29   62.4   58.0    334  4.20  4.23  2.63\n",
       "4   0.31   63.3   58.0    335  4.34  4.35  2.75"
      ]
     },
     "execution_count": 70,
     "metadata": {},
     "output_type": "execute_result"
    }
   ],
   "source": [
    "df.head()"
   ]
  },
  {
   "cell_type": "code",
   "execution_count": 71,
   "id": "2725d60b-b58f-4b7b-b0a2-d08fdeb2128d",
   "metadata": {
    "tags": []
   },
   "outputs": [],
   "source": [
    "df_table = df.table"
   ]
  },
  {
   "cell_type": "code",
   "execution_count": 72,
   "id": "9d1fe842-749a-4507-9344-a2c644342b82",
   "metadata": {
    "tags": []
   },
   "outputs": [
    {
     "data": {
      "text/plain": [
       "1515     51.0\n",
       "3238     50.1\n",
       "3979     51.0\n",
       "4150     51.0\n",
       "5979     49.0\n",
       "7418     50.0\n",
       "8853     51.0\n",
       "11368    43.0\n",
       "22701    49.0\n",
       "25179    50.0\n",
       "26387    51.0\n",
       "33586    51.0\n",
       "35633    44.0\n",
       "45798    51.0\n",
       "46040    51.0\n",
       "47630    51.0\n",
       "Name: table, dtype: float64"
      ]
     },
     "execution_count": 72,
     "metadata": {},
     "output_type": "execute_result"
    }
   ],
   "source": [
    "df_table[aykiri_tf]"
   ]
  },
  {
   "cell_type": "code",
   "execution_count": 73,
   "id": "d9e7e789-c6bc-4524-8ff5-202e131895ab",
   "metadata": {
    "tags": []
   },
   "outputs": [
    {
     "data": {
      "text/plain": [
       "51.5"
      ]
     },
     "execution_count": 73,
     "metadata": {},
     "output_type": "execute_result"
    }
   ],
   "source": [
    "alt_sinir"
   ]
  },
  {
   "cell_type": "code",
   "execution_count": 74,
   "id": "2db4d5bf-54d5-4c07-9d5f-43ba07a508b9",
   "metadata": {
    "tags": []
   },
   "outputs": [
    {
     "name": "stderr",
     "output_type": "stream",
     "text": [
      "C:\\Users\\ycanf\\AppData\\Local\\Temp\\ipykernel_7828\\2335413180.py:1: SettingWithCopyWarning: \n",
      "A value is trying to be set on a copy of a slice from a DataFrame\n",
      "\n",
      "See the caveats in the documentation: https://pandas.pydata.org/pandas-docs/stable/user_guide/indexing.html#returning-a-view-versus-a-copy\n",
      "  df_table[aykiri_tf]= alt_sinir\n"
     ]
    }
   ],
   "source": [
    "df_table[aykiri_tf]= alt_sinir"
   ]
  },
  {
   "cell_type": "code",
   "execution_count": 75,
   "id": "8cf388b0-4edc-44d0-9a7f-dfc4accb9a02",
   "metadata": {
    "tags": []
   },
   "outputs": [
    {
     "data": {
      "text/plain": [
       "1515     51.5\n",
       "3238     51.5\n",
       "3979     51.5\n",
       "4150     51.5\n",
       "5979     51.5\n",
       "7418     51.5\n",
       "8853     51.5\n",
       "11368    51.5\n",
       "22701    51.5\n",
       "25179    51.5\n",
       "26387    51.5\n",
       "33586    51.5\n",
       "35633    51.5\n",
       "45798    51.5\n",
       "46040    51.5\n",
       "47630    51.5\n",
       "Name: table, dtype: float64"
      ]
     },
     "execution_count": 75,
     "metadata": {},
     "output_type": "execute_result"
    }
   ],
   "source": [
    "df_table[aykiri_tf]"
   ]
  },
  {
   "cell_type": "code",
   "execution_count": 77,
   "id": "ff9093b6-0a73-4710-842b-344c853a3e93",
   "metadata": {
    "tags": []
   },
   "outputs": [
    {
     "name": "stderr",
     "output_type": "stream",
     "text": [
      "C:\\Users\\ycanf\\AppData\\Local\\Temp\\ipykernel_7828\\2209933085.py:1: SettingWithCopyWarning: \n",
      "A value is trying to be set on a copy of a slice from a DataFrame\n",
      "\n",
      "See the caveats in the documentation: https://pandas.pydata.org/pandas-docs/stable/user_guide/indexing.html#returning-a-view-versus-a-copy\n",
      "  df_table[aykiri_tf_ust] = ust_sinir\n"
     ]
    }
   ],
   "source": [
    "df_table[aykiri_tf_ust] = ust_sinir"
   ]
  },
  {
   "cell_type": "code",
   "execution_count": 78,
   "id": "7a43fee5-8986-4d8d-928d-afeb30b46d66",
   "metadata": {
    "tags": []
   },
   "outputs": [
    {
     "data": {
      "text/plain": [
       "2        63.5\n",
       "91       63.5\n",
       "145      63.5\n",
       "219      63.5\n",
       "227      63.5\n",
       "         ... \n",
       "53695    63.5\n",
       "53697    63.5\n",
       "53756    63.5\n",
       "53757    63.5\n",
       "53785    63.5\n",
       "Name: table, Length: 589, dtype: float64"
      ]
     },
     "execution_count": 78,
     "metadata": {},
     "output_type": "execute_result"
    }
   ],
   "source": [
    "df_table[aykiri_tf_ust]"
   ]
  },
  {
   "cell_type": "code",
   "execution_count": 79,
   "id": "f98327ad-97f4-4573-afc2-fc2cbaefbbbd",
   "metadata": {
    "tags": []
   },
   "outputs": [
    {
     "data": {
      "text/plain": [
       "<Axes: xlabel='table'>"
      ]
     },
     "execution_count": 79,
     "metadata": {},
     "output_type": "execute_result"
    },
    {
     "data": {
      "image/png": "[encoded data removed]",
      "text/plain": [
       "<Figure size 640x480 with 1 Axes>"
      ]
     },
     "metadata": {},
     "output_type": "display_data"
    }
   ],
   "source": [
    "sns.boxplot(x=df_table)"
   ]
  },
  {
   "cell_type": "markdown",
   "id": "65b13d17-d442-4cdf-a11c-9444c53c3a7a",
   "metadata": {},
   "source": [
    "# Çok değişkenli Aykırı Gözlem Analizi\n",
    "### Local Outlier Factor\n",
    "* Gözlemleri bulundukları konumda yoğunluk tabanlı skorlayarak buna göre aykırı değer olabilecek değerleri tanımlayabilmemize imkan sağlıyor.\n",
    "\n",
    "* Bir noktanın local yoğunluğu bu noktanın komşuları ile karşılaştırılıyor. Eğer bir nokta komşularının yoğunluğundan anlamlı şekilde düşük ise bu nokta komşularından daha seyrek bir bölgede bulunuyordur yorumu yapılabiliyor. Dolayısıyla  burada bir kşuluk yapısı söz konusu. Bir değerin çevresi yoğun değilse demek ki bu değer aykırı değerdir şeklinde değerlendiriliyor."
   ]
  },
  {
   "cell_type": "code",
   "execution_count": 1,
   "id": "91c41d74-7af2-4d5d-90ae-d71672f4687d",
   "metadata": {
    "tags": []
   },
   "outputs": [],
   "source": [
    "import pandas as pd\n",
    "import seaborn as sns"
   ]
  },
  {
   "cell_type": "code",
   "execution_count": 5,
   "id": "ecdff035-ca05-4fe4-b15d-2f3b991e7402",
   "metadata": {
    "tags": []
   },
   "outputs": [],
   "source": [
    "diamonds = sns.load_dataset('diamonds')\n",
    "diamonds = diamonds.select_dtypes(include= ['float64', 'int64'])\n",
    "df=diamonds.copy()"
   ]
  },
  {
   "cell_type": "code",
   "execution_count": 6,
   "id": "86cc7442-540f-4f92-87e0-025fd8b9664a",
   "metadata": {
    "tags": []
   },
   "outputs": [],
   "source": [
    "df= df.dropna()"
   ]
  },
  {
   "cell_type": "code",
   "execution_count": 35,
   "id": "5cde0dc6-96de-46d4-925b-44e9f2f97a35",
   "metadata": {
    "tags": []
   },
   "outputs": [
    {
     "data": {
      "text/html": [
       "<div>\n",
       "<style scoped>\n",
       "    .dataframe tbody tr th:only-of-type {\n",
       "        vertical-align: middle;\n",
       "    }\n",
       "\n",
       "    .dataframe tbody tr th {\n",
       "        vertical-align: top;\n",
       "    }\n",
       "\n",
       "    .dataframe thead th {\n",
       "        text-align: right;\n",
       "    }\n",
       "</style>\n",
       "<table border=\"1\" class=\"dataframe\">\n",
       "  <thead>\n",
       "    <tr style=\"text-align: right;\">\n",
       "      <th></th>\n",
       "      <th>carat</th>\n",
       "      <th>depth</th>\n",
       "      <th>table</th>\n",
       "      <th>price</th>\n",
       "      <th>x</th>\n",
       "      <th>y</th>\n",
       "      <th>z</th>\n",
       "    </tr>\n",
       "  </thead>\n",
       "  <tbody>\n",
       "    <tr>\n",
       "      <th>0</th>\n",
       "      <td>0.23</td>\n",
       "      <td>61.5</td>\n",
       "      <td>55.0</td>\n",
       "      <td>326</td>\n",
       "      <td>3.95</td>\n",
       "      <td>3.98</td>\n",
       "      <td>2.43</td>\n",
       "    </tr>\n",
       "    <tr>\n",
       "      <th>1</th>\n",
       "      <td>0.21</td>\n",
       "      <td>59.8</td>\n",
       "      <td>61.0</td>\n",
       "      <td>326</td>\n",
       "      <td>3.89</td>\n",
       "      <td>3.84</td>\n",
       "      <td>2.31</td>\n",
       "    </tr>\n",
       "    <tr>\n",
       "      <th>2</th>\n",
       "      <td>0.23</td>\n",
       "      <td>56.9</td>\n",
       "      <td>65.0</td>\n",
       "      <td>327</td>\n",
       "      <td>4.05</td>\n",
       "      <td>4.07</td>\n",
       "      <td>2.31</td>\n",
       "    </tr>\n",
       "    <tr>\n",
       "      <th>3</th>\n",
       "      <td>0.29</td>\n",
       "      <td>62.4</td>\n",
       "      <td>58.0</td>\n",
       "      <td>334</td>\n",
       "      <td>4.20</td>\n",
       "      <td>4.23</td>\n",
       "      <td>2.63</td>\n",
       "    </tr>\n",
       "    <tr>\n",
       "      <th>4</th>\n",
       "      <td>0.31</td>\n",
       "      <td>63.3</td>\n",
       "      <td>58.0</td>\n",
       "      <td>335</td>\n",
       "      <td>4.34</td>\n",
       "      <td>4.35</td>\n",
       "      <td>2.75</td>\n",
       "    </tr>\n",
       "    <tr>\n",
       "      <th>...</th>\n",
       "      <td>...</td>\n",
       "      <td>...</td>\n",
       "      <td>...</td>\n",
       "      <td>...</td>\n",
       "      <td>...</td>\n",
       "      <td>...</td>\n",
       "      <td>...</td>\n",
       "    </tr>\n",
       "    <tr>\n",
       "      <th>53935</th>\n",
       "      <td>0.72</td>\n",
       "      <td>60.8</td>\n",
       "      <td>57.0</td>\n",
       "      <td>2757</td>\n",
       "      <td>5.75</td>\n",
       "      <td>5.76</td>\n",
       "      <td>3.50</td>\n",
       "    </tr>\n",
       "    <tr>\n",
       "      <th>53936</th>\n",
       "      <td>0.72</td>\n",
       "      <td>63.1</td>\n",
       "      <td>55.0</td>\n",
       "      <td>2757</td>\n",
       "      <td>5.69</td>\n",
       "      <td>5.75</td>\n",
       "      <td>3.61</td>\n",
       "    </tr>\n",
       "    <tr>\n",
       "      <th>53937</th>\n",
       "      <td>0.70</td>\n",
       "      <td>62.8</td>\n",
       "      <td>60.0</td>\n",
       "      <td>2757</td>\n",
       "      <td>5.66</td>\n",
       "      <td>5.68</td>\n",
       "      <td>3.56</td>\n",
       "    </tr>\n",
       "    <tr>\n",
       "      <th>53938</th>\n",
       "      <td>0.86</td>\n",
       "      <td>61.0</td>\n",
       "      <td>58.0</td>\n",
       "      <td>2757</td>\n",
       "      <td>6.15</td>\n",
       "      <td>6.12</td>\n",
       "      <td>3.74</td>\n",
       "    </tr>\n",
       "    <tr>\n",
       "      <th>53939</th>\n",
       "      <td>0.75</td>\n",
       "      <td>62.2</td>\n",
       "      <td>55.0</td>\n",
       "      <td>2757</td>\n",
       "      <td>5.83</td>\n",
       "      <td>5.87</td>\n",
       "      <td>3.64</td>\n",
       "    </tr>\n",
       "  </tbody>\n",
       "</table>\n",
       "<p>53940 rows × 7 columns</p>\n",
       "</div>"
      ],
      "text/plain": [
       "       carat  depth  table  price     x     y     z\n",
       "0       0.23   61.5   55.0    326  3.95  3.98  2.43\n",
       "1       0.21   59.8   61.0    326  3.89  3.84  2.31\n",
       "2       0.23   56.9   65.0    327  4.05  4.07  2.31\n",
       "3       0.29   62.4   58.0    334  4.20  4.23  2.63\n",
       "4       0.31   63.3   58.0    335  4.34  4.35  2.75\n",
       "...      ...    ...    ...    ...   ...   ...   ...\n",
       "53935   0.72   60.8   57.0   2757  5.75  5.76  3.50\n",
       "53936   0.72   63.1   55.0   2757  5.69  5.75  3.61\n",
       "53937   0.70   62.8   60.0   2757  5.66  5.68  3.56\n",
       "53938   0.86   61.0   58.0   2757  6.15  6.12  3.74\n",
       "53939   0.75   62.2   55.0   2757  5.83  5.87  3.64\n",
       "\n",
       "[53940 rows x 7 columns]"
      ]
     },
     "execution_count": 35,
     "metadata": {},
     "output_type": "execute_result"
    }
   ],
   "source": [
    "df"
   ]
  },
  {
   "cell_type": "code",
   "execution_count": 8,
   "id": "f8e369aa-0104-485f-b37f-bd9c4d077103",
   "metadata": {},
   "outputs": [],
   "source": [
    "import numpy as np\n",
    "from sklearn.neighbors import LocalOutlierFactor"
   ]
  },
  {
   "cell_type": "code",
   "execution_count": 9,
   "id": "44fe5696-27f5-4dad-a914-abdeb3b1b321",
   "metadata": {
    "tags": []
   },
   "outputs": [],
   "source": [
    "clf = LocalOutlierFactor(n_neighbors= 20, contamination= 0.1 )"
   ]
  },
  {
   "cell_type": "code",
   "execution_count": 11,
   "id": "1c312134-389b-4551-9ce9-dad339097d7c",
   "metadata": {
    "tags": []
   },
   "outputs": [
    {
     "data": {
      "text/plain": [
       "array([-1, -1, -1, ...,  1,  1,  1])"
      ]
     },
     "execution_count": 11,
     "metadata": {},
     "output_type": "execute_result"
    }
   ],
   "source": [
    "clf.fit_predict(df)"
   ]
  },
  {
   "cell_type": "code",
   "execution_count": 12,
   "id": "cbc52ed6-95e2-40fa-8d21-602217c4416a",
   "metadata": {
    "tags": []
   },
   "outputs": [],
   "source": [
    "df_scores= clf.negative_outlier_factor_"
   ]
  },
  {
   "cell_type": "code",
   "execution_count": 28,
   "id": "01be5ef6-c8cd-445d-a6a2-ce1eee143a7b",
   "metadata": {
    "tags": []
   },
   "outputs": [
    {
     "data": {
      "text/plain": [
       "array([-8.60430658, -8.20889984, -5.86084355, -4.98415175, -4.81502092,\n",
       "       -4.81502092, -4.61522833, -4.37081214, -4.29842288, -4.10492387,\n",
       "       -4.0566648 , -4.01831733, -3.94882806, -3.82378797, -3.80135297,\n",
       "       -3.75680919, -3.65947378, -3.59249261, -3.55564138, -3.47157375,\n",
       "       -3.45066056, -3.42193513, -3.40044967, -3.36779427, -3.35007989,\n",
       "       -3.32557427, -3.29322345, -3.22070216, -3.19253942, -3.17216736,\n",
       "       -3.16270895, -3.0900127 , -3.08096113, -3.07879797, -3.06943824,\n",
       "       -3.0581048 , -3.03756565, -3.02610611, -2.96150262, -2.92133335,\n",
       "       -2.8910913 , -2.87232591, -2.86404215, -2.85995025, -2.80025433,\n",
       "       -2.7948162 , -2.79239569, -2.78583061, -2.77804997, -2.76102085,\n",
       "       -2.75883433, -2.75256915, -2.74570485, -2.74088344, -2.7403423 ,\n",
       "       -2.72989973, -2.70536052, -2.69880894, -2.69427748, -2.6924846 ,\n",
       "       -2.69161777, -2.68605044, -2.68516533, -2.67055326, -2.65343817,\n",
       "       -2.63856312, -2.63766905, -2.63517466, -2.63306792, -2.63026063,\n",
       "       -2.62781429, -2.62285983, -2.61440229, -2.60604734, -2.58518802,\n",
       "       -2.58120438, -2.57153995, -2.55759184, -2.55504916, -2.55283332,\n",
       "       -2.54197755, -2.53221338, -2.53161252, -2.52461245, -2.52192635,\n",
       "       -2.52106121, -2.50531672, -2.48876982, -2.47589838, -2.47362898,\n",
       "       -2.47272746, -2.47117178, -2.46893821, -2.46203412, -2.45795161,\n",
       "       -2.45606488, -2.44516143, -2.43107956, -2.42352535, -2.42320595])"
      ]
     },
     "execution_count": 28,
     "metadata": {},
     "output_type": "execute_result"
    }
   ],
   "source": [
    "np.sort(df_scores)[0:100]"
   ]
  },
  {
   "cell_type": "code",
   "execution_count": 30,
   "id": "3147de30-0615-401d-b57c-b3668b22ed8c",
   "metadata": {
    "tags": []
   },
   "outputs": [],
   "source": [
    "esik_deger= np.sort(df_scores)[13]"
   ]
  },
  {
   "cell_type": "code",
   "execution_count": 31,
   "id": "1efc1ea0-2b30-474c-839a-f6223562c4f6",
   "metadata": {
    "tags": []
   },
   "outputs": [],
   "source": [
    "aykiri_tf = df_scores > esik_deger"
   ]
  },
  {
   "cell_type": "code",
   "execution_count": 32,
   "id": "ccbb4efe-261e-4f6f-b4e0-c543c30cf4c2",
   "metadata": {
    "tags": []
   },
   "outputs": [
    {
     "data": {
      "text/plain": [
       "array([ True,  True,  True, ...,  True,  True,  True])"
      ]
     },
     "execution_count": 32,
     "metadata": {},
     "output_type": "execute_result"
    }
   ],
   "source": [
    "aykiri_tf"
   ]
  },
  {
   "cell_type": "code",
   "execution_count": 33,
   "id": "789e8b0b-bad4-4bcc-b0f6-a8d85b5af17c",
   "metadata": {
    "tags": []
   },
   "outputs": [],
   "source": [
    "yeni_df = df[df_scores > esik_deger]"
   ]
  },
  {
   "cell_type": "code",
   "execution_count": 34,
   "id": "a6b6c4f8-6c71-4d77-be9d-dbe006b44310",
   "metadata": {
    "tags": []
   },
   "outputs": [
    {
     "data": {
      "text/html": [
       "<div>\n",
       "<style scoped>\n",
       "    .dataframe tbody tr th:only-of-type {\n",
       "        vertical-align: middle;\n",
       "    }\n",
       "\n",
       "    .dataframe tbody tr th {\n",
       "        vertical-align: top;\n",
       "    }\n",
       "\n",
       "    .dataframe thead th {\n",
       "        text-align: right;\n",
       "    }\n",
       "</style>\n",
       "<table border=\"1\" class=\"dataframe\">\n",
       "  <thead>\n",
       "    <tr style=\"text-align: right;\">\n",
       "      <th></th>\n",
       "      <th>carat</th>\n",
       "      <th>depth</th>\n",
       "      <th>table</th>\n",
       "      <th>price</th>\n",
       "      <th>x</th>\n",
       "      <th>y</th>\n",
       "      <th>z</th>\n",
       "    </tr>\n",
       "  </thead>\n",
       "  <tbody>\n",
       "    <tr>\n",
       "      <th>0</th>\n",
       "      <td>0.23</td>\n",
       "      <td>61.5</td>\n",
       "      <td>55.0</td>\n",
       "      <td>326</td>\n",
       "      <td>3.95</td>\n",
       "      <td>3.98</td>\n",
       "      <td>2.43</td>\n",
       "    </tr>\n",
       "    <tr>\n",
       "      <th>1</th>\n",
       "      <td>0.21</td>\n",
       "      <td>59.8</td>\n",
       "      <td>61.0</td>\n",
       "      <td>326</td>\n",
       "      <td>3.89</td>\n",
       "      <td>3.84</td>\n",
       "      <td>2.31</td>\n",
       "    </tr>\n",
       "    <tr>\n",
       "      <th>2</th>\n",
       "      <td>0.23</td>\n",
       "      <td>56.9</td>\n",
       "      <td>65.0</td>\n",
       "      <td>327</td>\n",
       "      <td>4.05</td>\n",
       "      <td>4.07</td>\n",
       "      <td>2.31</td>\n",
       "    </tr>\n",
       "    <tr>\n",
       "      <th>3</th>\n",
       "      <td>0.29</td>\n",
       "      <td>62.4</td>\n",
       "      <td>58.0</td>\n",
       "      <td>334</td>\n",
       "      <td>4.20</td>\n",
       "      <td>4.23</td>\n",
       "      <td>2.63</td>\n",
       "    </tr>\n",
       "    <tr>\n",
       "      <th>4</th>\n",
       "      <td>0.31</td>\n",
       "      <td>63.3</td>\n",
       "      <td>58.0</td>\n",
       "      <td>335</td>\n",
       "      <td>4.34</td>\n",
       "      <td>4.35</td>\n",
       "      <td>2.75</td>\n",
       "    </tr>\n",
       "    <tr>\n",
       "      <th>...</th>\n",
       "      <td>...</td>\n",
       "      <td>...</td>\n",
       "      <td>...</td>\n",
       "      <td>...</td>\n",
       "      <td>...</td>\n",
       "      <td>...</td>\n",
       "      <td>...</td>\n",
       "    </tr>\n",
       "    <tr>\n",
       "      <th>53935</th>\n",
       "      <td>0.72</td>\n",
       "      <td>60.8</td>\n",
       "      <td>57.0</td>\n",
       "      <td>2757</td>\n",
       "      <td>5.75</td>\n",
       "      <td>5.76</td>\n",
       "      <td>3.50</td>\n",
       "    </tr>\n",
       "    <tr>\n",
       "      <th>53936</th>\n",
       "      <td>0.72</td>\n",
       "      <td>63.1</td>\n",
       "      <td>55.0</td>\n",
       "      <td>2757</td>\n",
       "      <td>5.69</td>\n",
       "      <td>5.75</td>\n",
       "      <td>3.61</td>\n",
       "    </tr>\n",
       "    <tr>\n",
       "      <th>53937</th>\n",
       "      <td>0.70</td>\n",
       "      <td>62.8</td>\n",
       "      <td>60.0</td>\n",
       "      <td>2757</td>\n",
       "      <td>5.66</td>\n",
       "      <td>5.68</td>\n",
       "      <td>3.56</td>\n",
       "    </tr>\n",
       "    <tr>\n",
       "      <th>53938</th>\n",
       "      <td>0.86</td>\n",
       "      <td>61.0</td>\n",
       "      <td>58.0</td>\n",
       "      <td>2757</td>\n",
       "      <td>6.15</td>\n",
       "      <td>6.12</td>\n",
       "      <td>3.74</td>\n",
       "    </tr>\n",
       "    <tr>\n",
       "      <th>53939</th>\n",
       "      <td>0.75</td>\n",
       "      <td>62.2</td>\n",
       "      <td>55.0</td>\n",
       "      <td>2757</td>\n",
       "      <td>5.83</td>\n",
       "      <td>5.87</td>\n",
       "      <td>3.64</td>\n",
       "    </tr>\n",
       "  </tbody>\n",
       "</table>\n",
       "<p>53926 rows × 7 columns</p>\n",
       "</div>"
      ],
      "text/plain": [
       "       carat  depth  table  price     x     y     z\n",
       "0       0.23   61.5   55.0    326  3.95  3.98  2.43\n",
       "1       0.21   59.8   61.0    326  3.89  3.84  2.31\n",
       "2       0.23   56.9   65.0    327  4.05  4.07  2.31\n",
       "3       0.29   62.4   58.0    334  4.20  4.23  2.63\n",
       "4       0.31   63.3   58.0    335  4.34  4.35  2.75\n",
       "...      ...    ...    ...    ...   ...   ...   ...\n",
       "53935   0.72   60.8   57.0   2757  5.75  5.76  3.50\n",
       "53936   0.72   63.1   55.0   2757  5.69  5.75  3.61\n",
       "53937   0.70   62.8   60.0   2757  5.66  5.68  3.56\n",
       "53938   0.86   61.0   58.0   2757  6.15  6.12  3.74\n",
       "53939   0.75   62.2   55.0   2757  5.83  5.87  3.64\n",
       "\n",
       "[53926 rows x 7 columns]"
      ]
     },
     "execution_count": 34,
     "metadata": {},
     "output_type": "execute_result"
    }
   ],
   "source": [
    "yeni_df"
   ]
  },
  {
   "cell_type": "code",
   "execution_count": 36,
   "id": "05be0526-7041-489e-b9a9-e12a14c837af",
   "metadata": {
    "tags": []
   },
   "outputs": [
    {
     "data": {
      "text/html": [
       "<div>\n",
       "<style scoped>\n",
       "    .dataframe tbody tr th:only-of-type {\n",
       "        vertical-align: middle;\n",
       "    }\n",
       "\n",
       "    .dataframe tbody tr th {\n",
       "        vertical-align: top;\n",
       "    }\n",
       "\n",
       "    .dataframe thead th {\n",
       "        text-align: right;\n",
       "    }\n",
       "</style>\n",
       "<table border=\"1\" class=\"dataframe\">\n",
       "  <thead>\n",
       "    <tr style=\"text-align: right;\">\n",
       "      <th></th>\n",
       "      <th>carat</th>\n",
       "      <th>depth</th>\n",
       "      <th>table</th>\n",
       "      <th>price</th>\n",
       "      <th>x</th>\n",
       "      <th>y</th>\n",
       "      <th>z</th>\n",
       "    </tr>\n",
       "  </thead>\n",
       "  <tbody>\n",
       "    <tr>\n",
       "      <th>6341</th>\n",
       "      <td>1.00</td>\n",
       "      <td>44.0</td>\n",
       "      <td>53.0</td>\n",
       "      <td>4032</td>\n",
       "      <td>6.31</td>\n",
       "      <td>6.24</td>\n",
       "      <td>4.12</td>\n",
       "    </tr>\n",
       "    <tr>\n",
       "      <th>10377</th>\n",
       "      <td>1.09</td>\n",
       "      <td>43.0</td>\n",
       "      <td>54.0</td>\n",
       "      <td>4778</td>\n",
       "      <td>6.53</td>\n",
       "      <td>6.55</td>\n",
       "      <td>4.12</td>\n",
       "    </tr>\n",
       "    <tr>\n",
       "      <th>24067</th>\n",
       "      <td>2.00</td>\n",
       "      <td>58.9</td>\n",
       "      <td>57.0</td>\n",
       "      <td>12210</td>\n",
       "      <td>8.09</td>\n",
       "      <td>58.90</td>\n",
       "      <td>8.06</td>\n",
       "    </tr>\n",
       "    <tr>\n",
       "      <th>35633</th>\n",
       "      <td>0.29</td>\n",
       "      <td>62.8</td>\n",
       "      <td>44.0</td>\n",
       "      <td>474</td>\n",
       "      <td>4.20</td>\n",
       "      <td>4.24</td>\n",
       "      <td>2.65</td>\n",
       "    </tr>\n",
       "    <tr>\n",
       "      <th>36503</th>\n",
       "      <td>0.30</td>\n",
       "      <td>51.0</td>\n",
       "      <td>67.0</td>\n",
       "      <td>945</td>\n",
       "      <td>4.67</td>\n",
       "      <td>4.62</td>\n",
       "      <td>2.37</td>\n",
       "    </tr>\n",
       "    <tr>\n",
       "      <th>38840</th>\n",
       "      <td>0.73</td>\n",
       "      <td>70.8</td>\n",
       "      <td>55.0</td>\n",
       "      <td>1049</td>\n",
       "      <td>5.51</td>\n",
       "      <td>5.34</td>\n",
       "      <td>3.84</td>\n",
       "    </tr>\n",
       "    <tr>\n",
       "      <th>41918</th>\n",
       "      <td>1.03</td>\n",
       "      <td>78.2</td>\n",
       "      <td>54.0</td>\n",
       "      <td>1262</td>\n",
       "      <td>5.72</td>\n",
       "      <td>5.59</td>\n",
       "      <td>4.42</td>\n",
       "    </tr>\n",
       "    <tr>\n",
       "      <th>45688</th>\n",
       "      <td>0.70</td>\n",
       "      <td>71.6</td>\n",
       "      <td>55.0</td>\n",
       "      <td>1696</td>\n",
       "      <td>5.47</td>\n",
       "      <td>5.28</td>\n",
       "      <td>3.85</td>\n",
       "    </tr>\n",
       "    <tr>\n",
       "      <th>48410</th>\n",
       "      <td>0.51</td>\n",
       "      <td>61.8</td>\n",
       "      <td>54.7</td>\n",
       "      <td>1970</td>\n",
       "      <td>5.12</td>\n",
       "      <td>5.15</td>\n",
       "      <td>31.80</td>\n",
       "    </tr>\n",
       "    <tr>\n",
       "      <th>49189</th>\n",
       "      <td>0.51</td>\n",
       "      <td>61.8</td>\n",
       "      <td>55.0</td>\n",
       "      <td>2075</td>\n",
       "      <td>5.15</td>\n",
       "      <td>31.80</td>\n",
       "      <td>5.12</td>\n",
       "    </tr>\n",
       "    <tr>\n",
       "      <th>50773</th>\n",
       "      <td>0.81</td>\n",
       "      <td>68.8</td>\n",
       "      <td>79.0</td>\n",
       "      <td>2301</td>\n",
       "      <td>5.26</td>\n",
       "      <td>5.20</td>\n",
       "      <td>3.58</td>\n",
       "    </tr>\n",
       "    <tr>\n",
       "      <th>52860</th>\n",
       "      <td>0.50</td>\n",
       "      <td>79.0</td>\n",
       "      <td>73.0</td>\n",
       "      <td>2579</td>\n",
       "      <td>5.21</td>\n",
       "      <td>5.18</td>\n",
       "      <td>4.09</td>\n",
       "    </tr>\n",
       "    <tr>\n",
       "      <th>52861</th>\n",
       "      <td>0.50</td>\n",
       "      <td>79.0</td>\n",
       "      <td>73.0</td>\n",
       "      <td>2579</td>\n",
       "      <td>5.21</td>\n",
       "      <td>5.18</td>\n",
       "      <td>4.09</td>\n",
       "    </tr>\n",
       "  </tbody>\n",
       "</table>\n",
       "</div>"
      ],
      "text/plain": [
       "       carat  depth  table  price     x      y      z\n",
       "6341    1.00   44.0   53.0   4032  6.31   6.24   4.12\n",
       "10377   1.09   43.0   54.0   4778  6.53   6.55   4.12\n",
       "24067   2.00   58.9   57.0  12210  8.09  58.90   8.06\n",
       "35633   0.29   62.8   44.0    474  4.20   4.24   2.65\n",
       "36503   0.30   51.0   67.0    945  4.67   4.62   2.37\n",
       "38840   0.73   70.8   55.0   1049  5.51   5.34   3.84\n",
       "41918   1.03   78.2   54.0   1262  5.72   5.59   4.42\n",
       "45688   0.70   71.6   55.0   1696  5.47   5.28   3.85\n",
       "48410   0.51   61.8   54.7   1970  5.12   5.15  31.80\n",
       "49189   0.51   61.8   55.0   2075  5.15  31.80   5.12\n",
       "50773   0.81   68.8   79.0   2301  5.26   5.20   3.58\n",
       "52860   0.50   79.0   73.0   2579  5.21   5.18   4.09\n",
       "52861   0.50   79.0   73.0   2579  5.21   5.18   4.09"
      ]
     },
     "execution_count": 36,
     "metadata": {},
     "output_type": "execute_result"
    }
   ],
   "source": [
    "df[df_scores < esik_deger]"
   ]
  },
  {
   "cell_type": "markdown",
   "id": "b4006573-b4cb-44cc-ad67-fdc6e7359929",
   "metadata": {},
   "source": [
    "# Baskılama"
   ]
  },
  {
   "cell_type": "code",
   "execution_count": 37,
   "id": "3cc3cf83-786c-4525-a309-b5a6085ac609",
   "metadata": {
    "tags": []
   },
   "outputs": [
    {
     "data": {
      "text/html": [
       "<div>\n",
       "<style scoped>\n",
       "    .dataframe tbody tr th:only-of-type {\n",
       "        vertical-align: middle;\n",
       "    }\n",
       "\n",
       "    .dataframe tbody tr th {\n",
       "        vertical-align: top;\n",
       "    }\n",
       "\n",
       "    .dataframe thead th {\n",
       "        text-align: right;\n",
       "    }\n",
       "</style>\n",
       "<table border=\"1\" class=\"dataframe\">\n",
       "  <thead>\n",
       "    <tr style=\"text-align: right;\">\n",
       "      <th></th>\n",
       "      <th>carat</th>\n",
       "      <th>depth</th>\n",
       "      <th>table</th>\n",
       "      <th>price</th>\n",
       "      <th>x</th>\n",
       "      <th>y</th>\n",
       "      <th>z</th>\n",
       "    </tr>\n",
       "  </thead>\n",
       "  <tbody>\n",
       "    <tr>\n",
       "      <th>31230</th>\n",
       "      <td>0.45</td>\n",
       "      <td>68.6</td>\n",
       "      <td>57.0</td>\n",
       "      <td>756</td>\n",
       "      <td>4.73</td>\n",
       "      <td>4.5</td>\n",
       "      <td>3.19</td>\n",
       "    </tr>\n",
       "  </tbody>\n",
       "</table>\n",
       "</div>"
      ],
      "text/plain": [
       "       carat  depth  table  price     x    y     z\n",
       "31230   0.45   68.6   57.0    756  4.73  4.5  3.19"
      ]
     },
     "execution_count": 37,
     "metadata": {},
     "output_type": "execute_result"
    }
   ],
   "source": [
    "df[df_scores == esik_deger]"
   ]
  },
  {
   "cell_type": "code",
   "execution_count": 38,
   "id": "7f6c9fd5-1a60-4413-92c7-cb84385de115",
   "metadata": {
    "tags": []
   },
   "outputs": [],
   "source": [
    "baski_deger= df[df_scores == esik_deger]"
   ]
  },
  {
   "cell_type": "code",
   "execution_count": 57,
   "id": "c9e4b556-01e8-44f0-925c-3052dc6bc4fb",
   "metadata": {
    "tags": []
   },
   "outputs": [
    {
     "data": {
      "text/html": [
       "<div>\n",
       "<style scoped>\n",
       "    .dataframe tbody tr th:only-of-type {\n",
       "        vertical-align: middle;\n",
       "    }\n",
       "\n",
       "    .dataframe tbody tr th {\n",
       "        vertical-align: top;\n",
       "    }\n",
       "\n",
       "    .dataframe thead th {\n",
       "        text-align: right;\n",
       "    }\n",
       "</style>\n",
       "<table border=\"1\" class=\"dataframe\">\n",
       "  <thead>\n",
       "    <tr style=\"text-align: right;\">\n",
       "      <th></th>\n",
       "      <th>carat</th>\n",
       "      <th>depth</th>\n",
       "      <th>table</th>\n",
       "      <th>price</th>\n",
       "      <th>x</th>\n",
       "      <th>y</th>\n",
       "      <th>z</th>\n",
       "    </tr>\n",
       "  </thead>\n",
       "  <tbody>\n",
       "    <tr>\n",
       "      <th>31230</th>\n",
       "      <td>0.45</td>\n",
       "      <td>68.6</td>\n",
       "      <td>57.0</td>\n",
       "      <td>756</td>\n",
       "      <td>4.73</td>\n",
       "      <td>4.5</td>\n",
       "      <td>3.19</td>\n",
       "    </tr>\n",
       "  </tbody>\n",
       "</table>\n",
       "</div>"
      ],
      "text/plain": [
       "       carat  depth  table  price     x    y     z\n",
       "31230   0.45   68.6   57.0    756  4.73  4.5  3.19"
      ]
     },
     "execution_count": 57,
     "metadata": {},
     "output_type": "execute_result"
    }
   ],
   "source": [
    "baski_deger"
   ]
  },
  {
   "cell_type": "code",
   "execution_count": 43,
   "id": "56ae6ff4-2776-4c51-aa54-269f7c154866",
   "metadata": {
    "tags": []
   },
   "outputs": [],
   "source": [
    "aykirilar = df[~aykiri_tf]"
   ]
  },
  {
   "cell_type": "code",
   "execution_count": 44,
   "id": "983f9fc2-2bcd-467e-aa6e-a102d95fd3b3",
   "metadata": {
    "collapsed": true,
    "jupyter": {
     "outputs_hidden": true
    },
    "tags": []
   },
   "outputs": [
    {
     "data": {
      "text/html": [
       "<div>\n",
       "<style scoped>\n",
       "    .dataframe tbody tr th:only-of-type {\n",
       "        vertical-align: middle;\n",
       "    }\n",
       "\n",
       "    .dataframe tbody tr th {\n",
       "        vertical-align: top;\n",
       "    }\n",
       "\n",
       "    .dataframe thead th {\n",
       "        text-align: right;\n",
       "    }\n",
       "</style>\n",
       "<table border=\"1\" class=\"dataframe\">\n",
       "  <thead>\n",
       "    <tr style=\"text-align: right;\">\n",
       "      <th></th>\n",
       "      <th>carat</th>\n",
       "      <th>depth</th>\n",
       "      <th>table</th>\n",
       "      <th>price</th>\n",
       "      <th>x</th>\n",
       "      <th>y</th>\n",
       "      <th>z</th>\n",
       "    </tr>\n",
       "  </thead>\n",
       "  <tbody>\n",
       "    <tr>\n",
       "      <th>6341</th>\n",
       "      <td>1.00</td>\n",
       "      <td>44.0</td>\n",
       "      <td>53.0</td>\n",
       "      <td>4032</td>\n",
       "      <td>6.31</td>\n",
       "      <td>6.24</td>\n",
       "      <td>4.12</td>\n",
       "    </tr>\n",
       "    <tr>\n",
       "      <th>10377</th>\n",
       "      <td>1.09</td>\n",
       "      <td>43.0</td>\n",
       "      <td>54.0</td>\n",
       "      <td>4778</td>\n",
       "      <td>6.53</td>\n",
       "      <td>6.55</td>\n",
       "      <td>4.12</td>\n",
       "    </tr>\n",
       "    <tr>\n",
       "      <th>24067</th>\n",
       "      <td>2.00</td>\n",
       "      <td>58.9</td>\n",
       "      <td>57.0</td>\n",
       "      <td>12210</td>\n",
       "      <td>8.09</td>\n",
       "      <td>58.90</td>\n",
       "      <td>8.06</td>\n",
       "    </tr>\n",
       "    <tr>\n",
       "      <th>31230</th>\n",
       "      <td>0.45</td>\n",
       "      <td>68.6</td>\n",
       "      <td>57.0</td>\n",
       "      <td>756</td>\n",
       "      <td>4.73</td>\n",
       "      <td>4.50</td>\n",
       "      <td>3.19</td>\n",
       "    </tr>\n",
       "    <tr>\n",
       "      <th>35633</th>\n",
       "      <td>0.29</td>\n",
       "      <td>62.8</td>\n",
       "      <td>44.0</td>\n",
       "      <td>474</td>\n",
       "      <td>4.20</td>\n",
       "      <td>4.24</td>\n",
       "      <td>2.65</td>\n",
       "    </tr>\n",
       "    <tr>\n",
       "      <th>36503</th>\n",
       "      <td>0.30</td>\n",
       "      <td>51.0</td>\n",
       "      <td>67.0</td>\n",
       "      <td>945</td>\n",
       "      <td>4.67</td>\n",
       "      <td>4.62</td>\n",
       "      <td>2.37</td>\n",
       "    </tr>\n",
       "    <tr>\n",
       "      <th>38840</th>\n",
       "      <td>0.73</td>\n",
       "      <td>70.8</td>\n",
       "      <td>55.0</td>\n",
       "      <td>1049</td>\n",
       "      <td>5.51</td>\n",
       "      <td>5.34</td>\n",
       "      <td>3.84</td>\n",
       "    </tr>\n",
       "    <tr>\n",
       "      <th>41918</th>\n",
       "      <td>1.03</td>\n",
       "      <td>78.2</td>\n",
       "      <td>54.0</td>\n",
       "      <td>1262</td>\n",
       "      <td>5.72</td>\n",
       "      <td>5.59</td>\n",
       "      <td>4.42</td>\n",
       "    </tr>\n",
       "    <tr>\n",
       "      <th>45688</th>\n",
       "      <td>0.70</td>\n",
       "      <td>71.6</td>\n",
       "      <td>55.0</td>\n",
       "      <td>1696</td>\n",
       "      <td>5.47</td>\n",
       "      <td>5.28</td>\n",
       "      <td>3.85</td>\n",
       "    </tr>\n",
       "    <tr>\n",
       "      <th>48410</th>\n",
       "      <td>0.51</td>\n",
       "      <td>61.8</td>\n",
       "      <td>54.7</td>\n",
       "      <td>1970</td>\n",
       "      <td>5.12</td>\n",
       "      <td>5.15</td>\n",
       "      <td>31.80</td>\n",
       "    </tr>\n",
       "    <tr>\n",
       "      <th>49189</th>\n",
       "      <td>0.51</td>\n",
       "      <td>61.8</td>\n",
       "      <td>55.0</td>\n",
       "      <td>2075</td>\n",
       "      <td>5.15</td>\n",
       "      <td>31.80</td>\n",
       "      <td>5.12</td>\n",
       "    </tr>\n",
       "    <tr>\n",
       "      <th>50773</th>\n",
       "      <td>0.81</td>\n",
       "      <td>68.8</td>\n",
       "      <td>79.0</td>\n",
       "      <td>2301</td>\n",
       "      <td>5.26</td>\n",
       "      <td>5.20</td>\n",
       "      <td>3.58</td>\n",
       "    </tr>\n",
       "    <tr>\n",
       "      <th>52860</th>\n",
       "      <td>0.50</td>\n",
       "      <td>79.0</td>\n",
       "      <td>73.0</td>\n",
       "      <td>2579</td>\n",
       "      <td>5.21</td>\n",
       "      <td>5.18</td>\n",
       "      <td>4.09</td>\n",
       "    </tr>\n",
       "    <tr>\n",
       "      <th>52861</th>\n",
       "      <td>0.50</td>\n",
       "      <td>79.0</td>\n",
       "      <td>73.0</td>\n",
       "      <td>2579</td>\n",
       "      <td>5.21</td>\n",
       "      <td>5.18</td>\n",
       "      <td>4.09</td>\n",
       "    </tr>\n",
       "  </tbody>\n",
       "</table>\n",
       "</div>"
      ],
      "text/plain": [
       "       carat  depth  table  price     x      y      z\n",
       "6341    1.00   44.0   53.0   4032  6.31   6.24   4.12\n",
       "10377   1.09   43.0   54.0   4778  6.53   6.55   4.12\n",
       "24067   2.00   58.9   57.0  12210  8.09  58.90   8.06\n",
       "31230   0.45   68.6   57.0    756  4.73   4.50   3.19\n",
       "35633   0.29   62.8   44.0    474  4.20   4.24   2.65\n",
       "36503   0.30   51.0   67.0    945  4.67   4.62   2.37\n",
       "38840   0.73   70.8   55.0   1049  5.51   5.34   3.84\n",
       "41918   1.03   78.2   54.0   1262  5.72   5.59   4.42\n",
       "45688   0.70   71.6   55.0   1696  5.47   5.28   3.85\n",
       "48410   0.51   61.8   54.7   1970  5.12   5.15  31.80\n",
       "49189   0.51   61.8   55.0   2075  5.15  31.80   5.12\n",
       "50773   0.81   68.8   79.0   2301  5.26   5.20   3.58\n",
       "52860   0.50   79.0   73.0   2579  5.21   5.18   4.09\n",
       "52861   0.50   79.0   73.0   2579  5.21   5.18   4.09"
      ]
     },
     "execution_count": 44,
     "metadata": {},
     "output_type": "execute_result"
    }
   ],
   "source": [
    "aykirilar"
   ]
  },
  {
   "cell_type": "code",
   "execution_count": 45,
   "id": "407115f6-c2d7-4659-a174-f854c287f6e5",
   "metadata": {
    "tags": []
   },
   "outputs": [
    {
     "data": {
      "text/plain": [
       "rec.array([(1.  , 44. , 53. ,  4032, 6.31,  6.24,  4.12),\n",
       "           (1.09, 43. , 54. ,  4778, 6.53,  6.55,  4.12),\n",
       "           (2.  , 58.9, 57. , 12210, 8.09, 58.9 ,  8.06),\n",
       "           (0.45, 68.6, 57. ,   756, 4.73,  4.5 ,  3.19),\n",
       "           (0.29, 62.8, 44. ,   474, 4.2 ,  4.24,  2.65),\n",
       "           (0.3 , 51. , 67. ,   945, 4.67,  4.62,  2.37),\n",
       "           (0.73, 70.8, 55. ,  1049, 5.51,  5.34,  3.84),\n",
       "           (1.03, 78.2, 54. ,  1262, 5.72,  5.59,  4.42),\n",
       "           (0.7 , 71.6, 55. ,  1696, 5.47,  5.28,  3.85),\n",
       "           (0.51, 61.8, 54.7,  1970, 5.12,  5.15, 31.8 ),\n",
       "           (0.51, 61.8, 55. ,  2075, 5.15, 31.8 ,  5.12),\n",
       "           (0.81, 68.8, 79. ,  2301, 5.26,  5.2 ,  3.58),\n",
       "           (0.5 , 79. , 73. ,  2579, 5.21,  5.18,  4.09),\n",
       "           (0.5 , 79. , 73. ,  2579, 5.21,  5.18,  4.09)],\n",
       "          dtype=[('carat', '<f8'), ('depth', '<f8'), ('table', '<f8'), ('price', '<i8'), ('x', '<f8'), ('y', '<f8'), ('z', '<f8')])"
      ]
     },
     "execution_count": 45,
     "metadata": {},
     "output_type": "execute_result"
    }
   ],
   "source": [
    "aykirilar.to_records(index=False)"
   ]
  },
  {
   "cell_type": "code",
   "execution_count": 55,
   "id": "83db568a-4191-4260-898a-0cec02da290f",
   "metadata": {
    "tags": []
   },
   "outputs": [],
   "source": [
    "res =aykirilar.to_records(index=False)"
   ]
  },
  {
   "cell_type": "code",
   "execution_count": 56,
   "id": "3c324a09-5cfe-4e39-854c-f8fd6228b68e",
   "metadata": {
    "collapsed": true,
    "jupyter": {
     "outputs_hidden": true
    },
    "tags": []
   },
   "outputs": [
    {
     "data": {
      "text/plain": [
       "rec.array([(1.  , 44. , 53. ,  4032, 6.31,  6.24,  4.12),\n",
       "           (1.09, 43. , 54. ,  4778, 6.53,  6.55,  4.12),\n",
       "           (2.  , 58.9, 57. , 12210, 8.09, 58.9 ,  8.06),\n",
       "           (0.45, 68.6, 57. ,   756, 4.73,  4.5 ,  3.19),\n",
       "           (0.29, 62.8, 44. ,   474, 4.2 ,  4.24,  2.65),\n",
       "           (0.3 , 51. , 67. ,   945, 4.67,  4.62,  2.37),\n",
       "           (0.73, 70.8, 55. ,  1049, 5.51,  5.34,  3.84),\n",
       "           (1.03, 78.2, 54. ,  1262, 5.72,  5.59,  4.42),\n",
       "           (0.7 , 71.6, 55. ,  1696, 5.47,  5.28,  3.85),\n",
       "           (0.51, 61.8, 54.7,  1970, 5.12,  5.15, 31.8 ),\n",
       "           (0.51, 61.8, 55. ,  2075, 5.15, 31.8 ,  5.12),\n",
       "           (0.81, 68.8, 79. ,  2301, 5.26,  5.2 ,  3.58),\n",
       "           (0.5 , 79. , 73. ,  2579, 5.21,  5.18,  4.09),\n",
       "           (0.5 , 79. , 73. ,  2579, 5.21,  5.18,  4.09)],\n",
       "          dtype=[('carat', '<f8'), ('depth', '<f8'), ('table', '<f8'), ('price', '<i8'), ('x', '<f8'), ('y', '<f8'), ('z', '<f8')])"
      ]
     },
     "execution_count": 56,
     "metadata": {},
     "output_type": "execute_result"
    }
   ],
   "source": [
    "res"
   ]
  },
  {
   "cell_type": "code",
   "execution_count": 50,
   "id": "9bc3e25d-d309-4867-9e5b-1caa31a36661",
   "metadata": {
    "tags": []
   },
   "outputs": [],
   "source": [
    "res[:] = baski_deger.to_records(index=False)"
   ]
  },
  {
   "cell_type": "code",
   "execution_count": 51,
   "id": "fdda9599-4ec9-4ccf-a95e-3a0184f9a8db",
   "metadata": {
    "tags": []
   },
   "outputs": [
    {
     "data": {
      "text/plain": [
       "rec.array([(0.45, 68.6, 57., 756, 4.73, 4.5, 3.19),\n",
       "           (0.45, 68.6, 57., 756, 4.73, 4.5, 3.19),\n",
       "           (0.45, 68.6, 57., 756, 4.73, 4.5, 3.19),\n",
       "           (0.45, 68.6, 57., 756, 4.73, 4.5, 3.19),\n",
       "           (0.45, 68.6, 57., 756, 4.73, 4.5, 3.19),\n",
       "           (0.45, 68.6, 57., 756, 4.73, 4.5, 3.19),\n",
       "           (0.45, 68.6, 57., 756, 4.73, 4.5, 3.19),\n",
       "           (0.45, 68.6, 57., 756, 4.73, 4.5, 3.19),\n",
       "           (0.45, 68.6, 57., 756, 4.73, 4.5, 3.19),\n",
       "           (0.45, 68.6, 57., 756, 4.73, 4.5, 3.19),\n",
       "           (0.45, 68.6, 57., 756, 4.73, 4.5, 3.19),\n",
       "           (0.45, 68.6, 57., 756, 4.73, 4.5, 3.19),\n",
       "           (0.45, 68.6, 57., 756, 4.73, 4.5, 3.19),\n",
       "           (0.45, 68.6, 57., 756, 4.73, 4.5, 3.19)],\n",
       "          dtype=[('carat', '<f8'), ('depth', '<f8'), ('table', '<f8'), ('price', '<i8'), ('x', '<f8'), ('y', '<f8'), ('z', '<f8')])"
      ]
     },
     "execution_count": 51,
     "metadata": {},
     "output_type": "execute_result"
    }
   ],
   "source": [
    "res"
   ]
  },
  {
   "cell_type": "code",
   "execution_count": 52,
   "id": "73de3166-eb10-47b2-9225-438b8bf102b4",
   "metadata": {
    "collapsed": true,
    "jupyter": {
     "outputs_hidden": true
    },
    "tags": []
   },
   "outputs": [
    {
     "data": {
      "text/html": [
       "<div>\n",
       "<style scoped>\n",
       "    .dataframe tbody tr th:only-of-type {\n",
       "        vertical-align: middle;\n",
       "    }\n",
       "\n",
       "    .dataframe tbody tr th {\n",
       "        vertical-align: top;\n",
       "    }\n",
       "\n",
       "    .dataframe thead th {\n",
       "        text-align: right;\n",
       "    }\n",
       "</style>\n",
       "<table border=\"1\" class=\"dataframe\">\n",
       "  <thead>\n",
       "    <tr style=\"text-align: right;\">\n",
       "      <th></th>\n",
       "      <th>carat</th>\n",
       "      <th>depth</th>\n",
       "      <th>table</th>\n",
       "      <th>price</th>\n",
       "      <th>x</th>\n",
       "      <th>y</th>\n",
       "      <th>z</th>\n",
       "    </tr>\n",
       "  </thead>\n",
       "  <tbody>\n",
       "    <tr>\n",
       "      <th>6341</th>\n",
       "      <td>1.00</td>\n",
       "      <td>44.0</td>\n",
       "      <td>53.0</td>\n",
       "      <td>4032</td>\n",
       "      <td>6.31</td>\n",
       "      <td>6.24</td>\n",
       "      <td>4.12</td>\n",
       "    </tr>\n",
       "    <tr>\n",
       "      <th>10377</th>\n",
       "      <td>1.09</td>\n",
       "      <td>43.0</td>\n",
       "      <td>54.0</td>\n",
       "      <td>4778</td>\n",
       "      <td>6.53</td>\n",
       "      <td>6.55</td>\n",
       "      <td>4.12</td>\n",
       "    </tr>\n",
       "    <tr>\n",
       "      <th>24067</th>\n",
       "      <td>2.00</td>\n",
       "      <td>58.9</td>\n",
       "      <td>57.0</td>\n",
       "      <td>12210</td>\n",
       "      <td>8.09</td>\n",
       "      <td>58.90</td>\n",
       "      <td>8.06</td>\n",
       "    </tr>\n",
       "    <tr>\n",
       "      <th>31230</th>\n",
       "      <td>0.45</td>\n",
       "      <td>68.6</td>\n",
       "      <td>57.0</td>\n",
       "      <td>756</td>\n",
       "      <td>4.73</td>\n",
       "      <td>4.50</td>\n",
       "      <td>3.19</td>\n",
       "    </tr>\n",
       "    <tr>\n",
       "      <th>35633</th>\n",
       "      <td>0.29</td>\n",
       "      <td>62.8</td>\n",
       "      <td>44.0</td>\n",
       "      <td>474</td>\n",
       "      <td>4.20</td>\n",
       "      <td>4.24</td>\n",
       "      <td>2.65</td>\n",
       "    </tr>\n",
       "    <tr>\n",
       "      <th>36503</th>\n",
       "      <td>0.30</td>\n",
       "      <td>51.0</td>\n",
       "      <td>67.0</td>\n",
       "      <td>945</td>\n",
       "      <td>4.67</td>\n",
       "      <td>4.62</td>\n",
       "      <td>2.37</td>\n",
       "    </tr>\n",
       "    <tr>\n",
       "      <th>38840</th>\n",
       "      <td>0.73</td>\n",
       "      <td>70.8</td>\n",
       "      <td>55.0</td>\n",
       "      <td>1049</td>\n",
       "      <td>5.51</td>\n",
       "      <td>5.34</td>\n",
       "      <td>3.84</td>\n",
       "    </tr>\n",
       "    <tr>\n",
       "      <th>41918</th>\n",
       "      <td>1.03</td>\n",
       "      <td>78.2</td>\n",
       "      <td>54.0</td>\n",
       "      <td>1262</td>\n",
       "      <td>5.72</td>\n",
       "      <td>5.59</td>\n",
       "      <td>4.42</td>\n",
       "    </tr>\n",
       "    <tr>\n",
       "      <th>45688</th>\n",
       "      <td>0.70</td>\n",
       "      <td>71.6</td>\n",
       "      <td>55.0</td>\n",
       "      <td>1696</td>\n",
       "      <td>5.47</td>\n",
       "      <td>5.28</td>\n",
       "      <td>3.85</td>\n",
       "    </tr>\n",
       "    <tr>\n",
       "      <th>48410</th>\n",
       "      <td>0.51</td>\n",
       "      <td>61.8</td>\n",
       "      <td>54.7</td>\n",
       "      <td>1970</td>\n",
       "      <td>5.12</td>\n",
       "      <td>5.15</td>\n",
       "      <td>31.80</td>\n",
       "    </tr>\n",
       "    <tr>\n",
       "      <th>49189</th>\n",
       "      <td>0.51</td>\n",
       "      <td>61.8</td>\n",
       "      <td>55.0</td>\n",
       "      <td>2075</td>\n",
       "      <td>5.15</td>\n",
       "      <td>31.80</td>\n",
       "      <td>5.12</td>\n",
       "    </tr>\n",
       "    <tr>\n",
       "      <th>50773</th>\n",
       "      <td>0.81</td>\n",
       "      <td>68.8</td>\n",
       "      <td>79.0</td>\n",
       "      <td>2301</td>\n",
       "      <td>5.26</td>\n",
       "      <td>5.20</td>\n",
       "      <td>3.58</td>\n",
       "    </tr>\n",
       "    <tr>\n",
       "      <th>52860</th>\n",
       "      <td>0.50</td>\n",
       "      <td>79.0</td>\n",
       "      <td>73.0</td>\n",
       "      <td>2579</td>\n",
       "      <td>5.21</td>\n",
       "      <td>5.18</td>\n",
       "      <td>4.09</td>\n",
       "    </tr>\n",
       "    <tr>\n",
       "      <th>52861</th>\n",
       "      <td>0.50</td>\n",
       "      <td>79.0</td>\n",
       "      <td>73.0</td>\n",
       "      <td>2579</td>\n",
       "      <td>5.21</td>\n",
       "      <td>5.18</td>\n",
       "      <td>4.09</td>\n",
       "    </tr>\n",
       "  </tbody>\n",
       "</table>\n",
       "</div>"
      ],
      "text/plain": [
       "       carat  depth  table  price     x      y      z\n",
       "6341    1.00   44.0   53.0   4032  6.31   6.24   4.12\n",
       "10377   1.09   43.0   54.0   4778  6.53   6.55   4.12\n",
       "24067   2.00   58.9   57.0  12210  8.09  58.90   8.06\n",
       "31230   0.45   68.6   57.0    756  4.73   4.50   3.19\n",
       "35633   0.29   62.8   44.0    474  4.20   4.24   2.65\n",
       "36503   0.30   51.0   67.0    945  4.67   4.62   2.37\n",
       "38840   0.73   70.8   55.0   1049  5.51   5.34   3.84\n",
       "41918   1.03   78.2   54.0   1262  5.72   5.59   4.42\n",
       "45688   0.70   71.6   55.0   1696  5.47   5.28   3.85\n",
       "48410   0.51   61.8   54.7   1970  5.12   5.15  31.80\n",
       "49189   0.51   61.8   55.0   2075  5.15  31.80   5.12\n",
       "50773   0.81   68.8   79.0   2301  5.26   5.20   3.58\n",
       "52860   0.50   79.0   73.0   2579  5.21   5.18   4.09\n",
       "52861   0.50   79.0   73.0   2579  5.21   5.18   4.09"
      ]
     },
     "execution_count": 52,
     "metadata": {},
     "output_type": "execute_result"
    }
   ],
   "source": [
    "df[~aykiri_tf]"
   ]
  },
  {
   "cell_type": "code",
   "execution_count": 53,
   "id": "7dba5020-d603-4578-bdb1-dc515b7c0203",
   "metadata": {
    "tags": []
   },
   "outputs": [],
   "source": [
    "df[~aykiri_tf] = pd.DataFrame(res, index= df[~aykiri_tf].index)"
   ]
  },
  {
   "cell_type": "code",
   "execution_count": 54,
   "id": "850cf3dc-1a06-461d-948f-33f1f522407b",
   "metadata": {
    "collapsed": true,
    "jupyter": {
     "outputs_hidden": true
    },
    "tags": []
   },
   "outputs": [
    {
     "data": {
      "text/html": [
       "<div>\n",
       "<style scoped>\n",
       "    .dataframe tbody tr th:only-of-type {\n",
       "        vertical-align: middle;\n",
       "    }\n",
       "\n",
       "    .dataframe tbody tr th {\n",
       "        vertical-align: top;\n",
       "    }\n",
       "\n",
       "    .dataframe thead th {\n",
       "        text-align: right;\n",
       "    }\n",
       "</style>\n",
       "<table border=\"1\" class=\"dataframe\">\n",
       "  <thead>\n",
       "    <tr style=\"text-align: right;\">\n",
       "      <th></th>\n",
       "      <th>carat</th>\n",
       "      <th>depth</th>\n",
       "      <th>table</th>\n",
       "      <th>price</th>\n",
       "      <th>x</th>\n",
       "      <th>y</th>\n",
       "      <th>z</th>\n",
       "    </tr>\n",
       "  </thead>\n",
       "  <tbody>\n",
       "    <tr>\n",
       "      <th>6341</th>\n",
       "      <td>0.45</td>\n",
       "      <td>68.6</td>\n",
       "      <td>57.0</td>\n",
       "      <td>756</td>\n",
       "      <td>4.73</td>\n",
       "      <td>4.5</td>\n",
       "      <td>3.19</td>\n",
       "    </tr>\n",
       "    <tr>\n",
       "      <th>10377</th>\n",
       "      <td>0.45</td>\n",
       "      <td>68.6</td>\n",
       "      <td>57.0</td>\n",
       "      <td>756</td>\n",
       "      <td>4.73</td>\n",
       "      <td>4.5</td>\n",
       "      <td>3.19</td>\n",
       "    </tr>\n",
       "    <tr>\n",
       "      <th>24067</th>\n",
       "      <td>0.45</td>\n",
       "      <td>68.6</td>\n",
       "      <td>57.0</td>\n",
       "      <td>756</td>\n",
       "      <td>4.73</td>\n",
       "      <td>4.5</td>\n",
       "      <td>3.19</td>\n",
       "    </tr>\n",
       "    <tr>\n",
       "      <th>31230</th>\n",
       "      <td>0.45</td>\n",
       "      <td>68.6</td>\n",
       "      <td>57.0</td>\n",
       "      <td>756</td>\n",
       "      <td>4.73</td>\n",
       "      <td>4.5</td>\n",
       "      <td>3.19</td>\n",
       "    </tr>\n",
       "    <tr>\n",
       "      <th>35633</th>\n",
       "      <td>0.45</td>\n",
       "      <td>68.6</td>\n",
       "      <td>57.0</td>\n",
       "      <td>756</td>\n",
       "      <td>4.73</td>\n",
       "      <td>4.5</td>\n",
       "      <td>3.19</td>\n",
       "    </tr>\n",
       "    <tr>\n",
       "      <th>36503</th>\n",
       "      <td>0.45</td>\n",
       "      <td>68.6</td>\n",
       "      <td>57.0</td>\n",
       "      <td>756</td>\n",
       "      <td>4.73</td>\n",
       "      <td>4.5</td>\n",
       "      <td>3.19</td>\n",
       "    </tr>\n",
       "    <tr>\n",
       "      <th>38840</th>\n",
       "      <td>0.45</td>\n",
       "      <td>68.6</td>\n",
       "      <td>57.0</td>\n",
       "      <td>756</td>\n",
       "      <td>4.73</td>\n",
       "      <td>4.5</td>\n",
       "      <td>3.19</td>\n",
       "    </tr>\n",
       "    <tr>\n",
       "      <th>41918</th>\n",
       "      <td>0.45</td>\n",
       "      <td>68.6</td>\n",
       "      <td>57.0</td>\n",
       "      <td>756</td>\n",
       "      <td>4.73</td>\n",
       "      <td>4.5</td>\n",
       "      <td>3.19</td>\n",
       "    </tr>\n",
       "    <tr>\n",
       "      <th>45688</th>\n",
       "      <td>0.45</td>\n",
       "      <td>68.6</td>\n",
       "      <td>57.0</td>\n",
       "      <td>756</td>\n",
       "      <td>4.73</td>\n",
       "      <td>4.5</td>\n",
       "      <td>3.19</td>\n",
       "    </tr>\n",
       "    <tr>\n",
       "      <th>48410</th>\n",
       "      <td>0.45</td>\n",
       "      <td>68.6</td>\n",
       "      <td>57.0</td>\n",
       "      <td>756</td>\n",
       "      <td>4.73</td>\n",
       "      <td>4.5</td>\n",
       "      <td>3.19</td>\n",
       "    </tr>\n",
       "    <tr>\n",
       "      <th>49189</th>\n",
       "      <td>0.45</td>\n",
       "      <td>68.6</td>\n",
       "      <td>57.0</td>\n",
       "      <td>756</td>\n",
       "      <td>4.73</td>\n",
       "      <td>4.5</td>\n",
       "      <td>3.19</td>\n",
       "    </tr>\n",
       "    <tr>\n",
       "      <th>50773</th>\n",
       "      <td>0.45</td>\n",
       "      <td>68.6</td>\n",
       "      <td>57.0</td>\n",
       "      <td>756</td>\n",
       "      <td>4.73</td>\n",
       "      <td>4.5</td>\n",
       "      <td>3.19</td>\n",
       "    </tr>\n",
       "    <tr>\n",
       "      <th>52860</th>\n",
       "      <td>0.45</td>\n",
       "      <td>68.6</td>\n",
       "      <td>57.0</td>\n",
       "      <td>756</td>\n",
       "      <td>4.73</td>\n",
       "      <td>4.5</td>\n",
       "      <td>3.19</td>\n",
       "    </tr>\n",
       "    <tr>\n",
       "      <th>52861</th>\n",
       "      <td>0.45</td>\n",
       "      <td>68.6</td>\n",
       "      <td>57.0</td>\n",
       "      <td>756</td>\n",
       "      <td>4.73</td>\n",
       "      <td>4.5</td>\n",
       "      <td>3.19</td>\n",
       "    </tr>\n",
       "  </tbody>\n",
       "</table>\n",
       "</div>"
      ],
      "text/plain": [
       "       carat  depth  table  price     x    y     z\n",
       "6341    0.45   68.6   57.0    756  4.73  4.5  3.19\n",
       "10377   0.45   68.6   57.0    756  4.73  4.5  3.19\n",
       "24067   0.45   68.6   57.0    756  4.73  4.5  3.19\n",
       "31230   0.45   68.6   57.0    756  4.73  4.5  3.19\n",
       "35633   0.45   68.6   57.0    756  4.73  4.5  3.19\n",
       "36503   0.45   68.6   57.0    756  4.73  4.5  3.19\n",
       "38840   0.45   68.6   57.0    756  4.73  4.5  3.19\n",
       "41918   0.45   68.6   57.0    756  4.73  4.5  3.19\n",
       "45688   0.45   68.6   57.0    756  4.73  4.5  3.19\n",
       "48410   0.45   68.6   57.0    756  4.73  4.5  3.19\n",
       "49189   0.45   68.6   57.0    756  4.73  4.5  3.19\n",
       "50773   0.45   68.6   57.0    756  4.73  4.5  3.19\n",
       "52860   0.45   68.6   57.0    756  4.73  4.5  3.19\n",
       "52861   0.45   68.6   57.0    756  4.73  4.5  3.19"
      ]
     },
     "execution_count": 54,
     "metadata": {},
     "output_type": "execute_result"
    }
   ],
   "source": [
    "df[~aykiri_tf]"
   ]
  },
  {
   "cell_type": "markdown",
   "id": "34d04cab-dc98-4821-a474-ef4806c2781f",
   "metadata": {},
   "source": []
  }
 ],
 "metadata": {
  "kernelspec": {
   "display_name": "Python 3 (ipykernel)",
   "language": "python",
   "name": "python3"
  },
  "language_info": {
   "codemirror_mode": {
    "name": "ipython",
    "version": 3
   },
   "file_extension": ".py",
   "mimetype": "text/x-python",
   "name": "python",
   "nbconvert_exporter": "python",
   "pygments_lexer": "ipython3",
   "version": "3.11.4"
  }
 },
 "nbformat": 4,
 "nbformat_minor": 5
}
