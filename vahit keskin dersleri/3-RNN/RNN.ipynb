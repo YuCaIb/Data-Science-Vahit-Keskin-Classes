{
 "cells": [
  {
   "cell_type": "markdown",
   "id": "ead445c7-7c12-429a-a99c-a5872cb52825",
   "metadata": {},
   "source": [
    "# Öz Yinelemeli Sinir Ağları giriş\n",
    "* Öz yinelemeli sinir ağlarına giriş\n",
    "* İleriye yayılım\n",
    "* Zaman içinde geriye yayılım (BPTT)\n",
    "* Uzun Kısa Süreli Bellek (LSTM)"
   ]
  },
  {
   "cell_type": "markdown",
   "id": "1f7b60cd-0803-4608-beae-be7971bf4073",
   "metadata": {
    "jp-MarkdownHeadingCollapsed": true,
    "tags": []
   },
   "source": [
    "b# Öz yinelemeli sinir ağlarına (Recurrent Neural Networks)\n",
    "* RNN dizi şeklinde ki veriler için çalışmak üzere tasarlanmış özel bir yapay sinir ağı türüdür.\n",
    "* dizi şeklinde ki veriler ; zaman serisi verisi, doğal dil işleme, t anında ki bir veri kendisinden önceki gözlemlerden etkilenmetedir.\n",
    "* bir hisse senedinin yarın ki değerini tahmin etmek istediğimizde, bugün, dün ve dünden önceki günki değerlerini değerlendirmemiz gerekmektedir. Gelecek ile ilgili yapılacak olan tahminler geçmişten etkilenmektedir.\n",
    "* mesela bir doğal dil işlemede, bir cümle kendisidnden önceki cümleden ve bir kelime de kendinden önceki bir kelimeden etkilenmektedir.\n",
    "* kendinden önceki verilerden etkileniyorsa RNN yöntemi kullanılabilmekte..\n",
    "* Klasik ileri beslemeli yapay sinir ağ modelleri, birbirinden bağımsız veri noktaları içerirken. RNN birbirine bağlı veri noktaları içermektedir.\n",
    "+ Peki nası\n",
    "* RNN'ler dizinin bir sonraki çıktısını oluşturmak için önceki girdilerin durumlarını, bilgilerini saklamaya yardımcı olan bellek kavramı ile çalışır.\n",
    "+ RNN geçmiş bilgi tutma özelliğinden dolayı dizi şeklindeki verilerde kullanılmaktadır.\n",
    "---\n",
    "* $ a_1 = g(a_0W_{aa}+X_1W_{ax}+b_a)$  \n",
    "* $ a_2 = g(a_1(W_{aa})+X_2 W_{ax}+b_a)$\n",
    "* $y_1 = g(W_{ya}a_1 + b_y)$\n",
    "...\n",
    "\n",
    "----\n",
    "* $a_0$ 0 lardan oluşan bir vektör, bazı işlemlere tabi olduktan sonra ağırlıklar değişecek, ve bu yeni değerleri (y_1 çıktısını değil bu yeni değerleri) 2. işlem için vektör olarak vereceğiz, durum bilgisi, geçmişten gelen bilgi bu oluyor. ve $a_1$ olarak adlandırıyoruz.............\n",
    "---\n"
   ]
  },
  {
   "cell_type": "markdown",
   "id": "3c4ab76d-dfbc-4a78-8505-539e9993c8fe",
   "metadata": {},
   "source": [
    "![alt text](RNN.png \"Title\")\n"
   ]
  },
  {
   "cell_type": "markdown",
   "id": "bc27ab6c-4901-46b9-87ca-b845b276e391",
   "metadata": {},
   "source": [
    "# ileri yayılım\n",
    "*  Loss'u elde ettik.."
   ]
  },
  {
   "cell_type": "markdown",
   "id": "44ea8ef3-c968-47b0-9a65-f336b089334d",
   "metadata": {},
   "source": [
    "# BPTT (Zaman içinde Geriye Yayılım)\n",
    "* back"
   ]
  },
  {
   "cell_type": "code",
   "execution_count": null,
   "id": "2590b5d7-495b-462e-a1de-78e440f7058d",
   "metadata": {},
   "outputs": [],
   "source": []
  }
 ],
 "metadata": {
  "kernelspec": {
   "display_name": "Python 3 (ipykernel)",
   "language": "python",
   "name": "python3"
  },
  "language_info": {
   "codemirror_mode": {
    "name": "ipython",
    "version": 3
   },
   "file_extension": ".py",
   "mimetype": "text/x-python",
   "name": "python",
   "nbconvert_exporter": "python",
   "pygments_lexer": "ipython3",
   "version": "3.11.4"
  }
 },
 "nbformat": 4,
 "nbformat_minor": 5
}
