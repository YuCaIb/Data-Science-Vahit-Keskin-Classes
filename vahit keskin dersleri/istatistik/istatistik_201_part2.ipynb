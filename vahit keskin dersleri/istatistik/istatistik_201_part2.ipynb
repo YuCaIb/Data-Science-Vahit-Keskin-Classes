{
 "cells": [
  {
   "cell_type": "markdown",
   "id": "7a286b0d-31fc-4451-a61d-b33cf5c2c72f",
   "metadata": {},
   "source": [
    "# Bağımlı İki Örneklem T Testi\n",
    "* Bağımlı iki gurup ortalaması arasında karşılaştırma yapılmak istenildiğinde kullanılır."
   ]
  },
  {
   "cell_type": "markdown",
   "id": "5e8dcf11-3a84-40f8-9972-b151d06d1adb",
   "metadata": {},
   "source": [
    "### Hipotzeler:\n",
    "* $H_0: \\mu_o = \\mu_s$\n",
    "* $H_1: \\mu_o \\neq \\mu_s$\n",
    "\n",
    "-------------------\n",
    "* $H_0: \\mu_o <= \\mu_s$\n",
    "* $H_1: \\mu_o > \\mu_s$\n",
    "----------------\n",
    "* $H_0: \\mu_o >= \\mu_s$\n",
    "* $H_1: \\mu_o < \\mu_s$\n",
    "---------------------\n",
    "### $t = \\frac{\\bar{x}_D - \\mu_0}{\\frac{S_D}{\\sqrt{n}}}$\n",
    "-----------------------------------\n",
    "### Varsayımlar:\n",
    "* Normallik\n",
    "* Varyans Homojenliği "
   ]
  },
  {
   "cell_type": "markdown",
   "id": "f08599c7-7f54-456f-85f7-4c19588db50e",
   "metadata": {},
   "source": [
    "## İş uygulaması: Şirket içi Eğitimin Performans Etkisi Ölçümü\n",
    "### Problem: Belirli uğraşlar sonucunda alınan bir eğitimin katma değer sağlayıp sağlamadığı ölçülmek isteniyor.\n",
    "### Detaylar :\n",
    "* Bir departman bir konuda eğitim talep ediyor.\n",
    "* Gerekli/Gereksiz değerlendirmeleri neticesinde eğitim alınıyor.\n",
    "* Eğitimden önce ve sonra olacak şekilde gerekli ölçümler yapılıyor.\n",
    "* Eğitim sonrasında eğitimin sağladığı katma değer test edilmek isteniyor."
   ]
  },
  {
   "cell_type": "markdown",
   "id": "78e540bb-2b05-4870-af25-2315b5bec6db",
   "metadata": {},
   "source": [
    "* $H_0: \\mu_o = \\mu_s$\n",
    "* $H_1: \\mu_o \\neq \\mu_s$"
   ]
  },
  {
   "cell_type": "code",
   "execution_count": 31,
   "id": "e5618637-60c1-4556-9831-97380bda4e07",
   "metadata": {
    "tags": []
   },
   "outputs": [],
   "source": [
    "import pandas as pd\n",
    "import numpy as np\n",
    "import seaborn as sns"
   ]
  },
  {
   "cell_type": "code",
   "execution_count": 40,
   "id": "5a3b2d4d-2c1d-41ef-a6d1-1e7913ab745b",
   "metadata": {
    "tags": []
   },
   "outputs": [],
   "source": [
    "oncesi = pd.DataFrame([123, 119, 116, 123, 123, 121, 120, 117, 118, 121, 121, 123, 119,\n",
    "121, 118, 124, 121, 125, 115, 115, 119, 118, 121, 117, 117, 120, 120,\n",
    "121, 117, 118, 117, 123, 118, 124, 121, 115, 118, 125, 115])\n",
    "sonrasi = pd.DataFrame([118, 127, 122,\n",
    "129, 123, 129, 132, 128, 130, 128, 138, 140, 130,\n",
    "134, 134, 124, 140, 134, 129, 129, 138, 134, 124, 122, 126, 133, 127,\n",
    "130, 130, 130, 132, 117, 130, 125, 129, 133, 120,127,123])"
   ]
  },
  {
   "cell_type": "code",
   "execution_count": 41,
   "id": "8784e311-ffb3-4134-b58e-8d4213907aaa",
   "metadata": {
    "tags": []
   },
   "outputs": [
    {
     "data": {
      "text/html": [
       "<div>\n",
       "<style scoped>\n",
       "    .dataframe tbody tr th:only-of-type {\n",
       "        vertical-align: middle;\n",
       "    }\n",
       "\n",
       "    .dataframe tbody tr th {\n",
       "        vertical-align: top;\n",
       "    }\n",
       "\n",
       "    .dataframe thead th {\n",
       "        text-align: right;\n",
       "    }\n",
       "</style>\n",
       "<table border=\"1\" class=\"dataframe\">\n",
       "  <thead>\n",
       "    <tr style=\"text-align: right;\">\n",
       "      <th></th>\n",
       "      <th>count</th>\n",
       "      <th>mean</th>\n",
       "      <th>std</th>\n",
       "      <th>min</th>\n",
       "      <th>25%</th>\n",
       "      <th>50%</th>\n",
       "      <th>75%</th>\n",
       "      <th>max</th>\n",
       "    </tr>\n",
       "  </thead>\n",
       "  <tbody>\n",
       "    <tr>\n",
       "      <th>0</th>\n",
       "      <td>39.0</td>\n",
       "      <td>128.923077</td>\n",
       "      <td>5.536409</td>\n",
       "      <td>117.0</td>\n",
       "      <td>125.5</td>\n",
       "      <td>129.0</td>\n",
       "      <td>132.5</td>\n",
       "      <td>140.0</td>\n",
       "    </tr>\n",
       "  </tbody>\n",
       "</table>\n",
       "</div>"
      ],
      "text/plain": [
       "   count        mean       std    min    25%    50%    75%    max\n",
       "0   39.0  128.923077  5.536409  117.0  125.5  129.0  132.5  140.0"
      ]
     },
     "execution_count": 41,
     "metadata": {},
     "output_type": "execute_result"
    }
   ],
   "source": [
    "sonrasi.describe().T"
   ]
  },
  {
   "cell_type": "code",
   "execution_count": 42,
   "id": "f6d36ab2-abe2-438c-a2ef-7447c6e2639f",
   "metadata": {
    "tags": []
   },
   "outputs": [
    {
     "data": {
      "text/html": [
       "<div>\n",
       "<style scoped>\n",
       "    .dataframe tbody tr th:only-of-type {\n",
       "        vertical-align: middle;\n",
       "    }\n",
       "\n",
       "    .dataframe tbody tr th {\n",
       "        vertical-align: top;\n",
       "    }\n",
       "\n",
       "    .dataframe thead th {\n",
       "        text-align: right;\n",
       "    }\n",
       "</style>\n",
       "<table border=\"1\" class=\"dataframe\">\n",
       "  <thead>\n",
       "    <tr style=\"text-align: right;\">\n",
       "      <th></th>\n",
       "      <th>count</th>\n",
       "      <th>mean</th>\n",
       "      <th>std</th>\n",
       "      <th>min</th>\n",
       "      <th>25%</th>\n",
       "      <th>50%</th>\n",
       "      <th>75%</th>\n",
       "      <th>max</th>\n",
       "    </tr>\n",
       "  </thead>\n",
       "  <tbody>\n",
       "    <tr>\n",
       "      <th>0</th>\n",
       "      <td>39.0</td>\n",
       "      <td>119.666667</td>\n",
       "      <td>2.895853</td>\n",
       "      <td>115.0</td>\n",
       "      <td>117.5</td>\n",
       "      <td>120.0</td>\n",
       "      <td>121.0</td>\n",
       "      <td>125.0</td>\n",
       "    </tr>\n",
       "  </tbody>\n",
       "</table>\n",
       "</div>"
      ],
      "text/plain": [
       "   count        mean       std    min    25%    50%    75%    max\n",
       "0   39.0  119.666667  2.895853  115.0  117.5  120.0  121.0  125.0"
      ]
     },
     "execution_count": 42,
     "metadata": {},
     "output_type": "execute_result"
    }
   ],
   "source": [
    "oncesi.describe().T"
   ]
  },
  {
   "cell_type": "code",
   "execution_count": 43,
   "id": "a8fa3acf-d9ed-4718-9704-c26216ff3a6f",
   "metadata": {
    "tags": []
   },
   "outputs": [],
   "source": [
    "# Birinci veri seti\n",
    "AYRIK = pd.concat([oncesi,sonrasi], axis = 1 )"
   ]
  },
  {
   "cell_type": "code",
   "execution_count": 44,
   "id": "1281f078-6e33-452c-9a05-ac122cf3c670",
   "metadata": {
    "tags": []
   },
   "outputs": [
    {
     "data": {
      "text/html": [
       "<div>\n",
       "<style scoped>\n",
       "    .dataframe tbody tr th:only-of-type {\n",
       "        vertical-align: middle;\n",
       "    }\n",
       "\n",
       "    .dataframe tbody tr th {\n",
       "        vertical-align: top;\n",
       "    }\n",
       "\n",
       "    .dataframe thead th {\n",
       "        text-align: right;\n",
       "    }\n",
       "</style>\n",
       "<table border=\"1\" class=\"dataframe\">\n",
       "  <thead>\n",
       "    <tr style=\"text-align: right;\">\n",
       "      <th></th>\n",
       "      <th>ONCESI</th>\n",
       "      <th>SONRASI</th>\n",
       "    </tr>\n",
       "  </thead>\n",
       "  <tbody>\n",
       "    <tr>\n",
       "      <th>0</th>\n",
       "      <td>123</td>\n",
       "      <td>118</td>\n",
       "    </tr>\n",
       "    <tr>\n",
       "      <th>1</th>\n",
       "      <td>119</td>\n",
       "      <td>127</td>\n",
       "    </tr>\n",
       "    <tr>\n",
       "      <th>2</th>\n",
       "      <td>116</td>\n",
       "      <td>122</td>\n",
       "    </tr>\n",
       "    <tr>\n",
       "      <th>3</th>\n",
       "      <td>123</td>\n",
       "      <td>129</td>\n",
       "    </tr>\n",
       "    <tr>\n",
       "      <th>4</th>\n",
       "      <td>123</td>\n",
       "      <td>123</td>\n",
       "    </tr>\n",
       "  </tbody>\n",
       "</table>\n",
       "</div>"
      ],
      "text/plain": [
       "   ONCESI  SONRASI\n",
       "0     123      118\n",
       "1     119      127\n",
       "2     116      122\n",
       "3     123      129\n",
       "4     123      123"
      ]
     },
     "execution_count": 44,
     "metadata": {},
     "output_type": "execute_result"
    }
   ],
   "source": [
    "AYRIK.columns = ['ONCESI','SONRASI']\n",
    "AYRIK.head()"
   ]
  },
  {
   "cell_type": "code",
   "execution_count": 45,
   "id": "2a01aed5-d385-40ed-9d56-d3d2a13f4cd6",
   "metadata": {
    "tags": []
   },
   "outputs": [],
   "source": [
    "# İkinci veri seti\n",
    "# Öncesi Flag/Tag'ını oluşturma\n",
    "GRUP_ONCESI= np.arange(len(oncesi))\n",
    "GRUP_ONCESI = pd.DataFrame(GRUP_ONCESI)\n",
    "GRUP_ONCESI[:] ='ONCESI'"
   ]
  },
  {
   "cell_type": "code",
   "execution_count": 46,
   "id": "63ff78e7-8d28-48bb-ac29-91e4a3ccf47a",
   "metadata": {
    "tags": []
   },
   "outputs": [],
   "source": [
    "# Flag ve öncesi değerlerini bir araya getirme\n",
    "A= pd.concat([oncesi,GRUP_ONCESI],axis=1)"
   ]
  },
  {
   "cell_type": "code",
   "execution_count": 47,
   "id": "383e5604-300c-49d0-8c58-0e484d0e28d0",
   "metadata": {
    "tags": []
   },
   "outputs": [],
   "source": [
    "# SONRASI FLAG/TAG oluşturma\n",
    "GRUP_SONRASI = np.arange(len(sonrasi))\n",
    "GRUP_SONRASI= pd.DataFrame(GRUP_SONRASI)\n",
    "GRUP_SONRASI[:]='SONRASI'"
   ]
  },
  {
   "cell_type": "code",
   "execution_count": 48,
   "id": "bc327b75-2262-4f67-849e-96d03d6c3024",
   "metadata": {
    "collapsed": true,
    "jupyter": {
     "outputs_hidden": true
    },
    "tags": []
   },
   "outputs": [
    {
     "data": {
      "text/html": [
       "<div>\n",
       "<style scoped>\n",
       "    .dataframe tbody tr th:only-of-type {\n",
       "        vertical-align: middle;\n",
       "    }\n",
       "\n",
       "    .dataframe tbody tr th {\n",
       "        vertical-align: top;\n",
       "    }\n",
       "\n",
       "    .dataframe thead th {\n",
       "        text-align: right;\n",
       "    }\n",
       "</style>\n",
       "<table border=\"1\" class=\"dataframe\">\n",
       "  <thead>\n",
       "    <tr style=\"text-align: right;\">\n",
       "      <th></th>\n",
       "      <th>0</th>\n",
       "    </tr>\n",
       "  </thead>\n",
       "  <tbody>\n",
       "    <tr>\n",
       "      <th>0</th>\n",
       "      <td>SONRASI</td>\n",
       "    </tr>\n",
       "    <tr>\n",
       "      <th>1</th>\n",
       "      <td>SONRASI</td>\n",
       "    </tr>\n",
       "    <tr>\n",
       "      <th>2</th>\n",
       "      <td>SONRASI</td>\n",
       "    </tr>\n",
       "    <tr>\n",
       "      <th>3</th>\n",
       "      <td>SONRASI</td>\n",
       "    </tr>\n",
       "    <tr>\n",
       "      <th>4</th>\n",
       "      <td>SONRASI</td>\n",
       "    </tr>\n",
       "    <tr>\n",
       "      <th>5</th>\n",
       "      <td>SONRASI</td>\n",
       "    </tr>\n",
       "    <tr>\n",
       "      <th>6</th>\n",
       "      <td>SONRASI</td>\n",
       "    </tr>\n",
       "    <tr>\n",
       "      <th>7</th>\n",
       "      <td>SONRASI</td>\n",
       "    </tr>\n",
       "    <tr>\n",
       "      <th>8</th>\n",
       "      <td>SONRASI</td>\n",
       "    </tr>\n",
       "    <tr>\n",
       "      <th>9</th>\n",
       "      <td>SONRASI</td>\n",
       "    </tr>\n",
       "    <tr>\n",
       "      <th>10</th>\n",
       "      <td>SONRASI</td>\n",
       "    </tr>\n",
       "    <tr>\n",
       "      <th>11</th>\n",
       "      <td>SONRASI</td>\n",
       "    </tr>\n",
       "    <tr>\n",
       "      <th>12</th>\n",
       "      <td>SONRASI</td>\n",
       "    </tr>\n",
       "    <tr>\n",
       "      <th>13</th>\n",
       "      <td>SONRASI</td>\n",
       "    </tr>\n",
       "    <tr>\n",
       "      <th>14</th>\n",
       "      <td>SONRASI</td>\n",
       "    </tr>\n",
       "    <tr>\n",
       "      <th>15</th>\n",
       "      <td>SONRASI</td>\n",
       "    </tr>\n",
       "    <tr>\n",
       "      <th>16</th>\n",
       "      <td>SONRASI</td>\n",
       "    </tr>\n",
       "    <tr>\n",
       "      <th>17</th>\n",
       "      <td>SONRASI</td>\n",
       "    </tr>\n",
       "    <tr>\n",
       "      <th>18</th>\n",
       "      <td>SONRASI</td>\n",
       "    </tr>\n",
       "    <tr>\n",
       "      <th>19</th>\n",
       "      <td>SONRASI</td>\n",
       "    </tr>\n",
       "    <tr>\n",
       "      <th>20</th>\n",
       "      <td>SONRASI</td>\n",
       "    </tr>\n",
       "    <tr>\n",
       "      <th>21</th>\n",
       "      <td>SONRASI</td>\n",
       "    </tr>\n",
       "    <tr>\n",
       "      <th>22</th>\n",
       "      <td>SONRASI</td>\n",
       "    </tr>\n",
       "    <tr>\n",
       "      <th>23</th>\n",
       "      <td>SONRASI</td>\n",
       "    </tr>\n",
       "    <tr>\n",
       "      <th>24</th>\n",
       "      <td>SONRASI</td>\n",
       "    </tr>\n",
       "    <tr>\n",
       "      <th>25</th>\n",
       "      <td>SONRASI</td>\n",
       "    </tr>\n",
       "    <tr>\n",
       "      <th>26</th>\n",
       "      <td>SONRASI</td>\n",
       "    </tr>\n",
       "    <tr>\n",
       "      <th>27</th>\n",
       "      <td>SONRASI</td>\n",
       "    </tr>\n",
       "    <tr>\n",
       "      <th>28</th>\n",
       "      <td>SONRASI</td>\n",
       "    </tr>\n",
       "    <tr>\n",
       "      <th>29</th>\n",
       "      <td>SONRASI</td>\n",
       "    </tr>\n",
       "    <tr>\n",
       "      <th>30</th>\n",
       "      <td>SONRASI</td>\n",
       "    </tr>\n",
       "    <tr>\n",
       "      <th>31</th>\n",
       "      <td>SONRASI</td>\n",
       "    </tr>\n",
       "    <tr>\n",
       "      <th>32</th>\n",
       "      <td>SONRASI</td>\n",
       "    </tr>\n",
       "    <tr>\n",
       "      <th>33</th>\n",
       "      <td>SONRASI</td>\n",
       "    </tr>\n",
       "    <tr>\n",
       "      <th>34</th>\n",
       "      <td>SONRASI</td>\n",
       "    </tr>\n",
       "    <tr>\n",
       "      <th>35</th>\n",
       "      <td>SONRASI</td>\n",
       "    </tr>\n",
       "    <tr>\n",
       "      <th>36</th>\n",
       "      <td>SONRASI</td>\n",
       "    </tr>\n",
       "    <tr>\n",
       "      <th>37</th>\n",
       "      <td>SONRASI</td>\n",
       "    </tr>\n",
       "    <tr>\n",
       "      <th>38</th>\n",
       "      <td>SONRASI</td>\n",
       "    </tr>\n",
       "  </tbody>\n",
       "</table>\n",
       "</div>"
      ],
      "text/plain": [
       "          0\n",
       "0   SONRASI\n",
       "1   SONRASI\n",
       "2   SONRASI\n",
       "3   SONRASI\n",
       "4   SONRASI\n",
       "5   SONRASI\n",
       "6   SONRASI\n",
       "7   SONRASI\n",
       "8   SONRASI\n",
       "9   SONRASI\n",
       "10  SONRASI\n",
       "11  SONRASI\n",
       "12  SONRASI\n",
       "13  SONRASI\n",
       "14  SONRASI\n",
       "15  SONRASI\n",
       "16  SONRASI\n",
       "17  SONRASI\n",
       "18  SONRASI\n",
       "19  SONRASI\n",
       "20  SONRASI\n",
       "21  SONRASI\n",
       "22  SONRASI\n",
       "23  SONRASI\n",
       "24  SONRASI\n",
       "25  SONRASI\n",
       "26  SONRASI\n",
       "27  SONRASI\n",
       "28  SONRASI\n",
       "29  SONRASI\n",
       "30  SONRASI\n",
       "31  SONRASI\n",
       "32  SONRASI\n",
       "33  SONRASI\n",
       "34  SONRASI\n",
       "35  SONRASI\n",
       "36  SONRASI\n",
       "37  SONRASI\n",
       "38  SONRASI"
      ]
     },
     "execution_count": 48,
     "metadata": {},
     "output_type": "execute_result"
    }
   ],
   "source": [
    "GRUP_SONRASI"
   ]
  },
  {
   "cell_type": "code",
   "execution_count": 49,
   "id": "feeb16cf-c717-4dc2-87f9-baea1c6a57fe",
   "metadata": {
    "tags": []
   },
   "outputs": [],
   "source": [
    "#Flag ve SONRASI değerlerini bir araya getirme\n",
    "B = pd.concat([sonrasi,GRUP_SONRASI], axis=1)"
   ]
  },
  {
   "cell_type": "code",
   "execution_count": 50,
   "id": "d580c1f0-66fc-4ed7-ac7c-c9258407cb85",
   "metadata": {
    "tags": []
   },
   "outputs": [],
   "source": [
    "#Tüm veriyi bir araya getirme\n",
    "BIRLIKTE = pd.concat([A,B])"
   ]
  },
  {
   "cell_type": "code",
   "execution_count": 51,
   "id": "598de7c5-c44b-46ac-a50a-aba3277d2651",
   "metadata": {
    "collapsed": true,
    "jupyter": {
     "outputs_hidden": true
    },
    "tags": []
   },
   "outputs": [
    {
     "data": {
      "text/html": [
       "<div>\n",
       "<style scoped>\n",
       "    .dataframe tbody tr th:only-of-type {\n",
       "        vertical-align: middle;\n",
       "    }\n",
       "\n",
       "    .dataframe tbody tr th {\n",
       "        vertical-align: top;\n",
       "    }\n",
       "\n",
       "    .dataframe thead th {\n",
       "        text-align: right;\n",
       "    }\n",
       "</style>\n",
       "<table border=\"1\" class=\"dataframe\">\n",
       "  <thead>\n",
       "    <tr style=\"text-align: right;\">\n",
       "      <th></th>\n",
       "      <th>0</th>\n",
       "      <th>0</th>\n",
       "    </tr>\n",
       "  </thead>\n",
       "  <tbody>\n",
       "    <tr>\n",
       "      <th>0</th>\n",
       "      <td>123</td>\n",
       "      <td>ONCESI</td>\n",
       "    </tr>\n",
       "    <tr>\n",
       "      <th>1</th>\n",
       "      <td>119</td>\n",
       "      <td>ONCESI</td>\n",
       "    </tr>\n",
       "    <tr>\n",
       "      <th>2</th>\n",
       "      <td>116</td>\n",
       "      <td>ONCESI</td>\n",
       "    </tr>\n",
       "    <tr>\n",
       "      <th>3</th>\n",
       "      <td>123</td>\n",
       "      <td>ONCESI</td>\n",
       "    </tr>\n",
       "    <tr>\n",
       "      <th>4</th>\n",
       "      <td>123</td>\n",
       "      <td>ONCESI</td>\n",
       "    </tr>\n",
       "    <tr>\n",
       "      <th>...</th>\n",
       "      <td>...</td>\n",
       "      <td>...</td>\n",
       "    </tr>\n",
       "    <tr>\n",
       "      <th>34</th>\n",
       "      <td>129</td>\n",
       "      <td>SONRASI</td>\n",
       "    </tr>\n",
       "    <tr>\n",
       "      <th>35</th>\n",
       "      <td>133</td>\n",
       "      <td>SONRASI</td>\n",
       "    </tr>\n",
       "    <tr>\n",
       "      <th>36</th>\n",
       "      <td>120</td>\n",
       "      <td>SONRASI</td>\n",
       "    </tr>\n",
       "    <tr>\n",
       "      <th>37</th>\n",
       "      <td>127</td>\n",
       "      <td>SONRASI</td>\n",
       "    </tr>\n",
       "    <tr>\n",
       "      <th>38</th>\n",
       "      <td>123</td>\n",
       "      <td>SONRASI</td>\n",
       "    </tr>\n",
       "  </tbody>\n",
       "</table>\n",
       "<p>78 rows × 2 columns</p>\n",
       "</div>"
      ],
      "text/plain": [
       "      0        0\n",
       "0   123   ONCESI\n",
       "1   119   ONCESI\n",
       "2   116   ONCESI\n",
       "3   123   ONCESI\n",
       "4   123   ONCESI\n",
       "..  ...      ...\n",
       "34  129  SONRASI\n",
       "35  133  SONRASI\n",
       "36  120  SONRASI\n",
       "37  127  SONRASI\n",
       "38  123  SONRASI\n",
       "\n",
       "[78 rows x 2 columns]"
      ]
     },
     "execution_count": 51,
     "metadata": {},
     "output_type": "execute_result"
    }
   ],
   "source": [
    "BIRLIKTE"
   ]
  },
  {
   "cell_type": "code",
   "execution_count": 52,
   "id": "ec10b740-6793-478b-8d9a-5808f254167d",
   "metadata": {
    "tags": []
   },
   "outputs": [],
   "source": [
    "## İsimlendirme\n",
    "BIRLIKTE.columns = [\"PERFORMANS\", \"ONCESI_SONRASI\"]"
   ]
  },
  {
   "cell_type": "code",
   "execution_count": 53,
   "id": "62912e22-1d1e-4079-b2c9-93bc678ca585",
   "metadata": {
    "tags": []
   },
   "outputs": [
    {
     "name": "stdout",
     "output_type": "stream",
     "text": [
      "'BIRLIKTE' Veri Seti: \n",
      "\n",
      "    PERFORMANS ONCESI_SONRASI\n",
      "0         123         ONCESI\n",
      "1         119         ONCESI\n",
      "2         116         ONCESI\n",
      "3         123         ONCESI\n",
      "4         123         ONCESI \n",
      "\n"
     ]
    }
   ],
   "source": [
    "print(\"'BIRLIKTE' Veri Seti: \\n\\n\", BIRLIKTE.head(), '\\n')"
   ]
  },
  {
   "cell_type": "code",
   "execution_count": 54,
   "id": "84a746ab-80c4-4098-842a-637b2e949e4d",
   "metadata": {
    "collapsed": true,
    "jupyter": {
     "outputs_hidden": true
    },
    "tags": []
   },
   "outputs": [
    {
     "data": {
      "text/html": [
       "<div>\n",
       "<style scoped>\n",
       "    .dataframe tbody tr th:only-of-type {\n",
       "        vertical-align: middle;\n",
       "    }\n",
       "\n",
       "    .dataframe tbody tr th {\n",
       "        vertical-align: top;\n",
       "    }\n",
       "\n",
       "    .dataframe thead th {\n",
       "        text-align: right;\n",
       "    }\n",
       "</style>\n",
       "<table border=\"1\" class=\"dataframe\">\n",
       "  <thead>\n",
       "    <tr style=\"text-align: right;\">\n",
       "      <th></th>\n",
       "      <th>ONCESI</th>\n",
       "      <th>SONRASI</th>\n",
       "    </tr>\n",
       "  </thead>\n",
       "  <tbody>\n",
       "    <tr>\n",
       "      <th>0</th>\n",
       "      <td>123</td>\n",
       "      <td>118</td>\n",
       "    </tr>\n",
       "    <tr>\n",
       "      <th>1</th>\n",
       "      <td>119</td>\n",
       "      <td>127</td>\n",
       "    </tr>\n",
       "    <tr>\n",
       "      <th>2</th>\n",
       "      <td>116</td>\n",
       "      <td>122</td>\n",
       "    </tr>\n",
       "    <tr>\n",
       "      <th>3</th>\n",
       "      <td>123</td>\n",
       "      <td>129</td>\n",
       "    </tr>\n",
       "    <tr>\n",
       "      <th>4</th>\n",
       "      <td>123</td>\n",
       "      <td>123</td>\n",
       "    </tr>\n",
       "    <tr>\n",
       "      <th>5</th>\n",
       "      <td>121</td>\n",
       "      <td>129</td>\n",
       "    </tr>\n",
       "    <tr>\n",
       "      <th>6</th>\n",
       "      <td>120</td>\n",
       "      <td>132</td>\n",
       "    </tr>\n",
       "    <tr>\n",
       "      <th>7</th>\n",
       "      <td>117</td>\n",
       "      <td>128</td>\n",
       "    </tr>\n",
       "    <tr>\n",
       "      <th>8</th>\n",
       "      <td>118</td>\n",
       "      <td>130</td>\n",
       "    </tr>\n",
       "    <tr>\n",
       "      <th>9</th>\n",
       "      <td>121</td>\n",
       "      <td>128</td>\n",
       "    </tr>\n",
       "    <tr>\n",
       "      <th>10</th>\n",
       "      <td>121</td>\n",
       "      <td>138</td>\n",
       "    </tr>\n",
       "    <tr>\n",
       "      <th>11</th>\n",
       "      <td>123</td>\n",
       "      <td>140</td>\n",
       "    </tr>\n",
       "    <tr>\n",
       "      <th>12</th>\n",
       "      <td>119</td>\n",
       "      <td>130</td>\n",
       "    </tr>\n",
       "    <tr>\n",
       "      <th>13</th>\n",
       "      <td>121</td>\n",
       "      <td>134</td>\n",
       "    </tr>\n",
       "    <tr>\n",
       "      <th>14</th>\n",
       "      <td>118</td>\n",
       "      <td>134</td>\n",
       "    </tr>\n",
       "    <tr>\n",
       "      <th>15</th>\n",
       "      <td>124</td>\n",
       "      <td>124</td>\n",
       "    </tr>\n",
       "    <tr>\n",
       "      <th>16</th>\n",
       "      <td>121</td>\n",
       "      <td>140</td>\n",
       "    </tr>\n",
       "    <tr>\n",
       "      <th>17</th>\n",
       "      <td>125</td>\n",
       "      <td>134</td>\n",
       "    </tr>\n",
       "    <tr>\n",
       "      <th>18</th>\n",
       "      <td>115</td>\n",
       "      <td>129</td>\n",
       "    </tr>\n",
       "    <tr>\n",
       "      <th>19</th>\n",
       "      <td>115</td>\n",
       "      <td>129</td>\n",
       "    </tr>\n",
       "    <tr>\n",
       "      <th>20</th>\n",
       "      <td>119</td>\n",
       "      <td>138</td>\n",
       "    </tr>\n",
       "    <tr>\n",
       "      <th>21</th>\n",
       "      <td>118</td>\n",
       "      <td>134</td>\n",
       "    </tr>\n",
       "    <tr>\n",
       "      <th>22</th>\n",
       "      <td>121</td>\n",
       "      <td>124</td>\n",
       "    </tr>\n",
       "    <tr>\n",
       "      <th>23</th>\n",
       "      <td>117</td>\n",
       "      <td>122</td>\n",
       "    </tr>\n",
       "    <tr>\n",
       "      <th>24</th>\n",
       "      <td>117</td>\n",
       "      <td>126</td>\n",
       "    </tr>\n",
       "    <tr>\n",
       "      <th>25</th>\n",
       "      <td>120</td>\n",
       "      <td>133</td>\n",
       "    </tr>\n",
       "    <tr>\n",
       "      <th>26</th>\n",
       "      <td>120</td>\n",
       "      <td>127</td>\n",
       "    </tr>\n",
       "    <tr>\n",
       "      <th>27</th>\n",
       "      <td>121</td>\n",
       "      <td>130</td>\n",
       "    </tr>\n",
       "    <tr>\n",
       "      <th>28</th>\n",
       "      <td>117</td>\n",
       "      <td>130</td>\n",
       "    </tr>\n",
       "    <tr>\n",
       "      <th>29</th>\n",
       "      <td>118</td>\n",
       "      <td>130</td>\n",
       "    </tr>\n",
       "    <tr>\n",
       "      <th>30</th>\n",
       "      <td>117</td>\n",
       "      <td>132</td>\n",
       "    </tr>\n",
       "    <tr>\n",
       "      <th>31</th>\n",
       "      <td>123</td>\n",
       "      <td>117</td>\n",
       "    </tr>\n",
       "    <tr>\n",
       "      <th>32</th>\n",
       "      <td>118</td>\n",
       "      <td>130</td>\n",
       "    </tr>\n",
       "    <tr>\n",
       "      <th>33</th>\n",
       "      <td>124</td>\n",
       "      <td>125</td>\n",
       "    </tr>\n",
       "    <tr>\n",
       "      <th>34</th>\n",
       "      <td>121</td>\n",
       "      <td>129</td>\n",
       "    </tr>\n",
       "    <tr>\n",
       "      <th>35</th>\n",
       "      <td>115</td>\n",
       "      <td>133</td>\n",
       "    </tr>\n",
       "    <tr>\n",
       "      <th>36</th>\n",
       "      <td>118</td>\n",
       "      <td>120</td>\n",
       "    </tr>\n",
       "    <tr>\n",
       "      <th>37</th>\n",
       "      <td>125</td>\n",
       "      <td>127</td>\n",
       "    </tr>\n",
       "    <tr>\n",
       "      <th>38</th>\n",
       "      <td>115</td>\n",
       "      <td>123</td>\n",
       "    </tr>\n",
       "  </tbody>\n",
       "</table>\n",
       "</div>"
      ],
      "text/plain": [
       "    ONCESI  SONRASI\n",
       "0      123      118\n",
       "1      119      127\n",
       "2      116      122\n",
       "3      123      129\n",
       "4      123      123\n",
       "5      121      129\n",
       "6      120      132\n",
       "7      117      128\n",
       "8      118      130\n",
       "9      121      128\n",
       "10     121      138\n",
       "11     123      140\n",
       "12     119      130\n",
       "13     121      134\n",
       "14     118      134\n",
       "15     124      124\n",
       "16     121      140\n",
       "17     125      134\n",
       "18     115      129\n",
       "19     115      129\n",
       "20     119      138\n",
       "21     118      134\n",
       "22     121      124\n",
       "23     117      122\n",
       "24     117      126\n",
       "25     120      133\n",
       "26     120      127\n",
       "27     121      130\n",
       "28     117      130\n",
       "29     118      130\n",
       "30     117      132\n",
       "31     123      117\n",
       "32     118      130\n",
       "33     124      125\n",
       "34     121      129\n",
       "35     115      133\n",
       "36     118      120\n",
       "37     125      127\n",
       "38     115      123"
      ]
     },
     "execution_count": 54,
     "metadata": {},
     "output_type": "execute_result"
    }
   ],
   "source": [
    "AYRIK"
   ]
  },
  {
   "cell_type": "code",
   "execution_count": 55,
   "id": "09b1d849-34f2-4010-9680-9c1f48388f74",
   "metadata": {
    "tags": []
   },
   "outputs": [
    {
     "data": {
      "text/plain": [
       "<Axes: xlabel='ONCESI_SONRASI', ylabel='PERFORMANS'>"
      ]
     },
     "execution_count": 55,
     "metadata": {},
     "output_type": "execute_result"
    },
    {
     "data": {
      "image/png": "[encoded data removed]",
      "text/plain": [
       "<Figure size 640x480 with 1 Axes>"
      ]
     },
     "metadata": {},
     "output_type": "display_data"
    }
   ],
   "source": [
    "sns.boxplot(x= 'ONCESI_SONRASI', y='PERFORMANS', data=BIRLIKTE)"
   ]
  },
  {
   "cell_type": "markdown",
   "id": "42eab89d-99c5-4726-90f1-f8f26e3a83d2",
   "metadata": {},
   "source": [
    "## Varsayım kontrolleri; Bağımlı iki örneklem t testinin varsayımları\n",
    "* normallik(çok benzer olması da yeterli)\n",
    "* varyans homojenliği"
   ]
  },
  {
   "cell_type": "code",
   "execution_count": 56,
   "id": "239fb888-a9fe-4cd5-8426-de6205932b26",
   "metadata": {
    "tags": []
   },
   "outputs": [],
   "source": [
    "from scipy.stats import shapiro"
   ]
  },
  {
   "cell_type": "code",
   "execution_count": 57,
   "id": "a7bd37bf-77c4-46f8-8256-d6b99a4807d6",
   "metadata": {
    "tags": []
   },
   "outputs": [
    {
     "data": {
      "text/plain": [
       "ShapiroResult(statistic=0.951807975769043, pvalue=0.09455567598342896)"
      ]
     },
     "execution_count": 57,
     "metadata": {},
     "output_type": "execute_result"
    }
   ],
   "source": [
    "shapiro(AYRIK.ONCESI) ## p-val 0.05 den küşçük değil, H0 hipotezi red edilemiyor, yani dağılım normal."
   ]
  },
  {
   "cell_type": "code",
   "execution_count": 59,
   "id": "c05f6add-4b2a-42d8-9ac2-ce5dc4817c99",
   "metadata": {
    "tags": []
   },
   "outputs": [
    {
     "data": {
      "text/plain": [
       "ShapiroResult(statistic=0.9776681065559387, pvalue=0.6190539598464966)"
      ]
     },
     "execution_count": 59,
     "metadata": {},
     "output_type": "execute_result"
    }
   ],
   "source": [
    "shapiro(AYRIK.SONRASI) ## p-val 0.05 den küşçük değil, H0 hipotezi red edilemiyor, yani dağılım normal."
   ]
  },
  {
   "cell_type": "code",
   "execution_count": 62,
   "id": "d3c4ada9-3f37-47ad-8705-1dc367cfab77",
   "metadata": {
    "tags": []
   },
   "outputs": [],
   "source": [
    "import scipy.stats as stats"
   ]
  },
  {
   "cell_type": "code",
   "execution_count": 63,
   "id": "bb5b2add-29da-4cda-8a17-925b2b1f42f8",
   "metadata": {
    "tags": []
   },
   "outputs": [
    {
     "data": {
      "text/plain": [
       "LeveneResult(statistic=7.831000980479548, pvalue=0.006504959866829767)"
      ]
     },
     "execution_count": 63,
     "metadata": {},
     "output_type": "execute_result"
    }
   ],
   "source": [
    "stats.levene(AYRIK.ONCESI, AYRIK.SONRASI) ## Homojen değil ancak bunu göz ardı ederek testi gerçekleştiriyoruz."
   ]
  },
  {
   "cell_type": "markdown",
   "id": "e09a20b6-9d9c-4021-b1f8-cb7e38aba3cb",
   "metadata": {},
   "source": [
    "## Hipotez Testi"
   ]
  },
  {
   "cell_type": "code",
   "execution_count": 64,
   "id": "d93b9866-45ce-4ea2-8c93-f28e1dec88f8",
   "metadata": {
    "collapsed": true,
    "jupyter": {
     "outputs_hidden": true
    },
    "tags": []
   },
   "outputs": [
    {
     "data": {
      "text/plain": [
       "\u001b[1;31mSignature:\u001b[0m\n",
       "\u001b[0mstats\u001b[0m\u001b[1;33m.\u001b[0m\u001b[0mttest_rel\u001b[0m\u001b[1;33m(\u001b[0m\u001b[1;33m\n",
       "\u001b[0m    \u001b[0ma\u001b[0m\u001b[1;33m,\u001b[0m\u001b[1;33m\n",
       "\u001b[0m    \u001b[0mb\u001b[0m\u001b[1;33m,\u001b[0m\u001b[1;33m\n",
       "\u001b[0m    \u001b[0maxis\u001b[0m\u001b[1;33m=\u001b[0m\u001b[1;36m0\u001b[0m\u001b[1;33m,\u001b[0m\u001b[1;33m\n",
       "\u001b[0m    \u001b[0mnan_policy\u001b[0m\u001b[1;33m=\u001b[0m\u001b[1;34m'propagate'\u001b[0m\u001b[1;33m,\u001b[0m\u001b[1;33m\n",
       "\u001b[0m    \u001b[0malternative\u001b[0m\u001b[1;33m=\u001b[0m\u001b[1;34m'two-sided'\u001b[0m\u001b[1;33m,\u001b[0m\u001b[1;33m\n",
       "\u001b[0m    \u001b[1;33m*\u001b[0m\u001b[1;33m,\u001b[0m\u001b[1;33m\n",
       "\u001b[0m    \u001b[0mkeepdims\u001b[0m\u001b[1;33m=\u001b[0m\u001b[1;32mFalse\u001b[0m\u001b[1;33m,\u001b[0m\u001b[1;33m\n",
       "\u001b[0m\u001b[1;33m)\u001b[0m\u001b[1;33m\u001b[0m\u001b[1;33m\u001b[0m\u001b[0m\n",
       "\u001b[1;31mDocstring:\u001b[0m\n",
       "Calculate the t-test on TWO RELATED samples of scores, a and b.\n",
       "\n",
       "This is a test for the null hypothesis that two related or\n",
       "repeated samples have identical average (expected) values.\n",
       "\n",
       "Parameters\n",
       "----------\n",
       "a, b : array_like\n",
       "    The arrays must have the same shape.\n",
       "axis : int or None, default: 0\n",
       "    If an int, the axis of the input along which to compute the statistic.\n",
       "    The statistic of each axis-slice (e.g. row) of the input will appear in a\n",
       "    corresponding element of the output.\n",
       "    If ``None``, the input will be raveled before computing the statistic.\n",
       "nan_policy : {'propagate', 'omit', 'raise'}\n",
       "    Defines how to handle input NaNs.\n",
       "    \n",
       "    - ``propagate``: if a NaN is present in the axis slice (e.g. row) along\n",
       "      which the  statistic is computed, the corresponding entry of the output\n",
       "      will be NaN.\n",
       "    - ``omit``: NaNs will be omitted when performing the calculation.\n",
       "      If insufficient data remains in the axis slice along which the\n",
       "      statistic is computed, the corresponding entry of the output will be\n",
       "      NaN.\n",
       "    - ``raise``: if a NaN is present, a ``ValueError`` will be raised.\n",
       "alternative : {'two-sided', 'less', 'greater'}, optional\n",
       "    Defines the alternative hypothesis.\n",
       "    The following options are available (default is 'two-sided'):\n",
       "    \n",
       "    * 'two-sided': the means of the distributions underlying the samples\n",
       "      are unequal.\n",
       "    * 'less': the mean of the distribution underlying the first sample\n",
       "      is less than the mean of the distribution underlying the second\n",
       "      sample.\n",
       "    * 'greater': the mean of the distribution underlying the first\n",
       "      sample is greater than the mean of the distribution underlying\n",
       "      the second sample.\n",
       "    \n",
       "    .. versionadded:: 1.6.0\n",
       "keepdims : bool, default: False\n",
       "    If this is set to True, the axes which are reduced are left\n",
       "    in the result as dimensions with size one. With this option,\n",
       "    the result will broadcast correctly against the input array.\n",
       "\n",
       "Returns\n",
       "-------\n",
       "result : `~scipy.stats._result_classes.TtestResult`\n",
       "    An object with the following attributes:\n",
       "    \n",
       "    statistic : float or array\n",
       "        The t-statistic.\n",
       "    pvalue : float or array\n",
       "        The p-value associated with the given alternative.\n",
       "    df : float or array\n",
       "        The number of degrees of freedom used in calculation of the\n",
       "        t-statistic; this is one less than the size of the sample\n",
       "        (``a.shape[axis]``).\n",
       "    \n",
       "        .. versionadded:: 1.10.0\n",
       "    \n",
       "    The object also has the following method:\n",
       "    \n",
       "    confidence_interval(confidence_level=0.95)\n",
       "        Computes a confidence interval around the difference in\n",
       "        population means for the given confidence level.\n",
       "        The confidence interval is returned in a ``namedtuple`` with\n",
       "        fields `low` and `high`.\n",
       "    \n",
       "        .. versionadded:: 1.10.0\n",
       "\n",
       "Notes\n",
       "-----\n",
       "Examples for use are scores of the same set of student in\n",
       "different exams, or repeated sampling from the same units. The\n",
       "test measures whether the average score differs significantly\n",
       "across samples (e.g. exams). If we observe a large p-value, for\n",
       "example greater than 0.05 or 0.1 then we cannot reject the null\n",
       "hypothesis of identical average scores. If the p-value is smaller\n",
       "than the threshold, e.g. 1%, 5% or 10%, then we reject the null\n",
       "hypothesis of equal averages. Small p-values are associated with\n",
       "large t-statistics.\n",
       "\n",
       "The t-statistic is calculated as ``np.mean(a - b)/se``, where ``se`` is the\n",
       "standard error. Therefore, the t-statistic will be positive when the sample\n",
       "mean of ``a - b`` is greater than zero and negative when the sample mean of\n",
       "``a - b`` is less than zero.\n",
       "\n",
       "Beginning in SciPy 1.9, ``np.matrix`` inputs (not recommended for new\n",
       "code) are converted to ``np.ndarray`` before the calculation is performed. In\n",
       "this case, the output will be a scalar or ``np.ndarray`` of appropriate shape\n",
       "rather than a 2D ``np.matrix``. Similarly, while masked elements of masked\n",
       "arrays are ignored, the output will be a scalar or ``np.ndarray`` rather than a\n",
       "masked array with ``mask=False``.\n",
       "\n",
       "References\n",
       "----------\n",
       "https://en.wikipedia.org/wiki/T-test#Dependent_t-test_for_paired_samples\n",
       "\n",
       "Examples\n",
       "--------\n",
       ">>> import numpy as np\n",
       ">>> from scipy import stats\n",
       ">>> rng = np.random.default_rng()\n",
       "\n",
       ">>> rvs1 = stats.norm.rvs(loc=5, scale=10, size=500, random_state=rng)\n",
       ">>> rvs2 = (stats.norm.rvs(loc=5, scale=10, size=500, random_state=rng)\n",
       "...         + stats.norm.rvs(scale=0.2, size=500, random_state=rng))\n",
       ">>> stats.ttest_rel(rvs1, rvs2)\n",
       "TtestResult(statistic=-0.4549717054410304, pvalue=0.6493274702088672, df=499)  # noqa\n",
       ">>> rvs3 = (stats.norm.rvs(loc=8, scale=10, size=500, random_state=rng)\n",
       "...         + stats.norm.rvs(scale=0.2, size=500, random_state=rng))\n",
       ">>> stats.ttest_rel(rvs1, rvs3)\n",
       "TtestResult(statistic=-5.879467544540889, pvalue=7.540777129099917e-09, df=499)  # noqa\n",
       "\u001b[1;31mFile:\u001b[0m      c:\\users\\ycanf\\anaconda3\\lib\\site-packages\\scipy\\stats\\_stats_py.py\n",
       "\u001b[1;31mType:\u001b[0m      function"
      ]
     },
     "metadata": {},
     "output_type": "display_data"
    }
   ],
   "source": [
    "?stats.ttest_rel"
   ]
  },
  {
   "cell_type": "code",
   "execution_count": 65,
   "id": "3c8ecfff-dd22-4f0e-8085-7b1eb0baa223",
   "metadata": {
    "tags": []
   },
   "outputs": [
    {
     "data": {
      "text/plain": [
       "TtestResult(statistic=-9.171901026017787, pvalue=3.5648126647553074e-11, df=38)"
      ]
     },
     "execution_count": 65,
     "metadata": {},
     "output_type": "execute_result"
    }
   ],
   "source": [
    "stats.ttest_rel(AYRIK.ONCESI, AYRIK.SONRASI)"
   ]
  },
  {
   "cell_type": "code",
   "execution_count": 66,
   "id": "55737159-feec-4f86-a212-263c75640972",
   "metadata": {
    "tags": []
   },
   "outputs": [
    {
     "name": "stdout",
     "output_type": "stream",
     "text": [
      "Test istatistiği= -9.1719, p-değeri= 0.0000\n"
     ]
    }
   ],
   "source": [
    "test_istatistigi, pvalue = stats.ttest_rel(AYRIK.ONCESI, AYRIK.SONRASI)\n",
    "print('Test istatistiği= %.4f, p-değeri= %.4f'% (test_istatistigi,pvalue))"
   ]
  },
  {
   "cell_type": "markdown",
   "id": "45f108d3-a5ae-4d4b-8861-8377ebe938b6",
   "metadata": {
    "tags": []
   },
   "source": [
    "### yani p-val 0.05 den küçük H0 red ediliyor, yani Eğitimi alınca çalışanlarda bir farklılık olmuş.\n",
    "* $H_0: \\mu_o = \\mu_s$\n",
    "* $H_1: \\mu_o \\neq \\mu_s$\n",
    "\n",
    "### yani attığımız taş ürküttüğümüz kuşa değmiştir."
   ]
  },
  {
   "cell_type": "markdown",
   "id": "34c70a56-5d3c-480d-9756-6348d52ea5a1",
   "metadata": {},
   "source": [
    "# Nonparamterik Bağımlı İki Örneklem Testi"
   ]
  },
  {
   "cell_type": "markdown",
   "id": "da27705c-7dab-40ee-8d38-144fe796e24c",
   "metadata": {},
   "source": [
    "### Normallik ve Homojenlik varsayımı sağlanmadığını farz edelim.\n",
    "### Wilcoxon testi kullanacağız"
   ]
  },
  {
   "cell_type": "code",
   "execution_count": 68,
   "id": "ef7f24f9-1255-4b30-9484-1c4f6bcf7eba",
   "metadata": {
    "tags": []
   },
   "outputs": [
    {
     "name": "stderr",
     "output_type": "stream",
     "text": [
      "C:\\Users\\ycanf\\anaconda3\\Lib\\site-packages\\scipy\\stats\\_morestats.py:3414: UserWarning: Exact p-value calculation does not work if there are zeros. Switching to normal approximation.\n",
      "  warnings.warn(\"Exact p-value calculation does not work if there are \"\n"
     ]
    },
    {
     "data": {
      "text/plain": [
       "WilcoxonResult(statistic=13.5, pvalue=3.3596122479826083e-07)"
      ]
     },
     "execution_count": 68,
     "metadata": {},
     "output_type": "execute_result"
    }
   ],
   "source": [
    "stats.wilcoxon(AYRIK.ONCESI, AYRIK.SONRASI)"
   ]
  },
  {
   "cell_type": "code",
   "execution_count": 69,
   "id": "568ac3de-49a4-47a6-a48e-016d724f80fb",
   "metadata": {
    "tags": []
   },
   "outputs": [
    {
     "name": "stdout",
     "output_type": "stream",
     "text": [
      "Test istatistiği= 13.5000, p-değeri= 0.0000\n"
     ]
    }
   ],
   "source": [
    "test_istatistigi, pvalue = stats.wilcoxon(AYRIK.ONCESI, AYRIK.SONRASI)\n",
    "print('Test istatistiği= %.4f, p-değeri= %.4f'% (test_istatistigi,pvalue))"
   ]
  },
  {
   "cell_type": "markdown",
   "id": "72b049cc-5251-433f-9349-036ac1e4ed3b",
   "metadata": {},
   "source": [
    "# İKİ ÖRNEKLEM ORAN TESTİ\n",
    "* İki oran arasında karşılaştırma yapmak için kullanılır.\n",
    "----------------\n",
    "### Hipotzeler:\n",
    "* $H_0: p_1 = p_2$\n",
    "* $H_1: p_1 \\neq p_2$\n",
    "\n",
    "------------------\n",
    "* $H_0: p_1 <= p_2$\n",
    "* $H_1: p_1 > p_2$\n",
    "----------------\n",
    "* $H_0: p_1 >= p_2$\n",
    "* $H_1: p_1 < p_2$\n",
    "---------------------\n",
    "## $ Z_h = \\frac{{p_1 - p_2}}{{\\sqrt{{p(1 - p)\\left(\\frac{{1}}{{n_1}} + \\frac{{1}}{{n_2}}\\right)}}}} $\n",
    "------------------------\n",
    "## Varsayımlar\n",
    "* $n_1 > 30$\n",
    "* $n_2 > 30$\n"
   ]
  },
  {
   "cell_type": "markdown",
   "id": "44b6069e-525c-484c-9e05-6fb79615ab05",
   "metadata": {},
   "source": [
    "# İş Uygulaması Kullanıcı Arayüz Deneyi (AB testi)\n",
    "-------------------------\n",
    "## Problem : Kırmızı buton mu, yeşil buton mu ? \n",
    "---------------------\n",
    "# Hipotez :\n",
    "* $H_0: p_1 <= p_2$\n",
    "* $H_1: p_1 > p_2$\n",
    "* ancak python yapısı itibari ile biz eşittir ve eşit değildir hipotezlerini kullanıyoruz çünkü Pythonda, hipotez yönleri kütüphanelerde çok sağlıklı olmuyor.\n",
    "* zaten neyin daha büyük olduğunu ve etki ettiğini bildiğimizden yorum yapmak bir problem olmuyor.\n",
    "----------------\n",
    "## Detaylar : \n",
    "* yeşilde 1000 görüntülenme, 300 tıklama\n",
    "* kırmızıda 1100 görüntülenme 250 tıklama"
   ]
  },
  {
   "cell_type": "markdown",
   "id": "0f0ca80a-531f-4ad2-8e8b-8955ce9f7d43",
   "metadata": {},
   "source": [
    "# İki Örneklem Oran testi"
   ]
  },
  {
   "cell_type": "code",
   "execution_count": 73,
   "id": "b283bedf-5b03-44aa-9dbe-1342fd128864",
   "metadata": {
    "tags": []
   },
   "outputs": [],
   "source": [
    "from statsmodels.stats.proportion import proportions_ztest"
   ]
  },
  {
   "cell_type": "code",
   "execution_count": 75,
   "id": "285932c3-7d9d-4c43-9a5b-3e1d6677f380",
   "metadata": {
    "tags": []
   },
   "outputs": [],
   "source": [
    "basari_sayisi = np.array([300,250])\n",
    "gozlem_sayisi = np.array([1000,1100])"
   ]
  },
  {
   "cell_type": "code",
   "execution_count": 77,
   "id": "1c3cc386-eef9-41fd-9943-f76374ce3652",
   "metadata": {
    "tags": []
   },
   "outputs": [
    {
     "data": {
      "text/plain": [
       "(3.7857863233209255, 0.0001532232957772221)"
      ]
     },
     "execution_count": 77,
     "metadata": {},
     "output_type": "execute_result"
    }
   ],
   "source": [
    "proportions_ztest(count = basari_sayisi, nobs= gozlem_sayisi) # H0 hipotezi red edilir. Yani Yeşil buton daha iyi bir sonuç vermektedir"
   ]
  },
  {
   "cell_type": "markdown",
   "id": "4dc94991-bf2c-49ce-988f-ca5e58f79310",
   "metadata": {},
   "source": [
    "# Varyans Analizi\n",
    "### Guruplar arası(ikiden fazla gurup) istatiki anlamlılığın değerlendirilmesi kısmına odaklanacağız\n",
    "\n",
    "### iki ya da daha fazla gurup ortalaması arasında istatiksel olarak anlamlı farklılık olup olmadığı öğrenilmek istenildiğinde kullanılır\n",
    "-------------\n",
    "## Hipotezler\n",
    "* * $H_0: \\mu_1 = \\mu_2 = \\mu_3 s$\n",
    "* $H_1: Esit_degildir $ #### (en az birisi farklıdır)\n",
    "--------------\n",
    "### Test istatistiği\n",
    "## $F = \\frac{MS_{(between)}}{MS_{(within)}}$\n",
    "-------------\n",
    "## Varsayımlar \n",
    "* Gözlemlerin birbirinden bağımsız olması(gurupların)\n",
    "* Normal dağılım\n",
    "* Varyans Homoejnliği"
   ]
  },
  {
   "cell_type": "markdown",
   "id": "30ce2ff4-f3a6-4592-a6d6-95ab6162faa5",
   "metadata": {
    "tags": []
   },
   "source": [
    "# İş uygulaması Anasayfa İçerik Stratejisi Berlirlemek\n",
    "## Prbolem: 3 Tarz haber var, hangi habere odaklanılması gerektiği. Anasayfada geçirilen süre arttırılmak isteniyor.\n",
    "-----------------\n",
    "## Detaylar :\n",
    "* Bir web sitesi için başarı kriterleri ortalama ziyaret süresi, hemen çıkış oranı vb\n",
    "* Uzun Zaman geçiren kullanıcıların reklamlara daha fazla tıkladığı ve markaya olan bağlılıklarının arttığı biliniyor.\n",
    "* Buna yönelik olarak benzer haberler farklı resimler ya da farklı formatlarda hazırlanarak oluşturulan test guruplarına gösterilyor.\n",
    "* A: Doğal şekilde, B: Yönlendirici, C: İlgi Çekici."
   ]
  },
  {
   "cell_type": "markdown",
   "id": "8ddfaf80-e8f0-452b-bd9a-3d437ca93e34",
   "metadata": {
    "tags": []
   },
   "source": [
    "# Veri seti"
   ]
  },
  {
   "cell_type": "code",
   "execution_count": 33,
   "id": "c60effbc-1492-4aab-a043-efff374dc19d",
   "metadata": {
    "tags": []
   },
   "outputs": [],
   "source": [
    "import pandas as pd\n",
    "import numpy as np"
   ]
  },
  {
   "cell_type": "code",
   "execution_count": 61,
   "id": "3d4075f5-3e42-4f0e-8275-583438980aa0",
   "metadata": {
    "tags": []
   },
   "outputs": [],
   "source": [
    "A= np.random.randint(25,51, size=50)\n",
    "B= np.random.randint(25,51, size=50)\n",
    "C= np.random.randint(25,51, size=50)"
   ]
  },
  {
   "cell_type": "code",
   "execution_count": 62,
   "id": "e9f533b3-ad37-4938-a954-07b73dabea68",
   "metadata": {
    "tags": []
   },
   "outputs": [],
   "source": [
    "A= pd.DataFrame(A)\n",
    "B= pd.DataFrame(B)\n",
    "C= pd.DataFrame(C)\n",
    "\n",
    "dfs=[A,B,C]"
   ]
  },
  {
   "cell_type": "code",
   "execution_count": 63,
   "id": "a9235d8e-b4ed-4a37-a378-ed23674758f5",
   "metadata": {
    "tags": []
   },
   "outputs": [],
   "source": [
    "ABC= pd.concat(dfs, axis=1)"
   ]
  },
  {
   "cell_type": "code",
   "execution_count": 64,
   "id": "7ba9ee28-a622-428c-845f-79cc5f2864da",
   "metadata": {
    "tags": []
   },
   "outputs": [
    {
     "data": {
      "text/html": [
       "<div>\n",
       "<style scoped>\n",
       "    .dataframe tbody tr th:only-of-type {\n",
       "        vertical-align: middle;\n",
       "    }\n",
       "\n",
       "    .dataframe tbody tr th {\n",
       "        vertical-align: top;\n",
       "    }\n",
       "\n",
       "    .dataframe thead th {\n",
       "        text-align: right;\n",
       "    }\n",
       "</style>\n",
       "<table border=\"1\" class=\"dataframe\">\n",
       "  <thead>\n",
       "    <tr style=\"text-align: right;\">\n",
       "      <th></th>\n",
       "      <th>GRUP_A</th>\n",
       "      <th>GRUP_B</th>\n",
       "      <th>GRUP_C</th>\n",
       "    </tr>\n",
       "  </thead>\n",
       "  <tbody>\n",
       "    <tr>\n",
       "      <th>0</th>\n",
       "      <td>46</td>\n",
       "      <td>43</td>\n",
       "      <td>40</td>\n",
       "    </tr>\n",
       "    <tr>\n",
       "      <th>1</th>\n",
       "      <td>49</td>\n",
       "      <td>31</td>\n",
       "      <td>50</td>\n",
       "    </tr>\n",
       "    <tr>\n",
       "      <th>2</th>\n",
       "      <td>29</td>\n",
       "      <td>48</td>\n",
       "      <td>39</td>\n",
       "    </tr>\n",
       "    <tr>\n",
       "      <th>3</th>\n",
       "      <td>25</td>\n",
       "      <td>50</td>\n",
       "      <td>47</td>\n",
       "    </tr>\n",
       "    <tr>\n",
       "      <th>4</th>\n",
       "      <td>37</td>\n",
       "      <td>31</td>\n",
       "      <td>37</td>\n",
       "    </tr>\n",
       "  </tbody>\n",
       "</table>\n",
       "</div>"
      ],
      "text/plain": [
       "   GRUP_A  GRUP_B  GRUP_C\n",
       "0      46      43      40\n",
       "1      49      31      50\n",
       "2      29      48      39\n",
       "3      25      50      47\n",
       "4      37      31      37"
      ]
     },
     "execution_count": 64,
     "metadata": {},
     "output_type": "execute_result"
    }
   ],
   "source": [
    "ABC.columns = [\"GRUP_A\",\"GRUP_B\",\"GRUP_C\"]\n",
    "ABC.head()"
   ]
  },
  {
   "cell_type": "code",
   "execution_count": 65,
   "id": "dfcd4bec-80dd-479f-b8c9-b9a5ae8fad32",
   "metadata": {
    "tags": []
   },
   "outputs": [
    {
     "data": {
      "text/html": [
       "<div>\n",
       "<style scoped>\n",
       "    .dataframe tbody tr th:only-of-type {\n",
       "        vertical-align: middle;\n",
       "    }\n",
       "\n",
       "    .dataframe tbody tr th {\n",
       "        vertical-align: top;\n",
       "    }\n",
       "\n",
       "    .dataframe thead th {\n",
       "        text-align: right;\n",
       "    }\n",
       "</style>\n",
       "<table border=\"1\" class=\"dataframe\">\n",
       "  <thead>\n",
       "    <tr style=\"text-align: right;\">\n",
       "      <th></th>\n",
       "      <th>count</th>\n",
       "      <th>mean</th>\n",
       "      <th>std</th>\n",
       "      <th>min</th>\n",
       "      <th>25%</th>\n",
       "      <th>50%</th>\n",
       "      <th>75%</th>\n",
       "      <th>max</th>\n",
       "    </tr>\n",
       "  </thead>\n",
       "  <tbody>\n",
       "    <tr>\n",
       "      <th>GRUP_A</th>\n",
       "      <td>50.0</td>\n",
       "      <td>35.80</td>\n",
       "      <td>7.850647</td>\n",
       "      <td>25.0</td>\n",
       "      <td>29.00</td>\n",
       "      <td>36.5</td>\n",
       "      <td>42.75</td>\n",
       "      <td>49.0</td>\n",
       "    </tr>\n",
       "    <tr>\n",
       "      <th>GRUP_B</th>\n",
       "      <td>50.0</td>\n",
       "      <td>37.80</td>\n",
       "      <td>8.317672</td>\n",
       "      <td>25.0</td>\n",
       "      <td>31.00</td>\n",
       "      <td>37.5</td>\n",
       "      <td>46.75</td>\n",
       "      <td>50.0</td>\n",
       "    </tr>\n",
       "    <tr>\n",
       "      <th>GRUP_C</th>\n",
       "      <td>50.0</td>\n",
       "      <td>37.26</td>\n",
       "      <td>7.015464</td>\n",
       "      <td>25.0</td>\n",
       "      <td>31.25</td>\n",
       "      <td>37.0</td>\n",
       "      <td>42.50</td>\n",
       "      <td>50.0</td>\n",
       "    </tr>\n",
       "  </tbody>\n",
       "</table>\n",
       "</div>"
      ],
      "text/plain": [
       "        count   mean       std   min    25%   50%    75%   max\n",
       "GRUP_A   50.0  35.80  7.850647  25.0  29.00  36.5  42.75  49.0\n",
       "GRUP_B   50.0  37.80  8.317672  25.0  31.00  37.5  46.75  50.0\n",
       "GRUP_C   50.0  37.26  7.015464  25.0  31.25  37.0  42.50  50.0"
      ]
     },
     "execution_count": 65,
     "metadata": {},
     "output_type": "execute_result"
    }
   ],
   "source": [
    "ABC.describe().T"
   ]
  },
  {
   "cell_type": "markdown",
   "id": "3cfc8785-2381-4fb3-a424-2e8dc804d476",
   "metadata": {},
   "source": [
    "# Varsayım Kontrolleri\n",
    "* Gurupların bağımsızlığı (vasrsayıyoruz bu durumda)\n",
    "* Normallik varsayımı için \"SHAPİRO\" testini kullanıyoruz, H0 hipotezini red etmediğimizde Normallik varsayımı sağlanıyor diyorduk\n",
    "* Varyans homojenliği varsayımı için \"LEVENE\" testini kullanıyoruz"
   ]
  },
  {
   "cell_type": "code",
   "execution_count": 66,
   "id": "5c01a596-0dfe-491a-a9b4-e0ad1214d1fb",
   "metadata": {
    "tags": []
   },
   "outputs": [],
   "source": [
    "from scipy.stats import shapiro"
   ]
  },
  {
   "cell_type": "code",
   "execution_count": 67,
   "id": "707e07c3-8152-415a-be7c-bdb440bcc689",
   "metadata": {
    "tags": []
   },
   "outputs": [
    {
     "data": {
      "text/plain": [
       "ShapiroResult(statistic=0.9226656556129456, pvalue=0.0029475539922714233)"
      ]
     },
     "execution_count": 67,
     "metadata": {},
     "output_type": "execute_result"
    }
   ],
   "source": [
    "shapiro(ABC.GRUP_A)"
   ]
  },
  {
   "cell_type": "code",
   "execution_count": 68,
   "id": "6e791c70-993b-498b-9e23-a68a140722ba",
   "metadata": {
    "tags": []
   },
   "outputs": [
    {
     "data": {
      "text/plain": [
       "ShapiroResult(statistic=0.9032403826713562, pvalue=0.000615789380390197)"
      ]
     },
     "execution_count": 68,
     "metadata": {},
     "output_type": "execute_result"
    }
   ],
   "source": [
    "shapiro(ABC.GRUP_B)"
   ]
  },
  {
   "cell_type": "code",
   "execution_count": 69,
   "id": "115439c6-a49b-4afc-896a-652193a0727a",
   "metadata": {
    "tags": []
   },
   "outputs": [
    {
     "data": {
      "text/plain": [
       "ShapiroResult(statistic=0.9611929059028625, pvalue=0.09974006563425064)"
      ]
     },
     "execution_count": 69,
     "metadata": {},
     "output_type": "execute_result"
    }
   ],
   "source": [
    "shapiro(ABC.GRUP_C)"
   ]
  },
  {
   "cell_type": "markdown",
   "id": "d2489032-e2c3-4182-8cdc-e27ea072f08b",
   "metadata": {},
   "source": [
    "#### ben random ürettiğim için şu anda sadece 2 tanesi testi geçebildi ancak hepsinin geçtiğini varsayıp testin nasıl yapıldığını görmek adına devam ediyorum.\n",
    "* Homojenlik testi :"
   ]
  },
  {
   "cell_type": "code",
   "execution_count": 75,
   "id": "0c55abdc-7995-4fb7-bf49-15b34d3fba49",
   "metadata": {
    "tags": []
   },
   "outputs": [],
   "source": [
    "from scipy import stats"
   ]
  },
  {
   "cell_type": "code",
   "execution_count": 79,
   "id": "df02d8f0-b267-4e17-8044-59ae1fe57b60",
   "metadata": {
    "tags": []
   },
   "outputs": [
    {
     "data": {
      "text/plain": [
       "LeveneResult(statistic=2.0273602186491435, pvalue=0.13534834408688173)"
      ]
     },
     "execution_count": 79,
     "metadata": {},
     "output_type": "execute_result"
    }
   ],
   "source": [
    "stats.levene(ABC.GRUP_A, ABC.GRUP_B, ABC.GRUP_C) ## Homojenlik testini geçti, varyanslar homojendir, H0 Red edilemedi, H0: Varyanslar homojendir"
   ]
  },
  {
   "cell_type": "code",
   "execution_count": 80,
   "id": "0c7f69d7-a024-431e-84d7-e4678b402ef8",
   "metadata": {
    "tags": []
   },
   "outputs": [],
   "source": [
    "from scipy.stats import f_oneway"
   ]
  },
  {
   "cell_type": "code",
   "execution_count": 81,
   "id": "4068fe80-142a-453b-9868-9b642c1e3cc5",
   "metadata": {
    "tags": []
   },
   "outputs": [
    {
     "data": {
      "text/plain": [
       "F_onewayResult(statistic=0.891947284058937, pvalue=0.41206316285600564)"
      ]
     },
     "execution_count": 81,
     "metadata": {},
     "output_type": "execute_result"
    }
   ],
   "source": [
    "f_oneway(ABC.GRUP_A, ABC.GRUP_B, ABC.GRUP_C) "
   ]
  },
  {
   "cell_type": "markdown",
   "id": "c253deb5-6217-4af9-ab0c-1f788f8f30f4",
   "metadata": {},
   "source": [
    "# Nonparamterik Hipotez Testi\n",
    "### Yukarı da ki testler sağlanmadığında"
   ]
  },
  {
   "cell_type": "code",
   "execution_count": 83,
   "id": "3a9f7aff-4492-4ea5-9e8b-832cafe8cffc",
   "metadata": {
    "tags": []
   },
   "outputs": [],
   "source": [
    "from scipy.stats import kruskal"
   ]
  },
  {
   "cell_type": "code",
   "execution_count": 84,
   "id": "0dad83e6-3a33-4d65-b980-e0c03484af43",
   "metadata": {
    "tags": []
   },
   "outputs": [
    {
     "data": {
      "text/plain": [
       "KruskalResult(statistic=2.0558308165712784, pvalue=0.35775195055131004)"
      ]
     },
     "execution_count": 84,
     "metadata": {},
     "output_type": "execute_result"
    }
   ],
   "source": [
    "kruskal(ABC.GRUP_A, ABC.GRUP_B, ABC.GRUP_C)"
   ]
  },
  {
   "cell_type": "markdown",
   "id": "0870c187-aafe-4bba-893e-92a3730e43aa",
   "metadata": {
    "tags": []
   },
   "source": [
    "# Korelasyon Analizi\n",
    "### Korelasyon = ilişki\n",
    "### Değişkenler arasındaki ilişki, bu ilişkinin yönü ve şiddeti ile ilgili bilgiler sağlayan istatistiksel bir yöntemdir.\n",
    "\n",
    "\n",
    "* Ürün satışı ^    Reklam Harcamaları ^     Pozitif Korelasyon\n",
    "* Araç Kilometresi ^       Araç Fiyatı azalır   Negatif Korelasyon\n",
    "--------- \n",
    "## Hipotez\n",
    "* H0: p = 0 (korlasyon yoktur)\n",
    "* H1 = p != 0 (anlamlı bir ilişki vardır)\n",
    "\n",
    "\n",
    "\n",
    "*  ### $ r = \\frac{Nsum{XY}-(sum{X}sum{Y})}{\\sqrt{ [N sum{x^2}-(sum{x})^2 ][N sum{y^2}-(sum{y})^2 }]} $\n",
    "* ## $t = r \\sqrt{\\frac{n - 2}{1 - r^2}}$\n",
    "---------------------\n",
    "### Varsayımlar :\n",
    "* İki değişken için de normallik varsayımı.\n",
    "* Varsayım sağlanıyorsa Pearson Korelasyon Katsayısı\n",
    "* Varsayım sağlanmıyorsa Spearman Korelasyon Katsayısı"
   ]
  },
  {
   "cell_type": "markdown",
   "id": "b1b27144-7aa9-4b63-8c37-96fafad7bc98",
   "metadata": {},
   "source": [
    "# İş Uygulaması : Bahşiş ile ödenen hesap arasında ki ilişkinin incelenmesi\n",
    "\n",
    "## Problem: Bahşiş ile ödenen hesap arsasında korelasyın var mı ?\n",
    "------------------\n",
    "## Hipotez:\n",
    "* H0: ro = 0\n",
    "* H1: ro !=0    \n",
    "(ro : Korelasyon katsayısı)\n",
    "--------------\n",
    "# Korelasyon Analizi\n",
    "# bahşiş veri seti:\n",
    "* total_bill : yemepin toplam fiyatı (bahşiş ve vergi dahil)\n",
    "* tip: bahşiş\n",
    "* sex: ücreti ödeyen kişinin cinsiyeti 0 male,  1 female\n",
    "* smoker: grupta sigara içen var mı ? 0 no, 1 yes\n",
    "* day:  gün (3 thur, 4 fri, 5 say, 6 sun)\n",
    "* time ne zaman 0 day , 1 night\n",
    "* size gurup büyüklüğü"
   ]
  },
  {
   "cell_type": "code",
   "execution_count": 87,
   "id": "e6d0c063-97c1-4b40-a0ce-6fe56c57d89a",
   "metadata": {
    "tags": []
   },
   "outputs": [],
   "source": [
    "import pandas as pd\n",
    "import seaborn as sns"
   ]
  },
  {
   "cell_type": "code",
   "execution_count": 88,
   "id": "109f70a6-96fe-40df-bf32-c15e27337289",
   "metadata": {
    "tags": []
   },
   "outputs": [
    {
     "data": {
      "text/html": [
       "<div>\n",
       "<style scoped>\n",
       "    .dataframe tbody tr th:only-of-type {\n",
       "        vertical-align: middle;\n",
       "    }\n",
       "\n",
       "    .dataframe tbody tr th {\n",
       "        vertical-align: top;\n",
       "    }\n",
       "\n",
       "    .dataframe thead th {\n",
       "        text-align: right;\n",
       "    }\n",
       "</style>\n",
       "<table border=\"1\" class=\"dataframe\">\n",
       "  <thead>\n",
       "    <tr style=\"text-align: right;\">\n",
       "      <th></th>\n",
       "      <th>total_bill</th>\n",
       "      <th>tip</th>\n",
       "      <th>sex</th>\n",
       "      <th>smoker</th>\n",
       "      <th>day</th>\n",
       "      <th>time</th>\n",
       "      <th>size</th>\n",
       "    </tr>\n",
       "  </thead>\n",
       "  <tbody>\n",
       "    <tr>\n",
       "      <th>0</th>\n",
       "      <td>16.99</td>\n",
       "      <td>1.01</td>\n",
       "      <td>Female</td>\n",
       "      <td>No</td>\n",
       "      <td>Sun</td>\n",
       "      <td>Dinner</td>\n",
       "      <td>2</td>\n",
       "    </tr>\n",
       "    <tr>\n",
       "      <th>1</th>\n",
       "      <td>10.34</td>\n",
       "      <td>1.66</td>\n",
       "      <td>Male</td>\n",
       "      <td>No</td>\n",
       "      <td>Sun</td>\n",
       "      <td>Dinner</td>\n",
       "      <td>3</td>\n",
       "    </tr>\n",
       "    <tr>\n",
       "      <th>2</th>\n",
       "      <td>21.01</td>\n",
       "      <td>3.50</td>\n",
       "      <td>Male</td>\n",
       "      <td>No</td>\n",
       "      <td>Sun</td>\n",
       "      <td>Dinner</td>\n",
       "      <td>3</td>\n",
       "    </tr>\n",
       "    <tr>\n",
       "      <th>3</th>\n",
       "      <td>23.68</td>\n",
       "      <td>3.31</td>\n",
       "      <td>Male</td>\n",
       "      <td>No</td>\n",
       "      <td>Sun</td>\n",
       "      <td>Dinner</td>\n",
       "      <td>2</td>\n",
       "    </tr>\n",
       "    <tr>\n",
       "      <th>4</th>\n",
       "      <td>24.59</td>\n",
       "      <td>3.61</td>\n",
       "      <td>Female</td>\n",
       "      <td>No</td>\n",
       "      <td>Sun</td>\n",
       "      <td>Dinner</td>\n",
       "      <td>4</td>\n",
       "    </tr>\n",
       "  </tbody>\n",
       "</table>\n",
       "</div>"
      ],
      "text/plain": [
       "   total_bill   tip     sex smoker  day    time  size\n",
       "0       16.99  1.01  Female     No  Sun  Dinner     2\n",
       "1       10.34  1.66    Male     No  Sun  Dinner     3\n",
       "2       21.01  3.50    Male     No  Sun  Dinner     3\n",
       "3       23.68  3.31    Male     No  Sun  Dinner     2\n",
       "4       24.59  3.61  Female     No  Sun  Dinner     4"
      ]
     },
     "execution_count": 88,
     "metadata": {},
     "output_type": "execute_result"
    }
   ],
   "source": [
    "tips = sns.load_dataset('tips')\n",
    "df= tips.copy()\n",
    "df.head()"
   ]
  },
  {
   "cell_type": "code",
   "execution_count": 89,
   "id": "009ecfcb-3935-4170-94ed-0ec3912b4a67",
   "metadata": {
    "tags": []
   },
   "outputs": [
    {
     "data": {
      "text/html": [
       "<div>\n",
       "<style scoped>\n",
       "    .dataframe tbody tr th:only-of-type {\n",
       "        vertical-align: middle;\n",
       "    }\n",
       "\n",
       "    .dataframe tbody tr th {\n",
       "        vertical-align: top;\n",
       "    }\n",
       "\n",
       "    .dataframe thead th {\n",
       "        text-align: right;\n",
       "    }\n",
       "</style>\n",
       "<table border=\"1\" class=\"dataframe\">\n",
       "  <thead>\n",
       "    <tr style=\"text-align: right;\">\n",
       "      <th></th>\n",
       "      <th>count</th>\n",
       "      <th>mean</th>\n",
       "      <th>std</th>\n",
       "      <th>min</th>\n",
       "      <th>25%</th>\n",
       "      <th>50%</th>\n",
       "      <th>75%</th>\n",
       "      <th>max</th>\n",
       "    </tr>\n",
       "  </thead>\n",
       "  <tbody>\n",
       "    <tr>\n",
       "      <th>total_bill</th>\n",
       "      <td>244.0</td>\n",
       "      <td>19.785943</td>\n",
       "      <td>8.902412</td>\n",
       "      <td>3.07</td>\n",
       "      <td>13.3475</td>\n",
       "      <td>17.795</td>\n",
       "      <td>24.1275</td>\n",
       "      <td>50.81</td>\n",
       "    </tr>\n",
       "    <tr>\n",
       "      <th>tip</th>\n",
       "      <td>244.0</td>\n",
       "      <td>2.998279</td>\n",
       "      <td>1.383638</td>\n",
       "      <td>1.00</td>\n",
       "      <td>2.0000</td>\n",
       "      <td>2.900</td>\n",
       "      <td>3.5625</td>\n",
       "      <td>10.00</td>\n",
       "    </tr>\n",
       "    <tr>\n",
       "      <th>size</th>\n",
       "      <td>244.0</td>\n",
       "      <td>2.569672</td>\n",
       "      <td>0.951100</td>\n",
       "      <td>1.00</td>\n",
       "      <td>2.0000</td>\n",
       "      <td>2.000</td>\n",
       "      <td>3.0000</td>\n",
       "      <td>6.00</td>\n",
       "    </tr>\n",
       "  </tbody>\n",
       "</table>\n",
       "</div>"
      ],
      "text/plain": [
       "            count       mean       std   min      25%     50%      75%    max\n",
       "total_bill  244.0  19.785943  8.902412  3.07  13.3475  17.795  24.1275  50.81\n",
       "tip         244.0   2.998279  1.383638  1.00   2.0000   2.900   3.5625  10.00\n",
       "size        244.0   2.569672  0.951100  1.00   2.0000   2.000   3.0000   6.00"
      ]
     },
     "execution_count": 89,
     "metadata": {},
     "output_type": "execute_result"
    }
   ],
   "source": [
    "df.describe().T"
   ]
  },
  {
   "cell_type": "markdown",
   "id": "ec8999e0-a46b-4a3c-9a0f-6d026e148ae6",
   "metadata": {
    "tags": []
   },
   "source": [
    "### yemeğin toplam fiyatına bahşiş ve vergi dahilmiş, bu durumda birbirine olan etkileri arındırmamız gerekir."
   ]
  },
  {
   "cell_type": "code",
   "execution_count": 90,
   "id": "0932ec96-a862-4db3-aff2-0d6ee8420126",
   "metadata": {
    "tags": []
   },
   "outputs": [],
   "source": [
    "df.total_bill =  df.total_bill  -  df.tip  ### toplam hesaptan bahşişleri çıkırırsak işte asıl o zaman hesabın kendisi kalır"
   ]
  },
  {
   "cell_type": "code",
   "execution_count": 91,
   "id": "d21550bf-7073-465a-bd7a-09ca96cae711",
   "metadata": {
    "tags": []
   },
   "outputs": [
    {
     "data": {
      "text/html": [
       "<div>\n",
       "<style scoped>\n",
       "    .dataframe tbody tr th:only-of-type {\n",
       "        vertical-align: middle;\n",
       "    }\n",
       "\n",
       "    .dataframe tbody tr th {\n",
       "        vertical-align: top;\n",
       "    }\n",
       "\n",
       "    .dataframe thead th {\n",
       "        text-align: right;\n",
       "    }\n",
       "</style>\n",
       "<table border=\"1\" class=\"dataframe\">\n",
       "  <thead>\n",
       "    <tr style=\"text-align: right;\">\n",
       "      <th></th>\n",
       "      <th>count</th>\n",
       "      <th>mean</th>\n",
       "      <th>std</th>\n",
       "      <th>min</th>\n",
       "      <th>25%</th>\n",
       "      <th>50%</th>\n",
       "      <th>75%</th>\n",
       "      <th>max</th>\n",
       "    </tr>\n",
       "  </thead>\n",
       "  <tbody>\n",
       "    <tr>\n",
       "      <th>total_bill</th>\n",
       "      <td>244.0</td>\n",
       "      <td>16.787664</td>\n",
       "      <td>8.032459</td>\n",
       "      <td>2.07</td>\n",
       "      <td>11.0</td>\n",
       "      <td>14.555</td>\n",
       "      <td>20.6850</td>\n",
       "      <td>43.17</td>\n",
       "    </tr>\n",
       "    <tr>\n",
       "      <th>tip</th>\n",
       "      <td>244.0</td>\n",
       "      <td>2.998279</td>\n",
       "      <td>1.383638</td>\n",
       "      <td>1.00</td>\n",
       "      <td>2.0</td>\n",
       "      <td>2.900</td>\n",
       "      <td>3.5625</td>\n",
       "      <td>10.00</td>\n",
       "    </tr>\n",
       "    <tr>\n",
       "      <th>size</th>\n",
       "      <td>244.0</td>\n",
       "      <td>2.569672</td>\n",
       "      <td>0.951100</td>\n",
       "      <td>1.00</td>\n",
       "      <td>2.0</td>\n",
       "      <td>2.000</td>\n",
       "      <td>3.0000</td>\n",
       "      <td>6.00</td>\n",
       "    </tr>\n",
       "  </tbody>\n",
       "</table>\n",
       "</div>"
      ],
      "text/plain": [
       "            count       mean       std   min   25%     50%      75%    max\n",
       "total_bill  244.0  16.787664  8.032459  2.07  11.0  14.555  20.6850  43.17\n",
       "tip         244.0   2.998279  1.383638  1.00   2.0   2.900   3.5625  10.00\n",
       "size        244.0   2.569672  0.951100  1.00   2.0   2.000   3.0000   6.00"
      ]
     },
     "execution_count": 91,
     "metadata": {},
     "output_type": "execute_result"
    }
   ],
   "source": [
    "df.describe().T"
   ]
  },
  {
   "cell_type": "code",
   "execution_count": 92,
   "id": "2715ee14-e593-4c1a-ada0-10bcd5dfee40",
   "metadata": {
    "tags": []
   },
   "outputs": [
    {
     "data": {
      "text/html": [
       "<div>\n",
       "<style scoped>\n",
       "    .dataframe tbody tr th:only-of-type {\n",
       "        vertical-align: middle;\n",
       "    }\n",
       "\n",
       "    .dataframe tbody tr th {\n",
       "        vertical-align: top;\n",
       "    }\n",
       "\n",
       "    .dataframe thead th {\n",
       "        text-align: right;\n",
       "    }\n",
       "</style>\n",
       "<table border=\"1\" class=\"dataframe\">\n",
       "  <thead>\n",
       "    <tr style=\"text-align: right;\">\n",
       "      <th></th>\n",
       "      <th>total_bill</th>\n",
       "      <th>tip</th>\n",
       "      <th>sex</th>\n",
       "      <th>smoker</th>\n",
       "      <th>day</th>\n",
       "      <th>time</th>\n",
       "      <th>size</th>\n",
       "    </tr>\n",
       "  </thead>\n",
       "  <tbody>\n",
       "    <tr>\n",
       "      <th>0</th>\n",
       "      <td>15.98</td>\n",
       "      <td>1.01</td>\n",
       "      <td>Female</td>\n",
       "      <td>No</td>\n",
       "      <td>Sun</td>\n",
       "      <td>Dinner</td>\n",
       "      <td>2</td>\n",
       "    </tr>\n",
       "    <tr>\n",
       "      <th>1</th>\n",
       "      <td>8.68</td>\n",
       "      <td>1.66</td>\n",
       "      <td>Male</td>\n",
       "      <td>No</td>\n",
       "      <td>Sun</td>\n",
       "      <td>Dinner</td>\n",
       "      <td>3</td>\n",
       "    </tr>\n",
       "    <tr>\n",
       "      <th>2</th>\n",
       "      <td>17.51</td>\n",
       "      <td>3.50</td>\n",
       "      <td>Male</td>\n",
       "      <td>No</td>\n",
       "      <td>Sun</td>\n",
       "      <td>Dinner</td>\n",
       "      <td>3</td>\n",
       "    </tr>\n",
       "    <tr>\n",
       "      <th>3</th>\n",
       "      <td>20.37</td>\n",
       "      <td>3.31</td>\n",
       "      <td>Male</td>\n",
       "      <td>No</td>\n",
       "      <td>Sun</td>\n",
       "      <td>Dinner</td>\n",
       "      <td>2</td>\n",
       "    </tr>\n",
       "    <tr>\n",
       "      <th>4</th>\n",
       "      <td>20.98</td>\n",
       "      <td>3.61</td>\n",
       "      <td>Female</td>\n",
       "      <td>No</td>\n",
       "      <td>Sun</td>\n",
       "      <td>Dinner</td>\n",
       "      <td>4</td>\n",
       "    </tr>\n",
       "  </tbody>\n",
       "</table>\n",
       "</div>"
      ],
      "text/plain": [
       "   total_bill   tip     sex smoker  day    time  size\n",
       "0       15.98  1.01  Female     No  Sun  Dinner     2\n",
       "1        8.68  1.66    Male     No  Sun  Dinner     3\n",
       "2       17.51  3.50    Male     No  Sun  Dinner     3\n",
       "3       20.37  3.31    Male     No  Sun  Dinner     2\n",
       "4       20.98  3.61  Female     No  Sun  Dinner     4"
      ]
     },
     "execution_count": 92,
     "metadata": {},
     "output_type": "execute_result"
    }
   ],
   "source": [
    "df.head()"
   ]
  },
  {
   "cell_type": "code",
   "execution_count": 94,
   "id": "6557ec5c-8d5a-4600-88eb-65d4b3d66839",
   "metadata": {
    "tags": []
   },
   "outputs": [
    {
     "data": {
      "image/png": "[encoded data removed]",
      "text/plain": [
       "<Figure size 640x480 with 1 Axes>"
      ]
     },
     "metadata": {},
     "output_type": "display_data"
    }
   ],
   "source": [
    "df.plot.scatter('tip','total_bill');"
   ]
  },
  {
   "cell_type": "markdown",
   "id": "47dbfc0d-97d3-4710-8cd2-564405bce275",
   "metadata": {},
   "source": [
    "## Varsayımlar\n",
    "### normal mi, normallik varsayımı shapiro !! "
   ]
  },
  {
   "cell_type": "code",
   "execution_count": 95,
   "id": "1035c950-bca2-4cbf-a78c-3ec31d496d79",
   "metadata": {
    "tags": []
   },
   "outputs": [],
   "source": [
    "from scipy.stats import shapiro"
   ]
  },
  {
   "cell_type": "code",
   "execution_count": 96,
   "id": "73a44d21-c3c1-4fbd-ad1c-9cdff7c9bbd0",
   "metadata": {
    "tags": []
   },
   "outputs": [
    {
     "data": {
      "text/plain": [
       "ShapiroResult(statistic=0.8978114128112793, pvalue=8.200817629144819e-12)"
      ]
     },
     "execution_count": 96,
     "metadata": {},
     "output_type": "execute_result"
    }
   ],
   "source": [
    "shapiro(df.tip)"
   ]
  },
  {
   "cell_type": "code",
   "execution_count": 98,
   "id": "b0466704-f42e-4fee-94b2-1151a8511ac0",
   "metadata": {
    "tags": []
   },
   "outputs": [
    {
     "data": {
      "text/plain": [
       "ShapiroResult(statistic=0.9135653972625732, pvalue=1.1060685700670092e-10)"
      ]
     },
     "execution_count": 98,
     "metadata": {},
     "output_type": "execute_result"
    }
   ],
   "source": [
    "shapiro(df.total_bill)"
   ]
  },
  {
   "cell_type": "markdown",
   "id": "542e2b7d-cb40-4a16-ba99-39a03829ff87",
   "metadata": {},
   "source": [
    "### ikisi için de p val- 0.05 den oldukça küçük yani H0 Red edilenilir. o bakımdan dağılımlar Normal değildir."
   ]
  },
  {
   "cell_type": "markdown",
   "id": "3ff9ed1f-6175-4ab3-a422-e2fa5e77037c",
   "metadata": {},
   "source": [
    "# Hipotez testi\n",
    "## Korelasyon katsayısı:"
   ]
  },
  {
   "cell_type": "code",
   "execution_count": 100,
   "id": "a2a88e70-a7cf-43e7-80c7-1cdd0d444a75",
   "metadata": {
    "tags": []
   },
   "outputs": [
    {
     "data": {
      "text/plain": [
       "0.5766634471096382"
      ]
     },
     "execution_count": 100,
     "metadata": {},
     "output_type": "execute_result"
    }
   ],
   "source": [
    "df.tip.corr(df.total_bill) \n",
    "# öntanımlı olarak pearson korelasyon katsayısını verir. ancak perason, normallik varsayımı geçerli olduğunda hesaplanır. Bu verilerde sağlanmıyordu ! "
   ]
  },
  {
   "cell_type": "code",
   "execution_count": 103,
   "id": "1beed327-b26e-44da-89a4-c19339bd368f",
   "metadata": {
    "tags": []
   },
   "outputs": [
    {
     "data": {
      "text/plain": [
       "0.593691939408997"
      ]
     },
     "execution_count": 103,
     "metadata": {},
     "output_type": "execute_result"
    }
   ],
   "source": [
    "df.tip.corr(df.total_bill,method='spearman') ## normallik varsayımı sağlanmadığında, Spearman methodu ile hesaplarız.\n"
   ]
  },
  {
   "cell_type": "markdown",
   "id": "2139677d-55c1-48fe-bc48-df7b5db487b8",
   "metadata": {},
   "source": [
    "* değişkenler arasında pozitif yönlü bir ilişki var.\n",
    "* ilişkinin yönü + 0.60 civarında, ORTA ŞİDDETTLİ "
   ]
  },
  {
   "cell_type": "markdown",
   "id": "bb20bb5b-945d-4c12-88fb-f1eefbb540f7",
   "metadata": {},
   "source": [
    "## Korelasyonun anlamlılık testi"
   ]
  },
  {
   "cell_type": "code",
   "execution_count": 105,
   "id": "8678cfb0-d150-4ece-b3be-20fbd52f3156",
   "metadata": {
    "tags": []
   },
   "outputs": [
    {
     "name": "stderr",
     "output_type": "stream",
     "text": [
      "C:\\Users\\ycanf\\AppData\\Local\\Temp\\ipykernel_16548\\4005289447.py:1: DeprecationWarning: Please use `pearsonr` from the `scipy.stats` namespace, the `scipy.stats.stats` namespace is deprecated.\n",
      "  from scipy.stats.stats import pearsonr\n"
     ]
    }
   ],
   "source": [
    "from scipy.stats.stats import pearsonr"
   ]
  },
  {
   "cell_type": "code",
   "execution_count": 108,
   "id": "8cc8fc92-8be5-48d6-a96b-e408932b99d9",
   "metadata": {
    "tags": []
   },
   "outputs": [
    {
     "data": {
      "text/plain": [
       "PearsonRResult(statistic=0.5766634471096377, pvalue=5.018290084948936e-23)"
      ]
     },
     "execution_count": 108,
     "metadata": {},
     "output_type": "execute_result"
    }
   ],
   "source": [
    "pearsonr(df.tip,df.total_bill) ##p-val 0,05 den küçük yani h0 red edilir, yani değişkenler arasında anlamlı bir ilişki yoktur hipotezini red ediyoruz\n"
   ]
  },
  {
   "cell_type": "markdown",
   "id": "fddd41dd-d535-4e74-8c1b-46bd297fedaf",
   "metadata": {},
   "source": [
    "# Nonparametrik Korelasyon Hipotez Testi "
   ]
  },
  {
   "cell_type": "code",
   "execution_count": 116,
   "id": "872e12a8-c7e9-4b0e-864d-31bb40817fea",
   "metadata": {
    "tags": []
   },
   "outputs": [
    {
     "name": "stderr",
     "output_type": "stream",
     "text": [
      "C:\\Users\\ycanf\\AppData\\Local\\Temp\\ipykernel_16548\\3441001614.py:2: DeprecationWarning: Please use `spearmanr` from the `scipy.stats` namespace, the `scipy.stats.stats` namespace is deprecated.\n",
      "  stats.spearmanr(df.tip,df.total_bill)\n"
     ]
    },
    {
     "data": {
      "text/plain": [
       "SignificanceResult(statistic=0.593691939408997, pvalue=1.2452285137560276e-24)"
      ]
     },
     "execution_count": 116,
     "metadata": {},
     "output_type": "execute_result"
    }
   ],
   "source": [
    "from scipy.stats import stats\n",
    "stats.spearmanr(df.tip,df.total_bill) \n",
    "# p-val 0,05 den küçüktür, yani H0 red edilir, Değişkenler arasında bir ilişki vardır, bu ilişki orta şiddetli anlamlı pozitif yönlü bir ilişkidir."
   ]
  },
  {
   "cell_type": "code",
   "execution_count": 118,
   "id": "78bb285f-a835-4d05-8597-7b9488ea5363",
   "metadata": {
    "tags": []
   },
   "outputs": [
    {
     "name": "stderr",
     "output_type": "stream",
     "text": [
      "C:\\Users\\ycanf\\AppData\\Local\\Temp\\ipykernel_16548\\73826279.py:1: DeprecationWarning: Please use `kendalltau` from the `scipy.stats` namespace, the `scipy.stats.stats` namespace is deprecated.\n",
      "  stats.kendalltau(df.tip,df.total_bill) # p-val 0,05 den küçüktür, yani H0 red edilir, Değişkenler arasında bir ilişki vardır, bu ilişki anlamlı pozitif yönlü bir ilişkidir.\n"
     ]
    },
    {
     "data": {
      "text/plain": [
       "SignificanceResult(statistic=0.4400790074919885, pvalue=7.131027725873621e-24)"
      ]
     },
     "execution_count": 118,
     "metadata": {},
     "output_type": "execute_result"
    }
   ],
   "source": [
    "stats.kendalltau(df.tip,df.total_bill) # p-val 0,05 den küçüktür, yani H0 red edilir, Değişkenler arasında bir ilişki vardır, bu ilişki anlamlı pozitif yönlü bir ilişkidir."
   ]
  },
  {
   "cell_type": "code",
   "execution_count": null,
   "id": "621ab025-430f-4af9-91aa-92f8fc4a82f9",
   "metadata": {},
   "outputs": [],
   "source": []
  }
 ],
 "metadata": {
  "kernelspec": {
   "display_name": "Python 3 (ipykernel)",
   "language": "python",
   "name": "python3"
  },
  "language_info": {
   "codemirror_mode": {
    "name": "ipython",
    "version": 3
   },
   "file_extension": ".py",
   "mimetype": "text/x-python",
   "name": "python",
   "nbconvert_exporter": "python",
   "pygments_lexer": "ipython3",
   "version": "3.11.4"
  }
 },
 "nbformat": 4,
 "nbformat_minor": 5
}
