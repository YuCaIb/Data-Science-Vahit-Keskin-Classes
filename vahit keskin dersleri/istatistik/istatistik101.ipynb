{
 "cells": [
  {
   "cell_type": "markdown",
   "id": "9f9da4e8-1ab2-46be-b187-ab65310c5fdb",
   "metadata": {},
   "source": [
    "# Veri Bilimi için İstatistik\n",
    "## Örneklem, Örneklem Dağılımı, Merkezi Limit Teoremi"
   ]
  },
  {
   "cell_type": "code",
   "execution_count": 42,
   "id": "4f6b1263-a6e7-454d-8685-b21f3c5cd40c",
   "metadata": {
    "tags": []
   },
   "outputs": [],
   "source": [
    "# örneklem\n",
    "import numpy as np"
   ]
  },
  {
   "cell_type": "code",
   "execution_count": 53,
   "id": "d959e83a-f0ff-4e90-8a66-e4a89f9367bc",
   "metadata": {
    "tags": []
   },
   "outputs": [],
   "source": [
    "populasyon = np.random.randint(0,80,10000)"
   ]
  },
  {
   "cell_type": "code",
   "execution_count": 54,
   "id": "48cf112c-45e8-466b-8e2d-a683084e2ee3",
   "metadata": {
    "tags": []
   },
   "outputs": [
    {
     "data": {
      "text/plain": [
       "array([54, 42, 49, 63, 14, 76, 41, 64, 68, 26])"
      ]
     },
     "execution_count": 54,
     "metadata": {},
     "output_type": "execute_result"
    }
   ],
   "source": [
    "populasyon[0:10]"
   ]
  },
  {
   "cell_type": "code",
   "execution_count": 55,
   "id": "68e352ca-0252-451d-9706-010b9dcc806c",
   "metadata": {
    "tags": []
   },
   "outputs": [],
   "source": [
    "# örneklem cekimi\n",
    "np.random.seed(10)\n",
    "orneklem= np.random.choice(a= populasyon, size=100)"
   ]
  },
  {
   "cell_type": "code",
   "execution_count": 56,
   "id": "c2f46073-f312-4c1c-b0a0-65d170573a48",
   "metadata": {
    "tags": []
   },
   "outputs": [
    {
     "data": {
      "text/plain": [
       "array([17, 32, 69, 47, 61,  3, 78, 61, 52, 36])"
      ]
     },
     "execution_count": 56,
     "metadata": {},
     "output_type": "execute_result"
    }
   ],
   "source": [
    "orneklem[:10]"
   ]
  },
  {
   "cell_type": "code",
   "execution_count": 57,
   "id": "25792d19-23bf-41ff-9071-b7b693dc780b",
   "metadata": {
    "tags": []
   },
   "outputs": [
    {
     "data": {
      "text/plain": [
       "44.38"
      ]
     },
     "execution_count": 57,
     "metadata": {},
     "output_type": "execute_result"
    }
   ],
   "source": [
    "orneklem.mean()"
   ]
  },
  {
   "cell_type": "code",
   "execution_count": 58,
   "id": "2cb68ea7-905e-4e0f-b07d-f43e7534a2e0",
   "metadata": {
    "tags": []
   },
   "outputs": [
    {
     "data": {
      "text/plain": [
       "39.2299"
      ]
     },
     "execution_count": 58,
     "metadata": {},
     "output_type": "execute_result"
    }
   ],
   "source": [
    "populasyon.mean()"
   ]
  },
  {
   "cell_type": "code",
   "execution_count": 59,
   "id": "e33b0819-e057-491c-8330-9fd6f3039c05",
   "metadata": {
    "tags": []
   },
   "outputs": [],
   "source": [
    "#örneklem dağılımı\n",
    "np.random.seed(10)\n",
    "orneklem1 = np.random.choice(a= populasyon, size =100)\n",
    "orneklem2 = np.random.choice(a= populasyon, size =100)\n",
    "orneklem3 = np.random.choice(a= populasyon, size =100)\n",
    "orneklem4 = np.random.choice(a= populasyon, size =100)\n",
    "orneklem5 = np.random.choice(a= populasyon, size =100)\n",
    "orneklem6 = np.random.choice(a= populasyon, size =100)\n",
    "orneklem7 = np.random.choice(a= populasyon, size =100)\n",
    "orneklem8 = np.random.choice(a= populasyon, size =100)\n",
    "orneklem9 = np.random.choice(a= populasyon, size =100)\n",
    "orneklem10 = np.random.choice(a= populasyon, size =100)\n"
   ]
  },
  {
   "cell_type": "code",
   "execution_count": 61,
   "id": "a17320e1-21cf-406e-9d92-b4645ea03fd0",
   "metadata": {
    "tags": []
   },
   "outputs": [
    {
     "data": {
      "text/plain": [
       "39.800000000000004"
      ]
     },
     "execution_count": 61,
     "metadata": {},
     "output_type": "execute_result"
    }
   ],
   "source": [
    "(orneklem1.mean()+orneklem2.mean()+orneklem3.mean()+orneklem4.mean()+orneklem5.mean()+orneklem6.mean()\n",
    " +orneklem7.mean()+orneklem8.mean()+orneklem9.mean()+orneklem10.mean()) / 10"
   ]
  },
  {
   "cell_type": "code",
   "execution_count": 62,
   "id": "c3fcc89c-a5b6-410d-ade6-2406b0fd8576",
   "metadata": {
    "tags": []
   },
   "outputs": [
    {
     "data": {
      "text/plain": [
       "36.77"
      ]
     },
     "execution_count": 62,
     "metadata": {},
     "output_type": "execute_result"
    }
   ],
   "source": [
    "orneklem7.mean()"
   ]
  },
  {
   "cell_type": "code",
   "execution_count": 63,
   "id": "733421da-6b5e-4738-9a6f-a1b3361bdd0a",
   "metadata": {
    "tags": []
   },
   "outputs": [
    {
     "data": {
      "text/plain": [
       "39.05"
      ]
     },
     "execution_count": 63,
     "metadata": {},
     "output_type": "execute_result"
    }
   ],
   "source": [
    "orneklem10.mean()"
   ]
  },
  {
   "cell_type": "markdown",
   "id": "755c2113-b450-460d-a21d-664823a0ad0e",
   "metadata": {},
   "source": [
    "# Betimsel istatik\n",
    "## Ortalama , medyan , mod, kartiller, değişim aralığı, standart Sapma, Kovaryans , Korelasyon"
   ]
  },
  {
   "cell_type": "markdown",
   "id": "777ff408-b90e-403b-a1e1-aa4b347fbe15",
   "metadata": {
    "tags": []
   },
   "source": [
    "### varyans, ortalama etrafında dağılımın ölçüsü, SS'nin karesi\n",
    "### kovaryans iki değişken arasındaki ilişkinin değişkenlik ölçüsüdür.\n",
    "### cov(X,Y)= E[(X-E[X])(Y-E[Y])]\n",
    "### Korelasyon iki değişken arasındaki ilişkiyi, ilişkinin anlamlı olup olmadığını, ilişkinin şiddetini ve yönünü ifade eden istatiksel bir tekniktir."
   ]
  },
  {
   "cell_type": "code",
   "execution_count": 6,
   "id": "780ab56d-9f8f-4f49-89cd-02702a889f1e",
   "metadata": {
    "tags": []
   },
   "outputs": [],
   "source": [
    "import seaborn as sns\n",
    "tips = sns.load_dataset(\"tips\")\n",
    "df= tips.copy()"
   ]
  },
  {
   "cell_type": "code",
   "execution_count": 7,
   "id": "9dc73001-2e26-4a05-8851-7e2014d1f77c",
   "metadata": {
    "tags": []
   },
   "outputs": [
    {
     "data": {
      "text/html": [
       "<div>\n",
       "<style scoped>\n",
       "    .dataframe tbody tr th:only-of-type {\n",
       "        vertical-align: middle;\n",
       "    }\n",
       "\n",
       "    .dataframe tbody tr th {\n",
       "        vertical-align: top;\n",
       "    }\n",
       "\n",
       "    .dataframe thead th {\n",
       "        text-align: right;\n",
       "    }\n",
       "</style>\n",
       "<table border=\"1\" class=\"dataframe\">\n",
       "  <thead>\n",
       "    <tr style=\"text-align: right;\">\n",
       "      <th></th>\n",
       "      <th>count</th>\n",
       "      <th>mean</th>\n",
       "      <th>std</th>\n",
       "      <th>min</th>\n",
       "      <th>25%</th>\n",
       "      <th>50%</th>\n",
       "      <th>75%</th>\n",
       "      <th>max</th>\n",
       "    </tr>\n",
       "  </thead>\n",
       "  <tbody>\n",
       "    <tr>\n",
       "      <th>total_bill</th>\n",
       "      <td>244.0</td>\n",
       "      <td>19.785943</td>\n",
       "      <td>8.902412</td>\n",
       "      <td>3.07</td>\n",
       "      <td>13.3475</td>\n",
       "      <td>17.795</td>\n",
       "      <td>24.1275</td>\n",
       "      <td>50.81</td>\n",
       "    </tr>\n",
       "    <tr>\n",
       "      <th>tip</th>\n",
       "      <td>244.0</td>\n",
       "      <td>2.998279</td>\n",
       "      <td>1.383638</td>\n",
       "      <td>1.00</td>\n",
       "      <td>2.0000</td>\n",
       "      <td>2.900</td>\n",
       "      <td>3.5625</td>\n",
       "      <td>10.00</td>\n",
       "    </tr>\n",
       "    <tr>\n",
       "      <th>size</th>\n",
       "      <td>244.0</td>\n",
       "      <td>2.569672</td>\n",
       "      <td>0.951100</td>\n",
       "      <td>1.00</td>\n",
       "      <td>2.0000</td>\n",
       "      <td>2.000</td>\n",
       "      <td>3.0000</td>\n",
       "      <td>6.00</td>\n",
       "    </tr>\n",
       "  </tbody>\n",
       "</table>\n",
       "</div>"
      ],
      "text/plain": [
       "            count       mean       std   min      25%     50%      75%    max\n",
       "total_bill  244.0  19.785943  8.902412  3.07  13.3475  17.795  24.1275  50.81\n",
       "tip         244.0   2.998279  1.383638  1.00   2.0000   2.900   3.5625  10.00\n",
       "size        244.0   2.569672  0.951100  1.00   2.0000   2.000   3.0000   6.00"
      ]
     },
     "execution_count": 7,
     "metadata": {},
     "output_type": "execute_result"
    }
   ],
   "source": [
    "df.describe().T"
   ]
  },
  {
   "cell_type": "code",
   "execution_count": 71,
   "id": "5519a29f-7e8a-4bfe-8dc2-fc3554ce4cd2",
   "metadata": {
    "collapsed": true,
    "jupyter": {
     "outputs_hidden": true
    },
    "tags": []
   },
   "outputs": [
    {
     "name": "stdout",
     "output_type": "stream",
     "text": [
      "Collecting researchpy\n",
      "  Downloading researchpy-0.3.5-py3-none-any.whl (33 kB)\n",
      "Requirement already satisfied: scipy in c:\\users\\ycanf\\anaconda3\\lib\\site-packages (from researchpy) (1.10.1)\n",
      "Requirement already satisfied: numpy in c:\\users\\ycanf\\anaconda3\\lib\\site-packages (from researchpy) (1.24.3)\n",
      "Requirement already satisfied: pandas in c:\\users\\ycanf\\anaconda3\\lib\\site-packages (from researchpy) (1.5.3)\n",
      "Requirement already satisfied: statsmodels in c:\\users\\ycanf\\anaconda3\\lib\\site-packages (from researchpy) (0.14.0)\n",
      "Requirement already satisfied: patsy in c:\\users\\ycanf\\anaconda3\\lib\\site-packages (from researchpy) (0.5.3)\n",
      "Requirement already satisfied: python-dateutil>=2.8.1 in c:\\users\\ycanf\\anaconda3\\lib\\site-packages (from pandas->researchpy) (2.8.2)\n",
      "Requirement already satisfied: pytz>=2020.1 in c:\\users\\ycanf\\anaconda3\\lib\\site-packages (from pandas->researchpy) (2022.7)\n",
      "Requirement already satisfied: six in c:\\users\\ycanf\\anaconda3\\lib\\site-packages (from patsy->researchpy) (1.16.0)\n",
      "Requirement already satisfied: packaging>=21.3 in c:\\users\\ycanf\\anaconda3\\lib\\site-packages (from statsmodels->researchpy) (23.0)\n",
      "Installing collected packages: researchpy\n",
      "Successfully installed researchpy-0.3.5\n"
     ]
    }
   ],
   "source": [
    "!pip install researchpy"
   ]
  },
  {
   "cell_type": "code",
   "execution_count": 8,
   "id": "20523913-edf7-4b4f-ab48-b5a34e4f84a4",
   "metadata": {
    "tags": []
   },
   "outputs": [],
   "source": [
    "import researchpy as rp"
   ]
  },
  {
   "cell_type": "code",
   "execution_count": 9,
   "id": "bc7db96c-bab8-436b-a871-f5823be524e5",
   "metadata": {
    "tags": []
   },
   "outputs": [
    {
     "name": "stdout",
     "output_type": "stream",
     "text": [
      "\n",
      "\n"
     ]
    },
    {
     "name": "stderr",
     "output_type": "stream",
     "text": [
      "C:\\Users\\ycanf\\anaconda3\\Lib\\site-packages\\researchpy\\summary.py:60: FutureWarning: iteritems is deprecated and will be removed in a future version. Use .items instead.\n",
      "  for ix, df_col in group1.iteritems():\n"
     ]
    },
    {
     "data": {
      "text/html": [
       "<div>\n",
       "<style scoped>\n",
       "    .dataframe tbody tr th:only-of-type {\n",
       "        vertical-align: middle;\n",
       "    }\n",
       "\n",
       "    .dataframe tbody tr th {\n",
       "        vertical-align: top;\n",
       "    }\n",
       "\n",
       "    .dataframe thead th {\n",
       "        text-align: right;\n",
       "    }\n",
       "</style>\n",
       "<table border=\"1\" class=\"dataframe\">\n",
       "  <thead>\n",
       "    <tr style=\"text-align: right;\">\n",
       "      <th></th>\n",
       "      <th>Variable</th>\n",
       "      <th>N</th>\n",
       "      <th>Mean</th>\n",
       "      <th>SD</th>\n",
       "      <th>SE</th>\n",
       "      <th>95% Conf.</th>\n",
       "      <th>Interval</th>\n",
       "    </tr>\n",
       "  </thead>\n",
       "  <tbody>\n",
       "    <tr>\n",
       "      <th>0</th>\n",
       "      <td>total_bill</td>\n",
       "      <td>244.0</td>\n",
       "      <td>19.7859</td>\n",
       "      <td>8.9024</td>\n",
       "      <td>0.5699</td>\n",
       "      <td>18.6633</td>\n",
       "      <td>20.9086</td>\n",
       "    </tr>\n",
       "    <tr>\n",
       "      <th>1</th>\n",
       "      <td>tip</td>\n",
       "      <td>244.0</td>\n",
       "      <td>2.9983</td>\n",
       "      <td>1.3836</td>\n",
       "      <td>0.0886</td>\n",
       "      <td>2.8238</td>\n",
       "      <td>3.1728</td>\n",
       "    </tr>\n",
       "    <tr>\n",
       "      <th>2</th>\n",
       "      <td>size</td>\n",
       "      <td>244.0</td>\n",
       "      <td>2.5697</td>\n",
       "      <td>0.9511</td>\n",
       "      <td>0.0609</td>\n",
       "      <td>2.4497</td>\n",
       "      <td>2.6896</td>\n",
       "    </tr>\n",
       "  </tbody>\n",
       "</table>\n",
       "</div>"
      ],
      "text/plain": [
       "     Variable      N     Mean      SD      SE  95% Conf.  Interval\n",
       "0  total_bill  244.0  19.7859  8.9024  0.5699    18.6633   20.9086\n",
       "1         tip  244.0   2.9983  1.3836  0.0886     2.8238    3.1728\n",
       "2        size  244.0   2.5697  0.9511  0.0609     2.4497    2.6896"
      ]
     },
     "execution_count": 9,
     "metadata": {},
     "output_type": "execute_result"
    }
   ],
   "source": [
    "rp.summary_cont(df[['total_bill', 'tip','size']])"
   ]
  },
  {
   "cell_type": "code",
   "execution_count": 15,
   "id": "bb370104-b91f-4417-a100-89ac4bde2332",
   "metadata": {
    "tags": []
   },
   "outputs": [
    {
     "name": "stderr",
     "output_type": "stream",
     "text": [
      "C:\\Users\\ycanf\\anaconda3\\Lib\\site-packages\\researchpy\\summary.py:225: FutureWarning: iteritems is deprecated and will be removed in a future version. Use .items instead.\n",
      "  for ix, df_col in group1.iteritems():\n"
     ]
    },
    {
     "data": {
      "text/html": [
       "<div>\n",
       "<style scoped>\n",
       "    .dataframe tbody tr th:only-of-type {\n",
       "        vertical-align: middle;\n",
       "    }\n",
       "\n",
       "    .dataframe tbody tr th {\n",
       "        vertical-align: top;\n",
       "    }\n",
       "\n",
       "    .dataframe thead th {\n",
       "        text-align: right;\n",
       "    }\n",
       "</style>\n",
       "<table border=\"1\" class=\"dataframe\">\n",
       "  <thead>\n",
       "    <tr style=\"text-align: right;\">\n",
       "      <th></th>\n",
       "      <th>Variable</th>\n",
       "      <th>Outcome</th>\n",
       "      <th>Count</th>\n",
       "      <th>Percent</th>\n",
       "    </tr>\n",
       "  </thead>\n",
       "  <tbody>\n",
       "    <tr>\n",
       "      <th>0</th>\n",
       "      <td>sex</td>\n",
       "      <td>Male</td>\n",
       "      <td>157</td>\n",
       "      <td>64.34</td>\n",
       "    </tr>\n",
       "    <tr>\n",
       "      <th>1</th>\n",
       "      <td></td>\n",
       "      <td>Female</td>\n",
       "      <td>87</td>\n",
       "      <td>35.66</td>\n",
       "    </tr>\n",
       "    <tr>\n",
       "      <th>2</th>\n",
       "      <td>smoker</td>\n",
       "      <td>No</td>\n",
       "      <td>151</td>\n",
       "      <td>61.89</td>\n",
       "    </tr>\n",
       "    <tr>\n",
       "      <th>3</th>\n",
       "      <td></td>\n",
       "      <td>Yes</td>\n",
       "      <td>93</td>\n",
       "      <td>38.11</td>\n",
       "    </tr>\n",
       "    <tr>\n",
       "      <th>4</th>\n",
       "      <td>day</td>\n",
       "      <td>Sat</td>\n",
       "      <td>87</td>\n",
       "      <td>35.66</td>\n",
       "    </tr>\n",
       "    <tr>\n",
       "      <th>5</th>\n",
       "      <td></td>\n",
       "      <td>Sun</td>\n",
       "      <td>76</td>\n",
       "      <td>31.15</td>\n",
       "    </tr>\n",
       "    <tr>\n",
       "      <th>6</th>\n",
       "      <td></td>\n",
       "      <td>Thur</td>\n",
       "      <td>62</td>\n",
       "      <td>25.41</td>\n",
       "    </tr>\n",
       "    <tr>\n",
       "      <th>7</th>\n",
       "      <td></td>\n",
       "      <td>Fri</td>\n",
       "      <td>19</td>\n",
       "      <td>7.79</td>\n",
       "    </tr>\n",
       "  </tbody>\n",
       "</table>\n",
       "</div>"
      ],
      "text/plain": [
       "  Variable Outcome  Count  Percent\n",
       "0      sex    Male    157    64.34\n",
       "1           Female     87    35.66\n",
       "2   smoker      No    151    61.89\n",
       "3              Yes     93    38.11\n",
       "4      day     Sat     87    35.66\n",
       "5              Sun     76    31.15\n",
       "6             Thur     62    25.41\n",
       "7              Fri     19     7.79"
      ]
     },
     "execution_count": 15,
     "metadata": {},
     "output_type": "execute_result"
    }
   ],
   "source": [
    "rp.summary_cat(df[['sex', 'smoker','day']])"
   ]
  },
  {
   "cell_type": "code",
   "execution_count": 16,
   "id": "4755f33a-2341-46b8-8d4e-dcc8efc2248c",
   "metadata": {
    "tags": []
   },
   "outputs": [
    {
     "data": {
      "text/plain": [
       "Index(['total_bill', 'tip', 'sex', 'smoker', 'day', 'time', 'size'], dtype='object')"
      ]
     },
     "execution_count": 16,
     "metadata": {},
     "output_type": "execute_result"
    }
   ],
   "source": [
    "df.columns"
   ]
  },
  {
   "cell_type": "code",
   "execution_count": 83,
   "id": "39c748b1-fd9b-4df2-86c4-4193ab267f74",
   "metadata": {
    "tags": []
   },
   "outputs": [
    {
     "data": {
      "text/html": [
       "<div>\n",
       "<style scoped>\n",
       "    .dataframe tbody tr th:only-of-type {\n",
       "        vertical-align: middle;\n",
       "    }\n",
       "\n",
       "    .dataframe tbody tr th {\n",
       "        vertical-align: top;\n",
       "    }\n",
       "\n",
       "    .dataframe thead th {\n",
       "        text-align: right;\n",
       "    }\n",
       "</style>\n",
       "<table border=\"1\" class=\"dataframe\">\n",
       "  <thead>\n",
       "    <tr style=\"text-align: right;\">\n",
       "      <th></th>\n",
       "      <th>tip</th>\n",
       "      <th>total_bill</th>\n",
       "    </tr>\n",
       "  </thead>\n",
       "  <tbody>\n",
       "    <tr>\n",
       "      <th>tip</th>\n",
       "      <td>1.914455</td>\n",
       "      <td>8.323502</td>\n",
       "    </tr>\n",
       "    <tr>\n",
       "      <th>total_bill</th>\n",
       "      <td>8.323502</td>\n",
       "      <td>79.252939</td>\n",
       "    </tr>\n",
       "  </tbody>\n",
       "</table>\n",
       "</div>"
      ],
      "text/plain": [
       "                 tip  total_bill\n",
       "tip         1.914455    8.323502\n",
       "total_bill  8.323502   79.252939"
      ]
     },
     "execution_count": 83,
     "metadata": {},
     "output_type": "execute_result"
    }
   ],
   "source": [
    "df[[\"tip\",'total_bill']].cov() # kovaryans değişkenlerin ilişkilerine ilişkin değişkenlik ölçüsü veriyor"
   ]
  },
  {
   "cell_type": "code",
   "execution_count": 84,
   "id": "04746614-ef18-4516-ba99-def49de2d258",
   "metadata": {
    "tags": []
   },
   "outputs": [
    {
     "data": {
      "text/html": [
       "<div>\n",
       "<style scoped>\n",
       "    .dataframe tbody tr th:only-of-type {\n",
       "        vertical-align: middle;\n",
       "    }\n",
       "\n",
       "    .dataframe tbody tr th {\n",
       "        vertical-align: top;\n",
       "    }\n",
       "\n",
       "    .dataframe thead th {\n",
       "        text-align: right;\n",
       "    }\n",
       "</style>\n",
       "<table border=\"1\" class=\"dataframe\">\n",
       "  <thead>\n",
       "    <tr style=\"text-align: right;\">\n",
       "      <th></th>\n",
       "      <th>tip</th>\n",
       "      <th>total_bill</th>\n",
       "    </tr>\n",
       "  </thead>\n",
       "  <tbody>\n",
       "    <tr>\n",
       "      <th>tip</th>\n",
       "      <td>1.000000</td>\n",
       "      <td>0.675734</td>\n",
       "    </tr>\n",
       "    <tr>\n",
       "      <th>total_bill</th>\n",
       "      <td>0.675734</td>\n",
       "      <td>1.000000</td>\n",
       "    </tr>\n",
       "  </tbody>\n",
       "</table>\n",
       "</div>"
      ],
      "text/plain": [
       "                 tip  total_bill\n",
       "tip         1.000000    0.675734\n",
       "total_bill  0.675734    1.000000"
      ]
     },
     "execution_count": 84,
     "metadata": {},
     "output_type": "execute_result"
    }
   ],
   "source": [
    "df[[\"tip\",'total_bill']].corr()"
   ]
  },
  {
   "cell_type": "markdown",
   "id": "b4e08116-0dab-4f8f-ba40-bbdd66eeaaf5",
   "metadata": {},
   "source": [
    "## İş uygulaması Fiyat Stratejisi Karar Destek\n",
    "### Problem: Ceo Fiyat belirleme konusunda \"bilimsel bir dayanak ve esneklik\" istiyor\n",
    "\n",
    "### Detaylar : \n",
    "### Satıcı, alıcı ve bir ürün var\n",
    "### Alıcılara ürüne ne kadar ücret öderdiniz diye soruluyor. Kimse birbirinin teklif ettiği fiyatları göremiyor.\n",
    "### Optimum fiyat bilimsel ve esnek olarak bulunmak isteniyor(yani güven aralığı)"
   ]
  },
  {
   "cell_type": "code",
   "execution_count": 19,
   "id": "d3f01cea-4cf4-4fa9-92bf-8ca939b374e8",
   "metadata": {
    "tags": []
   },
   "outputs": [],
   "source": [
    "import numpy as np\n",
    "fiyatlar = np.random.randint(10,110,1000)"
   ]
  },
  {
   "cell_type": "code",
   "execution_count": 20,
   "id": "96cc6a16-94cc-4190-a129-02afdae93910",
   "metadata": {
    "tags": []
   },
   "outputs": [
    {
     "data": {
      "text/plain": [
       "array([ 18,  32,  46,  66,  30,  20,  28,  17,  38,  76,  10,  39,  43,\n",
       "        40,  76,  92,  89,  17,  65,  43,  91,  41,  20,  66,  61,  87,\n",
       "        57,  59,  87,  56,  17,  77,  75,  16,  76,  61,  54, 109,  37,\n",
       "       109, 104,  76,  94,  97,  88,  87,  59,  84,  29,  11,  39,  74,\n",
       "        62,  95, 107,  72,  22, 109,  76, 100,  87,  72,  50,  76,  47,\n",
       "        97,  69,  67,  17,  20,  56,  97, 107,  74, 104,  26,  38,  76,\n",
       "        49,  16,  78,  56,  47,  81,  22,  29,  67,  18,  19,  44,  56,\n",
       "        90, 104, 107,  86,  83,  13,  71, 103,  46,  10,  22,  77,  27,\n",
       "       105,  70,  25,  83,  69,  22,  82,  43,  38,  52,  40,  48,  49,\n",
       "        50,  78,  63,  92,  85,  91,  86,  33,  61,  39,  51,  21,  61,\n",
       "        48,  11,  83,  83,  65, 100,  47,  79,  67,  43,  17,  69,  18,\n",
       "        61,  90,  56,  50,  54,  67,  76,  97,  94,  21,  59,  97,  83,\n",
       "        59,  34,  45,  39, 103,  14,  63,  76,  99,  61,  71,  68,  67,\n",
       "        67,  13,  89, 107,  12,  43,  21,  86,  23,  57,  38,  12,  83,\n",
       "        49,  93,  87,  39,  97,  12,  88,  57,  30,  55,  71,  89,  89,\n",
       "        45, 106,  37,  54,  60,  11,  34,  83,  26,  45,  57,  57,  97,\n",
       "        19, 105,  62,  70,  62,  68,  45,  88,  77,  64,  93,  68,  45,\n",
       "       104,  49,  82,  20,  21,  82,  59,  17,  83,  52, 102,  31,  78,\n",
       "        92,  40,  19,  27,  11,  57,  51,  62,  61,  24, 106,  93,  43,\n",
       "        63,  49,  53,  16,  69,  47,  29,  44,  95,  82, 105,  27, 109,\n",
       "        43,  44,  65, 101, 103,  16, 101,  93,  91,  15,  62,  15,  36,\n",
       "        76,  90,  82,  50,  13,  87,  36,  41,  13, 100,  83,  96,  90,\n",
       "        45,  49,  21,  52,  84,  20, 106,  13,  54, 105,  38,  96,  35,\n",
       "        13, 106,  45,  93,  97,  69,  66,  49,  53,  79,  89,  38,  61,\n",
       "        55,  73,  89, 103,  48, 102,  97,  43,  68,  80,  51, 108,  55,\n",
       "        92,  73,  29,  64,  84,  80,  64,  28,  97, 106,  50,  47,  30,\n",
       "        97, 109, 106,  47,  36,  12,  88,  92,  26,  53, 104,  99,  17,\n",
       "        58,  79,  45,  11,  61,  84,  64,  83,  53,  33,  43,  65,  39,\n",
       "        67,  46,  53,  31,  93, 108,  80,  77,  82,  53,  13,  99,  93,\n",
       "        54,  86,  11,  14,  56,  71,  67,  74,  93,  56,  17,  72,  61,\n",
       "        91,  78, 109,  89,  19,  51,  51,  31,  16,  21,  75,  43,  84,\n",
       "        62,  87, 107,  97,  80,  22,  87, 103,  84,  59,  46, 103,  78,\n",
       "       108,  43,  60,  54, 102,  71,  73,  31,  47,  23,  40,  17,  84,\n",
       "        55,  18,  47,  96,  86,  39,  50,  41, 108, 102,  48,  61,  83,\n",
       "        64,  21,  50,  10,  66,  85,  33,  19,  48,  73,  57, 108, 108,\n",
       "        80,  32, 101,  42,  28,  37,  84,  27,  62,  25,  79,  32,  98,\n",
       "        75,  54,  37,  62,  81,  63,  17,  51,  34,  62,  22,  36,  78,\n",
       "        36,  53,  66,  44,  55,  22,  17, 108,  19,  55,  21,  79,  96,\n",
       "        31, 103,  67,  21,  75,  35,  16,  16,  43,  14,  35, 100,  35,\n",
       "        13,  67,  64,  62,  93,  96,  80,  85,  39,  30,  49,  44,  39,\n",
       "        42,  16,  56,  66,  71,  75,  14,  20,  61,  57,  22,  38,  16,\n",
       "        53,  51,  88,  93,  13,  38,  53,  72,  81, 107,  84,  20,  91,\n",
       "        40,  52,  34,  31,  58,  30,  20,  42, 100,  93,  84,  52,  74,\n",
       "        27,  62,  17,  64,  24,  21,  25,  37,  84,  16,  25,  61,  97,\n",
       "        25,  15,  17,  19,  26,  31,  68,  62,  75,  57,  46,  52,  24,\n",
       "        71,  13,  95,  64, 104,  30,  22,  50,  23,  31,  26,  65,  48,\n",
       "        24, 109,  80,  84,  13,  68,  63,  77,  61, 102,  15, 103,  11,\n",
       "        75,  59,  41,  82,  42,  97,  93,  80,  23, 102,  98,  65,  93,\n",
       "        92,  67,  88,  23,  10, 101,  48,  16,  75,  17, 102, 101,  89,\n",
       "        65,  58,  17,  79,  26,  80,  23,  70,  49,  18,  11,  94,  40,\n",
       "        61,  14,  60,  18,  73, 104,  52,  13,  49, 103,  56,  64,  80,\n",
       "        88, 109,  10,  70,  26,  59,  14,  84,  77,  12,  79,  95, 108,\n",
       "        38,  38,  58,  23,  78,  39,  72,  96,  40,  20,  32,  34,  99,\n",
       "       105,  84,  99,  94,  27,  90,  33,  29,  61,  36,  40,  39,  36,\n",
       "        81,  95,  58,  27,  29,  83,  76, 101, 100,  40,  98,  65, 103,\n",
       "        30,  58,  44,  69,  49,  39,  62,  98,  51,  52,  96,  33,  24,\n",
       "        41,  49,  83, 101,  91,  32,  21, 108,  16,  39,  87,  32,  77,\n",
       "        40,  10,  20,  91,  31,  75,  26, 108, 107,  48,  63,  34,  26,\n",
       "        87, 102,  66,  80, 100,  70,  69,  75,  58,  73,  11,  90,  67,\n",
       "       105,  94,  72,  85,  99,  41,  28,  53, 104,  59,  83,  95,  17,\n",
       "        80,  58,  21,  58,  91,  95,  58,  16,  55, 103,  90,  65,  54,\n",
       "        99,  19,  83,  89,  24, 106,  96,  34,  97,  54,  93,  50,  13,\n",
       "        14,  78,  55,  22,  50,  76,  55,  51,  17,  34,  37,  74,  50,\n",
       "        74,  61,  65,  10,  71,  43, 104,  42,  71,  62,  92,  67,  53,\n",
       "        55,  97,  60,  53,  74,  42,  84,  72,  67,  87,  25,  12, 102,\n",
       "        98,  70,  24,  11,  55,  98,  99,  69,  96,  82,  25, 109,  88,\n",
       "        77, 100,  47,  73,  38,  23,  15,  90,  82,  50,  24,  97,  10,\n",
       "        59,  14,  18,  80,  80,  79, 103,  55,  48,  74,  76,  20,  86,\n",
       "        83,  66,  69, 106,  82,  81,  65,  27,  11,  58, 101,  65,  81,\n",
       "        99,  44,  23,  86,  19,  75,  89,  94,  78,  61,  19,  15,  44,\n",
       "        76,  47,  98,  52,  64,  24,  83,  55,  37,  68, 100,  75,  43,\n",
       "        53,  99,  56,  80,  30, 109,  13,  60, 108,  72,  88, 109,  10,\n",
       "        47,  99,  91,  63,  33,  84,  62,  52,  14,  20,  88,  51,  81,\n",
       "        89,  24,  78, 100,  59,  11,  65,  37,  47,  49,  85,  20,  23,\n",
       "        91,  28,  24,  23,  26,  25,  73,  59,  15,  82,  81,  90,  98,\n",
       "       100,  30, 104,  28,  77,  37,  48, 105,  18,  41,  23,  43,  59,\n",
       "        28,  59, 101,  69,  83,  60,  13,  62,  34,  15,  86,  87])"
      ]
     },
     "execution_count": 20,
     "metadata": {},
     "output_type": "execute_result"
    }
   ],
   "source": [
    "fiyatlar"
   ]
  },
  {
   "cell_type": "code",
   "execution_count": 22,
   "id": "2e4eb7e6-36c8-4ef9-9f87-f45063ab8886",
   "metadata": {
    "tags": []
   },
   "outputs": [
    {
     "data": {
      "text/plain": [
       "59.738"
      ]
     },
     "execution_count": 22,
     "metadata": {},
     "output_type": "execute_result"
    }
   ],
   "source": [
    "fiyatlar.mean()"
   ]
  },
  {
   "cell_type": "code",
   "execution_count": 23,
   "id": "0931190f-658e-428d-9693-efeac36ff9c2",
   "metadata": {
    "tags": []
   },
   "outputs": [],
   "source": [
    "import statsmodels.stats.api as sms"
   ]
  },
  {
   "cell_type": "code",
   "execution_count": 24,
   "id": "20e9d66c-1cab-4136-90e2-653ffc543710",
   "metadata": {
    "tags": []
   },
   "outputs": [
    {
     "data": {
      "text/plain": [
       "(57.952379948397635, 61.523620051602364)"
      ]
     },
     "execution_count": 24,
     "metadata": {},
     "output_type": "execute_result"
    }
   ],
   "source": [
    "sms.DescrStatsW(fiyatlar).tconfint_mean()"
   ]
  },
  {
   "cell_type": "markdown",
   "id": "0995810f-e63c-4d18-b182-4519585e31d7",
   "metadata": {},
   "source": [
    "# Olasılığa giriş\n",
    "## Olasılık Dağılımları: Olayların olabilirliğinin sayısal ifadesidir\n",
    "## Rassal değişkenler ve olasılık dağılımları : Değerlerin bir deneyin sonuçlarından alan değişkene rassal değişken denir. örn: Yazı Tura, yazı veya tura gelebilir\n",
    "## Dağılım, Evrende bazı olaylar gerçekleşiyor, bu olayların sayısal karşılıklarının ortaya çıkardığı yapıya dağılım denir\n",
    "## Olasılık dağılımı: Bir rassal olaya ait değerler ve bu değerlerin gerçekleşme olasılıklarının bir arada ifade edilmesine denir.\n",
    "## Olasılık fonksiyonu: Bir değişkenin herhangi bir değeri alması, olasılığını hesaplayan fonksiyon\n",
    "--------------\n",
    "## Dağılım - olayların sayısal karşılığı\n",
    "## Olasılık Dağılımı Olayların sayısal karşışığının gerçekleşme olasılıklarıyla birlikte sunulması\n",
    "\n",
    "------------------------\n",
    "\n",
    "## Kesikli Olasılık dağılımları : Bernoulli, Binom, Poisson....\n",
    "## Sürekli Olasılık dağılımları : Normal dağılım, Uniform dağılım, Üstel dağılım"
   ]
  },
  {
   "cell_type": "markdown",
   "id": "ee77e6f4-58a1-4273-b0b1-bbe199f2ab1b",
   "metadata": {},
   "source": [
    "## Beronoulli dağılımı\n",
    "${\\displaystyle f(k;p) = p^{k} (1-p)^{1-k}\\quad {\\text {for }} k \\in \\{0,1\\} }$\n",
    "\n",
    "\n",
    "$ { \\displaystyle  \\operatorname {E} [X] = p }$\n",
    "\n",
    "$ {\\displaystyle  \\operatorname {Var} [X] = pq = p (1-p)}$\n"
   ]
  },
  {
   "cell_type": "code",
   "execution_count": 25,
   "id": "1b029d12-5f4e-4b25-8b16-490b7dd9ccd1",
   "metadata": {
    "tags": []
   },
   "outputs": [],
   "source": [
    "from scipy.stats import bernoulli"
   ]
  },
  {
   "cell_type": "code",
   "execution_count": 26,
   "id": "8f44ae1d-7a1f-44f1-9ceb-a48eef7efea2",
   "metadata": {
    "tags": []
   },
   "outputs": [],
   "source": [
    "p = 0.6"
   ]
  },
  {
   "cell_type": "code",
   "execution_count": 32,
   "id": "9cfe5c0e-6004-43d6-bc93-ebf6f2568fa5",
   "metadata": {
    "tags": []
   },
   "outputs": [
    {
     "data": {
      "text/plain": [
       "0.4"
      ]
     },
     "execution_count": 32,
     "metadata": {},
     "output_type": "execute_result"
    }
   ],
   "source": [
    "rv = bernoulli(p)\n",
    "rv.pmf(k = 0)"
   ]
  },
  {
   "cell_type": "markdown",
   "id": "77d46952-f1db-465a-9de1-9dd63570a0d6",
   "metadata": {},
   "source": [
    "# Büyük Sayılar Yasası\n",
    "## Bir rassal değişkenin uzun vadeli kararlılığını tanımlayan bir olasılık teorimidir."
   ]
  },
  {
   "cell_type": "code",
   "execution_count": 45,
   "id": "d6fe4912-b760-48eb-b647-fa00cf1772ce",
   "metadata": {
    "tags": []
   },
   "outputs": [
    {
     "name": "stdout",
     "output_type": "stream",
     "text": [
      "Atış sayısı:  2 ---- Yazı Olasılığı: 50.00\n",
      "Atış sayısı:  4 ---- Yazı Olasılığı: 0.00\n",
      "Atış sayısı:  8 ---- Yazı Olasılığı: 62.50\n",
      "Atış sayısı:  16 ---- Yazı Olasılığı: 43.75\n",
      "Atış sayısı:  32 ---- Yazı Olasılığı: 46.88\n",
      "Atış sayısı:  64 ---- Yazı Olasılığı: 56.25\n",
      "Atış sayısı:  128 ---- Yazı Olasılığı: 50.78\n",
      "Atış sayısı:  256 ---- Yazı Olasılığı: 52.73\n",
      "Atış sayısı:  512 ---- Yazı Olasılığı: 52.93\n",
      "Atış sayısı:  1024 ---- Yazı Olasılığı: 50.20\n",
      "Atış sayısı:  2048 ---- Yazı Olasılığı: 48.58\n",
      "Atış sayısı:  4096 ---- Yazı Olasılığı: 49.49\n",
      "Atış sayısı:  8192 ---- Yazı Olasılığı: 49.58\n",
      "Atış sayısı:  16384 ---- Yazı Olasılığı: 49.96\n",
      "Atış sayısı:  32768 ---- Yazı Olasılığı: 50.00\n",
      "Atış sayısı:  65536 ---- Yazı Olasılığı: 49.68\n",
      "Atış sayısı:  131072 ---- Yazı Olasılığı: 49.97\n",
      "Atış sayısı:  262144 ---- Yazı Olasılığı: 50.13\n",
      "Atış sayısı:  524288 ---- Yazı Olasılığı: 50.01\n",
      "Atış sayısı:  1048576 ---- Yazı Olasılığı: 50.09\n"
     ]
    }
   ],
   "source": [
    "import numpy as np\n",
    "rng = np.random.RandomState(123)\n",
    "for i in np.arange(1,21):\n",
    "    deney_sayisi = 2**i\n",
    "    yazi_turalar= rng.randint(0,2, size = deney_sayisi)\n",
    "    yazi_olasiliklari = np.mean(yazi_turalar)\n",
    "    print('Atış sayısı: ',deney_sayisi,\"----\", 'Yazı Olasılığı: %.2f' % (yazi_olasiliklari * 100))"
   ]
  },
  {
   "cell_type": "code",
   "execution_count": 43,
   "id": "cdba3fee-2e10-4e16-82a8-61f60501c375",
   "metadata": {
    "tags": []
   },
   "outputs": [
    {
     "data": {
      "text/plain": [
       "array([1, 0, 0, 0])"
      ]
     },
     "execution_count": 43,
     "metadata": {},
     "output_type": "execute_result"
    }
   ],
   "source": [
    "rng.randint(0,2, size =  4)"
   ]
  },
  {
   "cell_type": "markdown",
   "id": "ab7f9fd7-71ae-429d-a4d9-2b3f4048aade",
   "metadata": {},
   "source": [
    "# Binom Dağılımı  (Nominal, Kategorik,n kere deneme)\n",
    "### Bağımsız n deneme sonucu k başarılı olma ile ilgilendiğinizde kullanılan dağılımdır.\n",
    "### E(x)= n.p\n",
    "## var(x)= np (1-p)\n",
    "## f(x; n,p) = Kombinasyon(n,x) p^x (1-p)^(n-x), x = 0,1,2,......,n"
   ]
  },
  {
   "cell_type": "markdown",
   "id": "a9cf7c9e-8498-49e0-b241-a4544de4b4a1",
   "metadata": {
    "tags": []
   },
   "source": [
    "## İş uygulaması: Reklam Harcaması Optimizasyonu\n",
    "### Çeşitli Mecralara reklam veriliyor, reklamların tıklanma ve geri dönüşüm oranları optimize edilmeye çalışılıyor. Buna yönelik olarak belirli bir mecrada çeşitli senaryolara göre reklama tıklama olasılıkları hesaplanmak isteniliyor.\n",
    "### Detaylar: Bir mecrada reklam verilecek, Dağılım ve reklama tıklama olasılığı biliniyor(0.01)\n",
    "### Soru : Reklamı 100 kişi gördüğünde 1, 5 yada 10 tıklanma olasılığı nedir?"
   ]
  },
  {
   "cell_type": "code",
   "execution_count": 2,
   "id": "b4982b4e-6e63-491e-a8d9-f389d96cdb62",
   "metadata": {
    "tags": []
   },
   "outputs": [],
   "source": [
    "from scipy.stats import binom"
   ]
  },
  {
   "cell_type": "code",
   "execution_count": 5,
   "id": "cc79329f-1481-4a94-b398-9a88f2c83fe5",
   "metadata": {
    "tags": []
   },
   "outputs": [
    {
     "name": "stdout",
     "output_type": "stream",
     "text": [
      "0.36972963764972666\n",
      "0.002897787123761478\n",
      "7.006035693977194e-08\n"
     ]
    }
   ],
   "source": [
    "p = 0.01\n",
    "n=100\n",
    "rv = binom(n,p)\n",
    "print(rv.pmf(1))\n",
    "print(rv.pmf(5))\n",
    "print(rv.pmf(10))"
   ]
  },
  {
   "cell_type": "markdown",
   "id": "ffac8dfd-e542-4045-ac6d-e4fda65b9f13",
   "metadata": {
    "tags": []
   },
   "source": [
    "# Poisson dağılımı (rassal değişken, kesikli)\n",
    "# Belirli bir zaman aralığında belirli bir alanda nadiren rastlanan olayların olasılıklarını hesaplamak için kullanılır.\n",
    "## f(x,lamda) = lamda^x - e^(-x) ,  E(x)= lamda, var(x) = lamda\n",
    "## bir olayın nadir olabilimesi için:    n>50 , n*p < 5 \n",
    "## 10 bin kelimeden oluşan bir kitapta hatalı kelime sayısı\n",
    "## 4000 öğrencili okulda not girişinin hatalı yapılması\n",
    "## bir iş gününde çağrı merkezine gelen taktir sayısı.\n",
    "## Kredi kartı işlemlerinde sahtekarlık olması.\n",
    "## Rötara düşen uçak sayısı."
   ]
  },
  {
   "cell_type": "markdown",
   "id": "a7e0b215-e50c-40c4-96bb-0a009e592a64",
   "metadata": {},
   "source": [
    "# Passion Uygulama: İlan giriş hata olasılıkları.\n",
    "## Detaylar: Bir yıl süresince ölçümler yapılıyor, Dağılım biliniyor (Possion) ve Lambda 0.1(ortalama hatası), hiç hata olmaması\n",
    "## Soru: 3 hata olması ve 5 hata olması olasılıkları nedir ?"
   ]
  },
  {
   "cell_type": "code",
   "execution_count": 8,
   "id": "4ca95824-29ef-44b3-a884-d332a98e197f",
   "metadata": {
    "tags": []
   },
   "outputs": [],
   "source": [
    "from scipy.stats import poisson"
   ]
  },
  {
   "cell_type": "code",
   "execution_count": 12,
   "id": "600f7e92-b3bc-4828-b179-b2582c3ae44a",
   "metadata": {
    "tags": []
   },
   "outputs": [],
   "source": [
    "lambda_=0.1"
   ]
  },
  {
   "cell_type": "code",
   "execution_count": 14,
   "id": "21bf5cc8-a66a-449c-bf82-b4f4de74f269",
   "metadata": {
    "tags": []
   },
   "outputs": [
    {
     "name": "stdout",
     "output_type": "stream",
     "text": [
      "0.9048374180359595\n",
      "0.00015080623633932676\n",
      "7.54031181696634e-08\n"
     ]
    }
   ],
   "source": [
    "rv= poisson(mu= lambda_)\n",
    "print(rv.pmf(k=0))\n",
    "print(rv.pmf(k=3))\n",
    "print(rv.pmf(k=5))"
   ]
  },
  {
   "cell_type": "code",
   "execution_count": 15,
   "id": "5832d50c-c88e-4df1-89fb-6630a1f9a40f",
   "metadata": {
    "tags": []
   },
   "outputs": [],
   "source": [
    "# İŞ uygulaması: Satışaolasılıklarının hesaplanması\n",
    "##Problem : bir yatırım/toplantı öncesinde gelecek ay ile ilgili sayışların belirli değerlerde gerçekleşmesi olasılıkları belirlenmek isteniyor.\n",
    "## Detaylar Dağılımın normal olduğu biliniyor, Aylık ortalama satış sayısı 80K, standart sapması 5K,\n",
    "## sorular : 90k dan fazla satış yapma olasılığı nedir ? --- "
   ]
  },
  {
   "cell_type": "markdown",
   "id": "fab25aba-3227-444a-8eb6-a7b8e03f5aa0",
   "metadata": {},
   "source": [
    "$$\n",
    "f(x|\\mu,\\sigma^{2})=\\frac{1}{\\sqrt{2\\pi\\sigma^{2}}}e^{-\\frac{(x-\\mu)^{2}}{2\\sigma^{2}}}\n",
    "$$\n",
    "### u = ortalama ya da dağılımın ebklenen değeri\n",
    "### o = standart sapma\n",
    "### o^2 = varyans"
   ]
  },
  {
   "cell_type": "code",
   "execution_count": 2,
   "id": "4a71516d-4978-49b9-ae88-773bcbaadd97",
   "metadata": {
    "tags": []
   },
   "outputs": [],
   "source": [
    "from scipy.stats import norm"
   ]
  },
  {
   "cell_type": "code",
   "execution_count": 8,
   "id": "b8d6fc52-adaa-4c0d-8c2c-f5665ba8ee67",
   "metadata": {
    "tags": []
   },
   "outputs": [
    {
     "data": {
      "text/plain": [
       "0.02275013194817921"
      ]
     },
     "execution_count": 8,
     "metadata": {},
     "output_type": "execute_result"
    }
   ],
   "source": [
    "## 90 dan fazla\n",
    "1-norm.cdf(90,80,5)"
   ]
  },
  {
   "cell_type": "code",
   "execution_count": 9,
   "id": "552056ec-1e9e-43dd-87eb-d6f4776394cc",
   "metadata": {
    "tags": []
   },
   "outputs": [
    {
     "data": {
      "text/plain": [
       "0.9772498680518208"
      ]
     },
     "execution_count": 9,
     "metadata": {},
     "output_type": "execute_result"
    }
   ],
   "source": [
    "## 70 den fazla\n",
    "1-norm.cdf(70,80,5)"
   ]
  },
  {
   "cell_type": "code",
   "execution_count": 11,
   "id": "8c6d86ba-da42-46fc-bc6f-5f8e6aaf7d36",
   "metadata": {
    "tags": []
   },
   "outputs": [
    {
     "data": {
      "text/plain": [
       "0.08075665923377107"
      ]
     },
     "execution_count": 11,
     "metadata": {},
     "output_type": "execute_result"
    }
   ],
   "source": [
    "## 73 den fazla\n",
    "norm.cdf(73,80,5)"
   ]
  },
  {
   "cell_type": "code",
   "execution_count": 12,
   "id": "cc5fd45b-1d47-4651-9529-db4b7ece4771",
   "metadata": {
    "tags": []
   },
   "outputs": [
    {
     "data": {
      "text/plain": [
       "0.13590512198327787"
      ]
     },
     "execution_count": 12,
     "metadata": {},
     "output_type": "execute_result"
    }
   ],
   "source": [
    "## 85 ile 90 arası olması \n",
    "norm.cdf(90,80,5)- norm.cdf(85,80,5)"
   ]
  },
  {
   "cell_type": "code",
   "execution_count": null,
   "id": "1464b136-6099-4f96-8bb2-021aa924acc6",
   "metadata": {},
   "outputs": [],
   "source": [
    "### belirsilik altında karar vermeye çalışyoruz, bir şeyleri modellemeye veriye dökmeye çalışıyoruz, olasılık dağılımları olasılık değerleri veriyor. \n",
    "### uygun olasılık fonksiyonları ile olasılık hesapları yapıyoruz."
   ]
  }
 ],
 "metadata": {
  "kernelspec": {
   "display_name": "Python 3 (ipykernel)",
   "language": "python",
   "name": "python3"
  },
  "language_info": {
   "codemirror_mode": {
    "name": "ipython",
    "version": 3
   },
   "file_extension": ".py",
   "mimetype": "text/x-python",
   "name": "python",
   "nbconvert_exporter": "python",
   "pygments_lexer": "ipython3",
   "version": "3.11.4"
  }
 },
 "nbformat": 4,
 "nbformat_minor": 5
}
