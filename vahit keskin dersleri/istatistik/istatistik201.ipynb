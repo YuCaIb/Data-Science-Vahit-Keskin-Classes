{
 "cells": [
  {
   "cell_type": "markdown",
   "id": "9572fce1-216f-4355-9b59-411ae6a656f5",
   "metadata": {
    "tags": []
   },
   "source": [
    "# Hipotez Testi nedir ?\n",
    "### Bir inanışı(bir savı, bir tahmini vs) test etmek için kullanılan istatiksel bir tekniktir."
   ]
  },
  {
   "cell_type": "markdown",
   "id": "68fe9831-3933-426e-a6b1-4d17f916a77a",
   "metadata": {},
   "source": [
    "# Hipotezler ve Türleri\n",
    "\n",
    "### H0 : u = 50 \n",
    "### H1 : u != 50 \n",
    "---------\n",
    "### H0 : u <= 50 \n",
    "### H1 : u > 50 \n",
    "-----\n",
    "### H0 : u >= 50 \n",
    "### H1 : u < 50 "
   ]
  },
  {
   "cell_type": "markdown",
   "id": "82227170-b8f5-49bb-b9b2-297fa56f006a",
   "metadata": {
    "tags": []
   },
   "source": [
    "## P<0.05 olleyyy\n",
    "### Hipotez testlerini sonuçlarını değerlendirmek üzere programlar tarafından p-value değeri verilir. Bu değer üzerinden kolayca yorum yapabiliriz.\n",
    "## Dağılıtım tesletrinde H0 reddeilmek istenilmez. Çünkü H0 'örnek dağılımı ile teorik dağılım arasıdna fark yoktur' der.\n"
   ]
  },
  {
   "cell_type": "markdown",
   "id": "a86e6933-3bac-4785-accc-a9f780d6a803",
   "metadata": {},
   "source": [
    "# HİPOTEZ TESTİ ADIMLARI\n",
    "* Hipotzlerin kurulması ve yönlerinin belirlenmesi   --- H0: u=50 --- H1: u != 50\n",
    "* Anlamlılık düzeyinin ve tablo değerinin belirlenmesi.\n",
    "* Test istatitiğinin belirlenmesi ve test istatiğinin hesaplanması.\n",
    "* Hesaplanan test istatiğinin ile alfa'ya karşılık gelen tablo değerinin karşılaştırılması. direk p- valueya da bakabilirz.\n",
    "* Test istatistiği (Zh)>Tablo değeri (Zt) ise H Red\n",
    "* Yorum"
   ]
  },
  {
   "cell_type": "markdown",
   "id": "0af00d43-9057-495e-a358-1835c7d683c8",
   "metadata": {},
   "source": [
    "# Tek Örneklem T testi\n",
    "### Popülasyon ortalaması ile varsayımsal bir değer arasında istatiksel olarak anlamlı bir farklılık olup olmadığını test etmek için kullanılan paramtrik bir testtir.\n",
    "* Örnek ortalaması ilişkin test yapmak için kullanılır.\n",
    "-------------------\n",
    "### Hipotezler\n",
    "* H0: u=50         \n",
    "* H0: u<=50        \n",
    "* H0: u>=50\n",
    "* H1: u!=50\n",
    "* H1: u<=50      \n",
    "* H1: u>=50\n",
    "----------\n",
    "### Test istatistikleri\n",
    "* t= (x-u)/ (s/(n^1/2))\n",
    "* z = (x-u)/ (fi/(n^1/2))\n",
    "\n",
    "###\n",
    "---------------\n",
    "* Ana kütle standart sapması biliniyorsa z istatiği kullanılır.\n",
    "* Ana kütle standart sapması bilinmiyorsa ve n>30 ise z istatiği kullanılır.\n",
    "* Ana kütle standart sapması bilinmiyor ve n<30 ise t istatiği kullanılır.\n",
    "-----------------\n",
    "## Tek bir örneklemin ortalamasına ilişkin test yapma ihtiyacı duyulduğunda bu testi kullanırız:\n",
    "* Web sitemizde insanların geçirdiği süre, 180 saniyedir ya da değildir veya fazladır, azdır gibi"
   ]
  },
  {
   "cell_type": "markdown",
   "id": "0bf089f5-98ab-4250-af16-5f0e7e524635",
   "metadata": {
    "tags": []
   },
   "source": [
    "# Uygulama: Ürün Satın Alma Adım Optimizasyonu\n",
    "### Problem Spete ürün ekleme işlemi sonrasında ödeme ekranında 5 adım vardır ve bu adamıların birisi sorgulanmaktadır.\n",
    "### Detaylar :\n",
    "* Her adımın 20'şer sn olması hedefi var. 4. adım sorgulanıyor.\n",
    "* Bu durumu test etmek için 100 örnek alınıyor.\n",
    "* Örnek standart sapması 5 saniyedir. Örnek ortalaması ise 19 saniyedir."
   ]
  },
  {
   "cell_type": "markdown",
   "id": "de420c99-be67-4a9b-8e3e-cf00d05af077",
   "metadata": {
    "tags": []
   },
   "source": [
    "* Hipotezin kurulması ve yönlerin belirlenmesi, H0: u=20 , H1 != 20\n",
    "------------------\n",
    "* Anlamlılık düzeyinin belirlenmesi ve tablo değerinin belirlenmesi alfa = 0,05, alfa/2= 0,025\n",
    "* Zatablo olaslılık değeri: 0,5-0,025= 0,475\n",
    "* Ztablo kritik değer = -/+ 1,96\n",
    "------------------\n",
    "* Test istatiğinin belirlenmesi ve test istatiğinin hesaplanması.\n",
    "* n= 100, Standart Sapma=5, örnek oralaması 19 sn\n",
    "* z=(x-u)/ (fi/(n^1/2)) , zhesap = (19-20) / (5/ 100^1/2 ) = -2,00\n",
    "------------------\n",
    "* Ztablo ve Zhesap karşılaştırılması Zh<Zt ya da -Zh< -Zt ise H0 red\n",
    "* Zhesap = -2,00 < Ztablo=-196 olduğu için H0 reddedilir.\n",
    "-------------------------\n",
    "* Yorum\n",
    " * H0: u=20\n",
    " * H1 != 20\n",
    "* 4. Adımda geçirilen sürenin 20 saniye olduğunu iddia eden H0 Hipotetzi reddedilmiştir. Buna göre kullanıcılar İstatisel olarak %95 güvenilirlik ile 4. adımda 20 saniyeden fazla zaman geçirmektedir."
   ]
  },
  {
   "cell_type": "markdown",
   "id": "28d45166-4714-4907-8c58-90c1381878d8",
   "metadata": {},
   "source": [
    "# Web Sitesinde geçirilen Sürenin Testi\n",
    "## Problem : Web sitemizde geçirilen ortalama süre gerçekten 170 saniye mi ?\n",
    "## Detaylar :\n",
    "* Yazılımlardan elde edilen web sitesinden geçirilen ort. süreler var.\n",
    "* Bu veriler incelendiğinden bir yönetici ya da çalışanımız bu değerlerin böyle olmadığına yönelik düşünceler taşıyor ve bu durumu test etmek istiyorlar.\n",
    "\n",
    "### HİPTOEZ\n",
    "* H0: u=170\n",
    "* H0: u!=170"
   ]
  },
  {
   "cell_type": "markdown",
   "id": "cd8fe6ba-4987-4b39-adbe-91e097ec638f",
   "metadata": {
    "tags": []
   },
   "source": [
    "# Tek örneklem T testi\n",
    "## Örnek ortalamasına ilişkin test yapmak için kullanılır.\n",
    "### Hipotezler : \n",
    "$ H_0: \\mu = 50 $\n",
    "\n",
    "$ H_1: \\mu > 50 $\n",
    "\n",
    "$ H_0: \\mu \\le 50 $\n",
    "\n",
    "$ H_1: \\mu < 50 $\n",
    "\n",
    "### Test istatistiği\n",
    "$t = \\frac{\\overline{x} - \\mu_0}{\\frac{s}{\\sqrt{n}}}$"
   ]
  },
  {
   "cell_type": "code",
   "execution_count": 3,
   "id": "cb93a97d-bbd3-4fb3-99bc-8f0a25327002",
   "metadata": {
    "tags": []
   },
   "outputs": [],
   "source": [
    "import numpy as np\n",
    "olcumler = np.array([17, 160, 234, 149, 145, 107, 197, 75, 201, 225, 211, 119,\n",
    "157, 145, 127, 244, 163, 114, 145, 65, 112, 185, 202, 146,\n",
    "203, 224, 203, 114, 188, 156, 187, 154, 177, 95, 165, 50, 110,\n",
    "216, 138, 151, 166, 135, 155, 84, 251, 173, 131, 207, 121, 120])"
   ]
  },
  {
   "cell_type": "code",
   "execution_count": 4,
   "id": "770e71a9-7686-4b50-8dff-b20672e9791e",
   "metadata": {
    "tags": []
   },
   "outputs": [
    {
     "data": {
      "text/plain": [
       "array([ 17, 160, 234, 149, 145, 107, 197,  75, 201, 225])"
      ]
     },
     "execution_count": 4,
     "metadata": {},
     "output_type": "execute_result"
    }
   ],
   "source": [
    "olcumler[0:10]"
   ]
  },
  {
   "cell_type": "code",
   "execution_count": 5,
   "id": "83897d7a-85c9-49d4-affd-3d5da914ea39",
   "metadata": {
    "tags": []
   },
   "outputs": [],
   "source": [
    "import scipy.stats as stats"
   ]
  },
  {
   "cell_type": "code",
   "execution_count": 6,
   "id": "e0142eef-e98e-4694-86e8-ea112f1374b0",
   "metadata": {
    "tags": []
   },
   "outputs": [
    {
     "data": {
      "text/plain": [
       "DescribeResult(nobs=50, minmax=(17, 251), mean=154.38, variance=2578.0363265306123, skewness=-0.32398897278694483, kurtosis=-0.05849823498415985)"
      ]
     },
     "execution_count": 6,
     "metadata": {},
     "output_type": "execute_result"
    }
   ],
   "source": [
    "stats.describe(olcumler)"
   ]
  },
  {
   "cell_type": "markdown",
   "id": "360dde84-7de0-470a-9f32-7b6ef36df849",
   "metadata": {},
   "source": [
    "## t örneklem testinin varsyımları:\n",
    "* Normallik varsayımı\n"
   ]
  },
  {
   "cell_type": "code",
   "execution_count": 7,
   "id": "edecf497-addf-48ed-a199-0a5aea5e4f29",
   "metadata": {
    "tags": []
   },
   "outputs": [
    {
     "data": {
      "image/png": "[encoded data removed]",
      "text/plain": [
       "<Figure size 640x480 with 1 Axes>"
      ]
     },
     "metadata": {},
     "output_type": "display_data"
    }
   ],
   "source": [
    "#histogram\n",
    "import pandas as pd\n",
    "pd.DataFrame(olcumler).plot.hist();"
   ]
  },
  {
   "cell_type": "code",
   "execution_count": 8,
   "id": "182d79fe-5cc9-4e7e-9446-10f8d6274da5",
   "metadata": {
    "tags": []
   },
   "outputs": [
    {
     "data": {
      "image/png": "[encoded data removed]",
      "text/plain": [
       "<Figure size 640x480 with 1 Axes>"
      ]
     },
     "metadata": {},
     "output_type": "display_data"
    }
   ],
   "source": [
    "## qq plot\n",
    "import pylab\n",
    "stats.probplot(olcumler, dist='norm', plot=pylab)\n",
    "pylab.show()"
   ]
  },
  {
   "cell_type": "markdown",
   "id": "fb1bb431-ac3a-4913-849a-2ea702986e77",
   "metadata": {},
   "source": [
    "# Shapiro-Wilks Testi\n",
    "## H0: örnek dağılımı ile teorik normal dağılım arasında ist. ol. anl. bir fark yoktur.\n",
    "## H1: .....fark vardır."
   ]
  },
  {
   "cell_type": "code",
   "execution_count": 9,
   "id": "a74d731e-9637-419b-9c9d-94c0b014cc4f",
   "metadata": {
    "tags": []
   },
   "outputs": [],
   "source": [
    "from scipy.stats import shapiro"
   ]
  },
  {
   "cell_type": "code",
   "execution_count": 10,
   "id": "507d9a2c-6cab-407f-abb5-829b5d8b7bfe",
   "metadata": {
    "tags": []
   },
   "outputs": [
    {
     "data": {
      "text/plain": [
       "ShapiroResult(statistic=0.9853101372718811, pvalue=0.7848551869392395)"
      ]
     },
     "execution_count": 10,
     "metadata": {},
     "output_type": "execute_result"
    }
   ],
   "source": [
    "shapiro(olcumler) # p value değeri 0.05 den küçük olduğunda H0'ı red ediyoruz. ancak burada edemiyoruz ! yani T testini yapabiliriz."
   ]
  },
  {
   "cell_type": "code",
   "execution_count": 11,
   "id": "91f0d7f2-83d4-4651-9dfa-25d7c373b958",
   "metadata": {
    "tags": []
   },
   "outputs": [
    {
     "data": {
      "text/plain": [
       "TtestResult(statistic=-2.1753117985877966, pvalue=0.034460415195071446, df=49)"
      ]
     },
     "execution_count": 11,
     "metadata": {},
     "output_type": "execute_result"
    }
   ],
   "source": [
    "stats.ttest_1samp(olcumler, popmean=170 )"
   ]
  },
  {
   "cell_type": "markdown",
   "id": "69fb1980-3089-4d53-8238-2b74a5b19b19",
   "metadata": {},
   "source": [
    "H0 : Web sitemizde geçirilen ortalama süre 170'tir.\n",
    "\n",
    "H1 : ... değildir.\n",
    "\n",
    "p-value değeri 0.05 den küçük H0 değeri red edilir. yani Web sitemizde geçirilen süre 170 saniye değildir! "
   ]
  },
  {
   "cell_type": "markdown",
   "id": "dbb3a193-1d34-41cc-b768-e4ae5464a498",
   "metadata": {
    "tags": []
   },
   "source": [
    "# Nonparametrik Tek Örneklem Testi\n",
    "## "
   ]
  },
  {
   "cell_type": "code",
   "execution_count": 12,
   "id": "f1c90ca8-47c3-4363-b892-af2c6beede95",
   "metadata": {
    "tags": []
   },
   "outputs": [],
   "source": [
    "from statsmodels.stats.descriptivestats import sign_test"
   ]
  },
  {
   "cell_type": "code",
   "execution_count": 15,
   "id": "193a8b2e-bac5-48a6-a63f-ca6bc6384a44",
   "metadata": {},
   "outputs": [
    {
     "data": {
      "text/plain": [
       "(-7.0, 0.06490864707227217)"
      ]
     },
     "execution_count": 15,
     "metadata": {},
     "output_type": "execute_result"
    }
   ],
   "source": [
    "sign_test(olcumler,170) \n",
    "## Elimizde ki veri zaten parametrikti,\n",
    "## bu testin sonucu zaten yanıltıcı. Elimizde ki veri hali hazırda normal dağılım a benzediği ve Parametrik olduğu için şu bu testin soncu ile ilgilenmiyoruz.\n",
    "## Sadece nasıl yapıldığını gördük."
   ]
  },
  {
   "cell_type": "code",
   "execution_count": 14,
   "id": "dd80a187-875d-4566-95d5-765531b31820",
   "metadata": {
    "tags": []
   },
   "outputs": [
    {
     "data": {
      "text/plain": [
       "\u001b[1;31mSignature:\u001b[0m \u001b[0msign_test\u001b[0m\u001b[1;33m(\u001b[0m\u001b[0msamp\u001b[0m\u001b[1;33m,\u001b[0m \u001b[0mmu0\u001b[0m\u001b[1;33m=\u001b[0m\u001b[1;36m0\u001b[0m\u001b[1;33m)\u001b[0m\u001b[1;33m\u001b[0m\u001b[1;33m\u001b[0m\u001b[0m\n",
       "\u001b[1;31mDocstring:\u001b[0m\n",
       "Signs test\n",
       "\n",
       "Parameters\n",
       "----------\n",
       "samp : array_like\n",
       "    1d array. The sample for which you want to perform the sign test.\n",
       "mu0 : float\n",
       "    See Notes for the definition of the sign test. mu0 is 0 by\n",
       "    default, but it is common to set it to the median.\n",
       "\n",
       "Returns\n",
       "-------\n",
       "M\n",
       "p-value\n",
       "\n",
       "Notes\n",
       "-----\n",
       "The signs test returns\n",
       "\n",
       "M = (N(+) - N(-))/2\n",
       "\n",
       "where N(+) is the number of values above `mu0`, N(-) is the number of\n",
       "values below.  Values equal to `mu0` are discarded.\n",
       "\n",
       "The p-value for M is calculated using the binomial distribution\n",
       "and can be interpreted the same as for a t-test. The test-statistic\n",
       "is distributed Binom(min(N(+), N(-)), n_trials, .5) where n_trials\n",
       "equals N(+) + N(-).\n",
       "\n",
       "See Also\n",
       "--------\n",
       "scipy.stats.wilcoxon\n",
       "\u001b[1;31mFile:\u001b[0m      c:\\users\\ycanf\\anaconda3\\lib\\site-packages\\statsmodels\\stats\\descriptivestats.py\n",
       "\u001b[1;31mType:\u001b[0m      function"
      ]
     },
     "metadata": {},
     "output_type": "display_data"
    }
   ],
   "source": [
    "?sign_test"
   ]
  },
  {
   "cell_type": "markdown",
   "id": "a750fd06-88ed-465d-8289-17e11855b634",
   "metadata": {},
   "source": [
    "# Tek Örneklem Oran Testi\n",
    "## Oransal bir ifade test edilmek istenildiğinde kullanılır."
   ]
  },
  {
   "cell_type": "markdown",
   "id": "98569e52-fc3a-4d76-973e-859a187f4de9",
   "metadata": {
    "tags": []
   },
   "source": [
    "$ H_0:  p = p_0 $\n",
    "\n",
    "$ H_1:  p != p_0 $\n",
    "\n",
    "--------------------------------------------------\n",
    "$ H_0:  p  \\le  p_0 $\n",
    "\n",
    "$ H_1:  p > p_0 $\n",
    "\n",
    "---------------------------------------------------------------\n",
    "$ H_0:  p  >=  p_0 $\n",
    "\n",
    "$ H_1:  p < p_0 $\n",
    "\n",
    "-------------------------------------------------------------------------\n",
    "\n",
    "#### Varsayım: n>30 olmak zorunda\n",
    "\n",
    "-------------------------------------------\n",
    "\n",
    "\n",
    "### Test istetistiği\n",
    "$ z = \\frac{\\hat{p} - p_0}{\\sqrt{\\frac{p_0(1 - p_0)}{n}}} $\n",
    "\n",
    "$\\hat{p}  $ örnek üzerinden elde edilen değer\n",
    "\n",
    "$ {p_0}  $ örnek üzerinden elde edilen değer\n"
   ]
  },
  {
   "cell_type": "markdown",
   "id": "71f454c7-365f-4489-b654-2d8a988b70f4",
   "metadata": {},
   "source": [
    "# İş Uygulaması: Dönüşüm Oranı Testi\n",
    "### Dönüşüm oranı: 100 kişi gördü 1 kişi aldı, yani \"dönüşüm oranı = 0,01\"\n",
    "* ilgileninlen olay / o olaya maruz kalan kişi sayısı\n",
    "\n",
    "* bir ürünü bu kadar kişi sepete koydu, bu kadarı satıın aldı"
   ]
  },
  {
   "cell_type": "markdown",
   "id": "cbddadaa-1752-4a0e-8e7f-c3bd3ec48bb7",
   "metadata": {
    "tags": []
   },
   "source": [
    "* Problem: Bir yazılım ile bir mecrada reklam verilmiş ve bu reklama ilişkin yazılım tarafından 0.125 dönüşüm oranı elde edildiği ifade edilmiş. Fakat bu durum kontrol edilmek isteniyor. Çünkü bu yüksek bir oran ve gelirler incelendiğinde örtüşmüyor.\n",
    "* Detaylar:\n",
    "* 500 kişi dış mecrada reklamlara tıklamış, 40 tanesi sitemize gelip alışveriş yapmış.\n",
    "* öRNEK ÜZERİNDEN ELDE EDİLEN DÖNÜŞÜM ORANI 40/500 = 0,08"
   ]
  },
  {
   "cell_type": "markdown",
   "id": "c2aaaefb-2003-4999-bec2-0d113cb3da03",
   "metadata": {},
   "source": [
    "$ H_0 : p = 0.125 $\n",
    "\n",
    "$ H_1: p != 0.125 $"
   ]
  },
  {
   "cell_type": "code",
   "execution_count": 3,
   "id": "6904edc9-e47d-4a76-9bde-b078fa119e28",
   "metadata": {
    "tags": []
   },
   "outputs": [],
   "source": [
    "from statsmodels.stats.proportion import proportions_ztest"
   ]
  },
  {
   "cell_type": "code",
   "execution_count": 5,
   "id": "b504cf6d-3c34-46b8-9f0e-e0dd9e35bc41",
   "metadata": {
    "tags": []
   },
   "outputs": [],
   "source": [
    "count=40\n",
    "nobs=500\n",
    "value=0.125"
   ]
  },
  {
   "cell_type": "code",
   "execution_count": 6,
   "id": "dd9f2506-8e29-4e67-b823-80795a8c10c4",
   "metadata": {
    "tags": []
   },
   "outputs": [
    {
     "data": {
      "text/plain": [
       "(-3.7090151628513017, 0.0002080669689845979)"
      ]
     },
     "execution_count": 6,
     "metadata": {},
     "output_type": "execute_result"
    }
   ],
   "source": [
    "proportions_ztest(count,nobs,value) #P VAL, 0,05 den daha küçük, H0 red edilir."
   ]
  },
  {
   "cell_type": "code",
   "execution_count": 7,
   "id": "b0ff9d96-e7b7-4048-9e8b-c43df648614d",
   "metadata": {
    "collapsed": true,
    "jupyter": {
     "outputs_hidden": true
    },
    "tags": []
   },
   "outputs": [
    {
     "data": {
      "text/plain": [
       "\u001b[1;31mSignature:\u001b[0m\n",
       "\u001b[0mproportions_ztest\u001b[0m\u001b[1;33m(\u001b[0m\u001b[1;33m\n",
       "\u001b[0m    \u001b[0mcount\u001b[0m\u001b[1;33m,\u001b[0m\u001b[1;33m\n",
       "\u001b[0m    \u001b[0mnobs\u001b[0m\u001b[1;33m,\u001b[0m\u001b[1;33m\n",
       "\u001b[0m    \u001b[0mvalue\u001b[0m\u001b[1;33m=\u001b[0m\u001b[1;32mNone\u001b[0m\u001b[1;33m,\u001b[0m\u001b[1;33m\n",
       "\u001b[0m    \u001b[0malternative\u001b[0m\u001b[1;33m=\u001b[0m\u001b[1;34m'two-sided'\u001b[0m\u001b[1;33m,\u001b[0m\u001b[1;33m\n",
       "\u001b[0m    \u001b[0mprop_var\u001b[0m\u001b[1;33m=\u001b[0m\u001b[1;32mFalse\u001b[0m\u001b[1;33m,\u001b[0m\u001b[1;33m\n",
       "\u001b[0m\u001b[1;33m)\u001b[0m\u001b[1;33m\u001b[0m\u001b[1;33m\u001b[0m\u001b[0m\n",
       "\u001b[1;31mDocstring:\u001b[0m\n",
       "Test for proportions based on normal (z) test\n",
       "\n",
       "Parameters\n",
       "----------\n",
       "count : {int, array_like}\n",
       "    the number of successes in nobs trials. If this is array_like, then\n",
       "    the assumption is that this represents the number of successes for\n",
       "    each independent sample\n",
       "nobs : {int, array_like}\n",
       "    the number of trials or observations, with the same length as\n",
       "    count.\n",
       "value : float, array_like or None, optional\n",
       "    This is the value of the null hypothesis equal to the proportion in the\n",
       "    case of a one sample test. In the case of a two-sample test, the\n",
       "    null hypothesis is that prop[0] - prop[1] = value, where prop is the\n",
       "    proportion in the two samples. If not provided value = 0 and the null\n",
       "    is prop[0] = prop[1]\n",
       "alternative : str in ['two-sided', 'smaller', 'larger']\n",
       "    The alternative hypothesis can be either two-sided or one of the one-\n",
       "    sided tests, smaller means that the alternative hypothesis is\n",
       "    ``prop < value`` and larger means ``prop > value``. In the two sample\n",
       "    test, smaller means that the alternative hypothesis is ``p1 < p2`` and\n",
       "    larger means ``p1 > p2`` where ``p1`` is the proportion of the first\n",
       "    sample and ``p2`` of the second one.\n",
       "prop_var : False or float in (0, 1)\n",
       "    If prop_var is false, then the variance of the proportion estimate is\n",
       "    calculated based on the sample proportion. Alternatively, a proportion\n",
       "    can be specified to calculate this variance. Common use case is to\n",
       "    use the proportion under the Null hypothesis to specify the variance\n",
       "    of the proportion estimate.\n",
       "\n",
       "Returns\n",
       "-------\n",
       "zstat : float\n",
       "    test statistic for the z-test\n",
       "p-value : float\n",
       "    p-value for the z-test\n",
       "\n",
       "Examples\n",
       "--------\n",
       ">>> count = 5\n",
       ">>> nobs = 83\n",
       ">>> value = .05\n",
       ">>> stat, pval = proportions_ztest(count, nobs, value)\n",
       ">>> print('{0:0.3f}'.format(pval))\n",
       "0.695\n",
       "\n",
       ">>> import numpy as np\n",
       ">>> from statsmodels.stats.proportion import proportions_ztest\n",
       ">>> count = np.array([5, 12])\n",
       ">>> nobs = np.array([83, 99])\n",
       ">>> stat, pval = proportions_ztest(count, nobs)\n",
       ">>> print('{0:0.3f}'.format(pval))\n",
       "0.159\n",
       "\n",
       "Notes\n",
       "-----\n",
       "This uses a simple normal test for proportions. It should be the same as\n",
       "running the mean z-test on the data encoded 1 for event and 0 for no event\n",
       "so that the sum corresponds to the count.\n",
       "\n",
       "In the one and two sample cases with two-sided alternative, this test\n",
       "produces the same p-value as ``proportions_chisquare``, since the\n",
       "chisquare is the distribution of the square of a standard normal\n",
       "distribution.\n",
       "\u001b[1;31mFile:\u001b[0m      c:\\users\\ycanf\\anaconda3\\lib\\site-packages\\statsmodels\\stats\\proportion.py\n",
       "\u001b[1;31mType:\u001b[0m      function"
      ]
     },
     "metadata": {},
     "output_type": "display_data"
    }
   ],
   "source": [
    "?proportions_ztest"
   ]
  },
  {
   "cell_type": "markdown",
   "id": "0c6dd8fb-aec5-4069-b391-77366b266f0c",
   "metadata": {
    "tags": []
   },
   "source": [
    "# Bağımsız İki Örneklem T Testi Giriş (AB Testi)\n",
    "### iki gurup ortalaması arasında karşılaştırma yapılmak istendildiğinde kullanılır.\n",
    "### çok popüler\n",
    "----------------\n",
    "### Test istatistikleri\n",
    "\n",
    "* Örnek Sayıları \"aynı\", varyanslar \"homojen\" ise:\n",
    "\n",
    "\n",
    "## $ t = \\frac{\\overline{X}_1 - \\overline{X}_2}{S_p \\sqrt{\\frac{2}{n}}}$\n",
    "\n",
    "\n",
    "## $ S_p = \\sqrt{\\frac{s^2_{X1} + s^2_{X2}}{2}} $\n",
    "\n",
    "-----------------------------------------\n",
    "* Örnek Sayıları \"farklı\", varyanslar \"homojen\" ise:\n",
    "\n",
    "## $t = \\frac{\\overline{X}_1 - \\overline{X}_2}{S_p \\sqrt{\\frac{1}{n_1} + \\frac{1}{n_2}}} $\n",
    "\n",
    "## $S_p = \\sqrt{\\frac{(n_1-1)s^2_{X_1} + (n_2-1)s^2_{X_2}}{n_1+n_2-2}} $\n",
    "----------------------------------------\n",
    "* Örnek Sayıları \"farklı\", varyanslar homojen \"değil\" ise\n",
    "\n",
    "## $t = \\frac{\\bar{X}_1 - \\bar{X}2}{S{\\Delta}}$\n",
    "\n",
    "## $ S_{\\Delta} = \\sqrt{\\frac{s_1^2}{n_1} + \\frac{s_2^2}{n_2}} $\n",
    "\n",
    "-------------------------------------\n",
    "### Hipotzeler:\n",
    "* $H_0: \\mu = \\mu_2$\n",
    "* $H_1: \\mu \\neq \\mu_2$\n",
    "\n",
    "-------------------\n",
    "* $H_0: \\mu_1 <= \\mu_2$\n",
    "* $H_1: \\mu_1 > \\mu_2$\n",
    "----------------\n",
    "* $H_0: \\mu_1 >= \\mu_2$\n",
    "* $H_1: \\mu_1 < \\mu_2$\n",
    "---------------------\n",
    "## Varsayımlar:\n",
    "* Normallik (Görsel veya hipotez testleri yardımı ile (qqplot-shapirowil- histogram ) testleri )\n",
    "* Varyans Homejenliği\n"
   ]
  },
  {
   "cell_type": "markdown",
   "id": "5c41ed8f-8810-434a-85bc-20bb824c1e2c",
   "metadata": {
    "tags": []
   },
   "source": [
    "## İş uygulaması: ML Modelinin Başarı testi(AB Testi)\n",
    "### Problem: Bir ML projesine yatırım yapılmış. Ürettiği tahminler neticesinde oluşan gelir ile eski sistemin ürettiği gelirler karşılaştırılıp anlamlı farklılık olup olmadığı test edilmek isteniyor.\n",
    "### Detaylar : \n",
    "* Model geliştirilmiş ve web sitesine entegre edilmiştir.\n",
    "* Site kullanıcıları belirli bir kurala göre ikiye bölünmüş olsun.\n",
    "* A gurubu eski, B gurubu yeni sistem.\n",
    "* Gelir anlamında anlamlı bir iş yapılıp yapılmadığı test edilmek isteniyor.\n",
    "-------------------\n",
    "### Hipotez\n",
    "* $H_0: \\mu = \\mu_2$\n",
    "* $H_1: \\mu \\neq \\mu_2$"
   ]
  },
  {
   "cell_type": "code",
   "execution_count": 2,
   "id": "082a9275-2c1e-453e-b284-c15ba453bd70",
   "metadata": {
    "tags": []
   },
   "outputs": [],
   "source": [
    "import pandas as pd\n",
    "# VERI TIP I\n",
    "A = pd.DataFrame([30,27,21,27,29,30,20,20,27, 32, 35, 22, 24, 23, 25, 27, 23, 27, 23,\n",
    "25,21,18,24,26,33,26,27,28,19,25])\n",
    "B = pd.DataFrame ([37,39,31,31,34, 38, 30, 36, 29, 28, 38, 28, 37, 37, 30, 32,31,31,27,\n",
    "32,33,33,33,31,32,33,26,32,33,29])"
   ]
  },
  {
   "cell_type": "code",
   "execution_count": 3,
   "id": "ad94b8a5-bbb7-4fa4-b061-0785f30febd0",
   "metadata": {
    "tags": []
   },
   "outputs": [],
   "source": [
    "A_B = pd.concat([A,B], axis=1 )"
   ]
  },
  {
   "cell_type": "code",
   "execution_count": 4,
   "id": "4d044ed2-183a-4615-9b05-cc0a2656b43c",
   "metadata": {
    "tags": []
   },
   "outputs": [],
   "source": [
    "A_B.columns=['A','B']"
   ]
  },
  {
   "cell_type": "code",
   "execution_count": 5,
   "id": "d3771503-f577-4f48-a768-d936eae7591b",
   "metadata": {
    "tags": []
   },
   "outputs": [
    {
     "data": {
      "text/html": [
       "<div>\n",
       "<style scoped>\n",
       "    .dataframe tbody tr th:only-of-type {\n",
       "        vertical-align: middle;\n",
       "    }\n",
       "\n",
       "    .dataframe tbody tr th {\n",
       "        vertical-align: top;\n",
       "    }\n",
       "\n",
       "    .dataframe thead th {\n",
       "        text-align: right;\n",
       "    }\n",
       "</style>\n",
       "<table border=\"1\" class=\"dataframe\">\n",
       "  <thead>\n",
       "    <tr style=\"text-align: right;\">\n",
       "      <th></th>\n",
       "      <th>A</th>\n",
       "      <th>B</th>\n",
       "    </tr>\n",
       "  </thead>\n",
       "  <tbody>\n",
       "    <tr>\n",
       "      <th>0</th>\n",
       "      <td>30</td>\n",
       "      <td>37</td>\n",
       "    </tr>\n",
       "    <tr>\n",
       "      <th>1</th>\n",
       "      <td>27</td>\n",
       "      <td>39</td>\n",
       "    </tr>\n",
       "    <tr>\n",
       "      <th>2</th>\n",
       "      <td>21</td>\n",
       "      <td>31</td>\n",
       "    </tr>\n",
       "    <tr>\n",
       "      <th>3</th>\n",
       "      <td>27</td>\n",
       "      <td>31</td>\n",
       "    </tr>\n",
       "    <tr>\n",
       "      <th>4</th>\n",
       "      <td>29</td>\n",
       "      <td>34</td>\n",
       "    </tr>\n",
       "    <tr>\n",
       "      <th>5</th>\n",
       "      <td>30</td>\n",
       "      <td>38</td>\n",
       "    </tr>\n",
       "    <tr>\n",
       "      <th>6</th>\n",
       "      <td>20</td>\n",
       "      <td>30</td>\n",
       "    </tr>\n",
       "    <tr>\n",
       "      <th>7</th>\n",
       "      <td>20</td>\n",
       "      <td>36</td>\n",
       "    </tr>\n",
       "    <tr>\n",
       "      <th>8</th>\n",
       "      <td>27</td>\n",
       "      <td>29</td>\n",
       "    </tr>\n",
       "    <tr>\n",
       "      <th>9</th>\n",
       "      <td>32</td>\n",
       "      <td>28</td>\n",
       "    </tr>\n",
       "    <tr>\n",
       "      <th>10</th>\n",
       "      <td>35</td>\n",
       "      <td>38</td>\n",
       "    </tr>\n",
       "    <tr>\n",
       "      <th>11</th>\n",
       "      <td>22</td>\n",
       "      <td>28</td>\n",
       "    </tr>\n",
       "    <tr>\n",
       "      <th>12</th>\n",
       "      <td>24</td>\n",
       "      <td>37</td>\n",
       "    </tr>\n",
       "    <tr>\n",
       "      <th>13</th>\n",
       "      <td>23</td>\n",
       "      <td>37</td>\n",
       "    </tr>\n",
       "    <tr>\n",
       "      <th>14</th>\n",
       "      <td>25</td>\n",
       "      <td>30</td>\n",
       "    </tr>\n",
       "    <tr>\n",
       "      <th>15</th>\n",
       "      <td>27</td>\n",
       "      <td>32</td>\n",
       "    </tr>\n",
       "    <tr>\n",
       "      <th>16</th>\n",
       "      <td>23</td>\n",
       "      <td>31</td>\n",
       "    </tr>\n",
       "    <tr>\n",
       "      <th>17</th>\n",
       "      <td>27</td>\n",
       "      <td>31</td>\n",
       "    </tr>\n",
       "    <tr>\n",
       "      <th>18</th>\n",
       "      <td>23</td>\n",
       "      <td>27</td>\n",
       "    </tr>\n",
       "    <tr>\n",
       "      <th>19</th>\n",
       "      <td>25</td>\n",
       "      <td>32</td>\n",
       "    </tr>\n",
       "    <tr>\n",
       "      <th>20</th>\n",
       "      <td>21</td>\n",
       "      <td>33</td>\n",
       "    </tr>\n",
       "    <tr>\n",
       "      <th>21</th>\n",
       "      <td>18</td>\n",
       "      <td>33</td>\n",
       "    </tr>\n",
       "    <tr>\n",
       "      <th>22</th>\n",
       "      <td>24</td>\n",
       "      <td>33</td>\n",
       "    </tr>\n",
       "    <tr>\n",
       "      <th>23</th>\n",
       "      <td>26</td>\n",
       "      <td>31</td>\n",
       "    </tr>\n",
       "    <tr>\n",
       "      <th>24</th>\n",
       "      <td>33</td>\n",
       "      <td>32</td>\n",
       "    </tr>\n",
       "    <tr>\n",
       "      <th>25</th>\n",
       "      <td>26</td>\n",
       "      <td>33</td>\n",
       "    </tr>\n",
       "    <tr>\n",
       "      <th>26</th>\n",
       "      <td>27</td>\n",
       "      <td>26</td>\n",
       "    </tr>\n",
       "    <tr>\n",
       "      <th>27</th>\n",
       "      <td>28</td>\n",
       "      <td>32</td>\n",
       "    </tr>\n",
       "    <tr>\n",
       "      <th>28</th>\n",
       "      <td>19</td>\n",
       "      <td>33</td>\n",
       "    </tr>\n",
       "    <tr>\n",
       "      <th>29</th>\n",
       "      <td>25</td>\n",
       "      <td>29</td>\n",
       "    </tr>\n",
       "  </tbody>\n",
       "</table>\n",
       "</div>"
      ],
      "text/plain": [
       "     A   B\n",
       "0   30  37\n",
       "1   27  39\n",
       "2   21  31\n",
       "3   27  31\n",
       "4   29  34\n",
       "5   30  38\n",
       "6   20  30\n",
       "7   20  36\n",
       "8   27  29\n",
       "9   32  28\n",
       "10  35  38\n",
       "11  22  28\n",
       "12  24  37\n",
       "13  23  37\n",
       "14  25  30\n",
       "15  27  32\n",
       "16  23  31\n",
       "17  27  31\n",
       "18  23  27\n",
       "19  25  32\n",
       "20  21  33\n",
       "21  18  33\n",
       "22  24  33\n",
       "23  26  31\n",
       "24  33  32\n",
       "25  26  33\n",
       "26  27  26\n",
       "27  28  32\n",
       "28  19  33\n",
       "29  25  29"
      ]
     },
     "execution_count": 5,
     "metadata": {},
     "output_type": "execute_result"
    }
   ],
   "source": [
    "A_B"
   ]
  },
  {
   "cell_type": "code",
   "execution_count": 6,
   "id": "6d31a11e-aa3c-46ae-a044-e4f2dbafb95a",
   "metadata": {
    "tags": []
   },
   "outputs": [
    {
     "data": {
      "text/html": [
       "<div>\n",
       "<style scoped>\n",
       "    .dataframe tbody tr th:only-of-type {\n",
       "        vertical-align: middle;\n",
       "    }\n",
       "\n",
       "    .dataframe tbody tr th {\n",
       "        vertical-align: top;\n",
       "    }\n",
       "\n",
       "    .dataframe thead th {\n",
       "        text-align: right;\n",
       "    }\n",
       "</style>\n",
       "<table border=\"1\" class=\"dataframe\">\n",
       "  <thead>\n",
       "    <tr style=\"text-align: right;\">\n",
       "      <th></th>\n",
       "      <th>count</th>\n",
       "      <th>mean</th>\n",
       "      <th>std</th>\n",
       "      <th>min</th>\n",
       "      <th>25%</th>\n",
       "      <th>50%</th>\n",
       "      <th>75%</th>\n",
       "      <th>max</th>\n",
       "    </tr>\n",
       "  </thead>\n",
       "  <tbody>\n",
       "    <tr>\n",
       "      <th>A</th>\n",
       "      <td>30.0</td>\n",
       "      <td>25.466667</td>\n",
       "      <td>4.141742</td>\n",
       "      <td>18.0</td>\n",
       "      <td>23.00</td>\n",
       "      <td>25.5</td>\n",
       "      <td>27.00</td>\n",
       "      <td>35.0</td>\n",
       "    </tr>\n",
       "    <tr>\n",
       "      <th>B</th>\n",
       "      <td>30.0</td>\n",
       "      <td>32.366667</td>\n",
       "      <td>3.428917</td>\n",
       "      <td>26.0</td>\n",
       "      <td>30.25</td>\n",
       "      <td>32.0</td>\n",
       "      <td>33.75</td>\n",
       "      <td>39.0</td>\n",
       "    </tr>\n",
       "  </tbody>\n",
       "</table>\n",
       "</div>"
      ],
      "text/plain": [
       "   count       mean       std   min    25%   50%    75%   max\n",
       "A   30.0  25.466667  4.141742  18.0  23.00  25.5  27.00  35.0\n",
       "B   30.0  32.366667  3.428917  26.0  30.25  32.0  33.75  39.0"
      ]
     },
     "execution_count": 6,
     "metadata": {},
     "output_type": "execute_result"
    }
   ],
   "source": [
    "A_B.describe().T"
   ]
  },
  {
   "cell_type": "code",
   "execution_count": 7,
   "id": "20c6652b-7a19-43dd-8190-d8679031d76b",
   "metadata": {
    "tags": []
   },
   "outputs": [],
   "source": [
    "# VERI TIP II\n",
    "import numpy as np\n",
    "A = pd.DataFrame([30,27,21,27,29,30,20,20,27,32,35,22,24,23,25,27,23,27,23,25,21,18,24,26,33,26,27,28,19,25])\n",
    "\n",
    "B = pd.DataFrame([37,39,31,31,34,38,30,36,29,28,38,28,37,37,30,32,31,31,27,32,33,33,33,31,32,33,26,32,33,29])"
   ]
  },
  {
   "cell_type": "code",
   "execution_count": 8,
   "id": "b32c5ded-878e-423f-a693-3cc671fed4d0",
   "metadata": {
    "tags": []
   },
   "outputs": [],
   "source": [
    "# A ve A'nın grubu\n",
    "GRUP_A = np.arange(len(A))\n",
    "GRUP_A = pd.DataFrame(GRUP_A)"
   ]
  },
  {
   "cell_type": "code",
   "execution_count": 9,
   "id": "91f71e8a-b4bd-46b9-b0ef-89cde140e374",
   "metadata": {
    "tags": []
   },
   "outputs": [],
   "source": [
    "GRUP_A[:]= 'A'\n",
    "A= pd.concat([A,GRUP_A], axis=1)"
   ]
  },
  {
   "cell_type": "code",
   "execution_count": 10,
   "id": "d61c5156-523a-46d8-8e0a-f085ece1854a",
   "metadata": {
    "tags": []
   },
   "outputs": [
    {
     "data": {
      "text/html": [
       "<div>\n",
       "<style scoped>\n",
       "    .dataframe tbody tr th:only-of-type {\n",
       "        vertical-align: middle;\n",
       "    }\n",
       "\n",
       "    .dataframe tbody tr th {\n",
       "        vertical-align: top;\n",
       "    }\n",
       "\n",
       "    .dataframe thead th {\n",
       "        text-align: right;\n",
       "    }\n",
       "</style>\n",
       "<table border=\"1\" class=\"dataframe\">\n",
       "  <thead>\n",
       "    <tr style=\"text-align: right;\">\n",
       "      <th></th>\n",
       "      <th>0</th>\n",
       "      <th>0</th>\n",
       "    </tr>\n",
       "  </thead>\n",
       "  <tbody>\n",
       "    <tr>\n",
       "      <th>0</th>\n",
       "      <td>30</td>\n",
       "      <td>A</td>\n",
       "    </tr>\n",
       "    <tr>\n",
       "      <th>1</th>\n",
       "      <td>27</td>\n",
       "      <td>A</td>\n",
       "    </tr>\n",
       "    <tr>\n",
       "      <th>2</th>\n",
       "      <td>21</td>\n",
       "      <td>A</td>\n",
       "    </tr>\n",
       "    <tr>\n",
       "      <th>3</th>\n",
       "      <td>27</td>\n",
       "      <td>A</td>\n",
       "    </tr>\n",
       "    <tr>\n",
       "      <th>4</th>\n",
       "      <td>29</td>\n",
       "      <td>A</td>\n",
       "    </tr>\n",
       "    <tr>\n",
       "      <th>5</th>\n",
       "      <td>30</td>\n",
       "      <td>A</td>\n",
       "    </tr>\n",
       "    <tr>\n",
       "      <th>6</th>\n",
       "      <td>20</td>\n",
       "      <td>A</td>\n",
       "    </tr>\n",
       "    <tr>\n",
       "      <th>7</th>\n",
       "      <td>20</td>\n",
       "      <td>A</td>\n",
       "    </tr>\n",
       "    <tr>\n",
       "      <th>8</th>\n",
       "      <td>27</td>\n",
       "      <td>A</td>\n",
       "    </tr>\n",
       "    <tr>\n",
       "      <th>9</th>\n",
       "      <td>32</td>\n",
       "      <td>A</td>\n",
       "    </tr>\n",
       "    <tr>\n",
       "      <th>10</th>\n",
       "      <td>35</td>\n",
       "      <td>A</td>\n",
       "    </tr>\n",
       "    <tr>\n",
       "      <th>11</th>\n",
       "      <td>22</td>\n",
       "      <td>A</td>\n",
       "    </tr>\n",
       "    <tr>\n",
       "      <th>12</th>\n",
       "      <td>24</td>\n",
       "      <td>A</td>\n",
       "    </tr>\n",
       "    <tr>\n",
       "      <th>13</th>\n",
       "      <td>23</td>\n",
       "      <td>A</td>\n",
       "    </tr>\n",
       "    <tr>\n",
       "      <th>14</th>\n",
       "      <td>25</td>\n",
       "      <td>A</td>\n",
       "    </tr>\n",
       "    <tr>\n",
       "      <th>15</th>\n",
       "      <td>27</td>\n",
       "      <td>A</td>\n",
       "    </tr>\n",
       "    <tr>\n",
       "      <th>16</th>\n",
       "      <td>23</td>\n",
       "      <td>A</td>\n",
       "    </tr>\n",
       "    <tr>\n",
       "      <th>17</th>\n",
       "      <td>27</td>\n",
       "      <td>A</td>\n",
       "    </tr>\n",
       "    <tr>\n",
       "      <th>18</th>\n",
       "      <td>23</td>\n",
       "      <td>A</td>\n",
       "    </tr>\n",
       "    <tr>\n",
       "      <th>19</th>\n",
       "      <td>25</td>\n",
       "      <td>A</td>\n",
       "    </tr>\n",
       "    <tr>\n",
       "      <th>20</th>\n",
       "      <td>21</td>\n",
       "      <td>A</td>\n",
       "    </tr>\n",
       "    <tr>\n",
       "      <th>21</th>\n",
       "      <td>18</td>\n",
       "      <td>A</td>\n",
       "    </tr>\n",
       "    <tr>\n",
       "      <th>22</th>\n",
       "      <td>24</td>\n",
       "      <td>A</td>\n",
       "    </tr>\n",
       "    <tr>\n",
       "      <th>23</th>\n",
       "      <td>26</td>\n",
       "      <td>A</td>\n",
       "    </tr>\n",
       "    <tr>\n",
       "      <th>24</th>\n",
       "      <td>33</td>\n",
       "      <td>A</td>\n",
       "    </tr>\n",
       "    <tr>\n",
       "      <th>25</th>\n",
       "      <td>26</td>\n",
       "      <td>A</td>\n",
       "    </tr>\n",
       "    <tr>\n",
       "      <th>26</th>\n",
       "      <td>27</td>\n",
       "      <td>A</td>\n",
       "    </tr>\n",
       "    <tr>\n",
       "      <th>27</th>\n",
       "      <td>28</td>\n",
       "      <td>A</td>\n",
       "    </tr>\n",
       "    <tr>\n",
       "      <th>28</th>\n",
       "      <td>19</td>\n",
       "      <td>A</td>\n",
       "    </tr>\n",
       "    <tr>\n",
       "      <th>29</th>\n",
       "      <td>25</td>\n",
       "      <td>A</td>\n",
       "    </tr>\n",
       "  </tbody>\n",
       "</table>\n",
       "</div>"
      ],
      "text/plain": [
       "     0  0\n",
       "0   30  A\n",
       "1   27  A\n",
       "2   21  A\n",
       "3   27  A\n",
       "4   29  A\n",
       "5   30  A\n",
       "6   20  A\n",
       "7   20  A\n",
       "8   27  A\n",
       "9   32  A\n",
       "10  35  A\n",
       "11  22  A\n",
       "12  24  A\n",
       "13  23  A\n",
       "14  25  A\n",
       "15  27  A\n",
       "16  23  A\n",
       "17  27  A\n",
       "18  23  A\n",
       "19  25  A\n",
       "20  21  A\n",
       "21  18  A\n",
       "22  24  A\n",
       "23  26  A\n",
       "24  33  A\n",
       "25  26  A\n",
       "26  27  A\n",
       "27  28  A\n",
       "28  19  A\n",
       "29  25  A"
      ]
     },
     "execution_count": 10,
     "metadata": {},
     "output_type": "execute_result"
    }
   ],
   "source": [
    "A"
   ]
  },
  {
   "cell_type": "code",
   "execution_count": 11,
   "id": "3faa9546-7368-4cc9-b879-b2ed0a4d437b",
   "metadata": {
    "tags": []
   },
   "outputs": [],
   "source": [
    "# B ve B'nin Grubu\n",
    "GRUP_B = np.arange(len(B))\n",
    "GRUP_B = pd.DataFrame(GRUP_B)\n",
    "GRUP_B[:] = 'B'\n",
    "B = pd.concat([B, GRUP_B], axis=1)"
   ]
  },
  {
   "cell_type": "code",
   "execution_count": 12,
   "id": "1f02b180-5967-4c27-b44a-b33c8e92a347",
   "metadata": {
    "tags": []
   },
   "outputs": [
    {
     "data": {
      "text/html": [
       "<div>\n",
       "<style scoped>\n",
       "    .dataframe tbody tr th:only-of-type {\n",
       "        vertical-align: middle;\n",
       "    }\n",
       "\n",
       "    .dataframe tbody tr th {\n",
       "        vertical-align: top;\n",
       "    }\n",
       "\n",
       "    .dataframe thead th {\n",
       "        text-align: right;\n",
       "    }\n",
       "</style>\n",
       "<table border=\"1\" class=\"dataframe\">\n",
       "  <thead>\n",
       "    <tr style=\"text-align: right;\">\n",
       "      <th></th>\n",
       "      <th>0</th>\n",
       "      <th>0</th>\n",
       "    </tr>\n",
       "  </thead>\n",
       "  <tbody>\n",
       "    <tr>\n",
       "      <th>0</th>\n",
       "      <td>37</td>\n",
       "      <td>B</td>\n",
       "    </tr>\n",
       "    <tr>\n",
       "      <th>1</th>\n",
       "      <td>39</td>\n",
       "      <td>B</td>\n",
       "    </tr>\n",
       "    <tr>\n",
       "      <th>2</th>\n",
       "      <td>31</td>\n",
       "      <td>B</td>\n",
       "    </tr>\n",
       "    <tr>\n",
       "      <th>3</th>\n",
       "      <td>31</td>\n",
       "      <td>B</td>\n",
       "    </tr>\n",
       "    <tr>\n",
       "      <th>4</th>\n",
       "      <td>34</td>\n",
       "      <td>B</td>\n",
       "    </tr>\n",
       "    <tr>\n",
       "      <th>5</th>\n",
       "      <td>38</td>\n",
       "      <td>B</td>\n",
       "    </tr>\n",
       "    <tr>\n",
       "      <th>6</th>\n",
       "      <td>30</td>\n",
       "      <td>B</td>\n",
       "    </tr>\n",
       "    <tr>\n",
       "      <th>7</th>\n",
       "      <td>36</td>\n",
       "      <td>B</td>\n",
       "    </tr>\n",
       "    <tr>\n",
       "      <th>8</th>\n",
       "      <td>29</td>\n",
       "      <td>B</td>\n",
       "    </tr>\n",
       "    <tr>\n",
       "      <th>9</th>\n",
       "      <td>28</td>\n",
       "      <td>B</td>\n",
       "    </tr>\n",
       "    <tr>\n",
       "      <th>10</th>\n",
       "      <td>38</td>\n",
       "      <td>B</td>\n",
       "    </tr>\n",
       "    <tr>\n",
       "      <th>11</th>\n",
       "      <td>28</td>\n",
       "      <td>B</td>\n",
       "    </tr>\n",
       "    <tr>\n",
       "      <th>12</th>\n",
       "      <td>37</td>\n",
       "      <td>B</td>\n",
       "    </tr>\n",
       "    <tr>\n",
       "      <th>13</th>\n",
       "      <td>37</td>\n",
       "      <td>B</td>\n",
       "    </tr>\n",
       "    <tr>\n",
       "      <th>14</th>\n",
       "      <td>30</td>\n",
       "      <td>B</td>\n",
       "    </tr>\n",
       "    <tr>\n",
       "      <th>15</th>\n",
       "      <td>32</td>\n",
       "      <td>B</td>\n",
       "    </tr>\n",
       "    <tr>\n",
       "      <th>16</th>\n",
       "      <td>31</td>\n",
       "      <td>B</td>\n",
       "    </tr>\n",
       "    <tr>\n",
       "      <th>17</th>\n",
       "      <td>31</td>\n",
       "      <td>B</td>\n",
       "    </tr>\n",
       "    <tr>\n",
       "      <th>18</th>\n",
       "      <td>27</td>\n",
       "      <td>B</td>\n",
       "    </tr>\n",
       "    <tr>\n",
       "      <th>19</th>\n",
       "      <td>32</td>\n",
       "      <td>B</td>\n",
       "    </tr>\n",
       "    <tr>\n",
       "      <th>20</th>\n",
       "      <td>33</td>\n",
       "      <td>B</td>\n",
       "    </tr>\n",
       "    <tr>\n",
       "      <th>21</th>\n",
       "      <td>33</td>\n",
       "      <td>B</td>\n",
       "    </tr>\n",
       "    <tr>\n",
       "      <th>22</th>\n",
       "      <td>33</td>\n",
       "      <td>B</td>\n",
       "    </tr>\n",
       "    <tr>\n",
       "      <th>23</th>\n",
       "      <td>31</td>\n",
       "      <td>B</td>\n",
       "    </tr>\n",
       "    <tr>\n",
       "      <th>24</th>\n",
       "      <td>32</td>\n",
       "      <td>B</td>\n",
       "    </tr>\n",
       "    <tr>\n",
       "      <th>25</th>\n",
       "      <td>33</td>\n",
       "      <td>B</td>\n",
       "    </tr>\n",
       "    <tr>\n",
       "      <th>26</th>\n",
       "      <td>26</td>\n",
       "      <td>B</td>\n",
       "    </tr>\n",
       "    <tr>\n",
       "      <th>27</th>\n",
       "      <td>32</td>\n",
       "      <td>B</td>\n",
       "    </tr>\n",
       "    <tr>\n",
       "      <th>28</th>\n",
       "      <td>33</td>\n",
       "      <td>B</td>\n",
       "    </tr>\n",
       "    <tr>\n",
       "      <th>29</th>\n",
       "      <td>29</td>\n",
       "      <td>B</td>\n",
       "    </tr>\n",
       "  </tbody>\n",
       "</table>\n",
       "</div>"
      ],
      "text/plain": [
       "     0  0\n",
       "0   37  B\n",
       "1   39  B\n",
       "2   31  B\n",
       "3   31  B\n",
       "4   34  B\n",
       "5   38  B\n",
       "6   30  B\n",
       "7   36  B\n",
       "8   29  B\n",
       "9   28  B\n",
       "10  38  B\n",
       "11  28  B\n",
       "12  37  B\n",
       "13  37  B\n",
       "14  30  B\n",
       "15  32  B\n",
       "16  31  B\n",
       "17  31  B\n",
       "18  27  B\n",
       "19  32  B\n",
       "20  33  B\n",
       "21  33  B\n",
       "22  33  B\n",
       "23  31  B\n",
       "24  32  B\n",
       "25  33  B\n",
       "26  26  B\n",
       "27  32  B\n",
       "28  33  B\n",
       "29  29  B"
      ]
     },
     "execution_count": 12,
     "metadata": {},
     "output_type": "execute_result"
    }
   ],
   "source": [
    "B"
   ]
  },
  {
   "cell_type": "code",
   "execution_count": 13,
   "id": "b2325a54-e18b-495d-ac99-8d56741cae61",
   "metadata": {
    "tags": []
   },
   "outputs": [],
   "source": [
    "## Tüm veri\n",
    "AB = pd.concat([A,B])\n",
    "AB.columns = ['gelir', 'GRUP']"
   ]
  },
  {
   "cell_type": "code",
   "execution_count": 14,
   "id": "915995d5-47d9-4bd2-b831-dbdcb9946adc",
   "metadata": {
    "tags": []
   },
   "outputs": [
    {
     "data": {
      "text/html": [
       "<div>\n",
       "<style scoped>\n",
       "    .dataframe tbody tr th:only-of-type {\n",
       "        vertical-align: middle;\n",
       "    }\n",
       "\n",
       "    .dataframe tbody tr th {\n",
       "        vertical-align: top;\n",
       "    }\n",
       "\n",
       "    .dataframe thead th {\n",
       "        text-align: right;\n",
       "    }\n",
       "</style>\n",
       "<table border=\"1\" class=\"dataframe\">\n",
       "  <thead>\n",
       "    <tr style=\"text-align: right;\">\n",
       "      <th></th>\n",
       "      <th>gelir</th>\n",
       "      <th>GRUP</th>\n",
       "    </tr>\n",
       "  </thead>\n",
       "  <tbody>\n",
       "    <tr>\n",
       "      <th>0</th>\n",
       "      <td>30</td>\n",
       "      <td>A</td>\n",
       "    </tr>\n",
       "    <tr>\n",
       "      <th>1</th>\n",
       "      <td>27</td>\n",
       "      <td>A</td>\n",
       "    </tr>\n",
       "    <tr>\n",
       "      <th>2</th>\n",
       "      <td>21</td>\n",
       "      <td>A</td>\n",
       "    </tr>\n",
       "    <tr>\n",
       "      <th>3</th>\n",
       "      <td>27</td>\n",
       "      <td>A</td>\n",
       "    </tr>\n",
       "    <tr>\n",
       "      <th>4</th>\n",
       "      <td>29</td>\n",
       "      <td>A</td>\n",
       "    </tr>\n",
       "  </tbody>\n",
       "</table>\n",
       "</div>"
      ],
      "text/plain": [
       "   gelir GRUP\n",
       "0     30    A\n",
       "1     27    A\n",
       "2     21    A\n",
       "3     27    A\n",
       "4     29    A"
      ]
     },
     "execution_count": 14,
     "metadata": {},
     "output_type": "execute_result"
    }
   ],
   "source": [
    "AB.head()"
   ]
  },
  {
   "cell_type": "code",
   "execution_count": 15,
   "id": "cfc6e561-947f-4e0f-b40e-ea909c57c3cb",
   "metadata": {
    "tags": []
   },
   "outputs": [
    {
     "data": {
      "text/html": [
       "<div>\n",
       "<style scoped>\n",
       "    .dataframe tbody tr th:only-of-type {\n",
       "        vertical-align: middle;\n",
       "    }\n",
       "\n",
       "    .dataframe tbody tr th {\n",
       "        vertical-align: top;\n",
       "    }\n",
       "\n",
       "    .dataframe thead th {\n",
       "        text-align: right;\n",
       "    }\n",
       "</style>\n",
       "<table border=\"1\" class=\"dataframe\">\n",
       "  <thead>\n",
       "    <tr style=\"text-align: right;\">\n",
       "      <th></th>\n",
       "      <th>gelir</th>\n",
       "      <th>GRUP</th>\n",
       "    </tr>\n",
       "  </thead>\n",
       "  <tbody>\n",
       "    <tr>\n",
       "      <th>25</th>\n",
       "      <td>33</td>\n",
       "      <td>B</td>\n",
       "    </tr>\n",
       "    <tr>\n",
       "      <th>26</th>\n",
       "      <td>26</td>\n",
       "      <td>B</td>\n",
       "    </tr>\n",
       "    <tr>\n",
       "      <th>27</th>\n",
       "      <td>32</td>\n",
       "      <td>B</td>\n",
       "    </tr>\n",
       "    <tr>\n",
       "      <th>28</th>\n",
       "      <td>33</td>\n",
       "      <td>B</td>\n",
       "    </tr>\n",
       "    <tr>\n",
       "      <th>29</th>\n",
       "      <td>29</td>\n",
       "      <td>B</td>\n",
       "    </tr>\n",
       "  </tbody>\n",
       "</table>\n",
       "</div>"
      ],
      "text/plain": [
       "    gelir GRUP\n",
       "25     33    B\n",
       "26     26    B\n",
       "27     32    B\n",
       "28     33    B\n",
       "29     29    B"
      ]
     },
     "execution_count": 15,
     "metadata": {},
     "output_type": "execute_result"
    }
   ],
   "source": [
    "AB.tail()"
   ]
  },
  {
   "cell_type": "code",
   "execution_count": 16,
   "id": "e1fbc21b-ab35-4c38-be11-f83e5103e09f",
   "metadata": {
    "tags": []
   },
   "outputs": [
    {
     "data": {
      "text/plain": [
       "<Axes: xlabel='GRUP', ylabel='gelir'>"
      ]
     },
     "execution_count": 16,
     "metadata": {},
     "output_type": "execute_result"
    },
    {
     "data": {
      "image/png": "[encoded data removed]",
      "text/plain": [
       "<Figure size 640x480 with 1 Axes>"
      ]
     },
     "metadata": {},
     "output_type": "display_data"
    }
   ],
   "source": [
    "import seaborn as sns\n",
    "sns.boxplot(x= 'GRUP', y='gelir', data=AB)"
   ]
  },
  {
   "cell_type": "markdown",
   "id": "d52a29b2-f475-492e-b6d1-ed40ed256b87",
   "metadata": {},
   "source": [
    "# Varsayım kontrolü \n",
    "* normallik varsayımı\n",
    "* varyans homojenligi varsayımı"
   ]
  },
  {
   "cell_type": "code",
   "execution_count": 17,
   "id": "f01b27c2-08e5-4b64-accd-eb9660857b1c",
   "metadata": {
    "tags": []
   },
   "outputs": [
    {
     "data": {
      "text/html": [
       "<div>\n",
       "<style scoped>\n",
       "    .dataframe tbody tr th:only-of-type {\n",
       "        vertical-align: middle;\n",
       "    }\n",
       "\n",
       "    .dataframe tbody tr th {\n",
       "        vertical-align: top;\n",
       "    }\n",
       "\n",
       "    .dataframe thead th {\n",
       "        text-align: right;\n",
       "    }\n",
       "</style>\n",
       "<table border=\"1\" class=\"dataframe\">\n",
       "  <thead>\n",
       "    <tr style=\"text-align: right;\">\n",
       "      <th></th>\n",
       "      <th>A</th>\n",
       "      <th>B</th>\n",
       "    </tr>\n",
       "  </thead>\n",
       "  <tbody>\n",
       "    <tr>\n",
       "      <th>0</th>\n",
       "      <td>30</td>\n",
       "      <td>37</td>\n",
       "    </tr>\n",
       "    <tr>\n",
       "      <th>1</th>\n",
       "      <td>27</td>\n",
       "      <td>39</td>\n",
       "    </tr>\n",
       "    <tr>\n",
       "      <th>2</th>\n",
       "      <td>21</td>\n",
       "      <td>31</td>\n",
       "    </tr>\n",
       "    <tr>\n",
       "      <th>3</th>\n",
       "      <td>27</td>\n",
       "      <td>31</td>\n",
       "    </tr>\n",
       "    <tr>\n",
       "      <th>4</th>\n",
       "      <td>29</td>\n",
       "      <td>34</td>\n",
       "    </tr>\n",
       "  </tbody>\n",
       "</table>\n",
       "</div>"
      ],
      "text/plain": [
       "    A   B\n",
       "0  30  37\n",
       "1  27  39\n",
       "2  21  31\n",
       "3  27  31\n",
       "4  29  34"
      ]
     },
     "execution_count": 17,
     "metadata": {},
     "output_type": "execute_result"
    }
   ],
   "source": [
    "A_B.head()"
   ]
  },
  {
   "cell_type": "code",
   "execution_count": 18,
   "id": "202c2d17-7959-4af6-aab1-ed03c3f093e3",
   "metadata": {
    "tags": []
   },
   "outputs": [
    {
     "data": {
      "text/html": [
       "<div>\n",
       "<style scoped>\n",
       "    .dataframe tbody tr th:only-of-type {\n",
       "        vertical-align: middle;\n",
       "    }\n",
       "\n",
       "    .dataframe tbody tr th {\n",
       "        vertical-align: top;\n",
       "    }\n",
       "\n",
       "    .dataframe thead th {\n",
       "        text-align: right;\n",
       "    }\n",
       "</style>\n",
       "<table border=\"1\" class=\"dataframe\">\n",
       "  <thead>\n",
       "    <tr style=\"text-align: right;\">\n",
       "      <th></th>\n",
       "      <th>gelir</th>\n",
       "      <th>GRUP</th>\n",
       "    </tr>\n",
       "  </thead>\n",
       "  <tbody>\n",
       "    <tr>\n",
       "      <th>0</th>\n",
       "      <td>30</td>\n",
       "      <td>A</td>\n",
       "    </tr>\n",
       "    <tr>\n",
       "      <th>1</th>\n",
       "      <td>27</td>\n",
       "      <td>A</td>\n",
       "    </tr>\n",
       "    <tr>\n",
       "      <th>2</th>\n",
       "      <td>21</td>\n",
       "      <td>A</td>\n",
       "    </tr>\n",
       "    <tr>\n",
       "      <th>3</th>\n",
       "      <td>27</td>\n",
       "      <td>A</td>\n",
       "    </tr>\n",
       "    <tr>\n",
       "      <th>4</th>\n",
       "      <td>29</td>\n",
       "      <td>A</td>\n",
       "    </tr>\n",
       "  </tbody>\n",
       "</table>\n",
       "</div>"
      ],
      "text/plain": [
       "   gelir GRUP\n",
       "0     30    A\n",
       "1     27    A\n",
       "2     21    A\n",
       "3     27    A\n",
       "4     29    A"
      ]
     },
     "execution_count": 18,
     "metadata": {},
     "output_type": "execute_result"
    }
   ],
   "source": [
    "AB.head()"
   ]
  },
  {
   "cell_type": "code",
   "execution_count": 19,
   "id": "810a9b22-2c86-401e-bd37-1981dd220dc3",
   "metadata": {
    "tags": []
   },
   "outputs": [],
   "source": [
    "from scipy.stats import shapiro"
   ]
  },
  {
   "cell_type": "code",
   "execution_count": 20,
   "id": "f5ad6161-3867-42c1-a973-f15292c1b62c",
   "metadata": {
    "tags": []
   },
   "outputs": [
    {
     "data": {
      "text/plain": [
       "ShapiroResult(statistic=0.9789243936538696, pvalue=0.7962851524353027)"
      ]
     },
     "execution_count": 20,
     "metadata": {},
     "output_type": "execute_result"
    }
   ],
   "source": [
    "shapiro(A_B.A)"
   ]
  },
  {
   "cell_type": "code",
   "execution_count": 21,
   "id": "b1f61e18-a2c8-4199-a1a3-efa26d039abf",
   "metadata": {
    "tags": []
   },
   "outputs": [
    {
     "data": {
      "text/plain": [
       "ShapiroResult(statistic=0.9561262130737305, pvalue=0.24584470689296722)"
      ]
     },
     "execution_count": 21,
     "metadata": {},
     "output_type": "execute_result"
    }
   ],
   "source": [
    "shapiro(A_B.B)"
   ]
  },
  {
   "cell_type": "markdown",
   "id": "4f9be0c7-84c3-49f9-99c9-e91fad064f2c",
   "metadata": {
    "tags": []
   },
   "source": [
    "## Varyans Homojenliği varsayımı\n",
    "* H0: Varyanslar homojendir.\n",
    "* H1: Varyanslar Homojen değildir."
   ]
  },
  {
   "cell_type": "code",
   "execution_count": 22,
   "id": "326b61cb-98d6-465f-b916-f9d1b1939f6b",
   "metadata": {
    "tags": []
   },
   "outputs": [
    {
     "data": {
      "text/plain": [
       "LeveneResult(statistic=1.1101802757158004, pvalue=0.2964124900636569)"
      ]
     },
     "execution_count": 22,
     "metadata": {},
     "output_type": "execute_result"
    }
   ],
   "source": [
    "from scipy import stats\n",
    "stats.levene(A_B.A, A_B.B)"
   ]
  },
  {
   "cell_type": "markdown",
   "id": "0458bb9f-4fe2-46b9-a9d6-dc65615a6914",
   "metadata": {
    "tags": []
   },
   "source": [
    "## Hipotez testi"
   ]
  },
  {
   "cell_type": "code",
   "execution_count": 23,
   "id": "9332d7c2-bd26-44c3-a5b6-0b5634114e99",
   "metadata": {
    "tags": []
   },
   "outputs": [
    {
     "data": {
      "text/plain": [
       "Ttest_indResult(statistic=-7.028690967745927, pvalue=2.6233215605475075e-09)"
      ]
     },
     "execution_count": 23,
     "metadata": {},
     "output_type": "execute_result"
    }
   ],
   "source": [
    "stats.ttest_ind(A_B.A, A_B.B, equal_var = True)"
   ]
  },
  {
   "cell_type": "code",
   "execution_count": 24,
   "id": "0c1a6bd4-874b-4aa9-83fc-7e2fab18e228",
   "metadata": {
    "tags": []
   },
   "outputs": [
    {
     "data": {
      "text/plain": [
       "\u001b[1;31mSignature:\u001b[0m\n",
       "\u001b[0mstats\u001b[0m\u001b[1;33m.\u001b[0m\u001b[0mttest_ind\u001b[0m\u001b[1;33m(\u001b[0m\u001b[1;33m\n",
       "\u001b[0m    \u001b[0ma\u001b[0m\u001b[1;33m,\u001b[0m\u001b[1;33m\n",
       "\u001b[0m    \u001b[0mb\u001b[0m\u001b[1;33m,\u001b[0m\u001b[1;33m\n",
       "\u001b[0m    \u001b[0maxis\u001b[0m\u001b[1;33m=\u001b[0m\u001b[1;36m0\u001b[0m\u001b[1;33m,\u001b[0m\u001b[1;33m\n",
       "\u001b[0m    \u001b[0mequal_var\u001b[0m\u001b[1;33m=\u001b[0m\u001b[1;32mTrue\u001b[0m\u001b[1;33m,\u001b[0m\u001b[1;33m\n",
       "\u001b[0m    \u001b[0mnan_policy\u001b[0m\u001b[1;33m=\u001b[0m\u001b[1;34m'propagate'\u001b[0m\u001b[1;33m,\u001b[0m\u001b[1;33m\n",
       "\u001b[0m    \u001b[0mpermutations\u001b[0m\u001b[1;33m=\u001b[0m\u001b[1;32mNone\u001b[0m\u001b[1;33m,\u001b[0m\u001b[1;33m\n",
       "\u001b[0m    \u001b[0mrandom_state\u001b[0m\u001b[1;33m=\u001b[0m\u001b[1;32mNone\u001b[0m\u001b[1;33m,\u001b[0m\u001b[1;33m\n",
       "\u001b[0m    \u001b[0malternative\u001b[0m\u001b[1;33m=\u001b[0m\u001b[1;34m'two-sided'\u001b[0m\u001b[1;33m,\u001b[0m\u001b[1;33m\n",
       "\u001b[0m    \u001b[0mtrim\u001b[0m\u001b[1;33m=\u001b[0m\u001b[1;36m0\u001b[0m\u001b[1;33m,\u001b[0m\u001b[1;33m\n",
       "\u001b[0m\u001b[1;33m)\u001b[0m\u001b[1;33m\u001b[0m\u001b[1;33m\u001b[0m\u001b[0m\n",
       "\u001b[1;31mDocstring:\u001b[0m\n",
       "Calculate the T-test for the means of *two independent* samples of scores.\n",
       "\n",
       "This is a test for the null hypothesis that 2 independent samples\n",
       "have identical average (expected) values. This test assumes that the\n",
       "populations have identical variances by default.\n",
       "\n",
       "Parameters\n",
       "----------\n",
       "a, b : array_like\n",
       "    The arrays must have the same shape, except in the dimension\n",
       "    corresponding to `axis` (the first, by default).\n",
       "axis : int or None, optional\n",
       "    Axis along which to compute test. If None, compute over the whole\n",
       "    arrays, `a`, and `b`.\n",
       "equal_var : bool, optional\n",
       "    If True (default), perform a standard independent 2 sample test\n",
       "    that assumes equal population variances [1]_.\n",
       "    If False, perform Welch's t-test, which does not assume equal\n",
       "    population variance [2]_.\n",
       "\n",
       "    .. versionadded:: 0.11.0\n",
       "\n",
       "nan_policy : {'propagate', 'raise', 'omit'}, optional\n",
       "    Defines how to handle when input contains nan.\n",
       "    The following options are available (default is 'propagate'):\n",
       "\n",
       "      * 'propagate': returns nan\n",
       "      * 'raise': throws an error\n",
       "      * 'omit': performs the calculations ignoring nan values\n",
       "\n",
       "    The 'omit' option is not currently available for permutation tests or\n",
       "    one-sided asympyotic tests.\n",
       "\n",
       "permutations : non-negative int, np.inf, or None (default), optional\n",
       "    If 0 or None (default), use the t-distribution to calculate p-values.\n",
       "    Otherwise, `permutations` is  the number of random permutations that\n",
       "    will be used to estimate p-values using a permutation test. If\n",
       "    `permutations` equals or exceeds the number of distinct partitions of\n",
       "    the pooled data, an exact test is performed instead (i.e. each\n",
       "    distinct partition is used exactly once). See Notes for details.\n",
       "\n",
       "    .. versionadded:: 1.7.0\n",
       "\n",
       "random_state : {None, int, `numpy.random.Generator`,\n",
       "        `numpy.random.RandomState`}, optional\n",
       "\n",
       "    If `seed` is None (or `np.random`), the `numpy.random.RandomState`\n",
       "    singleton is used.\n",
       "    If `seed` is an int, a new ``RandomState`` instance is used,\n",
       "    seeded with `seed`.\n",
       "    If `seed` is already a ``Generator`` or ``RandomState`` instance then\n",
       "    that instance is used.\n",
       "\n",
       "    Pseudorandom number generator state used to generate permutations\n",
       "    (used only when `permutations` is not None).\n",
       "\n",
       "    .. versionadded:: 1.7.0\n",
       "\n",
       "alternative : {'two-sided', 'less', 'greater'}, optional\n",
       "    Defines the alternative hypothesis.\n",
       "    The following options are available (default is 'two-sided'):\n",
       "\n",
       "    * 'two-sided': the means of the distributions underlying the samples\n",
       "      are unequal.\n",
       "    * 'less': the mean of the distribution underlying the first sample\n",
       "      is less than the mean of the distribution underlying the second\n",
       "      sample.\n",
       "    * 'greater': the mean of the distribution underlying the first\n",
       "      sample is greater than the mean of the distribution underlying\n",
       "      the second sample.\n",
       "\n",
       "    .. versionadded:: 1.6.0\n",
       "\n",
       "trim : float, optional\n",
       "    If nonzero, performs a trimmed (Yuen's) t-test.\n",
       "    Defines the fraction of elements to be trimmed from each end of the\n",
       "    input samples. If 0 (default), no elements will be trimmed from either\n",
       "    side. The number of trimmed elements from each tail is the floor of the\n",
       "    trim times the number of elements. Valid range is [0, .5).\n",
       "\n",
       "    .. versionadded:: 1.7\n",
       "\n",
       "Returns\n",
       "-------\n",
       "statistic : float or array\n",
       "    The calculated t-statistic.\n",
       "pvalue : float or array\n",
       "    The p-value.\n",
       "\n",
       "Notes\n",
       "-----\n",
       "Suppose we observe two independent samples, e.g. flower petal lengths, and\n",
       "we are considering whether the two samples were drawn from the same\n",
       "population (e.g. the same species of flower or two species with similar\n",
       "petal characteristics) or two different populations.\n",
       "\n",
       "The t-test quantifies the difference between the arithmetic means\n",
       "of the two samples. The p-value quantifies the probability of observing\n",
       "as or more extreme values assuming the null hypothesis, that the\n",
       "samples are drawn from populations with the same population means, is true.\n",
       "A p-value larger than a chosen threshold (e.g. 5% or 1%) indicates that\n",
       "our observation is not so unlikely to have occurred by chance. Therefore,\n",
       "we do not reject the null hypothesis of equal population means.\n",
       "If the p-value is smaller than our threshold, then we have evidence\n",
       "against the null hypothesis of equal population means.\n",
       "\n",
       "By default, the p-value is determined by comparing the t-statistic of the\n",
       "observed data against a theoretical t-distribution.\n",
       "When ``1 < permutations < binom(n, k)``, where\n",
       "\n",
       "* ``k`` is the number of observations in `a`,\n",
       "* ``n`` is the total number of observations in `a` and `b`, and\n",
       "* ``binom(n, k)`` is the binomial coefficient (``n`` choose ``k``),\n",
       "\n",
       "the data are pooled (concatenated), randomly assigned to either group `a`\n",
       "or `b`, and the t-statistic is calculated. This process is performed\n",
       "repeatedly (`permutation` times), generating a distribution of the\n",
       "t-statistic under the null hypothesis, and the t-statistic of the observed\n",
       "data is compared to this distribution to determine the p-value.\n",
       "Specifically, the p-value reported is the \"achieved significance level\"\n",
       "(ASL) as defined in 4.4 of [3]_. Note that there are other ways of\n",
       "estimating p-values using randomized permutation tests; for other\n",
       "options, see the more general `permutation_test`.\n",
       "\n",
       "When ``permutations >= binom(n, k)``, an exact test is performed: the data\n",
       "are partitioned between the groups in each distinct way exactly once.\n",
       "\n",
       "The permutation test can be computationally expensive and not necessarily\n",
       "more accurate than the analytical test, but it does not make strong\n",
       "assumptions about the shape of the underlying distribution.\n",
       "\n",
       "Use of trimming is commonly referred to as the trimmed t-test. At times\n",
       "called Yuen's t-test, this is an extension of Welch's t-test, with the\n",
       "difference being the use of winsorized means in calculation of the variance\n",
       "and the trimmed sample size in calculation of the statistic. Trimming is\n",
       "recommended if the underlying distribution is long-tailed or contaminated\n",
       "with outliers [4]_.\n",
       "\n",
       "The statistic is calculated as ``(np.mean(a) - np.mean(b))/se``, where\n",
       "``se`` is the standard error. Therefore, the statistic will be positive\n",
       "when the sample mean of `a` is greater than the sample mean of `b` and\n",
       "negative when the sample mean of `a` is less than the sample mean of\n",
       "`b`.\n",
       "\n",
       "References\n",
       "----------\n",
       ".. [1] https://en.wikipedia.org/wiki/T-test#Independent_two-sample_t-test\n",
       "\n",
       ".. [2] https://en.wikipedia.org/wiki/Welch%27s_t-test\n",
       "\n",
       ".. [3] B. Efron and T. Hastie. Computer Age Statistical Inference. (2016).\n",
       "\n",
       ".. [4] Yuen, Karen K. \"The Two-Sample Trimmed t for Unequal Population\n",
       "       Variances.\" Biometrika, vol. 61, no. 1, 1974, pp. 165-170. JSTOR,\n",
       "       www.jstor.org/stable/2334299. Accessed 30 Mar. 2021.\n",
       "\n",
       ".. [5] Yuen, Karen K., and W. J. Dixon. \"The Approximate Behaviour and\n",
       "       Performance of the Two-Sample Trimmed t.\" Biometrika, vol. 60,\n",
       "       no. 2, 1973, pp. 369-374. JSTOR, www.jstor.org/stable/2334550.\n",
       "       Accessed 30 Mar. 2021.\n",
       "\n",
       "Examples\n",
       "--------\n",
       ">>> import numpy as np\n",
       ">>> from scipy import stats\n",
       ">>> rng = np.random.default_rng()\n",
       "\n",
       "Test with sample with identical means:\n",
       "\n",
       ">>> rvs1 = stats.norm.rvs(loc=5, scale=10, size=500, random_state=rng)\n",
       ">>> rvs2 = stats.norm.rvs(loc=5, scale=10, size=500, random_state=rng)\n",
       ">>> stats.ttest_ind(rvs1, rvs2)\n",
       "Ttest_indResult(statistic=-0.4390847099199348, pvalue=0.6606952038870015)\n",
       ">>> stats.ttest_ind(rvs1, rvs2, equal_var=False)\n",
       "Ttest_indResult(statistic=-0.4390847099199348, pvalue=0.6606952553131064)\n",
       "\n",
       "`ttest_ind` underestimates p for unequal variances:\n",
       "\n",
       ">>> rvs3 = stats.norm.rvs(loc=5, scale=20, size=500, random_state=rng)\n",
       ">>> stats.ttest_ind(rvs1, rvs3)\n",
       "Ttest_indResult(statistic=-1.6370984482905417, pvalue=0.1019251574705033)\n",
       ">>> stats.ttest_ind(rvs1, rvs3, equal_var=False)\n",
       "Ttest_indResult(statistic=-1.637098448290542, pvalue=0.10202110497954867)\n",
       "\n",
       "When ``n1 != n2``, the equal variance t-statistic is no longer equal to the\n",
       "unequal variance t-statistic:\n",
       "\n",
       ">>> rvs4 = stats.norm.rvs(loc=5, scale=20, size=100, random_state=rng)\n",
       ">>> stats.ttest_ind(rvs1, rvs4)\n",
       "Ttest_indResult(statistic=-1.9481646859513422, pvalue=0.05186270935842703)\n",
       ">>> stats.ttest_ind(rvs1, rvs4, equal_var=False)\n",
       "Ttest_indResult(statistic=-1.3146566100751664, pvalue=0.1913495266513811)\n",
       "\n",
       "T-test with different means, variance, and n:\n",
       "\n",
       ">>> rvs5 = stats.norm.rvs(loc=8, scale=20, size=100, random_state=rng)\n",
       ">>> stats.ttest_ind(rvs1, rvs5)\n",
       "Ttest_indResult(statistic=-2.8415950600298774, pvalue=0.0046418707568707885)\n",
       ">>> stats.ttest_ind(rvs1, rvs5, equal_var=False)\n",
       "Ttest_indResult(statistic=-1.8686598649188084, pvalue=0.06434714193919686)\n",
       "\n",
       "When performing a permutation test, more permutations typically yields\n",
       "more accurate results. Use a ``np.random.Generator`` to ensure\n",
       "reproducibility:\n",
       "\n",
       ">>> stats.ttest_ind(rvs1, rvs5, permutations=10000,\n",
       "...                 random_state=rng)\n",
       "Ttest_indResult(statistic=-2.8415950600298774, pvalue=0.0052994700529947)\n",
       "\n",
       "Take these two samples, one of which has an extreme tail.\n",
       "\n",
       ">>> a = (56, 128.6, 12, 123.8, 64.34, 78, 763.3)\n",
       ">>> b = (1.1, 2.9, 4.2)\n",
       "\n",
       "Use the `trim` keyword to perform a trimmed (Yuen) t-test. For example,\n",
       "using 20% trimming, ``trim=.2``, the test will reduce the impact of one\n",
       "(``np.floor(trim*len(a))``) element from each tail of sample `a`. It will\n",
       "have no effect on sample `b` because ``np.floor(trim*len(b))`` is 0.\n",
       "\n",
       ">>> stats.ttest_ind(a, b, trim=.2)\n",
       "Ttest_indResult(statistic=3.4463884028073513,\n",
       "                pvalue=0.01369338726499547)\n",
       "\u001b[1;31mFile:\u001b[0m      c:\\users\\ycanf\\anaconda3\\lib\\site-packages\\scipy\\stats\\_stats_py.py\n",
       "\u001b[1;31mType:\u001b[0m      function"
      ]
     },
     "metadata": {},
     "output_type": "display_data"
    }
   ],
   "source": [
    "?stats.ttest_ind"
   ]
  },
  {
   "cell_type": "markdown",
   "id": "95916465-8d56-4403-948f-a8ab886a2d9f",
   "metadata": {},
   "source": [
    "## Nonparametrik Bağımsız İki Örneklem Testi"
   ]
  },
  {
   "cell_type": "code",
   "execution_count": 27,
   "id": "dd4f2e25-015b-4675-bb66-dc2ee589d3df",
   "metadata": {
    "tags": []
   },
   "outputs": [],
   "source": [
    "from scipy import stats"
   ]
  },
  {
   "cell_type": "code",
   "execution_count": 28,
   "id": "341f3161-edd9-4ba8-a287-dc21bf7bc472",
   "metadata": {
    "tags": []
   },
   "outputs": [
    {
     "data": {
      "text/plain": [
       "MannwhitneyuResult(statistic=89.5, pvalue=9.557950378612535e-08)"
      ]
     },
     "execution_count": 28,
     "metadata": {},
     "output_type": "execute_result"
    }
   ],
   "source": [
    "stats.mannwhitneyu(A_B.A, A_B.B)"
   ]
  },
  {
   "cell_type": "code",
   "execution_count": 29,
   "id": "a22d3964-6300-49a8-b27e-9cb073813cb4",
   "metadata": {
    "tags": []
   },
   "outputs": [
    {
     "name": "stdout",
     "output_type": "stream",
     "text": [
      "Test istatistiği= 89.5000, p-değeri= 0.0000\n"
     ]
    }
   ],
   "source": [
    "test_istatistigi, pvalue = stats.mannwhitneyu(A_B.A,A_B.B)\n",
    "print('Test istatistiği= %.4f, p-değeri= %.4f'% (test_istatistigi,pvalue))"
   ]
  },
  {
   "cell_type": "code",
   "execution_count": null,
   "id": "1f9aff91-70fd-4f38-bccb-946c1d9cd8eb",
   "metadata": {},
   "outputs": [],
   "source": []
  }
 ],
 "metadata": {
  "kernelspec": {
   "display_name": "Python 3 (ipykernel)",
   "language": "python",
   "name": "python3"
  },
  "language_info": {
   "codemirror_mode": {
    "name": "ipython",
    "version": 3
   },
   "file_extension": ".py",
   "mimetype": "text/x-python",
   "name": "python",
   "nbconvert_exporter": "python",
   "pygments_lexer": "ipython3",
   "version": "3.11.4"
  }
 },
 "nbformat": 4,
 "nbformat_minor": 5
}
