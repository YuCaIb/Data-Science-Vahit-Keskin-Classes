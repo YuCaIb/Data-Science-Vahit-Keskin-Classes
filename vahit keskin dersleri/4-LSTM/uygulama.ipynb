{
 "cells": [
  {
   "cell_type": "markdown",
   "id": "e89f58c4-f462-4018-bd0c-5504cbdcf807",
   "metadata": {},
   "source": [
    "# Hisse senedi fiyat tahminlemesi\n",
    "* iş problemi\n",
    "* veriyi anlama\n",
    "* veriyi hazırlama\n",
    "* modelleme\n",
    "* değerlendirme"
   ]
  },
  {
   "cell_type": "markdown",
   "id": "d6bd3f67-e9e3-439b-ba5f-86465b7ac3f8",
   "metadata": {},
   "source": [
    "# İş problemi: hisse seenetlerini daha iyi bir biçimde tahmin etmek\n",
    "* **Data** : ilgili işlem günün tarigini temsil etmektedir.\n",
    "* **open** : ilgili işlem gününe ait hisse başlangıç fiyatını temsil etmektedir.\n",
    "* **high** : ilgili işlem gününe ait en yüksek fiyatı temsil etmektedir.\n",
    "* **Low** : ilgili işlem gününe ait en düşük fiyatı temsil etmektedir.\n",
    "* **Close** : ilgili işlem gününende hisse senedi kapanış fiyatı\n",
    "* **ADJ Close** : ilgili işlem gününe ait hisse senedinin düzeltilmiş kapanış fiyatı\n",
    "* **Volume** : ilgili işlem gününe ait işlem hacmi"
   ]
  },
  {
   "cell_type": "code",
   "execution_count": 1,
   "id": "efc32743-591c-4405-8e79-e970cb511d59",
   "metadata": {
    "tags": []
   },
   "outputs": [
    {
     "name": "stdout",
     "output_type": "stream",
     "text": [
      "WARNING:tensorflow:From C:\\Users\\ycanf\\anaconda3\\Lib\\site-packages\\keras\\src\\losses.py:2976: The name tf.losses.sparse_softmax_cross_entropy is deprecated. Please use tf.compat.v1.losses.sparse_softmax_cross_entropy instead.\n",
      "\n"
     ]
    }
   ],
   "source": [
    "## veriyi okuma ve işleme adımında kullanılacak olan kütphaneler\n",
    "import numpy as np\n",
    "import pandas as pd\n",
    "import datetime as dt\n",
    "import tensorflow as tf\n",
    "import matplotlib.pyplot as plt\n",
    "## Model değerlendirme ve veriyi scale edebilmek için ;\n",
    "from sklearn.preprocessing import MinMaxScaler\n",
    "from sklearn.metrics import mean_squared_error\n",
    "#model için kullanılacak kütpahaneler\n",
    "from tensorflow.keras.models import Sequential\n",
    "from tensorflow.keras.layers import Dense, LSTM, Dropout\n",
    "from tensorflow.keras.callbacks import ModelCheckpoint, EarlyStopping\n",
    "\n",
    "#warning..\n",
    "import warnings\n",
    "warnings.filterwarnings('ignore')"
   ]
  },
  {
   "cell_type": "markdown",
   "id": "c2a388de-648a-4ccc-beb0-f7b087efbb59",
   "metadata": {},
   "source": [
    "# Data Undertstanding"
   ]
  },
  {
   "cell_type": "code",
   "execution_count": 2,
   "id": "700ea030-8576-469e-bc3c-5c9695ed9d85",
   "metadata": {
    "tags": []
   },
   "outputs": [],
   "source": [
    "df = pd.read_csv('TSLA.csv')"
   ]
  },
  {
   "cell_type": "code",
   "execution_count": 3,
   "id": "670c6476-a382-4be1-902b-059bb480e0a2",
   "metadata": {
    "tags": []
   },
   "outputs": [
    {
     "data": {
      "text/html": [
       "<div>\n",
       "<style scoped>\n",
       "    .dataframe tbody tr th:only-of-type {\n",
       "        vertical-align: middle;\n",
       "    }\n",
       "\n",
       "    .dataframe tbody tr th {\n",
       "        vertical-align: top;\n",
       "    }\n",
       "\n",
       "    .dataframe thead th {\n",
       "        text-align: right;\n",
       "    }\n",
       "</style>\n",
       "<table border=\"1\" class=\"dataframe\">\n",
       "  <thead>\n",
       "    <tr style=\"text-align: right;\">\n",
       "      <th></th>\n",
       "      <th>count</th>\n",
       "      <th>mean</th>\n",
       "      <th>std</th>\n",
       "      <th>min</th>\n",
       "      <th>25%</th>\n",
       "      <th>50%</th>\n",
       "      <th>75%</th>\n",
       "      <th>max</th>\n",
       "    </tr>\n",
       "  </thead>\n",
       "  <tbody>\n",
       "    <tr>\n",
       "      <th>Open</th>\n",
       "      <td>2416.0</td>\n",
       "      <td>1.862711e+02</td>\n",
       "      <td>1.187402e+02</td>\n",
       "      <td>16.139999</td>\n",
       "      <td>3.434250e+01</td>\n",
       "      <td>2.130350e+02</td>\n",
       "      <td>2.664500e+02</td>\n",
       "      <td>6.736900e+02</td>\n",
       "    </tr>\n",
       "    <tr>\n",
       "      <th>High</th>\n",
       "      <td>2416.0</td>\n",
       "      <td>1.895782e+02</td>\n",
       "      <td>1.208923e+02</td>\n",
       "      <td>16.629999</td>\n",
       "      <td>3.489750e+01</td>\n",
       "      <td>2.167450e+02</td>\n",
       "      <td>2.709275e+02</td>\n",
       "      <td>7.861400e+02</td>\n",
       "    </tr>\n",
       "    <tr>\n",
       "      <th>Low</th>\n",
       "      <td>2416.0</td>\n",
       "      <td>1.829166e+02</td>\n",
       "      <td>1.168576e+02</td>\n",
       "      <td>14.980000</td>\n",
       "      <td>3.358750e+01</td>\n",
       "      <td>2.088700e+02</td>\n",
       "      <td>2.621025e+02</td>\n",
       "      <td>6.735200e+02</td>\n",
       "    </tr>\n",
       "    <tr>\n",
       "      <th>Close</th>\n",
       "      <td>2416.0</td>\n",
       "      <td>1.864037e+02</td>\n",
       "      <td>1.191360e+02</td>\n",
       "      <td>15.800000</td>\n",
       "      <td>3.440000e+01</td>\n",
       "      <td>2.129600e+02</td>\n",
       "      <td>2.667750e+02</td>\n",
       "      <td>7.800000e+02</td>\n",
       "    </tr>\n",
       "    <tr>\n",
       "      <th>Adj Close</th>\n",
       "      <td>2416.0</td>\n",
       "      <td>1.864037e+02</td>\n",
       "      <td>1.191360e+02</td>\n",
       "      <td>15.800000</td>\n",
       "      <td>3.440000e+01</td>\n",
       "      <td>2.129600e+02</td>\n",
       "      <td>2.667750e+02</td>\n",
       "      <td>7.800000e+02</td>\n",
       "    </tr>\n",
       "    <tr>\n",
       "      <th>Volume</th>\n",
       "      <td>2416.0</td>\n",
       "      <td>5.572722e+06</td>\n",
       "      <td>4.987809e+06</td>\n",
       "      <td>118500.000000</td>\n",
       "      <td>1.899275e+06</td>\n",
       "      <td>4.578400e+06</td>\n",
       "      <td>7.361150e+06</td>\n",
       "      <td>4.706500e+07</td>\n",
       "    </tr>\n",
       "  </tbody>\n",
       "</table>\n",
       "</div>"
      ],
      "text/plain": [
       "            count          mean           std            min           25%  \\\n",
       "Open       2416.0  1.862711e+02  1.187402e+02      16.139999  3.434250e+01   \n",
       "High       2416.0  1.895782e+02  1.208923e+02      16.629999  3.489750e+01   \n",
       "Low        2416.0  1.829166e+02  1.168576e+02      14.980000  3.358750e+01   \n",
       "Close      2416.0  1.864037e+02  1.191360e+02      15.800000  3.440000e+01   \n",
       "Adj Close  2416.0  1.864037e+02  1.191360e+02      15.800000  3.440000e+01   \n",
       "Volume     2416.0  5.572722e+06  4.987809e+06  118500.000000  1.899275e+06   \n",
       "\n",
       "                    50%           75%           max  \n",
       "Open       2.130350e+02  2.664500e+02  6.736900e+02  \n",
       "High       2.167450e+02  2.709275e+02  7.861400e+02  \n",
       "Low        2.088700e+02  2.621025e+02  6.735200e+02  \n",
       "Close      2.129600e+02  2.667750e+02  7.800000e+02  \n",
       "Adj Close  2.129600e+02  2.667750e+02  7.800000e+02  \n",
       "Volume     4.578400e+06  7.361150e+06  4.706500e+07  "
      ]
     },
     "execution_count": 3,
     "metadata": {},
     "output_type": "execute_result"
    }
   ],
   "source": [
    "df.describe().T"
   ]
  },
  {
   "cell_type": "code",
   "execution_count": 4,
   "id": "a06c01f3-fc9d-46a3-af1f-2c247506d848",
   "metadata": {
    "tags": []
   },
   "outputs": [
    {
     "data": {
      "text/html": [
       "<div>\n",
       "<style scoped>\n",
       "    .dataframe tbody tr th:only-of-type {\n",
       "        vertical-align: middle;\n",
       "    }\n",
       "\n",
       "    .dataframe tbody tr th {\n",
       "        vertical-align: top;\n",
       "    }\n",
       "\n",
       "    .dataframe thead th {\n",
       "        text-align: right;\n",
       "    }\n",
       "</style>\n",
       "<table border=\"1\" class=\"dataframe\">\n",
       "  <thead>\n",
       "    <tr style=\"text-align: right;\">\n",
       "      <th></th>\n",
       "      <th>Date</th>\n",
       "      <th>Open</th>\n",
       "      <th>High</th>\n",
       "      <th>Low</th>\n",
       "      <th>Close</th>\n",
       "      <th>Adj Close</th>\n",
       "      <th>Volume</th>\n",
       "    </tr>\n",
       "  </thead>\n",
       "  <tbody>\n",
       "    <tr>\n",
       "      <th>0</th>\n",
       "      <td>2010-06-29</td>\n",
       "      <td>19.000000</td>\n",
       "      <td>25.00</td>\n",
       "      <td>17.540001</td>\n",
       "      <td>23.889999</td>\n",
       "      <td>23.889999</td>\n",
       "      <td>18766300</td>\n",
       "    </tr>\n",
       "    <tr>\n",
       "      <th>1</th>\n",
       "      <td>2010-06-30</td>\n",
       "      <td>25.790001</td>\n",
       "      <td>30.42</td>\n",
       "      <td>23.299999</td>\n",
       "      <td>23.830000</td>\n",
       "      <td>23.830000</td>\n",
       "      <td>17187100</td>\n",
       "    </tr>\n",
       "    <tr>\n",
       "      <th>2</th>\n",
       "      <td>2010-07-01</td>\n",
       "      <td>25.000000</td>\n",
       "      <td>25.92</td>\n",
       "      <td>20.270000</td>\n",
       "      <td>21.959999</td>\n",
       "      <td>21.959999</td>\n",
       "      <td>8218800</td>\n",
       "    </tr>\n",
       "    <tr>\n",
       "      <th>3</th>\n",
       "      <td>2010-07-02</td>\n",
       "      <td>23.000000</td>\n",
       "      <td>23.10</td>\n",
       "      <td>18.709999</td>\n",
       "      <td>19.200001</td>\n",
       "      <td>19.200001</td>\n",
       "      <td>5139800</td>\n",
       "    </tr>\n",
       "    <tr>\n",
       "      <th>4</th>\n",
       "      <td>2010-07-06</td>\n",
       "      <td>20.000000</td>\n",
       "      <td>20.00</td>\n",
       "      <td>15.830000</td>\n",
       "      <td>16.110001</td>\n",
       "      <td>16.110001</td>\n",
       "      <td>6866900</td>\n",
       "    </tr>\n",
       "  </tbody>\n",
       "</table>\n",
       "</div>"
      ],
      "text/plain": [
       "         Date       Open   High        Low      Close  Adj Close    Volume\n",
       "0  2010-06-29  19.000000  25.00  17.540001  23.889999  23.889999  18766300\n",
       "1  2010-06-30  25.790001  30.42  23.299999  23.830000  23.830000  17187100\n",
       "2  2010-07-01  25.000000  25.92  20.270000  21.959999  21.959999   8218800\n",
       "3  2010-07-02  23.000000  23.10  18.709999  19.200001  19.200001   5139800\n",
       "4  2010-07-06  20.000000  20.00  15.830000  16.110001  16.110001   6866900"
      ]
     },
     "execution_count": 4,
     "metadata": {},
     "output_type": "execute_result"
    }
   ],
   "source": [
    "df.head()"
   ]
  },
  {
   "cell_type": "code",
   "execution_count": 5,
   "id": "a023b2c8-b0e1-442d-b3b6-eabc5db69210",
   "metadata": {
    "tags": []
   },
   "outputs": [
    {
     "data": {
      "text/plain": [
       "Date         0\n",
       "Open         0\n",
       "High         0\n",
       "Low          0\n",
       "Close        0\n",
       "Adj Close    0\n",
       "Volume       0\n",
       "dtype: int64"
      ]
     },
     "execution_count": 5,
     "metadata": {},
     "output_type": "execute_result"
    }
   ],
   "source": [
    "df.isnull().sum()"
   ]
  },
  {
   "cell_type": "code",
   "execution_count": 6,
   "id": "38afd193-8c72-4f60-9061-723590365a40",
   "metadata": {
    "tags": []
   },
   "outputs": [],
   "source": [
    "def check_df(dataframe, head=5):\n",
    "    print(\"######### Shape ##########\")\n",
    "    print(dataframe.shape)\n",
    "    print(\"######### Types ##########\")    \n",
    "    print(dataframe.dtypes)\n",
    "    print(\"######### Head ##########\")    \n",
    "    print(dataframe.head(head))\n",
    "    print(\"######### tail ##########\")    \n",
    "    print(dataframe.tail(head))\n",
    "    print(\"######### NA ##########\")    \n",
    "    print(dataframe.isnull().sum())\n",
    "    print(\"######### Quantiles ##########\")\n",
    "    print(dataframe.quantile([0,0.05,0.5,0.95,0.99,1]).T)\n",
    "    print(\"######### describe ##########\")\n",
    "    print(dataframe.describe().T)"
   ]
  },
  {
   "cell_type": "code",
   "execution_count": 7,
   "id": "ddd22fd6-901a-4d13-af8a-be786de4c7f8",
   "metadata": {
    "tags": []
   },
   "outputs": [
    {
     "name": "stdout",
     "output_type": "stream",
     "text": [
      "######### Shape ##########\n",
      "(2416, 7)\n",
      "######### Types ##########\n",
      "Date          object\n",
      "Open         float64\n",
      "High         float64\n",
      "Low          float64\n",
      "Close        float64\n",
      "Adj Close    float64\n",
      "Volume         int64\n",
      "dtype: object\n",
      "######### Head ##########\n",
      "         Date       Open   High        Low      Close  Adj Close    Volume\n",
      "0  2010-06-29  19.000000  25.00  17.540001  23.889999  23.889999  18766300\n",
      "1  2010-06-30  25.790001  30.42  23.299999  23.830000  23.830000  17187100\n",
      "2  2010-07-01  25.000000  25.92  20.270000  21.959999  21.959999   8218800\n",
      "3  2010-07-02  23.000000  23.10  18.709999  19.200001  19.200001   5139800\n",
      "4  2010-07-06  20.000000  20.00  15.830000  16.110001  16.110001   6866900\n",
      "######### tail ##########\n",
      "            Date        Open        High         Low       Close   Adj Close  \\\n",
      "2411  2020-01-28  568.489990  576.809998  558.080017  566.900024  566.900024   \n",
      "2412  2020-01-29  575.690002  589.799988  567.429993  580.989990  580.989990   \n",
      "2413  2020-01-30  632.419983  650.880005  618.000000  640.809998  640.809998   \n",
      "2414  2020-01-31  640.000000  653.000000  632.520020  650.570007  650.570007   \n",
      "2415  2020-02-03  673.690002  786.140015  673.520020  780.000000  780.000000   \n",
      "\n",
      "        Volume  \n",
      "2411  11788500  \n",
      "2412  17801500  \n",
      "2413  29005700  \n",
      "2414  15719300  \n",
      "2415  47065000  \n",
      "######### NA ##########\n",
      "Date         0\n",
      "Open         0\n",
      "High         0\n",
      "Low          0\n",
      "Close        0\n",
      "Adj Close    0\n",
      "Volume       0\n",
      "dtype: int64\n",
      "######### Quantiles ##########\n",
      "                    0.00           0.05          0.50          0.95  \\\n",
      "Open           16.139999      23.384999  2.130350e+02  3.519100e+02   \n",
      "High           16.629999      24.022501  2.167450e+02  3.567500e+02   \n",
      "Low            14.980000      22.867499  2.088700e+02  3.460250e+02   \n",
      "Close          15.800000      23.565000  2.129600e+02  3.511675e+02   \n",
      "Adj Close      15.800000      23.565000  2.129600e+02  3.511675e+02   \n",
      "Volume     118500.000000  633825.000000  4.578400e+06  1.476090e+07   \n",
      "\n",
      "                   0.99          1.00  \n",
      "Open       4.235790e+02  6.736900e+02  \n",
      "High       4.284705e+02  7.861400e+02  \n",
      "Low        4.122865e+02  6.735200e+02  \n",
      "Close      4.243455e+02  7.800000e+02  \n",
      "Adj Close  4.243455e+02  7.800000e+02  \n",
      "Volume     2.459959e+07  4.706500e+07  \n",
      "######### describe ##########\n",
      "            count          mean           std            min           25%  \\\n",
      "Open       2416.0  1.862711e+02  1.187402e+02      16.139999  3.434250e+01   \n",
      "High       2416.0  1.895782e+02  1.208923e+02      16.629999  3.489750e+01   \n",
      "Low        2416.0  1.829166e+02  1.168576e+02      14.980000  3.358750e+01   \n",
      "Close      2416.0  1.864037e+02  1.191360e+02      15.800000  3.440000e+01   \n",
      "Adj Close  2416.0  1.864037e+02  1.191360e+02      15.800000  3.440000e+01   \n",
      "Volume     2416.0  5.572722e+06  4.987809e+06  118500.000000  1.899275e+06   \n",
      "\n",
      "                    50%           75%           max  \n",
      "Open       2.130350e+02  2.664500e+02  6.736900e+02  \n",
      "High       2.167450e+02  2.709275e+02  7.861400e+02  \n",
      "Low        2.088700e+02  2.621025e+02  6.735200e+02  \n",
      "Close      2.129600e+02  2.667750e+02  7.800000e+02  \n",
      "Adj Close  2.129600e+02  2.667750e+02  7.800000e+02  \n",
      "Volume     4.578400e+06  7.361150e+06  4.706500e+07  \n"
     ]
    }
   ],
   "source": [
    "check_df(df) # Date object, time a çevirmek lazım. Amacımız günlük kapanışı tahmin etmek. "
   ]
  },
  {
   "cell_type": "markdown",
   "id": "36e33875-6cf5-4454-b735-f261f7ea0fa4",
   "metadata": {},
   "source": [
    "# Data prepration"
   ]
  },
  {
   "cell_type": "code",
   "execution_count": 8,
   "id": "dd25cfac-cf18-43c4-ab4b-aeface75c423",
   "metadata": {
    "tags": []
   },
   "outputs": [],
   "source": [
    "df['Date'] = pd.to_datetime(df['Date'])"
   ]
  },
  {
   "cell_type": "code",
   "execution_count": 9,
   "id": "1b88db30-28af-457b-9815-1142f0e81f9f",
   "metadata": {
    "tags": []
   },
   "outputs": [],
   "source": [
    "tesla_df = df[['Date','Close']]"
   ]
  },
  {
   "cell_type": "code",
   "execution_count": 10,
   "id": "46bda87a-7881-49ef-b4c4-7d0ba4406ed5",
   "metadata": {
    "tags": []
   },
   "outputs": [],
   "source": [
    "tesla_df.index = tesla_df.Date"
   ]
  },
  {
   "cell_type": "code",
   "execution_count": 11,
   "id": "747f10f7-bd49-4d71-b42c-47aa8f4251fc",
   "metadata": {
    "tags": []
   },
   "outputs": [],
   "source": [
    "tesla_df.drop('Date',inplace=True,axis=1)"
   ]
  },
  {
   "cell_type": "code",
   "execution_count": 12,
   "id": "bc3ca219-5996-4d08-8aed-069e3c3d6d68",
   "metadata": {
    "tags": []
   },
   "outputs": [
    {
     "data": {
      "text/html": [
       "<div>\n",
       "<style scoped>\n",
       "    .dataframe tbody tr th:only-of-type {\n",
       "        vertical-align: middle;\n",
       "    }\n",
       "\n",
       "    .dataframe tbody tr th {\n",
       "        vertical-align: top;\n",
       "    }\n",
       "\n",
       "    .dataframe thead th {\n",
       "        text-align: right;\n",
       "    }\n",
       "</style>\n",
       "<table border=\"1\" class=\"dataframe\">\n",
       "  <thead>\n",
       "    <tr style=\"text-align: right;\">\n",
       "      <th></th>\n",
       "      <th>Close</th>\n",
       "    </tr>\n",
       "    <tr>\n",
       "      <th>Date</th>\n",
       "      <th></th>\n",
       "    </tr>\n",
       "  </thead>\n",
       "  <tbody>\n",
       "    <tr>\n",
       "      <th>2010-06-29</th>\n",
       "      <td>23.889999</td>\n",
       "    </tr>\n",
       "    <tr>\n",
       "      <th>2010-06-30</th>\n",
       "      <td>23.830000</td>\n",
       "    </tr>\n",
       "    <tr>\n",
       "      <th>2010-07-01</th>\n",
       "      <td>21.959999</td>\n",
       "    </tr>\n",
       "    <tr>\n",
       "      <th>2010-07-02</th>\n",
       "      <td>19.200001</td>\n",
       "    </tr>\n",
       "    <tr>\n",
       "      <th>2010-07-06</th>\n",
       "      <td>16.110001</td>\n",
       "    </tr>\n",
       "    <tr>\n",
       "      <th>...</th>\n",
       "      <td>...</td>\n",
       "    </tr>\n",
       "    <tr>\n",
       "      <th>2020-01-28</th>\n",
       "      <td>566.900024</td>\n",
       "    </tr>\n",
       "    <tr>\n",
       "      <th>2020-01-29</th>\n",
       "      <td>580.989990</td>\n",
       "    </tr>\n",
       "    <tr>\n",
       "      <th>2020-01-30</th>\n",
       "      <td>640.809998</td>\n",
       "    </tr>\n",
       "    <tr>\n",
       "      <th>2020-01-31</th>\n",
       "      <td>650.570007</td>\n",
       "    </tr>\n",
       "    <tr>\n",
       "      <th>2020-02-03</th>\n",
       "      <td>780.000000</td>\n",
       "    </tr>\n",
       "  </tbody>\n",
       "</table>\n",
       "<p>2416 rows × 1 columns</p>\n",
       "</div>"
      ],
      "text/plain": [
       "                 Close\n",
       "Date                  \n",
       "2010-06-29   23.889999\n",
       "2010-06-30   23.830000\n",
       "2010-07-01   21.959999\n",
       "2010-07-02   19.200001\n",
       "2010-07-06   16.110001\n",
       "...                ...\n",
       "2020-01-28  566.900024\n",
       "2020-01-29  580.989990\n",
       "2020-01-30  640.809998\n",
       "2020-01-31  650.570007\n",
       "2020-02-03  780.000000\n",
       "\n",
       "[2416 rows x 1 columns]"
      ]
     },
     "execution_count": 12,
     "metadata": {},
     "output_type": "execute_result"
    }
   ],
   "source": [
    "tesla_df"
   ]
  },
  {
   "cell_type": "code",
   "execution_count": 13,
   "id": "d7859282-91c5-450d-88a2-eb93f2904fb5",
   "metadata": {
    "tags": []
   },
   "outputs": [],
   "source": [
    "result_df = tesla_df.copy()"
   ]
  },
  {
   "cell_type": "code",
   "execution_count": 14,
   "id": "27bab976-8977-4ce0-ab43-3dda9a7f67ef",
   "metadata": {
    "tags": []
   },
   "outputs": [
    {
     "data": {
      "image/png": "[encoded data removed]",
      "text/plain": [
       "<Figure size 640x480 with 1 Axes>"
      ]
     },
     "metadata": {},
     "output_type": "display_data"
    }
   ],
   "source": [
    "tesla_df.plot()\n",
    "plt.ylabel('Price')\n",
    "plt.title('Tesla Stock-Close Price/Date')\n",
    "plt.show()"
   ]
  },
  {
   "cell_type": "code",
   "execution_count": 15,
   "id": "665b3cdc-d153-4e1a-a9d0-f9806eb2671c",
   "metadata": {
    "tags": []
   },
   "outputs": [],
   "source": [
    "tesla_df = tesla_df.values"
   ]
  },
  {
   "cell_type": "code",
   "execution_count": 16,
   "id": "16f7b171-9eb7-4d07-aa90-85b6e32f2cfd",
   "metadata": {
    "tags": []
   },
   "outputs": [
    {
     "data": {
      "text/plain": [
       "array([[ 23.889999],\n",
       "       [ 23.83    ],\n",
       "       [ 21.959999],\n",
       "       ...,\n",
       "       [640.809998],\n",
       "       [650.570007],\n",
       "       [780.      ]])"
      ]
     },
     "execution_count": 16,
     "metadata": {},
     "output_type": "execute_result"
    }
   ],
   "source": [
    "tesla_df"
   ]
  },
  {
   "cell_type": "code",
   "execution_count": 17,
   "id": "7498cedc-801f-4106-9f98-b52a5a0bbbd4",
   "metadata": {
    "tags": []
   },
   "outputs": [
    {
     "data": {
      "text/plain": [
       "numpy.ndarray"
      ]
     },
     "execution_count": 17,
     "metadata": {},
     "output_type": "execute_result"
    }
   ],
   "source": [
    "type(tesla_df)"
   ]
  },
  {
   "cell_type": "code",
   "execution_count": 18,
   "id": "a494189d-5f78-474f-995c-081e8af03378",
   "metadata": {
    "tags": []
   },
   "outputs": [],
   "source": [
    "tesla_df = tesla_df.astype('float32')"
   ]
  },
  {
   "cell_type": "markdown",
   "id": "78a30dba-a6e9-4aeb-9db6-136d4229dd19",
   "metadata": {},
   "source": [
    "#### train test ayrımını yapılması\n",
    "* dateleri karıştırmamsı için train_test_split fonksiyonu kullanmayacağız ! çünkü zamanın rastgele olmak istemiyoruz"
   ]
  },
  {
   "cell_type": "code",
   "execution_count": 19,
   "id": "4a32052c-f1b6-4d17-b76c-64dd114bbae9",
   "metadata": {
    "tags": []
   },
   "outputs": [],
   "source": [
    "def split_data(dataframe, test_size):\n",
    "    pos = int(round(len(dataframe) * (1-test_size)))\n",
    "    train = dataframe[:pos]\n",
    "    test = dataframe[pos:]\n",
    "    return train, test, pos"
   ]
  },
  {
   "cell_type": "code",
   "execution_count": 20,
   "id": "2f325237-be01-4894-a98b-d53da4722ee4",
   "metadata": {
    "tags": []
   },
   "outputs": [],
   "source": [
    "train, test, pos = split_data(tesla_df, 0.20)"
   ]
  },
  {
   "cell_type": "code",
   "execution_count": 21,
   "id": "18c9e999-aecf-48f2-9d5f-74d41a81b090",
   "metadata": {
    "tags": []
   },
   "outputs": [
    {
     "data": {
      "text/plain": [
       "(483, 1)"
      ]
     },
     "execution_count": 21,
     "metadata": {},
     "output_type": "execute_result"
    }
   ],
   "source": [
    "test.shape"
   ]
  },
  {
   "cell_type": "markdown",
   "id": "c58e97d7-ef4c-47f0-ad18-3106e98a55ca",
   "metadata": {},
   "source": [
    "# neden standartlaştırıyoruz\n",
    "* performans optimizasyonu ! \n",
    "* birden fazla değişken kullandığımızda da değişkenlerin birbirini ezmemsi için değişken dönüştürme işlemi yapılmasında fayda var ! "
   ]
  },
  {
   "cell_type": "code",
   "execution_count": 22,
   "id": "10d398db-6772-4df5-b77b-f3e723fb4a4c",
   "metadata": {
    "tags": []
   },
   "outputs": [],
   "source": [
    "scaler_train =MinMaxScaler(feature_range=(0,1))\n",
    "scaler_test =MinMaxScaler(feature_range=(0,1))"
   ]
  },
  {
   "cell_type": "code",
   "execution_count": 23,
   "id": "bae4672f-bd31-4355-9446-a85ecc4e5368",
   "metadata": {
    "tags": []
   },
   "outputs": [
    {
     "data": {
      "text/plain": [
       "\u001b[1;31mInit signature:\u001b[0m \u001b[0mMinMaxScaler\u001b[0m\u001b[1;33m(\u001b[0m\u001b[0mfeature_range\u001b[0m\u001b[1;33m=\u001b[0m\u001b[1;33m(\u001b[0m\u001b[1;36m0\u001b[0m\u001b[1;33m,\u001b[0m \u001b[1;36m1\u001b[0m\u001b[1;33m)\u001b[0m\u001b[1;33m,\u001b[0m \u001b[1;33m*\u001b[0m\u001b[1;33m,\u001b[0m \u001b[0mcopy\u001b[0m\u001b[1;33m=\u001b[0m\u001b[1;32mTrue\u001b[0m\u001b[1;33m,\u001b[0m \u001b[0mclip\u001b[0m\u001b[1;33m=\u001b[0m\u001b[1;32mFalse\u001b[0m\u001b[1;33m)\u001b[0m\u001b[1;33m\u001b[0m\u001b[1;33m\u001b[0m\u001b[0m\n",
       "\u001b[1;31mDocstring:\u001b[0m     \n",
       "Transform features by scaling each feature to a given range.\n",
       "\n",
       "This estimator scales and translates each feature individually such\n",
       "that it is in the given range on the training set, e.g. between\n",
       "zero and one.\n",
       "\n",
       "The transformation is given by::\n",
       "\n",
       "    X_std = (X - X.min(axis=0)) / (X.max(axis=0) - X.min(axis=0))\n",
       "    X_scaled = X_std * (max - min) + min\n",
       "\n",
       "where min, max = feature_range.\n",
       "\n",
       "This transformation is often used as an alternative to zero mean,\n",
       "unit variance scaling.\n",
       "\n",
       "Read more in the :ref:`User Guide <preprocessing_scaler>`.\n",
       "\n",
       "Parameters\n",
       "----------\n",
       "feature_range : tuple (min, max), default=(0, 1)\n",
       "    Desired range of transformed data.\n",
       "\n",
       "copy : bool, default=True\n",
       "    Set to False to perform inplace row normalization and avoid a\n",
       "    copy (if the input is already a numpy array).\n",
       "\n",
       "clip : bool, default=False\n",
       "    Set to True to clip transformed values of held-out data to\n",
       "    provided `feature range`.\n",
       "\n",
       "    .. versionadded:: 0.24\n",
       "\n",
       "Attributes\n",
       "----------\n",
       "min_ : ndarray of shape (n_features,)\n",
       "    Per feature adjustment for minimum. Equivalent to\n",
       "    ``min - X.min(axis=0) * self.scale_``\n",
       "\n",
       "scale_ : ndarray of shape (n_features,)\n",
       "    Per feature relative scaling of the data. Equivalent to\n",
       "    ``(max - min) / (X.max(axis=0) - X.min(axis=0))``\n",
       "\n",
       "    .. versionadded:: 0.17\n",
       "       *scale_* attribute.\n",
       "\n",
       "data_min_ : ndarray of shape (n_features,)\n",
       "    Per feature minimum seen in the data\n",
       "\n",
       "    .. versionadded:: 0.17\n",
       "       *data_min_*\n",
       "\n",
       "data_max_ : ndarray of shape (n_features,)\n",
       "    Per feature maximum seen in the data\n",
       "\n",
       "    .. versionadded:: 0.17\n",
       "       *data_max_*\n",
       "\n",
       "data_range_ : ndarray of shape (n_features,)\n",
       "    Per feature range ``(data_max_ - data_min_)`` seen in the data\n",
       "\n",
       "    .. versionadded:: 0.17\n",
       "       *data_range_*\n",
       "\n",
       "n_features_in_ : int\n",
       "    Number of features seen during :term:`fit`.\n",
       "\n",
       "    .. versionadded:: 0.24\n",
       "\n",
       "n_samples_seen_ : int\n",
       "    The number of samples processed by the estimator.\n",
       "    It will be reset on new calls to fit, but increments across\n",
       "    ``partial_fit`` calls.\n",
       "\n",
       "feature_names_in_ : ndarray of shape (`n_features_in_`,)\n",
       "    Names of features seen during :term:`fit`. Defined only when `X`\n",
       "    has feature names that are all strings.\n",
       "\n",
       "    .. versionadded:: 1.0\n",
       "\n",
       "See Also\n",
       "--------\n",
       "minmax_scale : Equivalent function without the estimator API.\n",
       "\n",
       "Notes\n",
       "-----\n",
       "NaNs are treated as missing values: disregarded in fit, and maintained in\n",
       "transform.\n",
       "\n",
       "For a comparison of the different scalers, transformers, and normalizers,\n",
       "see :ref:`examples/preprocessing/plot_all_scaling.py\n",
       "<sphx_glr_auto_examples_preprocessing_plot_all_scaling.py>`.\n",
       "\n",
       "Examples\n",
       "--------\n",
       ">>> from sklearn.preprocessing import MinMaxScaler\n",
       ">>> data = [[-1, 2], [-0.5, 6], [0, 10], [1, 18]]\n",
       ">>> scaler = MinMaxScaler()\n",
       ">>> print(scaler.fit(data))\n",
       "MinMaxScaler()\n",
       ">>> print(scaler.data_max_)\n",
       "[ 1. 18.]\n",
       ">>> print(scaler.transform(data))\n",
       "[[0.   0.  ]\n",
       " [0.25 0.25]\n",
       " [0.5  0.5 ]\n",
       " [1.   1.  ]]\n",
       ">>> print(scaler.transform([[2, 2]]))\n",
       "[[1.5 0. ]]\n",
       "\u001b[1;31mFile:\u001b[0m           c:\\users\\ycanf\\anaconda3\\lib\\site-packages\\sklearn\\preprocessing\\_data.py\n",
       "\u001b[1;31mType:\u001b[0m           type\n",
       "\u001b[1;31mSubclasses:\u001b[0m     "
      ]
     },
     "metadata": {},
     "output_type": "display_data"
    }
   ],
   "source": [
    "?MinMaxScaler"
   ]
  },
  {
   "cell_type": "code",
   "execution_count": 24,
   "id": "0debb7c3-e1a1-466a-9e47-5eefc9161a7c",
   "metadata": {
    "tags": []
   },
   "outputs": [],
   "source": [
    "train= scaler_train.fit_transform(train)\n",
    "test= scaler_test.fit_transform(test)"
   ]
  },
  {
   "cell_type": "code",
   "execution_count": 25,
   "id": "9611bdd8-650a-4599-9bfd-cbc32831f1ad",
   "metadata": {
    "tags": []
   },
   "outputs": [],
   "source": [
    "def create_features(data, lookback):\n",
    "    X,Y = [],[]\n",
    "    for i in range(lookback, len(data)):\n",
    "        X.append(data[i-lookback:i,0])\n",
    "        Y.append(data[i,0])\n",
    "    return np.array(X), np.array(Y)"
   ]
  },
  {
   "cell_type": "code",
   "execution_count": 26,
   "id": "d0c3d20f-d661-48be-be8a-c7ff8dd7d1d1",
   "metadata": {
    "tags": []
   },
   "outputs": [],
   "source": [
    "lookback = 20"
   ]
  },
  {
   "cell_type": "code",
   "execution_count": 27,
   "id": "b4ad5b9e-b5ba-4b2f-b347-21ed9a3be279",
   "metadata": {
    "tags": []
   },
   "outputs": [],
   "source": [
    "X_train,y_train =create_features(train,lookback)"
   ]
  },
  {
   "cell_type": "code",
   "execution_count": 28,
   "id": "0e36e809-422f-4df2-869f-ed9ad874eee9",
   "metadata": {
    "tags": []
   },
   "outputs": [],
   "source": [
    "X_test,y_test =create_features(test,lookback)"
   ]
  },
  {
   "cell_type": "markdown",
   "id": "704cefed-1493-40e9-86dc-b1f9c72c0c47",
   "metadata": {},
   "source": [
    "* ürettiğimiz bu yeni featurelar aslında teslanın o günkü closer değerinin 20 gün önceki değerleri, yani sonra 20 gün içerisinde bugüne olan yansıma değerler.... biraz karışık ama anladım"
   ]
  },
  {
   "cell_type": "code",
   "execution_count": 29,
   "id": "5602217c-984e-4085-9d7b-dc6aebf78743",
   "metadata": {
    "tags": []
   },
   "outputs": [
    {
     "data": {
      "text/plain": [
       "((1913, 20), (463, 20), (1913,), (463,))"
      ]
     },
     "execution_count": 29,
     "metadata": {},
     "output_type": "execute_result"
    }
   ],
   "source": [
    "X_train.shape, X_test.shape, y_train.shape, y_test.shape"
   ]
  },
  {
   "cell_type": "code",
   "execution_count": 30,
   "id": "2f86fb48-151e-4299-a7c5-d0773ee39cc0",
   "metadata": {
    "tags": []
   },
   "outputs": [
    {
     "data": {
      "text/plain": [
       "1913"
      ]
     },
     "execution_count": 30,
     "metadata": {},
     "output_type": "execute_result"
    }
   ],
   "source": [
    "len(y_train)"
   ]
  },
  {
   "cell_type": "code",
   "execution_count": 31,
   "id": "f4e937ab-0910-4901-aed6-32c50091d19c",
   "metadata": {
    "tags": []
   },
   "outputs": [
    {
     "data": {
      "text/plain": [
       "array([[2.1912243e-02, 2.1749731e-02, 1.6684722e-02, ..., 1.4869992e-02,\n",
       "        1.3949081e-02, 1.2865655e-02],\n",
       "       [2.1749731e-02, 1.6684722e-02, 9.2091039e-03, ..., 1.3949081e-02,\n",
       "        1.2865655e-02, 1.3326108e-02],\n",
       "       [1.6684722e-02, 9.2091039e-03, 8.3965808e-04, ..., 1.2865655e-02,\n",
       "        1.3326108e-02, 1.2323946e-02],\n",
       "       ...,\n",
       "       [8.9387864e-01, 9.1687429e-01, 9.0316898e-01, ..., 9.1075289e-01,\n",
       "        9.2529792e-01, 9.0788186e-01],\n",
       "       [9.1687429e-01, 9.0316898e-01, 8.8827187e-01, ..., 9.2529792e-01,\n",
       "        9.0788186e-01, 8.8640296e-01],\n",
       "       [9.0316898e-01, 8.8827187e-01, 8.5950702e-01, ..., 9.0788186e-01,\n",
       "        8.8640296e-01, 8.5354817e-01]], dtype=float32)"
      ]
     },
     "execution_count": 31,
     "metadata": {},
     "output_type": "execute_result"
    }
   ],
   "source": [
    "X_train"
   ]
  },
  {
   "cell_type": "code",
   "execution_count": 32,
   "id": "d34cc99c-9e72-45a3-a9b9-57364c7a82ff",
   "metadata": {
    "tags": []
   },
   "outputs": [
    {
     "data": {
      "text/plain": [
       "((1913, 1, 20), (463, 1, 20), (1913, 1), (463, 1))"
      ]
     },
     "execution_count": 32,
     "metadata": {},
     "output_type": "execute_result"
    }
   ],
   "source": [
    "X_train= np.reshape(X_train, (X_train.shape[0], 1, X_train.shape[1]))\n",
    "X_test= np.reshape(X_test, (X_test.shape[0], 1, X_test.shape[1]))\n",
    "\n",
    "y_train = y_train.reshape(-1,1)\n",
    "y_test = y_test.reshape(-1,1)\n",
    "X_train.shape, X_test.shape, y_train.shape, y_test.shape"
   ]
  },
  {
   "cell_type": "markdown",
   "id": "84bb6f75-4c15-4844-8549-c2f3e3fce91f",
   "metadata": {},
   "source": [
    "# Modelleme"
   ]
  },
  {
   "cell_type": "code",
   "execution_count": 33,
   "id": "6f9a47df-c294-4ac0-9c29-383039b620e9",
   "metadata": {
    "tags": []
   },
   "outputs": [
    {
     "name": "stdout",
     "output_type": "stream",
     "text": [
      "WARNING:tensorflow:From C:\\Users\\ycanf\\anaconda3\\Lib\\site-packages\\keras\\src\\backend.py:873: The name tf.get_default_graph is deprecated. Please use tf.compat.v1.get_default_graph instead.\n",
      "\n"
     ]
    }
   ],
   "source": [
    "model = Sequential()"
   ]
  },
  {
   "cell_type": "code",
   "execution_count": 34,
   "id": "20ae2cfa-5efa-4d56-9771-33865e2c6294",
   "metadata": {
    "tags": []
   },
   "outputs": [],
   "source": [
    "model.add(LSTM(units=50, activation='relu',\n",
    "              input_shape=(X_train.shape[1], lookback)))\n",
    "\n",
    "model.add(Dropout(0.2))\n",
    "model.add(Dense(1))"
   ]
  },
  {
   "cell_type": "code",
   "execution_count": 35,
   "id": "79156b7a-257c-4e72-af0d-f97fa8bd9aa3",
   "metadata": {
    "tags": []
   },
   "outputs": [
    {
     "name": "stdout",
     "output_type": "stream",
     "text": [
      "Model: \"sequential\"\n",
      "_________________________________________________________________\n",
      " Layer (type)                Output Shape              Param #   \n",
      "=================================================================\n",
      " lstm (LSTM)                 (None, 50)                14200     \n",
      "                                                                 \n",
      " dropout (Dropout)           (None, 50)                0         \n",
      "                                                                 \n",
      " dense (Dense)               (None, 1)                 51        \n",
      "                                                                 \n",
      "=================================================================\n",
      "Total params: 14251 (55.67 KB)\n",
      "Trainable params: 14251 (55.67 KB)\n",
      "Non-trainable params: 0 (0.00 Byte)\n",
      "_________________________________________________________________\n"
     ]
    }
   ],
   "source": [
    "model.summary()"
   ]
  },
  {
   "cell_type": "markdown",
   "id": "f4deb2ce-f14b-4b84-b3cd-da68f6a1fdba",
   "metadata": {},
   "source": [
    "### Optimizasyon ve değerlendirme metrik ayarlanması"
   ]
  },
  {
   "cell_type": "code",
   "execution_count": 36,
   "id": "24180958-6f50-467e-a326-3784f2d72aac",
   "metadata": {
    "tags": []
   },
   "outputs": [
    {
     "name": "stdout",
     "output_type": "stream",
     "text": [
      "WARNING:tensorflow:From C:\\Users\\ycanf\\anaconda3\\Lib\\site-packages\\keras\\src\\optimizers\\__init__.py:309: The name tf.train.Optimizer is deprecated. Please use tf.compat.v1.train.Optimizer instead.\n",
      "\n"
     ]
    }
   ],
   "source": [
    "model.compile(loss='mean_squared_error', optimizer= 'adam')"
   ]
  },
  {
   "cell_type": "code",
   "execution_count": 37,
   "id": "aedfc79b-139e-4665-8895-1cc72c99aef9",
   "metadata": {
    "tags": []
   },
   "outputs": [],
   "source": [
    "callbacks= [EarlyStopping(monitor = 'val_loss', patience=3, verbose =1 , mode='min'),\n",
    "           ModelCheckpoint(filepath='mymodel.h5', monitor='val_loss', mode='min',\n",
    "                          save_best_only=True, save_weights_only=False,verbose=1)]"
   ]
  },
  {
   "cell_type": "code",
   "execution_count": 38,
   "id": "f8de06ef-cb75-49dc-91bd-78c6d49b85b6",
   "metadata": {
    "tags": []
   },
   "outputs": [
    {
     "name": "stdout",
     "output_type": "stream",
     "text": [
      "Epoch 1/100\n",
      "WARNING:tensorflow:From C:\\Users\\ycanf\\anaconda3\\Lib\\site-packages\\keras\\src\\utils\\tf_utils.py:492: The name tf.ragged.RaggedTensorValue is deprecated. Please use tf.compat.v1.ragged.RaggedTensorValue instead.\n",
      "\n",
      "88/96 [==========================>...] - ETA: 0s - loss: 0.0091    \n",
      "Epoch 1: val_loss improved from inf to 0.00422, saving model to mymodel.h5\n",
      "96/96 [==============================] - 2s 6ms/step - loss: 0.0098 - val_loss: 0.0042\n",
      "Epoch 2/100\n",
      "89/96 [==========================>...] - ETA: 0s - loss: 0.0060\n",
      "Epoch 2: val_loss improved from 0.00422 to 0.00384, saving model to mymodel.h5\n",
      "96/96 [==============================] - 0s 3ms/step - loss: 0.0068 - val_loss: 0.0038\n",
      "Epoch 3/100\n",
      "83/96 [========================>.....] - ETA: 0s - loss: 0.0046\n",
      "Epoch 3: val_loss improved from 0.00384 to 0.00341, saving model to mymodel.h5\n",
      "96/96 [==============================] - 0s 3ms/step - loss: 0.0064 - val_loss: 0.0034\n",
      "Epoch 4/100\n",
      "89/96 [==========================>...] - ETA: 0s - loss: 0.0049\n",
      "Epoch 4: val_loss did not improve from 0.00341\n",
      "96/96 [==============================] - 0s 2ms/step - loss: 0.0056 - val_loss: 0.0034\n",
      "Epoch 5/100\n",
      "86/96 [=========================>....] - ETA: 0s - loss: 0.0044   \n",
      "Epoch 5: val_loss improved from 0.00341 to 0.00298, saving model to mymodel.h5\n",
      "96/96 [==============================] - 0s 3ms/step - loss: 0.0054 - val_loss: 0.0030\n",
      "Epoch 6/100\n",
      "86/96 [=========================>....] - ETA: 0s - loss: 0.0038\n",
      "Epoch 6: val_loss improved from 0.00298 to 0.00287, saving model to mymodel.h5\n",
      "96/96 [==============================] - 0s 3ms/step - loss: 0.0050 - val_loss: 0.0029\n",
      "Epoch 7/100\n",
      "83/96 [========================>.....] - ETA: 0s - loss: 0.0034   \n",
      "Epoch 7: val_loss did not improve from 0.00287\n",
      "96/96 [==============================] - 0s 2ms/step - loss: 0.0048 - val_loss: 0.0030\n",
      "Epoch 8/100\n",
      "86/96 [=========================>....] - ETA: 0s - loss: 0.0037   \n",
      "Epoch 8: val_loss did not improve from 0.00287\n",
      "96/96 [==============================] - 0s 2ms/step - loss: 0.0048 - val_loss: 0.0029\n",
      "Epoch 9/100\n",
      "91/96 [===========================>..] - ETA: 0s - loss: 0.0041   \n",
      "Epoch 9: val_loss improved from 0.00287 to 0.00255, saving model to mymodel.h5\n",
      "96/96 [==============================] - 0s 3ms/step - loss: 0.0046 - val_loss: 0.0025\n",
      "Epoch 10/100\n",
      "89/96 [==========================>...] - ETA: 0s - loss: 0.0040   \n",
      "Epoch 10: val_loss improved from 0.00255 to 0.00248, saving model to mymodel.h5\n",
      "96/96 [==============================] - 0s 3ms/step - loss: 0.0047 - val_loss: 0.0025\n",
      "Epoch 11/100\n",
      "91/96 [===========================>..] - ETA: 0s - loss: 0.0042   \n",
      "Epoch 11: val_loss improved from 0.00248 to 0.00244, saving model to mymodel.h5\n",
      "96/96 [==============================] - 0s 3ms/step - loss: 0.0046 - val_loss: 0.0024\n",
      "Epoch 12/100\n",
      "80/96 [========================>.....] - ETA: 0s - loss: 0.0034   \n",
      "Epoch 12: val_loss did not improve from 0.00244\n",
      "96/96 [==============================] - 0s 3ms/step - loss: 0.0050 - val_loss: 0.0026\n",
      "Epoch 13/100\n",
      "84/96 [=========================>....] - ETA: 0s - loss: 0.0034\n",
      "Epoch 13: val_loss improved from 0.00244 to 0.00225, saving model to mymodel.h5\n",
      "96/96 [==============================] - 0s 3ms/step - loss: 0.0046 - val_loss: 0.0022\n",
      "Epoch 14/100\n",
      "78/96 [=======================>......] - ETA: 0s - loss: 0.0032   \n",
      "Epoch 14: val_loss did not improve from 0.00225\n",
      "96/96 [==============================] - 0s 3ms/step - loss: 0.0050 - val_loss: 0.0026\n",
      "Epoch 15/100\n",
      "88/96 [==========================>...] - ETA: 0s - loss: 0.0044   \n",
      "Epoch 15: val_loss did not improve from 0.00225\n",
      "96/96 [==============================] - 0s 2ms/step - loss: 0.0050 - val_loss: 0.0036\n",
      "Epoch 16/100\n",
      "79/96 [=======================>......] - ETA: 0s - loss: 0.0034\n",
      "Epoch 16: val_loss did not improve from 0.00225\n",
      "96/96 [==============================] - 0s 3ms/step - loss: 0.0048 - val_loss: 0.0023\n",
      "Epoch 16: early stopping\n"
     ]
    }
   ],
   "source": [
    "history= model.fit(x= X_train,y=y_train,\n",
    "         epochs=100, batch_size =20,\n",
    "         validation_data=(X_test,y_test),\n",
    "         callbacks=callbacks,\n",
    "         shuffle=False)"
   ]
  },
  {
   "cell_type": "code",
   "execution_count": 39,
   "id": "9ef1585b-55c1-4194-8623-331eaadb8050",
   "metadata": {
    "tags": []
   },
   "outputs": [
    {
     "data": {
      "image/png": "[encoded data removed]",
      "text/plain": [
       "<Figure size 1000x500 with 1 Axes>"
      ]
     },
     "metadata": {},
     "output_type": "display_data"
    }
   ],
   "source": [
    "plt.figure(figsize=(10,5))\n",
    "plt.plot(history.history['loss'], label = 'Training loss')\n",
    "plt.plot(history.history['val_loss'], label = 'validate loss')\n",
    "plt.legend(loc='upper right')\n",
    "plt.xlabel('Epochs' ,fontsize=16)\n",
    "plt.ylabel('Loss', fontsize=16)\n",
    "plt.ylim([0,max(plt.ylim())])\n",
    "plt.title('Training and Valdation Loss')\n",
    "plt.show()"
   ]
  },
  {
   "cell_type": "markdown",
   "id": "69515123-d670-41a5-a78b-b63d92959d23",
   "metadata": {},
   "source": [
    "# Evaluation"
   ]
  },
  {
   "cell_type": "code",
   "execution_count": 40,
   "id": "c1ac6125-235d-4303-817a-22ab89851bfa",
   "metadata": {
    "tags": []
   },
   "outputs": [
    {
     "name": "stdout",
     "output_type": "stream",
     "text": [
      "463/463 [==============================] - 1s 1ms/step - loss: 0.0023\n",
      "\n",
      "Test loss: 0.2%\n"
     ]
    }
   ],
   "source": [
    "loss = model.evaluate(X_test , y_test, batch_size =1)\n",
    "print(\"\\nTest loss: %.1f%%\"% (100.0*loss))"
   ]
  },
  {
   "cell_type": "code",
   "execution_count": 56,
   "id": "b82a06a0-2fcf-4ff3-9e10-69feaedefcda",
   "metadata": {
    "tags": []
   },
   "outputs": [
    {
     "name": "stdout",
     "output_type": "stream",
     "text": [
      "60/60 [==============================] - 0s 1ms/step\n"
     ]
    }
   ],
   "source": [
    "train_predict = model.predict(X_train)"
   ]
  },
  {
   "cell_type": "code",
   "execution_count": 60,
   "id": "ff7bc0dd-e5c1-4dcd-8fb2-ccf87c85bb84",
   "metadata": {
    "tags": []
   },
   "outputs": [
    {
     "data": {
      "text/plain": [
       "array([[ 37.54011],\n",
       "       [ 37.54011],\n",
       "       [ 37.54011],\n",
       "       ...,\n",
       "       [327.7333 ],\n",
       "       [328.14667],\n",
       "       [326.27432]], dtype=float32)"
      ]
     },
     "execution_count": 60,
     "metadata": {},
     "output_type": "execute_result"
    }
   ],
   "source": [
    "train_predict"
   ]
  },
  {
   "cell_type": "code",
   "execution_count": 58,
   "id": "004544dc-dfce-4c4e-b1de-2da0d5f4e447",
   "metadata": {
    "tags": []
   },
   "outputs": [
    {
     "name": "stdout",
     "output_type": "stream",
     "text": [
      "15/15 [==============================] - 0s 1ms/step\n"
     ]
    }
   ],
   "source": [
    "test_predict = model.predict(X_test)"
   ]
  },
  {
   "cell_type": "code",
   "execution_count": 59,
   "id": "16953c81-d1ce-4762-9fab-e97f9f09524a",
   "metadata": {
    "tags": []
   },
   "outputs": [],
   "source": [
    "train_predict = scaler_train.inverse_transform(train_predict)\n",
    "test_predict = scaler_test.inverse_transform(test_predict)"
   ]
  },
  {
   "cell_type": "code",
   "execution_count": 44,
   "id": "5ef89acf-cbbf-4a92-a66e-c6c17f7c752d",
   "metadata": {
    "collapsed": true,
    "jupyter": {
     "outputs_hidden": true
    },
    "tags": []
   },
   "outputs": [
    {
     "data": {
      "text/plain": [
       "array([[0.14734703],\n",
       "       [0.1796416 ],\n",
       "       [0.21088794],\n",
       "       [0.20020628],\n",
       "       [0.18416718],\n",
       "       [0.20919088],\n",
       "       [0.20291832],\n",
       "       [0.1915212 ],\n",
       "       [0.20193666],\n",
       "       [0.18674606],\n",
       "       [0.18088946],\n",
       "       [0.19030663],\n",
       "       [0.20150405],\n",
       "       [0.18513215],\n",
       "       [0.1737018 ],\n",
       "       [0.17385152],\n",
       "       [0.1692428 ],\n",
       "       [0.17721245],\n",
       "       [0.1915212 ],\n",
       "       [0.19122171],\n",
       "       [0.20123789],\n",
       "       [0.20328435],\n",
       "       [0.17549872],\n",
       "       [0.19153783],\n",
       "       [0.20597968],\n",
       "       [0.20464864],\n",
       "       [0.21276805],\n",
       "       [0.20972326],\n",
       "       [0.20313463],\n",
       "       [0.18801057],\n",
       "       [0.17504948],\n",
       "       [0.17887625],\n",
       "       [0.17564848],\n",
       "       [0.16280386],\n",
       "       [0.17556524],\n",
       "       [0.15979236],\n",
       "       [0.16654742],\n",
       "       [0.16451758],\n",
       "       [0.16618139],\n",
       "       [0.17435071],\n",
       "       [0.18759462],\n",
       "       [0.1759646 ],\n",
       "       [0.18776101],\n",
       "       [0.19594693],\n",
       "       [0.18661296],\n",
       "       [0.23381528],\n",
       "       [0.22814164],\n",
       "       [0.23075387],\n",
       "       [0.2547793 ],\n",
       "       [0.27253214],\n",
       "       [0.27587637],\n",
       "       [0.2974061 ],\n",
       "       [0.29815486],\n",
       "       [0.3192186 ],\n",
       "       [0.2888042 ],\n",
       "       [0.30489323],\n",
       "       [0.2804186 ],\n",
       "       [0.2573249 ],\n",
       "       [0.2562934 ],\n",
       "       [0.271251  ],\n",
       "       [0.2754105 ],\n",
       "       [0.28444502],\n",
       "       [0.27283165],\n",
       "       [0.25972083],\n",
       "       [0.2194399 ],\n",
       "       [0.21661147],\n",
       "       [0.21617886],\n",
       "       [0.23216811],\n",
       "       [0.2387568 ],\n",
       "       [0.2329168 ],\n",
       "       [0.22917321],\n",
       "       [0.23276708],\n",
       "       [0.21817544],\n",
       "       [0.23912284],\n",
       "       [0.24105284],\n",
       "       [0.23502985],\n",
       "       [0.2239655 ],\n",
       "       [0.20669517],\n",
       "       [0.19709495],\n",
       "       [0.21591267],\n",
       "       [0.21243528],\n",
       "       [0.196679  ],\n",
       "       [0.18501574],\n",
       "       [0.19827631],\n",
       "       [0.20276853],\n",
       "       [0.28379616],\n",
       "       [0.2815167 ],\n",
       "       [0.27123436],\n",
       "       [0.33376035],\n",
       "       [0.3184034 ],\n",
       "       [0.28863785],\n",
       "       [0.29369578],\n",
       "       [0.29522648],\n",
       "       [0.2806349 ],\n",
       "       [0.26574376],\n",
       "       [0.26035306],\n",
       "       [0.2105219 ],\n",
       "       [0.21541354],\n",
       "       [0.23780838],\n",
       "       [0.23737583],\n",
       "       [0.23481354],\n",
       "       [0.23933914],\n",
       "       [0.23343256],\n",
       "       [0.22110376],\n",
       "       [0.2097067 ],\n",
       "       [0.20661196],\n",
       "       [0.20413288],\n",
       "       [0.18298587],\n",
       "       [0.16932595],\n",
       "       [0.16967541],\n",
       "       [0.14020929],\n",
       "       [0.1772457 ],\n",
       "       [0.16716301],\n",
       "       [0.18563133],\n",
       "       [0.18383437],\n",
       "       [0.1933847 ],\n",
       "       [0.19278571],\n",
       "       [0.17634726],\n",
       "       [0.19974041],\n",
       "       [0.19859236],\n",
       "       [0.19987354],\n",
       "       [0.20083854],\n",
       "       [0.2030181 ],\n",
       "       [0.21731022],\n",
       "       [0.21388277],\n",
       "       [0.14275491],\n",
       "       [0.21917376],\n",
       "       [0.20306805],\n",
       "       [0.19271913],\n",
       "       [0.17113951],\n",
       "       [0.13806301],\n",
       "       [0.11911216],\n",
       "       [0.1394772 ],\n",
       "       [0.12962747],\n",
       "       [0.12189072],\n",
       "       [0.13278869],\n",
       "       [0.13413638],\n",
       "       [0.16242117],\n",
       "       [0.15441823],\n",
       "       [0.14132404],\n",
       "       [0.13481855],\n",
       "       [0.13639918],\n",
       "       [0.19162107],\n",
       "       [0.18223715],\n",
       "       [0.22609517],\n",
       "       [0.25278267],\n",
       "       [0.25935474],\n",
       "       [0.25111887],\n",
       "       [0.26346436],\n",
       "       [0.27504447],\n",
       "       [0.27858838],\n",
       "       [0.27025267],\n",
       "       [0.26968703],\n",
       "       [0.28150007],\n",
       "       [0.28689077],\n",
       "       [0.28541002],\n",
       "       [0.25341496],\n",
       "       [0.26581034],\n",
       "       [0.2745786 ],\n",
       "       [0.28196594],\n",
       "       [0.29173252],\n",
       "       [0.2903349 ],\n",
       "       [0.2803853 ],\n",
       "       [0.26491186],\n",
       "       [0.24434718],\n",
       "       [0.2779062 ],\n",
       "       [0.27444556],\n",
       "       [0.28101757],\n",
       "       [0.26987007],\n",
       "       [0.28536013],\n",
       "       [0.2986872 ],\n",
       "       [0.30070046],\n",
       "       [0.30629084],\n",
       "       [0.29782203],\n",
       "       [0.30976817],\n",
       "       [0.31244698],\n",
       "       [0.31218073],\n",
       "       [0.32913497],\n",
       "       [0.3106999 ],\n",
       "       [0.28193268],\n",
       "       [0.26298186],\n",
       "       [0.2562268 ],\n",
       "       [0.22696039],\n",
       "       [0.23426446],\n",
       "       [0.19370082],\n",
       "       [0.2447798 ],\n",
       "       [0.22820821],\n",
       "       [0.2577242 ],\n",
       "       [0.25594392],\n",
       "       [0.2182087 ],\n",
       "       [0.20196992],\n",
       "       [0.23080376],\n",
       "       [0.2595378 ],\n",
       "       [0.26018664],\n",
       "       [0.26547757],\n",
       "       [0.27619252],\n",
       "       [0.28000268],\n",
       "       [0.25860605],\n",
       "       [0.27529404],\n",
       "       [0.27798942],\n",
       "       [0.28008583],\n",
       "       [0.2051312 ],\n",
       "       [0.19957408],\n",
       "       [0.18072307],\n",
       "       [0.18724522],\n",
       "       [0.19644609],\n",
       "       [0.19534796],\n",
       "       [0.19714487],\n",
       "       [0.21596256],\n",
       "       [0.21305087],\n",
       "       [0.2216861 ],\n",
       "       [0.22281751],\n",
       "       [0.23689333],\n",
       "       [0.2300218 ],\n",
       "       [0.2138662 ],\n",
       "       [0.21102104],\n",
       "       [0.2227343 ],\n",
       "       [0.22102055],\n",
       "       [0.2149643 ],\n",
       "       [0.20764354],\n",
       "       [0.2144818 ],\n",
       "       [0.2107549 ],\n",
       "       [0.20563033],\n",
       "       [0.18677935],\n",
       "       [0.1925694 ],\n",
       "       [0.19932446],\n",
       "       [0.19781038],\n",
       "       [0.2258955 ],\n",
       "       [0.23444751],\n",
       "       [0.19270253],\n",
       "       [0.17701274],\n",
       "       [0.16233799],\n",
       "       [0.1618388 ],\n",
       "       [0.16242117],\n",
       "       [0.17498296],\n",
       "       [0.18626359],\n",
       "       [0.17368513],\n",
       "       [0.18300247],\n",
       "       [0.1846663 ],\n",
       "       [0.16049114],\n",
       "       [0.15060809],\n",
       "       [0.14724723],\n",
       "       [0.15744638],\n",
       "       [0.15814516],\n",
       "       [0.14235562],\n",
       "       [0.13551736],\n",
       "       [0.14774632],\n",
       "       [0.15949282],\n",
       "       [0.1657987 ],\n",
       "       [0.16786179],\n",
       "       [0.18336853],\n",
       "       [0.17787796],\n",
       "       [0.18774435],\n",
       "       [0.14776298],\n",
       "       [0.15970913],\n",
       "       [0.15678087],\n",
       "       [0.15530005],\n",
       "       [0.16153935],\n",
       "       [0.14882785],\n",
       "       [0.14762992],\n",
       "       [0.14543366],\n",
       "       [0.15704703],\n",
       "       [0.15350315],\n",
       "       [0.15688068],\n",
       "       [0.13939402],\n",
       "       [0.14130741],\n",
       "       [0.13258904],\n",
       "       [0.11423722],\n",
       "       [0.09345621],\n",
       "       [0.10398814],\n",
       "       [0.09936276],\n",
       "       [0.0915761 ],\n",
       "       [0.10836399],\n",
       "       [0.12654942],\n",
       "       [0.12706518],\n",
       "       [0.11328885],\n",
       "       [0.10959518],\n",
       "       [0.10483667],\n",
       "       [0.10074371],\n",
       "       [0.07992944],\n",
       "       [0.08874765],\n",
       "       [0.08814865],\n",
       "       [0.08212569],\n",
       "       [0.05334175],\n",
       "       [0.04390794],\n",
       "       [0.0434421 ],\n",
       "       [0.02289402],\n",
       "       [0.02748615],\n",
       "       [0.01940003],\n",
       "       [0.01618886],\n",
       "       [0.01811889],\n",
       "       [0.01539025],\n",
       "       [0.010299  ],\n",
       "       [0.        ],\n",
       "       [0.02434155],\n",
       "       [0.02931634],\n",
       "       [0.0448896 ],\n",
       "       [0.04247707],\n",
       "       [0.05641982],\n",
       "       [0.0634411 ],\n",
       "       [0.0503968 ],\n",
       "       [0.05813354],\n",
       "       [0.05981398],\n",
       "       [0.07663509],\n",
       "       [0.07615259],\n",
       "       [0.07896441],\n",
       "       [0.06763387],\n",
       "       [0.07136083],\n",
       "       [0.0743224 ],\n",
       "       [0.0678668 ],\n",
       "       [0.06705156],\n",
       "       [0.07299134],\n",
       "       [0.07402292],\n",
       "       [0.08019567],\n",
       "       [0.07583648],\n",
       "       [0.09305689],\n",
       "       [0.09006205],\n",
       "       [0.08546993],\n",
       "       [0.08500406],\n",
       "       [0.09974542],\n",
       "       [0.099213  ],\n",
       "       [0.1099945 ],\n",
       "       [0.12400377],\n",
       "       [0.12214032],\n",
       "       [0.12626657],\n",
       "       [0.12407032],\n",
       "       [0.1317904 ],\n",
       "       [0.12763089],\n",
       "       [0.13510141],\n",
       "       [0.14293796],\n",
       "       [0.08294097],\n",
       "       [0.08164316],\n",
       "       [0.09450445],\n",
       "       [0.10530254],\n",
       "       [0.10422108],\n",
       "       [0.09130991],\n",
       "       [0.09212518],\n",
       "       [0.08210906],\n",
       "       [0.08615211],\n",
       "       [0.09059447],\n",
       "       [0.09871387],\n",
       "       [0.09323993],\n",
       "       [0.08325705],\n",
       "       [0.0932233 ],\n",
       "       [0.06763387],\n",
       "       [0.06101191],\n",
       "       [0.06816632],\n",
       "       [0.07962996],\n",
       "       [0.07801607],\n",
       "       [0.0696471 ],\n",
       "       [0.07184333],\n",
       "       [0.05395734],\n",
       "       [0.05994707],\n",
       "       [0.05841637],\n",
       "       [0.06092873],\n",
       "       [0.07111126],\n",
       "       [0.07760012],\n",
       "       [0.0766018 ],\n",
       "       [0.06939751],\n",
       "       [0.08420545],\n",
       "       [0.08066151],\n",
       "       [0.08788246],\n",
       "       [0.09412172],\n",
       "       [0.1133554 ],\n",
       "       [0.1113089 ],\n",
       "       [0.11019415],\n",
       "       [0.10621765],\n",
       "       [0.10951197],\n",
       "       [0.10734904],\n",
       "       [0.1125235 ],\n",
       "       [0.1025739 ],\n",
       "       [0.10358882],\n",
       "       [0.07360697],\n",
       "       [0.08274129],\n",
       "       [0.1058017 ],\n",
       "       [0.10508627],\n",
       "       [0.10298985],\n",
       "       [0.10934561],\n",
       "       [0.10675007],\n",
       "       [0.08994558],\n",
       "       [0.08728346],\n",
       "       [0.09774885],\n",
       "       [0.10162553],\n",
       "       [0.10907939],\n",
       "       [0.10942882],\n",
       "       [0.1146698 ],\n",
       "       [0.12976056],\n",
       "       [0.13130793],\n",
       "       [0.1344026 ],\n",
       "       [0.13809624],\n",
       "       [0.12974393],\n",
       "       [0.12400377],\n",
       "       [0.1274645 ],\n",
       "       [0.12596706],\n",
       "       [0.20083854],\n",
       "       [0.24817398],\n",
       "       [0.24747512],\n",
       "       [0.22835794],\n",
       "       [0.2263448 ],\n",
       "       [0.22619501],\n",
       "       [0.22351626],\n",
       "       [0.23043773],\n",
       "       [0.2300218 ],\n",
       "       [0.24559501],\n",
       "       [0.2605028 ],\n",
       "       [0.2631649 ],\n",
       "       [0.2763922 ],\n",
       "       [0.28444502],\n",
       "       [0.27808926],\n",
       "       [0.28348002],\n",
       "       [0.28817198],\n",
       "       [0.28454486],\n",
       "       [0.30040094],\n",
       "       [0.28825513],\n",
       "       [0.29259768],\n",
       "       [0.25634328],\n",
       "       [0.26183382],\n",
       "       [0.24948838],\n",
       "       [0.2534316 ],\n",
       "       [0.25118545],\n",
       "       [0.259388  ],\n",
       "       [0.26160094],\n",
       "       [0.25632665],\n",
       "       [0.25190088],\n",
       "       [0.26108512],\n",
       "       [0.26714137],\n",
       "       [0.28263143],\n",
       "       [0.28905377],\n",
       "       [0.30066714],\n",
       "       [0.2985209 ],\n",
       "       [0.3369715 ],\n",
       "       [0.33279535],\n",
       "       [0.35635486],\n",
       "       [0.37447378],\n",
       "       [0.3770527 ],\n",
       "       [0.3997304 ],\n",
       "       [0.4097632 ],\n",
       "       [0.4192303 ],\n",
       "       [0.41829857],\n",
       "       [0.39221004],\n",
       "       [0.3982496 ],\n",
       "       [0.4180989 ],\n",
       "       [0.4393125 ],\n",
       "       [0.45350477],\n",
       "       [0.48265472],\n",
       "       [0.52105546],\n",
       "       [0.5030863 ],\n",
       "       [0.49777874],\n",
       "       [0.57549536],\n",
       "       [0.5972247 ],\n",
       "       [0.5649135 ],\n",
       "       [0.5565778 ],\n",
       "       [0.5516031 ],\n",
       "       [0.61266494],\n",
       "       [0.64986765],\n",
       "       [0.65426016],\n",
       "       [0.64198124],\n",
       "       [0.6306673 ],\n",
       "       [0.645442  ],\n",
       "       [0.668885  ],\n",
       "       [0.76841414],\n",
       "       [0.78465295],\n",
       "       [0.9999999 ]], dtype=float32)"
      ]
     },
     "execution_count": 44,
     "metadata": {},
     "output_type": "execute_result"
    }
   ],
   "source": [
    "y_test"
   ]
  },
  {
   "cell_type": "code",
   "execution_count": 45,
   "id": "60db2115-2f65-41cc-a7f1-4cb92fd1d58e",
   "metadata": {
    "tags": []
   },
   "outputs": [],
   "source": [
    "y_train = scaler_train.inverse_transform(y_train)\n",
    "y_test = scaler_test.inverse_transform(y_test)"
   ]
  },
  {
   "cell_type": "code",
   "execution_count": 46,
   "id": "44894919-8458-4b59-b365-2701b56db324",
   "metadata": {
    "tags": []
   },
   "outputs": [],
   "source": [
    "train_rmse = np.sqrt(mean_squared_error(y_train,train_predict))\n",
    "test_rmse = np.sqrt(mean_squared_error(y_test,test_predict))"
   ]
  },
  {
   "cell_type": "code",
   "execution_count": 47,
   "id": "98b03c90-440a-4c8d-8ee3-d4abe07d22f1",
   "metadata": {
    "tags": []
   },
   "outputs": [
    {
     "name": "stdout",
     "output_type": "stream",
     "text": [
      "train : 12.833394050598145 test : 28.86692237854004\n"
     ]
    }
   ],
   "source": [
    "print(f'train : {train_rmse}' + f' test : {test_rmse}')"
   ]
  },
  {
   "cell_type": "code",
   "execution_count": 48,
   "id": "194ebb54-180d-4aee-8b06-43d298f70728",
   "metadata": {
    "tags": []
   },
   "outputs": [
    {
     "data": {
      "text/html": [
       "<div>\n",
       "<style scoped>\n",
       "    .dataframe tbody tr th:only-of-type {\n",
       "        vertical-align: middle;\n",
       "    }\n",
       "\n",
       "    .dataframe tbody tr th {\n",
       "        vertical-align: top;\n",
       "    }\n",
       "\n",
       "    .dataframe thead th {\n",
       "        text-align: right;\n",
       "    }\n",
       "</style>\n",
       "<table border=\"1\" class=\"dataframe\">\n",
       "  <thead>\n",
       "    <tr style=\"text-align: right;\">\n",
       "      <th></th>\n",
       "      <th>Close</th>\n",
       "    </tr>\n",
       "    <tr>\n",
       "      <th>Date</th>\n",
       "      <th></th>\n",
       "    </tr>\n",
       "  </thead>\n",
       "  <tbody>\n",
       "    <tr>\n",
       "      <th>2010-06-29</th>\n",
       "      <td>23.889999</td>\n",
       "    </tr>\n",
       "    <tr>\n",
       "      <th>2010-06-30</th>\n",
       "      <td>23.830000</td>\n",
       "    </tr>\n",
       "    <tr>\n",
       "      <th>2010-07-01</th>\n",
       "      <td>21.959999</td>\n",
       "    </tr>\n",
       "    <tr>\n",
       "      <th>2010-07-02</th>\n",
       "      <td>19.200001</td>\n",
       "    </tr>\n",
       "    <tr>\n",
       "      <th>2010-07-06</th>\n",
       "      <td>16.110001</td>\n",
       "    </tr>\n",
       "    <tr>\n",
       "      <th>...</th>\n",
       "      <td>...</td>\n",
       "    </tr>\n",
       "    <tr>\n",
       "      <th>2020-01-28</th>\n",
       "      <td>566.900024</td>\n",
       "    </tr>\n",
       "    <tr>\n",
       "      <th>2020-01-29</th>\n",
       "      <td>580.989990</td>\n",
       "    </tr>\n",
       "    <tr>\n",
       "      <th>2020-01-30</th>\n",
       "      <td>640.809998</td>\n",
       "    </tr>\n",
       "    <tr>\n",
       "      <th>2020-01-31</th>\n",
       "      <td>650.570007</td>\n",
       "    </tr>\n",
       "    <tr>\n",
       "      <th>2020-02-03</th>\n",
       "      <td>780.000000</td>\n",
       "    </tr>\n",
       "  </tbody>\n",
       "</table>\n",
       "<p>2416 rows × 1 columns</p>\n",
       "</div>"
      ],
      "text/plain": [
       "                 Close\n",
       "Date                  \n",
       "2010-06-29   23.889999\n",
       "2010-06-30   23.830000\n",
       "2010-07-01   21.959999\n",
       "2010-07-02   19.200001\n",
       "2010-07-06   16.110001\n",
       "...                ...\n",
       "2020-01-28  566.900024\n",
       "2020-01-29  580.989990\n",
       "2020-01-30  640.809998\n",
       "2020-01-31  650.570007\n",
       "2020-02-03  780.000000\n",
       "\n",
       "[2416 rows x 1 columns]"
      ]
     },
     "execution_count": 48,
     "metadata": {},
     "output_type": "execute_result"
    }
   ],
   "source": [
    "result_df"
   ]
  },
  {
   "cell_type": "code",
   "execution_count": 49,
   "id": "572f7db8-9903-42cc-b347-76ecc7516cf5",
   "metadata": {
    "tags": []
   },
   "outputs": [
    {
     "data": {
      "text/plain": [
       "20"
      ]
     },
     "execution_count": 49,
     "metadata": {},
     "output_type": "execute_result"
    }
   ],
   "source": [
    "lookback"
   ]
  },
  {
   "cell_type": "code",
   "execution_count": 50,
   "id": "6d288343-239d-48a0-a9b6-3d2d1abba336",
   "metadata": {
    "tags": []
   },
   "outputs": [],
   "source": [
    "train_prediction_df = result_df[lookback: pos]\n",
    "train_prediction_df['Predicted'] = train_predict"
   ]
  },
  {
   "cell_type": "code",
   "execution_count": 51,
   "id": "f25ae19a-9234-40ba-b0c7-41cc7a3000d3",
   "metadata": {
    "tags": []
   },
   "outputs": [
    {
     "data": {
      "text/html": [
       "<div>\n",
       "<style scoped>\n",
       "    .dataframe tbody tr th:only-of-type {\n",
       "        vertical-align: middle;\n",
       "    }\n",
       "\n",
       "    .dataframe tbody tr th {\n",
       "        vertical-align: top;\n",
       "    }\n",
       "\n",
       "    .dataframe thead th {\n",
       "        text-align: right;\n",
       "    }\n",
       "</style>\n",
       "<table border=\"1\" class=\"dataframe\">\n",
       "  <thead>\n",
       "    <tr style=\"text-align: right;\">\n",
       "      <th></th>\n",
       "      <th>Close</th>\n",
       "      <th>Predicted</th>\n",
       "    </tr>\n",
       "    <tr>\n",
       "      <th>Date</th>\n",
       "      <th></th>\n",
       "      <th></th>\n",
       "    </tr>\n",
       "  </thead>\n",
       "  <tbody>\n",
       "    <tr>\n",
       "      <th>2010-07-28</th>\n",
       "      <td>20.719999</td>\n",
       "      <td>37.540112</td>\n",
       "    </tr>\n",
       "    <tr>\n",
       "      <th>2010-07-29</th>\n",
       "      <td>20.350000</td>\n",
       "      <td>37.540112</td>\n",
       "    </tr>\n",
       "    <tr>\n",
       "      <th>2010-07-30</th>\n",
       "      <td>19.940001</td>\n",
       "      <td>37.540112</td>\n",
       "    </tr>\n",
       "    <tr>\n",
       "      <th>2010-08-02</th>\n",
       "      <td>20.920000</td>\n",
       "      <td>37.540112</td>\n",
       "    </tr>\n",
       "    <tr>\n",
       "      <th>2010-08-03</th>\n",
       "      <td>21.950001</td>\n",
       "      <td>37.540112</td>\n",
       "    </tr>\n",
       "  </tbody>\n",
       "</table>\n",
       "</div>"
      ],
      "text/plain": [
       "                Close  Predicted\n",
       "Date                            \n",
       "2010-07-28  20.719999  37.540112\n",
       "2010-07-29  20.350000  37.540112\n",
       "2010-07-30  19.940001  37.540112\n",
       "2010-08-02  20.920000  37.540112\n",
       "2010-08-03  21.950001  37.540112"
      ]
     },
     "execution_count": 51,
     "metadata": {},
     "output_type": "execute_result"
    }
   ],
   "source": [
    "train_prediction_df.head()"
   ]
  },
  {
   "cell_type": "code",
   "execution_count": 52,
   "id": "c7455da6-86e6-4c4e-903a-388d234ee52f",
   "metadata": {
    "tags": []
   },
   "outputs": [
    {
     "data": {
      "text/html": [
       "<div>\n",
       "<style scoped>\n",
       "    .dataframe tbody tr th:only-of-type {\n",
       "        vertical-align: middle;\n",
       "    }\n",
       "\n",
       "    .dataframe tbody tr th {\n",
       "        vertical-align: top;\n",
       "    }\n",
       "\n",
       "    .dataframe thead th {\n",
       "        text-align: right;\n",
       "    }\n",
       "</style>\n",
       "<table border=\"1\" class=\"dataframe\">\n",
       "  <thead>\n",
       "    <tr style=\"text-align: right;\">\n",
       "      <th></th>\n",
       "      <th>count</th>\n",
       "      <th>mean</th>\n",
       "      <th>std</th>\n",
       "      <th>min</th>\n",
       "      <th>25%</th>\n",
       "      <th>50%</th>\n",
       "      <th>75%</th>\n",
       "      <th>max</th>\n",
       "    </tr>\n",
       "  </thead>\n",
       "  <tbody>\n",
       "    <tr>\n",
       "      <th>Close</th>\n",
       "      <td>1913.0</td>\n",
       "      <td>158.731636</td>\n",
       "      <td>110.169888</td>\n",
       "      <td>17.600000</td>\n",
       "      <td>31.830000</td>\n",
       "      <td>193.070007</td>\n",
       "      <td>239.490005</td>\n",
       "      <td>385.000000</td>\n",
       "    </tr>\n",
       "    <tr>\n",
       "      <th>Predicted</th>\n",
       "      <td>1913.0</td>\n",
       "      <td>162.854462</td>\n",
       "      <td>103.602829</td>\n",
       "      <td>37.540112</td>\n",
       "      <td>39.681709</td>\n",
       "      <td>201.970230</td>\n",
       "      <td>240.950027</td>\n",
       "      <td>354.574158</td>\n",
       "    </tr>\n",
       "  </tbody>\n",
       "</table>\n",
       "</div>"
      ],
      "text/plain": [
       "            count        mean         std        min        25%         50%  \\\n",
       "Close      1913.0  158.731636  110.169888  17.600000  31.830000  193.070007   \n",
       "Predicted  1913.0  162.854462  103.602829  37.540112  39.681709  201.970230   \n",
       "\n",
       "                  75%         max  \n",
       "Close      239.490005  385.000000  \n",
       "Predicted  240.950027  354.574158  "
      ]
     },
     "execution_count": 52,
     "metadata": {},
     "output_type": "execute_result"
    }
   ],
   "source": [
    "train_prediction_df.describe().T"
   ]
  },
  {
   "cell_type": "code",
   "execution_count": 53,
   "id": "1c26e64e-8759-4b79-ba0f-c0f9a8fe035f",
   "metadata": {
    "tags": []
   },
   "outputs": [
    {
     "data": {
      "text/html": [
       "<div>\n",
       "<style scoped>\n",
       "    .dataframe tbody tr th:only-of-type {\n",
       "        vertical-align: middle;\n",
       "    }\n",
       "\n",
       "    .dataframe tbody tr th {\n",
       "        vertical-align: top;\n",
       "    }\n",
       "\n",
       "    .dataframe thead th {\n",
       "        text-align: right;\n",
       "    }\n",
       "</style>\n",
       "<table border=\"1\" class=\"dataframe\">\n",
       "  <thead>\n",
       "    <tr style=\"text-align: right;\">\n",
       "      <th></th>\n",
       "      <th>Close</th>\n",
       "      <th>Predicted</th>\n",
       "    </tr>\n",
       "    <tr>\n",
       "      <th>Date</th>\n",
       "      <th></th>\n",
       "      <th></th>\n",
       "    </tr>\n",
       "  </thead>\n",
       "  <tbody>\n",
       "    <tr>\n",
       "      <th>2018-04-03</th>\n",
       "      <td>267.529999</td>\n",
       "      <td>316.875061</td>\n",
       "    </tr>\n",
       "    <tr>\n",
       "      <th>2018-04-04</th>\n",
       "      <td>286.940002</td>\n",
       "      <td>313.055023</td>\n",
       "    </tr>\n",
       "    <tr>\n",
       "      <th>2018-04-05</th>\n",
       "      <td>305.720001</td>\n",
       "      <td>310.326599</td>\n",
       "    </tr>\n",
       "    <tr>\n",
       "      <th>2018-04-06</th>\n",
       "      <td>299.299988</td>\n",
       "      <td>313.098358</td>\n",
       "    </tr>\n",
       "    <tr>\n",
       "      <th>2018-04-09</th>\n",
       "      <td>289.660004</td>\n",
       "      <td>313.015472</td>\n",
       "    </tr>\n",
       "  </tbody>\n",
       "</table>\n",
       "</div>"
      ],
      "text/plain": [
       "                 Close   Predicted\n",
       "Date                              \n",
       "2018-04-03  267.529999  316.875061\n",
       "2018-04-04  286.940002  313.055023\n",
       "2018-04-05  305.720001  310.326599\n",
       "2018-04-06  299.299988  313.098358\n",
       "2018-04-09  289.660004  313.015472"
      ]
     },
     "execution_count": 53,
     "metadata": {},
     "output_type": "execute_result"
    }
   ],
   "source": [
    "test_prediction_df = result_df[pos+lookback:]\n",
    "test_prediction_df['Predicted'] = test_predict\n",
    "test_prediction_df.head()"
   ]
  },
  {
   "cell_type": "code",
   "execution_count": 54,
   "id": "bb3935e2-4adc-467c-9fb4-796afb558b33",
   "metadata": {
    "tags": []
   },
   "outputs": [
    {
     "data": {
      "image/png": "[encoded data removed]",
      "text/plain": [
       "<Figure size 1400x500 with 1 Axes>"
      ]
     },
     "metadata": {},
     "output_type": "display_data"
    }
   ],
   "source": [
    "plt.figure(figsize=(14,5))\n",
    "plt.plot(result_df,label = 'Real Number of Passengers')\n",
    "plt.plot(train_prediction_df['Predicted'],label = 'Predicted Number of Train Passengers', color='blue')\n",
    "plt.plot(test_prediction_df['Predicted'],label = 'Predicted Number of Test Passengers', color='red')\n",
    "plt.title('Number of Passengers Prediction')\n",
    "plt.xlabel('Time')\n",
    "plt.ylabel('Number of Passengers')\n",
    "plt.legend()\n",
    "plt.show()"
   ]
  },
  {
   "cell_type": "code",
   "execution_count": null,
   "id": "c0bbd4c5-dfb5-42f0-a3ab-aa63647d7d21",
   "metadata": {},
   "outputs": [],
   "source": []
  },
  {
   "cell_type": "code",
   "execution_count": null,
   "id": "50fc8e12-3296-4659-836e-148c2339ec43",
   "metadata": {},
   "outputs": [],
   "source": []
  }
 ],
 "metadata": {
  "kernelspec": {
   "display_name": "Python 3 (ipykernel)",
   "language": "python",
   "name": "python3"
  },
  "language_info": {
   "codemirror_mode": {
    "name": "ipython",
    "version": 3
   },
   "file_extension": ".py",
   "mimetype": "text/x-python",
   "name": "python",
   "nbconvert_exporter": "python",
   "pygments_lexer": "ipython3",
   "version": "3.11.4"
  }
 },
 "nbformat": 4,
 "nbformat_minor": 5
}
