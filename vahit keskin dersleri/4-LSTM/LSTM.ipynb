{
 "cells": [
  {
   "cell_type": "markdown",
   "id": "a0d8d40d-5445-48b5-9bc6-1dd919abaec2",
   "metadata": {
    "tags": []
   },
   "source": [
    "# Uzun Kısa Süreli Bellek (LSTM)\n",
    "* RNN yöntemi geçmişle ilgili bilgi tutmayı sağlıyordu. RNN'lerde şöyle bir problem söz konusu, uzun dizi problemleri olduğunda, taşıdığını düşündüğümüz o geçmiş bilgi taşıma kabiliyetlerini kaybederler. Bunun sebebi kaybolan gradyan problem yöntemidir. Dolayısıyla çok derin ileri yayılım ağlarında ağın eğitilemez durumu söz konusu olmaktadır.\n",
    "* Bu durumda LSTM yöntemi kullanılmaktadır.\n",
    "* RNN yönteminin farklı bir versiyonudur.\n",
    "* LSTM bir çok zaman adımının taşınmasını sağlayan bir şerit ekleyerek geçmişteki veriyi gelecekteki periyotlara taşıma imkanı ortaya çıkararak, bilginin taşınması sağlar.\n",
    "* bir dizide ki bir bilgi herhangi bir noktada taşıyıcı kayışa geçirilebilir ve böylece bir sonra ki zaman adımlarına ulaştırılabilir ve ihtiyaç hasıl olduğunda tekrar kullanılabilir bir durumda kaybolan gradyan problemini çözer.\n",
    "* LSTM yöntemi bilgiyi sonra kullanılmak üzere saklayabilir. Eski sinyalin de gradyan yok olması probleminden etkilenmesini engeller.\n",
    "----\n",
    "+ Geçmiş bilginin geleceğe enjekte edilerek, gradyan kaybolması problemi ile savaşan bir öz yinelemeli sinir ağıdır. Geçmişten yani 'Long'dan ' hatırlar ve takından yani \"short'tan\" tahminler"
   ]
  },
  {
   "cell_type": "markdown",
   "id": "c3feb7aa-5542-4704-9373-d284bfe7fee8",
   "metadata": {},
   "source": [
    "![alt text](LSTM.png \"Title\")"
   ]
  },
  {
   "cell_type": "markdown",
   "id": "518ef8bf-4542-471a-a7ab-807249f2b69f",
   "metadata": {},
   "source": [
    "## Peki ama nası ?\n",
    "1. Forget Gate\n",
    "2. Update Gate\n",
    "3. Memory Gate\n",
    "4. Output Gate\n",
    "![alt text](genrl.png \"Title\")"
   ]
  },
  {
   "cell_type": "markdown",
   "id": "ca3fe716-d6e5-4eab-88e6-0ee1613ccd1a",
   "metadata": {},
   "source": [
    "# Forget Gate\n",
    "$\\Gamma_f=  \\sigma (W_f * [a_{t-1}, x_t] + bf)$\n",
    "![alt text](forget-gate.png \"Title\")\n",
    "* Bu bölüm, LSTM'in neyi unutup neyi hatırlayacağını ifade edildiği bölümdür.bu bölümde kullanılan sigmoid fonksiyonu sayesinde, girdi ve geçmiş durum bilgisi ve bias ile oluşturulmuş değer, 0 ila 1 arasında dönüştürüldüğü için, bilginin unutma unutmama durumuna katkı sağlamış olur.\n",
    "* Uzun süreli bellekten hangi bilgilerin tutulacaına veya atılacağına karar verir."
   ]
  },
  {
   "cell_type": "markdown",
   "id": "d8635c0d-f0a2-46c7-97d1-cd95f5ace681",
   "metadata": {
    "jp-MarkdownHeadingCollapsed": true,
    "tags": []
   },
   "source": [
    "# Update Gate\n",
    "+ $\\Gamma_u=  \\sigma (W_u * [a_{t-1}, x_t] + bf)$\n",
    "+ $ \\hat{c}_t = \\tanh{(W_c[a_{t-1}, x_t]+ b_c)}$ \n",
    "![alt text](update-gate.png \"Title\")\n"
   ]
  },
  {
   "cell_type": "markdown",
   "id": "4eb33cfe-86f3-4a81-9a68-4b56a0bd504e",
   "metadata": {
    "tags": []
   },
   "source": [
    "# Memory-Update Gate\n",
    "+ $\\Gamma_u=  \\sigma (W_u * [a_{t-1}, x_t] + bf)$\n",
    "+ $ c_t = \\Gamma_u * \\hat{c}_t +\\Gamma_f * c_{t-1}$ \n",
    "![alt text](memory-update.png \"Title\")\n"
   ]
  },
  {
   "cell_type": "markdown",
   "id": "017be8df-a067-4382-9aff-844c6197bd20",
   "metadata": {
    "tags": []
   },
   "source": [
    "# Output Gate\n",
    "+ $\\Gamma_o=  \\sigma (W_o * [a_{t-1}, x_t] + b_o)$\n",
    "+ $ a_t = \\Gamma_o * \\tanh{(c_t)}$ \n",
    "![alt text](Output-gate.png \"Title\")\n"
   ]
  },
  {
   "cell_type": "code",
   "execution_count": null,
   "id": "ffee72e5-43f2-49ea-b637-d9515ef8d506",
   "metadata": {},
   "outputs": [],
   "source": []
  }
 ],
 "metadata": {
  "kernelspec": {
   "display_name": "Python 3 (ipykernel)",
   "language": "python",
   "name": "python3"
  },
  "language_info": {
   "codemirror_mode": {
    "name": "ipython",
    "version": 3
   },
   "file_extension": ".py",
   "mimetype": "text/x-python",
   "name": "python",
   "nbconvert_exporter": "python",
   "pygments_lexer": "ipython3",
   "version": "3.11.4"
  }
 },
 "nbformat": 4,
 "nbformat_minor": 5
}
