{
 "cells": [
  {
   "cell_type": "markdown",
   "id": "04b95c09-69a3-4e6d-a18b-adbe82be1657",
   "metadata": {},
   "source": [
    "# Destek Vektör Makineleri (Support Vector Machines)\n",
    "* Amaç iki sınıf arasında ki ayrımın optimum olmasını sağlayacak hiper-düzlemi buflmaktır.\n",
    "* şeker hastalığına sahip mi değil mi diye iki sınıf olsun, bu iki sınıfı ayırırken aralığın maksimum olmasını hedelriz, hiper düzlem ile bu işi yaparız 1 ya da 2 boyutlu bir doğru olarak düşünülebilir, Araya öyle bir margin koyacağız ki birbirinden ayırdığımız iki sınıf arası maksümum olsun.\n",
    "---------\n",
    "* Doğrusal bir şekilde ayıramadığımız durumlarda Doğrusal olmayan SVM ile ayırılır."
   ]
  },
  {
   "cell_type": "markdown",
   "id": "075b6b8c-2b16-4bdb-83aa-2790d2d3b656",
   "metadata": {},
   "source": [
    "library"
   ]
  },
  {
   "cell_type": "code",
   "execution_count": 1,
   "id": "97ccaaf8-0874-4f20-96a6-a97137451453",
   "metadata": {
    "tags": []
   },
   "outputs": [],
   "source": [
    "import numpy as np\n",
    "import pandas as pd\n",
    "import statsmodels.api as sm\n",
    "import seaborn as sns\n",
    "import matplotlib.pyplot as plt\n",
    "from sklearn.preprocessing import scale, StandardScaler\n",
    "from sklearn.model_selection import train_test_split, GridSearchCV, cross_val_score\n",
    "from sklearn.metrics import confusion_matrix, accuracy_score, mean_squared_error, r2_score, roc_auc_score, roc_curve, classification_report\n",
    "from sklearn.linear_model import LogisticRegression\n",
    "from sklearn.neighbors import KNeighborsClassifier\n",
    "from sklearn.svm import SVC\n",
    "from sklearn.neural_network import MLPClassifier\n",
    "from sklearn.tree import DecisionTreeClassifier\n",
    "from sklearn.ensemble import RandomForestClassifier\n",
    "from sklearn.ensemble import GradientBoostingClassifier"
   ]
  },
  {
   "cell_type": "code",
   "execution_count": 2,
   "id": "904efc71-81f9-406f-8922-1ce372661610",
   "metadata": {
    "tags": []
   },
   "outputs": [],
   "source": [
    "df = pd.read_csv('diabetes.csv')\n",
    "y= df['Outcome']\n",
    "X= df.drop(['Outcome'], axis=1)\n",
    "X_train, X_test, y_train, y_test = train_test_split(X,y,test_size=0.30,random_state=42)"
   ]
  },
  {
   "cell_type": "markdown",
   "id": "b2d880e5-0d27-4795-ab77-912cc9bf9afa",
   "metadata": {},
   "source": [
    "model ve tahmin"
   ]
  },
  {
   "cell_type": "code",
   "execution_count": 5,
   "id": "c7ce3490-66ec-4306-8aae-7917b662c358",
   "metadata": {
    "tags": []
   },
   "outputs": [],
   "source": [
    "svm=  SVC(kernel='linear').fit(X_train,y_train)"
   ]
  },
  {
   "cell_type": "code",
   "execution_count": 9,
   "id": "668fda64-c871-47d8-8228-574b09847883",
   "metadata": {
    "tags": []
   },
   "outputs": [
    {
     "data": {
      "text/plain": [
       "0.7445887445887446"
      ]
     },
     "execution_count": 9,
     "metadata": {},
     "output_type": "execute_result"
    }
   ],
   "source": [
    "svm.score(X_test,y_test)"
   ]
  },
  {
   "cell_type": "code",
   "execution_count": 10,
   "id": "171b62bd-669c-4877-9ee4-408fc9c51313",
   "metadata": {
    "tags": []
   },
   "outputs": [],
   "source": [
    "y_pred = svm.predict(X_test)"
   ]
  },
  {
   "cell_type": "code",
   "execution_count": 11,
   "id": "df635776-74f2-43ef-af17-575a7ed5eb69",
   "metadata": {
    "tags": []
   },
   "outputs": [
    {
     "data": {
      "text/plain": [
       "0.7445887445887446"
      ]
     },
     "execution_count": 11,
     "metadata": {},
     "output_type": "execute_result"
    }
   ],
   "source": [
    "accuracy_score(y_test,y_pred)"
   ]
  },
  {
   "cell_type": "code",
   "execution_count": 13,
   "id": "0970059b-bffd-4b30-a71a-323c49a30171",
   "metadata": {
    "tags": []
   },
   "outputs": [
    {
     "name": "stdout",
     "output_type": "stream",
     "text": [
      "              precision    recall  f1-score   support\n",
      "\n",
      "           0       0.80      0.81      0.81       151\n",
      "           1       0.63      0.62      0.63        80\n",
      "\n",
      "    accuracy                           0.74       231\n",
      "   macro avg       0.72      0.72      0.72       231\n",
      "weighted avg       0.74      0.74      0.74       231\n",
      "\n"
     ]
    }
   ],
   "source": [
    "print(classification_report(y_test,y_pred))"
   ]
  },
  {
   "cell_type": "code",
   "execution_count": 15,
   "id": "e6d7f0d9-08ab-4929-8e02-b51d57dc9345",
   "metadata": {
    "tags": []
   },
   "outputs": [],
   "source": [
    "svm= SVC()"
   ]
  },
  {
   "cell_type": "markdown",
   "id": "6e0b348e-cb05-48bb-9a90-63cc8f019579",
   "metadata": {},
   "source": [
    "tune ve  2 boyutlu şeysi"
   ]
  },
  {
   "cell_type": "code",
   "execution_count": 16,
   "id": "d8a9176d-5763-40c3-bd76-5ceed0ca5088",
   "metadata": {
    "tags": []
   },
   "outputs": [],
   "source": [
    "svm_params=  {'C': np.arange(1,10),\n",
    "             'kernel': ['linear', 'rbf']}"
   ]
  },
  {
   "cell_type": "code",
   "execution_count": 19,
   "id": "cff29af2-95f0-42f3-9f77-f45bba6dad24",
   "metadata": {
    "tags": []
   },
   "outputs": [
    {
     "name": "stdout",
     "output_type": "stream",
     "text": [
      "Fitting 10 folds for each of 18 candidates, totalling 180 fits\n"
     ]
    }
   ],
   "source": [
    "svm_cv = GridSearchCV(svm,svm_params,cv=10,n_jobs=-1, verbose=2).fit(X_train,y_train)"
   ]
  },
  {
   "cell_type": "code",
   "execution_count": 21,
   "id": "476c83b8-4841-48d9-9c61-4a1b97a5fa89",
   "metadata": {
    "tags": []
   },
   "outputs": [
    {
     "data": {
      "text/plain": [
       "{'C': 1, 'kernel': 'linear'}"
      ]
     },
     "execution_count": 21,
     "metadata": {},
     "output_type": "execute_result"
    }
   ],
   "source": [
    "svm_cv.best_params_"
   ]
  },
  {
   "cell_type": "code",
   "execution_count": 22,
   "id": "2137ccf5-e18d-4fe0-8bef-cf927e2470ba",
   "metadata": {
    "tags": []
   },
   "outputs": [],
   "source": [
    "svm_tuned = SVC(C=1,kernel='linear').fit(X_train,y_train)"
   ]
  },
  {
   "cell_type": "code",
   "execution_count": 23,
   "id": "fcca462a-a3ce-47fa-b766-7bbfb32e33af",
   "metadata": {
    "tags": []
   },
   "outputs": [
    {
     "data": {
      "text/plain": [
       "0.7445887445887446"
      ]
     },
     "execution_count": 23,
     "metadata": {},
     "output_type": "execute_result"
    }
   ],
   "source": [
    "svm_tuned.score(X_test,y_test)"
   ]
  },
  {
   "cell_type": "code",
   "execution_count": 26,
   "id": "2ea925f6-cc39-48dd-8919-a8a7bd6f95af",
   "metadata": {
    "tags": []
   },
   "outputs": [
    {
     "data": {
      "text/plain": [
       "0.7445887445887446"
      ]
     },
     "execution_count": 26,
     "metadata": {},
     "output_type": "execute_result"
    }
   ],
   "source": [
    "y_pred = svm_tuned.predict(X_test)\n",
    "accuracy_score(y_test,y_pred)"
   ]
  },
  {
   "cell_type": "code",
   "execution_count": null,
   "id": "1fb2f54d-0041-45af-a606-68935c34dbc8",
   "metadata": {},
   "outputs": [],
   "source": []
  }
 ],
 "metadata": {
  "kernelspec": {
   "display_name": "Python 3 (ipykernel)",
   "language": "python",
   "name": "python3"
  },
  "language_info": {
   "codemirror_mode": {
    "name": "ipython",
    "version": 3
   },
   "file_extension": ".py",
   "mimetype": "text/x-python",
   "name": "python",
   "nbconvert_exporter": "python",
   "pygments_lexer": "ipython3",
   "version": "3.11.4"
  }
 },
 "nbformat": 4,
 "nbformat_minor": 5
}
