{
 "cells": [
  {
   "cell_type": "markdown",
   "id": "c5dbd7c9-195f-4447-b3ea-450517501ac4",
   "metadata": {
    "tags": []
   },
   "source": [
    "# Makine Öğrenmesi Görevlerinin Otomatikleştirilmesi"
   ]
  },
  {
   "cell_type": "code",
   "execution_count": 5,
   "id": "d5334586-2895-4247-8d7c-1bbb720ea5e9",
   "metadata": {
    "tags": []
   },
   "outputs": [],
   "source": [
    "import numpy as np\n",
    "import pandas as pd\n",
    "import statsmodels.api as sm\n",
    "import seaborn as sns\n",
    "import matplotlib.pyplot as plt\n",
    "from sklearn.preprocessing import scale, StandardScaler\n",
    "from sklearn.model_selection import train_test_split, GridSearchCV, cross_val_score\n",
    "from sklearn.metrics import confusion_matrix, accuracy_score, mean_squared_error, r2_score, roc_auc_score, roc_curve, classification_report\n",
    "from sklearn.linear_model import LogisticRegression\n",
    "from sklearn.neighbors import KNeighborsClassifier\n",
    "from sklearn.svm import SVC\n",
    "from sklearn.neural_network import MLPClassifier\n",
    "from sklearn.tree import DecisionTreeClassifier\n",
    "from sklearn.ensemble import RandomForestClassifier\n",
    "from sklearn.ensemble import GradientBoostingClassifier"
   ]
  },
  {
   "cell_type": "code",
   "execution_count": 7,
   "id": "af865584-c4b5-49fc-a4fb-f7f89c5f49bd",
   "metadata": {
    "tags": []
   },
   "outputs": [],
   "source": [
    "from catboost import CatBoostClassifier\n",
    "from lightgbm import LGBMClassifier\n",
    "from xgboost import XGBClassifier"
   ]
  },
  {
   "cell_type": "code",
   "execution_count": 8,
   "id": "ef6b4b55-d0e2-4016-8409-3f32c3e5f01c",
   "metadata": {
    "tags": []
   },
   "outputs": [],
   "source": [
    "df = pd.read_csv('diabetes.csv')\n",
    "y= df['Outcome']\n",
    "X= df.drop(['Outcome'], axis=1)\n",
    "X_train, X_test, y_train, y_test = train_test_split(X,y,test_size=0.30,random_state=42)"
   ]
  },
  {
   "cell_type": "code",
   "execution_count": 10,
   "id": "66f82665-5ac4-4a1f-9261-bffeeffc64e8",
   "metadata": {
    "tags": []
   },
   "outputs": [
    {
     "name": "stderr",
     "output_type": "stream",
     "text": [
      "C:\\Users\\ycanf\\anaconda3\\Lib\\site-packages\\sklearn\\neural_network\\_multilayer_perceptron.py:546: ConvergenceWarning: lbfgs failed to converge (status=1):\n",
      "STOP: TOTAL NO. of ITERATIONS REACHED LIMIT.\n",
      "\n",
      "Increase the number of iterations (max_iter) or scale the data as shown in:\n",
      "    https://scikit-learn.org/stable/modules/preprocessing.html\n",
      "  self.n_iter_ = _check_optimize_result(\"lbfgs\", opt_res, self.max_iter)\n"
     ]
    },
    {
     "name": "stdout",
     "output_type": "stream",
     "text": [
      "[LightGBM] [Info] Number of positive: 188, number of negative: 349\n",
      "[LightGBM] [Info] Total Bins 606\n",
      "[LightGBM] [Info] Number of data points in the train set: 537, number of used features: 8\n",
      "[LightGBM] [Info] [binary:BoostFromScore]: pavg=0.350093 -> initscore=-0.618630\n",
      "[LightGBM] [Info] Start training from score -0.618630\n"
     ]
    }
   ],
   "source": [
    "knn_tuned= KNeighborsClassifier(n_neighbors=11).fit(X_train,y_train)\n",
    "mlp_tuned = MLPClassifier(activation='logistic', alpha=0.1, hidden_layer_sizes=(3, 5),max_iter=350, solver='lbfgs').fit(X_train,y_train)\n",
    "svm_tuned = SVC(C=1,kernel='linear').fit(X_train,y_train)\n",
    "cart_tuned = DecisionTreeClassifier(max_depth=5, min_samples_split=20).fit(X_train,y_train)\n",
    "lgbm_tune = LGBMClassifier(force_col_wise=True, learning_rate=0.01, max_depth=1,n_estimators=500).fit(X_train,y_train)\n",
    "rf_tuned = RandomForestClassifier(max_features=7, min_samples_split=10).fit(X_train,y_train)\n",
    "xgb_tuned = XGBClassifier(learning_rate= 0.01, max_depth= 3, n_estimators= 500, subsample= 0.8).fit(X_train,y_train)\n",
    "catb_tuned= CatBoostClassifier(verbose=False, depth= 8, iterations= 200, learning_rate= 0.01).fit(X_train,y_train)"
   ]
  },
  {
   "cell_type": "code",
   "execution_count": 30,
   "id": "fc719832-e669-4387-bed2-e011b1955764",
   "metadata": {
    "tags": []
   },
   "outputs": [],
   "source": [
    "loj_model = LogisticRegression(solver='liblinear').fit(X,y)"
   ]
  },
  {
   "cell_type": "code",
   "execution_count": 31,
   "id": "80a12d92-0ee6-4a21-bc4f-1ce0bd58709c",
   "metadata": {
    "tags": []
   },
   "outputs": [
    {
     "name": "stderr",
     "output_type": "stream",
     "text": [
      "C:\\Users\\ycanf\\AppData\\Local\\Temp\\ipykernel_5744\\608063643.py:19: FutureWarning: The frame.append method is deprecated and will be removed from pandas in a future version. Use pandas.concat instead.\n",
      "  sonuclar = sonuclar.append(sonuc)\n",
      "C:\\Users\\ycanf\\AppData\\Local\\Temp\\ipykernel_5744\\608063643.py:19: FutureWarning: The frame.append method is deprecated and will be removed from pandas in a future version. Use pandas.concat instead.\n",
      "  sonuclar = sonuclar.append(sonuc)\n",
      "C:\\Users\\ycanf\\AppData\\Local\\Temp\\ipykernel_5744\\608063643.py:19: FutureWarning: The frame.append method is deprecated and will be removed from pandas in a future version. Use pandas.concat instead.\n",
      "  sonuclar = sonuclar.append(sonuc)\n",
      "C:\\Users\\ycanf\\AppData\\Local\\Temp\\ipykernel_5744\\608063643.py:19: FutureWarning: The frame.append method is deprecated and will be removed from pandas in a future version. Use pandas.concat instead.\n",
      "  sonuclar = sonuclar.append(sonuc)\n",
      "C:\\Users\\ycanf\\AppData\\Local\\Temp\\ipykernel_5744\\608063643.py:19: FutureWarning: The frame.append method is deprecated and will be removed from pandas in a future version. Use pandas.concat instead.\n",
      "  sonuclar = sonuclar.append(sonuc)\n",
      "C:\\Users\\ycanf\\AppData\\Local\\Temp\\ipykernel_5744\\608063643.py:19: FutureWarning: The frame.append method is deprecated and will be removed from pandas in a future version. Use pandas.concat instead.\n",
      "  sonuclar = sonuclar.append(sonuc)\n",
      "C:\\Users\\ycanf\\AppData\\Local\\Temp\\ipykernel_5744\\608063643.py:19: FutureWarning: The frame.append method is deprecated and will be removed from pandas in a future version. Use pandas.concat instead.\n",
      "  sonuclar = sonuclar.append(sonuc)\n",
      "C:\\Users\\ycanf\\AppData\\Local\\Temp\\ipykernel_5744\\608063643.py:19: FutureWarning: The frame.append method is deprecated and will be removed from pandas in a future version. Use pandas.concat instead.\n",
      "  sonuclar = sonuclar.append(sonuc)\n",
      "C:\\Users\\ycanf\\AppData\\Local\\Temp\\ipykernel_5744\\608063643.py:19: FutureWarning: The frame.append method is deprecated and will be removed from pandas in a future version. Use pandas.concat instead.\n",
      "  sonuclar = sonuclar.append(sonuc)\n"
     ]
    }
   ],
   "source": [
    "modeller = [knn_tuned,\n",
    "            mlp_tuned,\n",
    "            svm_tuned,\n",
    "            cart_tuned,\n",
    "            lgbm_tune,\n",
    "            rf_tuned,\n",
    "            xgb_tuned,\n",
    "            catb_tuned,\n",
    "           loj_model]\n",
    "\n",
    "sonuc =  []\n",
    "sonuclar = pd.DataFrame(columns=['Modeller','Accuacy'])\n",
    "\n",
    "for model in modeller:\n",
    "    isimler= model.__class__.__name__\n",
    "    y_pred=model.predict(X_test)\n",
    "    dogruluk = accuracy_score(y_test,y_pred)\n",
    "    sonuc = pd.DataFrame([[isimler, dogruluk*100]], columns=['Modeller','Accuracy'])\n",
    "    sonuclar = sonuclar.append(sonuc)"
   ]
  },
  {
   "cell_type": "code",
   "execution_count": 32,
   "id": "eaf2206d-2734-4922-8d12-05694058dc42",
   "metadata": {
    "tags": []
   },
   "outputs": [
    {
     "data": {
      "text/html": [
       "<div>\n",
       "<style scoped>\n",
       "    .dataframe tbody tr th:only-of-type {\n",
       "        vertical-align: middle;\n",
       "    }\n",
       "\n",
       "    .dataframe tbody tr th {\n",
       "        vertical-align: top;\n",
       "    }\n",
       "\n",
       "    .dataframe thead th {\n",
       "        text-align: right;\n",
       "    }\n",
       "</style>\n",
       "<table border=\"1\" class=\"dataframe\">\n",
       "  <thead>\n",
       "    <tr style=\"text-align: right;\">\n",
       "      <th></th>\n",
       "      <th>Modeller</th>\n",
       "      <th>Accuracy</th>\n",
       "    </tr>\n",
       "  </thead>\n",
       "  <tbody>\n",
       "    <tr>\n",
       "      <th>0</th>\n",
       "      <td>LogisticRegression</td>\n",
       "      <td>76.623377</td>\n",
       "    </tr>\n",
       "  </tbody>\n",
       "</table>\n",
       "</div>"
      ],
      "text/plain": [
       "             Modeller   Accuracy\n",
       "0  LogisticRegression  76.623377"
      ]
     },
     "execution_count": 32,
     "metadata": {},
     "output_type": "execute_result"
    }
   ],
   "source": [
    "sonuc"
   ]
  },
  {
   "cell_type": "code",
   "execution_count": 33,
   "id": "22e46f34-822d-4343-bf05-cff71b7dea16",
   "metadata": {
    "tags": []
   },
   "outputs": [
    {
     "data": {
      "text/html": [
       "<div>\n",
       "<style scoped>\n",
       "    .dataframe tbody tr th:only-of-type {\n",
       "        vertical-align: middle;\n",
       "    }\n",
       "\n",
       "    .dataframe tbody tr th {\n",
       "        vertical-align: top;\n",
       "    }\n",
       "\n",
       "    .dataframe thead th {\n",
       "        text-align: right;\n",
       "    }\n",
       "</style>\n",
       "<table border=\"1\" class=\"dataframe\">\n",
       "  <thead>\n",
       "    <tr style=\"text-align: right;\">\n",
       "      <th></th>\n",
       "      <th>Modeller</th>\n",
       "      <th>Accuacy</th>\n",
       "      <th>Accuracy</th>\n",
       "    </tr>\n",
       "  </thead>\n",
       "  <tbody>\n",
       "    <tr>\n",
       "      <th>0</th>\n",
       "      <td>KNeighborsClassifier</td>\n",
       "      <td>NaN</td>\n",
       "      <td>73.160173</td>\n",
       "    </tr>\n",
       "    <tr>\n",
       "      <th>0</th>\n",
       "      <td>MLPClassifier</td>\n",
       "      <td>NaN</td>\n",
       "      <td>60.606061</td>\n",
       "    </tr>\n",
       "    <tr>\n",
       "      <th>0</th>\n",
       "      <td>SVC</td>\n",
       "      <td>NaN</td>\n",
       "      <td>74.458874</td>\n",
       "    </tr>\n",
       "    <tr>\n",
       "      <th>0</th>\n",
       "      <td>DecisionTreeClassifier</td>\n",
       "      <td>NaN</td>\n",
       "      <td>75.324675</td>\n",
       "    </tr>\n",
       "    <tr>\n",
       "      <th>0</th>\n",
       "      <td>LGBMClassifier</td>\n",
       "      <td>NaN</td>\n",
       "      <td>75.757576</td>\n",
       "    </tr>\n",
       "    <tr>\n",
       "      <th>0</th>\n",
       "      <td>RandomForestClassifier</td>\n",
       "      <td>NaN</td>\n",
       "      <td>74.891775</td>\n",
       "    </tr>\n",
       "    <tr>\n",
       "      <th>0</th>\n",
       "      <td>XGBClassifier</td>\n",
       "      <td>NaN</td>\n",
       "      <td>76.190476</td>\n",
       "    </tr>\n",
       "    <tr>\n",
       "      <th>0</th>\n",
       "      <td>CatBoostClassifier</td>\n",
       "      <td>NaN</td>\n",
       "      <td>75.324675</td>\n",
       "    </tr>\n",
       "    <tr>\n",
       "      <th>0</th>\n",
       "      <td>LogisticRegression</td>\n",
       "      <td>NaN</td>\n",
       "      <td>76.623377</td>\n",
       "    </tr>\n",
       "  </tbody>\n",
       "</table>\n",
       "</div>"
      ],
      "text/plain": [
       "                 Modeller Accuacy   Accuracy\n",
       "0    KNeighborsClassifier     NaN  73.160173\n",
       "0           MLPClassifier     NaN  60.606061\n",
       "0                     SVC     NaN  74.458874\n",
       "0  DecisionTreeClassifier     NaN  75.324675\n",
       "0          LGBMClassifier     NaN  75.757576\n",
       "0  RandomForestClassifier     NaN  74.891775\n",
       "0           XGBClassifier     NaN  76.190476\n",
       "0      CatBoostClassifier     NaN  75.324675\n",
       "0      LogisticRegression     NaN  76.623377"
      ]
     },
     "execution_count": 33,
     "metadata": {},
     "output_type": "execute_result"
    }
   ],
   "source": [
    "sonuclar"
   ]
  },
  {
   "cell_type": "code",
   "execution_count": 34,
   "id": "f800d063-e0e4-4f0c-9850-6d4b6dd4cf52",
   "metadata": {
    "tags": []
   },
   "outputs": [
    {
     "data": {
      "image/png": "[encoded data removed]",
      "text/plain": [
       "<Figure size 640x480 with 1 Axes>"
      ]
     },
     "metadata": {},
     "output_type": "display_data"
    }
   ],
   "source": [
    "sns.barplot(x= 'Accuracy', y= 'Modeller', data = sonuclar, color = 'r')\n",
    "plt.xlabel('Accuracy %')\n",
    "plt.title('modellerin doguruluk oranı');"
   ]
  },
  {
   "cell_type": "markdown",
   "id": "c9bedfcc-932a-4956-9cb7-aed5650b3691",
   "metadata": {},
   "source": [
    "# Daha Başka Ne Yapılabilir ? "
   ]
  },
  {
   "cell_type": "markdown",
   "id": "9c2c3fdf-e7c6-4c38-a027-be2c80d997b9",
   "metadata": {},
   "source": [
    "1. Değişken türetme/değişken mühendisliği\n",
    "2. Değişken seçme\n",
    "3. Otomatik ML yaklaşımları , kütleri kullanılabilir.\n",
    "4. Model Deployment"
   ]
  },
  {
   "cell_type": "code",
   "execution_count": 36,
   "id": "37a06ee9-e5c4-497c-b840-511f38e9f596",
   "metadata": {},
   "outputs": [],
   "source": [
    "asd = np.arange(1,50)"
   ]
  },
  {
   "cell_type": "code",
   "execution_count": 38,
   "id": "c78e839b-fc61-4777-b184-b09fd158fd22",
   "metadata": {
    "tags": []
   },
   "outputs": [
    {
     "data": {
      "text/plain": [
       "numpy.ndarray"
      ]
     },
     "execution_count": 38,
     "metadata": {},
     "output_type": "execute_result"
    }
   ],
   "source": [
    "type(asd)"
   ]
  },
  {
   "cell_type": "code",
   "execution_count": null,
   "id": "3d2e39a0-296d-413e-aecf-008a430cb0fc",
   "metadata": {},
   "outputs": [],
   "source": []
  }
 ],
 "metadata": {
  "kernelspec": {
   "display_name": "Python 3 (ipykernel)",
   "language": "python",
   "name": "python3"
  },
  "language_info": {
   "codemirror_mode": {
    "name": "ipython",
    "version": 3
   },
   "file_extension": ".py",
   "mimetype": "text/x-python",
   "name": "python",
   "nbconvert_exporter": "python",
   "pygments_lexer": "ipython3",
   "version": "3.11.4"
  }
 },
 "nbformat": 4,
 "nbformat_minor": 5
}
