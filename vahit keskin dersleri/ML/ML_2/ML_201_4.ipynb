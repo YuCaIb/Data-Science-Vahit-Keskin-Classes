{
 "cells": [
  {
   "cell_type": "markdown",
   "id": "4bc5fb9f-8716-451e-9773-1e702625d036",
   "metadata": {},
   "source": [
    "# Ridge Regrasyon\n",
    "* başk bir doğrusal regresyon modelidir.\n",
    "* Amaç hata kareler toplımını minimize eden katsayıları, bu katsayılara bir ceza uygulayarak bulmaktır.\n",
    "* $SSE = \\Sigma{ (y_i-\\hat{y}_i)^2}$ \n",
    "* $SSE_{L_2} = \\Sigma{ (y_i-\\hat{y}_i)^2} + \\lambda \\Sigma{ \\beta_j^2} $ \n",
    "* $\\lambda$ ayar paramtresi\n",
    "* $\\Sigma{ \\beta_j^2}$ : Ceza terimi\n",
    "----------------------------\n",
    "#### Ridge regresyon ; \n",
    "* Aşırı öğrenmeye karşı dirençlidir.\n",
    "* Yanlıdır fakat varyansı düşüktür.(bazen yanlı modelleri daha çok tercih ederiz.)\n",
    "* Çok fazla paremetre olduğunda EKK'ya göre daha iyidir.(EKK = Klasik regresyon)\n",
    "* Çok boyutluluk lanetine karşı çözüm sunar. (değişken sayısının gözlem sayısından daha fazla olması, çok boyutluluk laneti).\n",
    "* Çoklu doğrusal bağlantı problemi olduğunda etkildir.(bağımsız değişkenler arasında yüksek korelasyon gözlenmesi)\n",
    "* Tüm değişkenler ile model kurar. ilgisiz değişkenleri modelden çıkarmaz, katsayılarını sıfıra yaklaştırır.\n",
    "* $ \\lambda$ kritik roldedir. İki terimin(formülde ki) göreceli etkilerini kontrol etmeyi sağlar.\n",
    "* $\\lambda$ için iyi bir değer bulunması önemlidir. Bunun için CrossValidation yöntemi kullanılır.\n",
    "----------------------\n",
    "* $SSE_{L_2} = \\Sigma{ (y_i-\\hat{y}_i)^2} + \\lambda \\Sigma{ \\beta_j^2} $ \n",
    "* $\\lambda$ ayar paramtresi(kullanıcı tarafından verilmesi ve optimize edilmesi gerekir.)\n",
    "* $\\beta$ ' lar veri setinden elde edilecek olan parametlerdir.\n",
    "* $\\lambda$ ' nın sıfır olduğu yer EKK(klasik regresyondur)'dır. HKT(hata kareler toplamını (SSE'nin türkçesi))' yi minumum yapan $\\lambda$'yı arıyoruz.\n",
    "* $\\lambda$ için belirli değerleri içeren bir küme seçilir ve her birisi için cross validation test hatası hesaplanır.\n",
    "* En küçük Cross validationu veren $\\lambda$ ayar parametresi olarak seçilir.\n",
    "* Son olarak seçilen bu $\\lambda$ ile model y eniden tüm gözlemlere fit edilir."
   ]
  },
  {
   "cell_type": "markdown",
   "id": "a4274c1b-7f08-41f4-b208-e9aeb7b40422",
   "metadata": {},
   "source": [
    "## Ridge Regresyon Model\n"
   ]
  },
  {
   "cell_type": "code",
   "execution_count": 7,
   "id": "62da840a-391d-421a-b437-39dc726fb39d",
   "metadata": {
    "tags": []
   },
   "outputs": [],
   "source": [
    "###Gereklii Kütüphaneler\n",
    "import numpy as np\n",
    "import pandas as pd\n",
    "from sklearn.linear_model import Ridge\n",
    "from sklearn.metrics import mean_squared_error, r2_score\n",
    "from sklearn.model_selection import train_test_split\n",
    "from sklearn import model_selection\n",
    "import matplotlib.pyplot as plt\n",
    "from  sklearn.linear_model import RidgeCV"
   ]
  },
  {
   "cell_type": "code",
   "execution_count": 69,
   "id": "bc334604-bee1-486a-be4c-b71145f547c7",
   "metadata": {
    "tags": []
   },
   "outputs": [],
   "source": [
    "df = pd.read_csv('Hitters.csv')"
   ]
  },
  {
   "cell_type": "code",
   "execution_count": 70,
   "id": "b9a703b0-9f67-46fc-a692-d6b7cbfc4ddc",
   "metadata": {
    "tags": []
   },
   "outputs": [
    {
     "data": {
      "text/html": [
       "<div>\n",
       "<style scoped>\n",
       "    .dataframe tbody tr th:only-of-type {\n",
       "        vertical-align: middle;\n",
       "    }\n",
       "\n",
       "    .dataframe tbody tr th {\n",
       "        vertical-align: top;\n",
       "    }\n",
       "\n",
       "    .dataframe thead th {\n",
       "        text-align: right;\n",
       "    }\n",
       "</style>\n",
       "<table border=\"1\" class=\"dataframe\">\n",
       "  <thead>\n",
       "    <tr style=\"text-align: right;\">\n",
       "      <th></th>\n",
       "      <th>AtBat</th>\n",
       "      <th>Hits</th>\n",
       "      <th>HmRun</th>\n",
       "      <th>Runs</th>\n",
       "      <th>RBI</th>\n",
       "      <th>Walks</th>\n",
       "      <th>Years</th>\n",
       "      <th>CAtBat</th>\n",
       "      <th>CHits</th>\n",
       "      <th>CHmRun</th>\n",
       "      <th>CRuns</th>\n",
       "      <th>CRBI</th>\n",
       "      <th>CWalks</th>\n",
       "      <th>League</th>\n",
       "      <th>Division</th>\n",
       "      <th>PutOuts</th>\n",
       "      <th>Assists</th>\n",
       "      <th>Errors</th>\n",
       "      <th>Salary</th>\n",
       "      <th>NewLeague</th>\n",
       "    </tr>\n",
       "  </thead>\n",
       "  <tbody>\n",
       "    <tr>\n",
       "      <th>0</th>\n",
       "      <td>293</td>\n",
       "      <td>66</td>\n",
       "      <td>1</td>\n",
       "      <td>30</td>\n",
       "      <td>29</td>\n",
       "      <td>14</td>\n",
       "      <td>1</td>\n",
       "      <td>293</td>\n",
       "      <td>66</td>\n",
       "      <td>1</td>\n",
       "      <td>30</td>\n",
       "      <td>29</td>\n",
       "      <td>14</td>\n",
       "      <td>A</td>\n",
       "      <td>E</td>\n",
       "      <td>446</td>\n",
       "      <td>33</td>\n",
       "      <td>20</td>\n",
       "      <td>NaN</td>\n",
       "      <td>A</td>\n",
       "    </tr>\n",
       "    <tr>\n",
       "      <th>1</th>\n",
       "      <td>315</td>\n",
       "      <td>81</td>\n",
       "      <td>7</td>\n",
       "      <td>24</td>\n",
       "      <td>38</td>\n",
       "      <td>39</td>\n",
       "      <td>14</td>\n",
       "      <td>3449</td>\n",
       "      <td>835</td>\n",
       "      <td>69</td>\n",
       "      <td>321</td>\n",
       "      <td>414</td>\n",
       "      <td>375</td>\n",
       "      <td>N</td>\n",
       "      <td>W</td>\n",
       "      <td>632</td>\n",
       "      <td>43</td>\n",
       "      <td>10</td>\n",
       "      <td>475.0</td>\n",
       "      <td>N</td>\n",
       "    </tr>\n",
       "    <tr>\n",
       "      <th>2</th>\n",
       "      <td>479</td>\n",
       "      <td>130</td>\n",
       "      <td>18</td>\n",
       "      <td>66</td>\n",
       "      <td>72</td>\n",
       "      <td>76</td>\n",
       "      <td>3</td>\n",
       "      <td>1624</td>\n",
       "      <td>457</td>\n",
       "      <td>63</td>\n",
       "      <td>224</td>\n",
       "      <td>266</td>\n",
       "      <td>263</td>\n",
       "      <td>A</td>\n",
       "      <td>W</td>\n",
       "      <td>880</td>\n",
       "      <td>82</td>\n",
       "      <td>14</td>\n",
       "      <td>480.0</td>\n",
       "      <td>A</td>\n",
       "    </tr>\n",
       "    <tr>\n",
       "      <th>3</th>\n",
       "      <td>496</td>\n",
       "      <td>141</td>\n",
       "      <td>20</td>\n",
       "      <td>65</td>\n",
       "      <td>78</td>\n",
       "      <td>37</td>\n",
       "      <td>11</td>\n",
       "      <td>5628</td>\n",
       "      <td>1575</td>\n",
       "      <td>225</td>\n",
       "      <td>828</td>\n",
       "      <td>838</td>\n",
       "      <td>354</td>\n",
       "      <td>N</td>\n",
       "      <td>E</td>\n",
       "      <td>200</td>\n",
       "      <td>11</td>\n",
       "      <td>3</td>\n",
       "      <td>500.0</td>\n",
       "      <td>N</td>\n",
       "    </tr>\n",
       "    <tr>\n",
       "      <th>4</th>\n",
       "      <td>321</td>\n",
       "      <td>87</td>\n",
       "      <td>10</td>\n",
       "      <td>39</td>\n",
       "      <td>42</td>\n",
       "      <td>30</td>\n",
       "      <td>2</td>\n",
       "      <td>396</td>\n",
       "      <td>101</td>\n",
       "      <td>12</td>\n",
       "      <td>48</td>\n",
       "      <td>46</td>\n",
       "      <td>33</td>\n",
       "      <td>N</td>\n",
       "      <td>E</td>\n",
       "      <td>805</td>\n",
       "      <td>40</td>\n",
       "      <td>4</td>\n",
       "      <td>91.5</td>\n",
       "      <td>N</td>\n",
       "    </tr>\n",
       "  </tbody>\n",
       "</table>\n",
       "</div>"
      ],
      "text/plain": [
       "   AtBat  Hits  HmRun  Runs  RBI  Walks  Years  CAtBat  CHits  CHmRun  CRuns  \\\n",
       "0    293    66      1    30   29     14      1     293     66       1     30   \n",
       "1    315    81      7    24   38     39     14    3449    835      69    321   \n",
       "2    479   130     18    66   72     76      3    1624    457      63    224   \n",
       "3    496   141     20    65   78     37     11    5628   1575     225    828   \n",
       "4    321    87     10    39   42     30      2     396    101      12     48   \n",
       "\n",
       "   CRBI  CWalks League Division  PutOuts  Assists  Errors  Salary NewLeague  \n",
       "0    29      14      A        E      446       33      20     NaN         A  \n",
       "1   414     375      N        W      632       43      10   475.0         N  \n",
       "2   266     263      A        W      880       82      14   480.0         A  \n",
       "3   838     354      N        E      200       11       3   500.0         N  \n",
       "4    46      33      N        E      805       40       4    91.5         N  "
      ]
     },
     "execution_count": 70,
     "metadata": {},
     "output_type": "execute_result"
    }
   ],
   "source": [
    "df.head()"
   ]
  },
  {
   "cell_type": "code",
   "execution_count": 71,
   "id": "ed736431-c60b-421b-8183-58aa179b7727",
   "metadata": {
    "tags": []
   },
   "outputs": [],
   "source": [
    "df = df.dropna()"
   ]
  },
  {
   "cell_type": "code",
   "execution_count": 72,
   "id": "491b9d87-f05d-4288-963c-0f3ad623ea57",
   "metadata": {
    "tags": []
   },
   "outputs": [],
   "source": [
    "dms = pd.get_dummies(df[['League','Division','NewLeague']]) # kategorik değişkenlerin bize vereceği bilgiyi daha iyi alabimlek adına one-hot encoding yaklaşımı yapmış oluyoruz"
   ]
  },
  {
   "cell_type": "code",
   "execution_count": 73,
   "id": "a586b5e1-3872-4a5e-8557-2ff2f3d083ee",
   "metadata": {
    "tags": []
   },
   "outputs": [
    {
     "data": {
      "text/html": [
       "<div>\n",
       "<style scoped>\n",
       "    .dataframe tbody tr th:only-of-type {\n",
       "        vertical-align: middle;\n",
       "    }\n",
       "\n",
       "    .dataframe tbody tr th {\n",
       "        vertical-align: top;\n",
       "    }\n",
       "\n",
       "    .dataframe thead th {\n",
       "        text-align: right;\n",
       "    }\n",
       "</style>\n",
       "<table border=\"1\" class=\"dataframe\">\n",
       "  <thead>\n",
       "    <tr style=\"text-align: right;\">\n",
       "      <th></th>\n",
       "      <th>League_A</th>\n",
       "      <th>League_N</th>\n",
       "      <th>Division_E</th>\n",
       "      <th>Division_W</th>\n",
       "      <th>NewLeague_A</th>\n",
       "      <th>NewLeague_N</th>\n",
       "    </tr>\n",
       "  </thead>\n",
       "  <tbody>\n",
       "    <tr>\n",
       "      <th>1</th>\n",
       "      <td>0</td>\n",
       "      <td>1</td>\n",
       "      <td>0</td>\n",
       "      <td>1</td>\n",
       "      <td>0</td>\n",
       "      <td>1</td>\n",
       "    </tr>\n",
       "    <tr>\n",
       "      <th>2</th>\n",
       "      <td>1</td>\n",
       "      <td>0</td>\n",
       "      <td>0</td>\n",
       "      <td>1</td>\n",
       "      <td>1</td>\n",
       "      <td>0</td>\n",
       "    </tr>\n",
       "    <tr>\n",
       "      <th>3</th>\n",
       "      <td>0</td>\n",
       "      <td>1</td>\n",
       "      <td>1</td>\n",
       "      <td>0</td>\n",
       "      <td>0</td>\n",
       "      <td>1</td>\n",
       "    </tr>\n",
       "    <tr>\n",
       "      <th>4</th>\n",
       "      <td>0</td>\n",
       "      <td>1</td>\n",
       "      <td>1</td>\n",
       "      <td>0</td>\n",
       "      <td>0</td>\n",
       "      <td>1</td>\n",
       "    </tr>\n",
       "    <tr>\n",
       "      <th>5</th>\n",
       "      <td>1</td>\n",
       "      <td>0</td>\n",
       "      <td>0</td>\n",
       "      <td>1</td>\n",
       "      <td>1</td>\n",
       "      <td>0</td>\n",
       "    </tr>\n",
       "  </tbody>\n",
       "</table>\n",
       "</div>"
      ],
      "text/plain": [
       "   League_A  League_N  Division_E  Division_W  NewLeague_A  NewLeague_N\n",
       "1         0         1           0           1            0            1\n",
       "2         1         0           0           1            1            0\n",
       "3         0         1           1           0            0            1\n",
       "4         0         1           1           0            0            1\n",
       "5         1         0           0           1            1            0"
      ]
     },
     "execution_count": 73,
     "metadata": {},
     "output_type": "execute_result"
    }
   ],
   "source": [
    "dms.head()"
   ]
  },
  {
   "cell_type": "code",
   "execution_count": 74,
   "id": "d3ba5193-cc90-4195-ab68-6ad565dd9978",
   "metadata": {
    "tags": []
   },
   "outputs": [],
   "source": [
    "y= df[['Salary']] ## bağımlı değişkenimiz"
   ]
  },
  {
   "cell_type": "code",
   "execution_count": 75,
   "id": "64e7c6c0-85e8-47f4-adac-88f6474f25e4",
   "metadata": {
    "tags": []
   },
   "outputs": [],
   "source": [
    "X_ = df.drop(['Salary','League', 'Division','NewLeague'],axis=1).astype('float64')"
   ]
  },
  {
   "cell_type": "code",
   "execution_count": 76,
   "id": "ef07fad9-32b4-4896-a2ce-885cd123340f",
   "metadata": {
    "tags": []
   },
   "outputs": [],
   "source": [
    "X = pd.concat([X_ , dms[['League_N','Division_W', 'NewLeague_N']]], axis=1)"
   ]
  },
  {
   "cell_type": "code",
   "execution_count": 77,
   "id": "c9955ac8-afca-4120-a40a-1939e8b6a7bd",
   "metadata": {
    "tags": []
   },
   "outputs": [
    {
     "data": {
      "text/plain": [
       "(263, 19)"
      ]
     },
     "execution_count": 77,
     "metadata": {},
     "output_type": "execute_result"
    }
   ],
   "source": [
    "X.shape"
   ]
  },
  {
   "cell_type": "code",
   "execution_count": 78,
   "id": "3985f13c-a93c-42da-a910-836f2f91626c",
   "metadata": {
    "tags": []
   },
   "outputs": [],
   "source": [
    "X_train, X_test, y_train, y_test = train_test_split(X,\n",
    "                                                   y,\n",
    "                                                   test_size=0.25,\n",
    "                                                   random_state=42)"
   ]
  },
  {
   "cell_type": "code",
   "execution_count": 79,
   "id": "f362178b-58bc-4b14-9828-9eaccde3683b",
   "metadata": {
    "tags": []
   },
   "outputs": [
    {
     "data": {
      "text/plain": [
       "(263, 20)"
      ]
     },
     "execution_count": 79,
     "metadata": {},
     "output_type": "execute_result"
    }
   ],
   "source": [
    "df.shape"
   ]
  },
  {
   "cell_type": "code",
   "execution_count": 82,
   "id": "41b20a25-5032-4880-af8c-a33078368f36",
   "metadata": {
    "tags": []
   },
   "outputs": [
    {
     "data": {
      "text/html": [
       "<div>\n",
       "<style scoped>\n",
       "    .dataframe tbody tr th:only-of-type {\n",
       "        vertical-align: middle;\n",
       "    }\n",
       "\n",
       "    .dataframe tbody tr th {\n",
       "        vertical-align: top;\n",
       "    }\n",
       "\n",
       "    .dataframe thead th {\n",
       "        text-align: right;\n",
       "    }\n",
       "</style>\n",
       "<table border=\"1\" class=\"dataframe\">\n",
       "  <thead>\n",
       "    <tr style=\"text-align: right;\">\n",
       "      <th></th>\n",
       "      <th>AtBat</th>\n",
       "      <th>Hits</th>\n",
       "      <th>HmRun</th>\n",
       "      <th>Runs</th>\n",
       "      <th>RBI</th>\n",
       "      <th>Walks</th>\n",
       "      <th>Years</th>\n",
       "      <th>CAtBat</th>\n",
       "      <th>CHits</th>\n",
       "      <th>CHmRun</th>\n",
       "      <th>CRuns</th>\n",
       "      <th>CRBI</th>\n",
       "      <th>CWalks</th>\n",
       "      <th>League</th>\n",
       "      <th>Division</th>\n",
       "      <th>PutOuts</th>\n",
       "      <th>Assists</th>\n",
       "      <th>Errors</th>\n",
       "      <th>Salary</th>\n",
       "      <th>NewLeague</th>\n",
       "    </tr>\n",
       "  </thead>\n",
       "  <tbody>\n",
       "    <tr>\n",
       "      <th>1</th>\n",
       "      <td>315</td>\n",
       "      <td>81</td>\n",
       "      <td>7</td>\n",
       "      <td>24</td>\n",
       "      <td>38</td>\n",
       "      <td>39</td>\n",
       "      <td>14</td>\n",
       "      <td>3449</td>\n",
       "      <td>835</td>\n",
       "      <td>69</td>\n",
       "      <td>321</td>\n",
       "      <td>414</td>\n",
       "      <td>375</td>\n",
       "      <td>N</td>\n",
       "      <td>W</td>\n",
       "      <td>632</td>\n",
       "      <td>43</td>\n",
       "      <td>10</td>\n",
       "      <td>475.0</td>\n",
       "      <td>N</td>\n",
       "    </tr>\n",
       "    <tr>\n",
       "      <th>2</th>\n",
       "      <td>479</td>\n",
       "      <td>130</td>\n",
       "      <td>18</td>\n",
       "      <td>66</td>\n",
       "      <td>72</td>\n",
       "      <td>76</td>\n",
       "      <td>3</td>\n",
       "      <td>1624</td>\n",
       "      <td>457</td>\n",
       "      <td>63</td>\n",
       "      <td>224</td>\n",
       "      <td>266</td>\n",
       "      <td>263</td>\n",
       "      <td>A</td>\n",
       "      <td>W</td>\n",
       "      <td>880</td>\n",
       "      <td>82</td>\n",
       "      <td>14</td>\n",
       "      <td>480.0</td>\n",
       "      <td>A</td>\n",
       "    </tr>\n",
       "    <tr>\n",
       "      <th>3</th>\n",
       "      <td>496</td>\n",
       "      <td>141</td>\n",
       "      <td>20</td>\n",
       "      <td>65</td>\n",
       "      <td>78</td>\n",
       "      <td>37</td>\n",
       "      <td>11</td>\n",
       "      <td>5628</td>\n",
       "      <td>1575</td>\n",
       "      <td>225</td>\n",
       "      <td>828</td>\n",
       "      <td>838</td>\n",
       "      <td>354</td>\n",
       "      <td>N</td>\n",
       "      <td>E</td>\n",
       "      <td>200</td>\n",
       "      <td>11</td>\n",
       "      <td>3</td>\n",
       "      <td>500.0</td>\n",
       "      <td>N</td>\n",
       "    </tr>\n",
       "    <tr>\n",
       "      <th>4</th>\n",
       "      <td>321</td>\n",
       "      <td>87</td>\n",
       "      <td>10</td>\n",
       "      <td>39</td>\n",
       "      <td>42</td>\n",
       "      <td>30</td>\n",
       "      <td>2</td>\n",
       "      <td>396</td>\n",
       "      <td>101</td>\n",
       "      <td>12</td>\n",
       "      <td>48</td>\n",
       "      <td>46</td>\n",
       "      <td>33</td>\n",
       "      <td>N</td>\n",
       "      <td>E</td>\n",
       "      <td>805</td>\n",
       "      <td>40</td>\n",
       "      <td>4</td>\n",
       "      <td>91.5</td>\n",
       "      <td>N</td>\n",
       "    </tr>\n",
       "    <tr>\n",
       "      <th>5</th>\n",
       "      <td>594</td>\n",
       "      <td>169</td>\n",
       "      <td>4</td>\n",
       "      <td>74</td>\n",
       "      <td>51</td>\n",
       "      <td>35</td>\n",
       "      <td>11</td>\n",
       "      <td>4408</td>\n",
       "      <td>1133</td>\n",
       "      <td>19</td>\n",
       "      <td>501</td>\n",
       "      <td>336</td>\n",
       "      <td>194</td>\n",
       "      <td>A</td>\n",
       "      <td>W</td>\n",
       "      <td>282</td>\n",
       "      <td>421</td>\n",
       "      <td>25</td>\n",
       "      <td>750.0</td>\n",
       "      <td>A</td>\n",
       "    </tr>\n",
       "  </tbody>\n",
       "</table>\n",
       "</div>"
      ],
      "text/plain": [
       "   AtBat  Hits  HmRun  Runs  RBI  Walks  Years  CAtBat  CHits  CHmRun  CRuns  \\\n",
       "1    315    81      7    24   38     39     14    3449    835      69    321   \n",
       "2    479   130     18    66   72     76      3    1624    457      63    224   \n",
       "3    496   141     20    65   78     37     11    5628   1575     225    828   \n",
       "4    321    87     10    39   42     30      2     396    101      12     48   \n",
       "5    594   169      4    74   51     35     11    4408   1133      19    501   \n",
       "\n",
       "   CRBI  CWalks League Division  PutOuts  Assists  Errors  Salary NewLeague  \n",
       "1   414     375      N        W      632       43      10   475.0         N  \n",
       "2   266     263      A        W      880       82      14   480.0         A  \n",
       "3   838     354      N        E      200       11       3   500.0         N  \n",
       "4    46      33      N        E      805       40       4    91.5         N  \n",
       "5   336     194      A        W      282      421      25   750.0         A  "
      ]
     },
     "execution_count": 82,
     "metadata": {},
     "output_type": "execute_result"
    }
   ],
   "source": [
    "df.head()"
   ]
  },
  {
   "cell_type": "code",
   "execution_count": 96,
   "id": "8e0fc5d7-0280-42e0-90c8-0f3cf09e724f",
   "metadata": {
    "tags": []
   },
   "outputs": [],
   "source": [
    "ridge_model= Ridge(alpha=5).fit(X_train,y_train)"
   ]
  },
  {
   "cell_type": "code",
   "execution_count": 99,
   "id": "90d93d99-d4f3-4590-9daf-6c7d00f94c32",
   "metadata": {
    "tags": []
   },
   "outputs": [
    {
     "data": {
      "text/plain": [
       "array([[ -1.81040449,   8.87872786,   7.12487047,  -3.31713488,\n",
       "         -2.01162162,   5.40691525,   7.25828404,  -0.13033385,\n",
       "         -0.25425913,  -0.71109275,   1.81452   ,   0.77083457,\n",
       "         -0.6768975 ,   0.26211894,   0.2646614 ,  -0.36947934,\n",
       "         76.19519054, -90.15523668, -16.00453535]])"
      ]
     },
     "execution_count": 99,
     "metadata": {},
     "output_type": "execute_result"
    }
   ],
   "source": [
    "ridge_model.coef_"
   ]
  },
  {
   "cell_type": "code",
   "execution_count": 100,
   "id": "fe6565b9-a882-4d24-b914-10d95d7d1005",
   "metadata": {
    "tags": []
   },
   "outputs": [
    {
     "data": {
      "text/plain": [
       "array([-3.42519687])"
      ]
     },
     "execution_count": 100,
     "metadata": {},
     "output_type": "execute_result"
    }
   ],
   "source": [
    "ridge_model.intercept_"
   ]
  },
  {
   "cell_type": "code",
   "execution_count": 117,
   "id": "8b99142e-df77-4f95-9af8-2237dd10ec9e",
   "metadata": {
    "tags": []
   },
   "outputs": [],
   "source": [
    " lambdas = 10**np.linspace(10,-2,100)*0.5"
   ]
  },
  {
   "cell_type": "code",
   "execution_count": 118,
   "id": "8281f4cf-b381-47bd-9a9f-0e944b66e402",
   "metadata": {
    "tags": []
   },
   "outputs": [
    {
     "data": {
      "text/plain": [
       "array([10.        ,  9.87878788,  9.75757576,  9.63636364,  9.51515152,\n",
       "        9.39393939,  9.27272727,  9.15151515,  9.03030303,  8.90909091,\n",
       "        8.78787879,  8.66666667,  8.54545455,  8.42424242,  8.3030303 ,\n",
       "        8.18181818,  8.06060606,  7.93939394,  7.81818182,  7.6969697 ,\n",
       "        7.57575758,  7.45454545,  7.33333333,  7.21212121,  7.09090909,\n",
       "        6.96969697,  6.84848485,  6.72727273,  6.60606061,  6.48484848,\n",
       "        6.36363636,  6.24242424,  6.12121212,  6.        ,  5.87878788,\n",
       "        5.75757576,  5.63636364,  5.51515152,  5.39393939,  5.27272727,\n",
       "        5.15151515,  5.03030303,  4.90909091,  4.78787879,  4.66666667,\n",
       "        4.54545455,  4.42424242,  4.3030303 ,  4.18181818,  4.06060606,\n",
       "        3.93939394,  3.81818182,  3.6969697 ,  3.57575758,  3.45454545,\n",
       "        3.33333333,  3.21212121,  3.09090909,  2.96969697,  2.84848485,\n",
       "        2.72727273,  2.60606061,  2.48484848,  2.36363636,  2.24242424,\n",
       "        2.12121212,  2.        ,  1.87878788,  1.75757576,  1.63636364,\n",
       "        1.51515152,  1.39393939,  1.27272727,  1.15151515,  1.03030303,\n",
       "        0.90909091,  0.78787879,  0.66666667,  0.54545455,  0.42424242,\n",
       "        0.3030303 ,  0.18181818,  0.06060606, -0.06060606, -0.18181818,\n",
       "       -0.3030303 , -0.42424242, -0.54545455, -0.66666667, -0.78787879,\n",
       "       -0.90909091, -1.03030303, -1.15151515, -1.27272727, -1.39393939,\n",
       "       -1.51515152, -1.63636364, -1.75757576, -1.87878788, -2.        ])"
      ]
     },
     "execution_count": 118,
     "metadata": {},
     "output_type": "execute_result"
    }
   ],
   "source": [
    " np.linspace(10,-2,100)"
   ]
  },
  {
   "cell_type": "code",
   "execution_count": 119,
   "id": "85435e63-e554-4ef8-bdde-f784d938a316",
   "metadata": {
    "collapsed": true,
    "jupyter": {
     "outputs_hidden": true
    },
    "tags": []
   },
   "outputs": [
    {
     "data": {
      "text/plain": [
       "array([5.00000000e+09, 3.78231664e+09, 2.86118383e+09, 2.16438064e+09,\n",
       "       1.63727458e+09, 1.23853818e+09, 9.36908711e+08, 7.08737081e+08,\n",
       "       5.36133611e+08, 4.05565415e+08, 3.06795364e+08, 2.32079442e+08,\n",
       "       1.75559587e+08, 1.32804389e+08, 1.00461650e+08, 7.59955541e+07,\n",
       "       5.74878498e+07, 4.34874501e+07, 3.28966612e+07, 2.48851178e+07,\n",
       "       1.88246790e+07, 1.42401793e+07, 1.07721735e+07, 8.14875417e+06,\n",
       "       6.16423370e+06, 4.66301673e+06, 3.52740116e+06, 2.66834962e+06,\n",
       "       2.01850863e+06, 1.52692775e+06, 1.15506485e+06, 8.73764200e+05,\n",
       "       6.60970574e+05, 5.00000000e+05, 3.78231664e+05, 2.86118383e+05,\n",
       "       2.16438064e+05, 1.63727458e+05, 1.23853818e+05, 9.36908711e+04,\n",
       "       7.08737081e+04, 5.36133611e+04, 4.05565415e+04, 3.06795364e+04,\n",
       "       2.32079442e+04, 1.75559587e+04, 1.32804389e+04, 1.00461650e+04,\n",
       "       7.59955541e+03, 5.74878498e+03, 4.34874501e+03, 3.28966612e+03,\n",
       "       2.48851178e+03, 1.88246790e+03, 1.42401793e+03, 1.07721735e+03,\n",
       "       8.14875417e+02, 6.16423370e+02, 4.66301673e+02, 3.52740116e+02,\n",
       "       2.66834962e+02, 2.01850863e+02, 1.52692775e+02, 1.15506485e+02,\n",
       "       8.73764200e+01, 6.60970574e+01, 5.00000000e+01, 3.78231664e+01,\n",
       "       2.86118383e+01, 2.16438064e+01, 1.63727458e+01, 1.23853818e+01,\n",
       "       9.36908711e+00, 7.08737081e+00, 5.36133611e+00, 4.05565415e+00,\n",
       "       3.06795364e+00, 2.32079442e+00, 1.75559587e+00, 1.32804389e+00,\n",
       "       1.00461650e+00, 7.59955541e-01, 5.74878498e-01, 4.34874501e-01,\n",
       "       3.28966612e-01, 2.48851178e-01, 1.88246790e-01, 1.42401793e-01,\n",
       "       1.07721735e-01, 8.14875417e-02, 6.16423370e-02, 4.66301673e-02,\n",
       "       3.52740116e-02, 2.66834962e-02, 2.01850863e-02, 1.52692775e-02,\n",
       "       1.15506485e-02, 8.73764200e-03, 6.60970574e-03, 5.00000000e-03])"
      ]
     },
     "execution_count": 119,
     "metadata": {},
     "output_type": "execute_result"
    }
   ],
   "source": [
    "lambdas"
   ]
  },
  {
   "cell_type": "code",
   "execution_count": 113,
   "id": "f88497ad-1d4a-4727-a80d-9001b7dc3ddf",
   "metadata": {
    "tags": []
   },
   "outputs": [],
   "source": [
    "ridge_model = Ridge()\n",
    "katsayilar = []\n",
    "\n",
    "for i in lambdas:\n",
    "    ridge_model.set_params(alpha=i)\n",
    "    ridge_model.fit(X_train, y_train)\n",
    "    katsayilar.append(ridge_model.coef_)"
   ]
  },
  {
   "cell_type": "code",
   "execution_count": 121,
   "id": "975cc53d-ef36-4790-a22d-c20aabcfeeac",
   "metadata": {
    "tags": []
   },
   "outputs": [],
   "source": [
    "katsayilar = np.array(katsayilar)"
   ]
  },
  {
   "cell_type": "code",
   "execution_count": 127,
   "id": "785bda58-5559-4beb-af31-b18468a63886",
   "metadata": {
    "tags": []
   },
   "outputs": [
    {
     "data": {
      "image/png": "[encoded data removed]",
      "text/plain": [
       "<Figure size 640x480 with 1 Axes>"
      ]
     },
     "metadata": {},
     "output_type": "display_data"
    }
   ],
   "source": [
    "ax = plt.gca()\n",
    "ax.plot(lambdas, katsayilar.reshape(100,19))\n",
    "ax.set_xscale(\"log\")"
   ]
  },
  {
   "cell_type": "markdown",
   "id": "34b5a5d1-440f-4732-802e-953dd1f186ec",
   "metadata": {},
   "source": [
    "### Ridge regresyon Tahmin"
   ]
  },
  {
   "cell_type": "code",
   "execution_count": 131,
   "id": "b6c04555-6b2b-483b-b32f-064ab0a981a7",
   "metadata": {
    "tags": []
   },
   "outputs": [],
   "source": [
    "ridge_model = Ridge().fit(X_train, y_train)"
   ]
  },
  {
   "cell_type": "code",
   "execution_count": 134,
   "id": "b2340fca-621e-431a-ad34-6713043c2f48",
   "metadata": {
    "tags": []
   },
   "outputs": [],
   "source": [
    "y_pred = ridge_model.predict(X_train)"
   ]
  },
  {
   "cell_type": "code",
   "execution_count": 133,
   "id": "0a0ebc93-3873-49f1-8fb3-e1338a593abb",
   "metadata": {
    "tags": []
   },
   "outputs": [
    {
     "data": {
      "text/plain": [
       "array([[ 376.25245449],\n",
       "       [ 803.38498121],\n",
       "       [ 496.17669652],\n",
       "       [ 112.69554648],\n",
       "       [ 427.60020221],\n",
       "       [1003.6309402 ],\n",
       "       [ 153.45713944],\n",
       "       [ 361.33880956],\n",
       "       [ 483.29143665],\n",
       "       [ 916.91439669]])"
      ]
     },
     "execution_count": 133,
     "metadata": {},
     "output_type": "execute_result"
    }
   ],
   "source": [
    "y_pred[0:10]"
   ]
  },
  {
   "cell_type": "code",
   "execution_count": 135,
   "id": "7ed4a9ba-b169-46b2-a05f-4a3185eb1a6f",
   "metadata": {
    "tags": []
   },
   "outputs": [
    {
     "data": {
      "text/plain": [
       "289.34470696006565"
      ]
     },
     "execution_count": 135,
     "metadata": {},
     "output_type": "execute_result"
    }
   ],
   "source": [
    "## train hatası (ilkel)\n",
    "RMSE =np.sqrt(mean_squared_error(y_train,y_pred))\n",
    "RMSE"
   ]
  },
  {
   "cell_type": "code",
   "execution_count": 138,
   "id": "3176d522-dd7d-4051-87fe-ea658b796d75",
   "metadata": {
    "tags": []
   },
   "outputs": [
    {
     "data": {
      "text/plain": [
       "array([254472.04580573,  60833.45970379, 154767.02339013,  85062.49424023,\n",
       "        69816.89068641, 129298.84224708, 111727.92225975,  85814.81291499,\n",
       "        58347.4474604 , 224630.58012368])"
      ]
     },
     "execution_count": 138,
     "metadata": {},
     "output_type": "execute_result"
    }
   ],
   "source": [
    "from sklearn.model_selection import cross_val_score\n",
    "-cross_val_score(ridge_model, X_train,y_train, cv= 10, scoring='neg_mean_squared_error')"
   ]
  },
  {
   "cell_type": "code",
   "execution_count": 141,
   "id": "6bf8be07-db69-4021-943a-0dedeb51744f",
   "metadata": {
    "tags": []
   },
   "outputs": [
    {
     "data": {
      "text/plain": [
       "351.393158560637"
      ]
     },
     "execution_count": 141,
     "metadata": {},
     "output_type": "execute_result"
    }
   ],
   "source": [
    "## daha doğru hata, daha çok hata ama ilkel değil, daha isabetli bir hata\n",
    "## train hatası\n",
    "np.sqrt(np.mean(-cross_val_score(ridge_model, X_train,y_train, cv= 10, scoring='neg_mean_squared_error')))"
   ]
  },
  {
   "cell_type": "code",
   "execution_count": 143,
   "id": "e4260369-c0a2-4855-84dc-e6a6aefca5e3",
   "metadata": {
    "tags": []
   },
   "outputs": [
    {
     "data": {
      "text/plain": [
       "356.8082905730227"
      ]
     },
     "execution_count": 143,
     "metadata": {},
     "output_type": "execute_result"
    }
   ],
   "source": [
    "##test hatası (ilkel)\n",
    "y_pred = ridge_model.predict(X_test)\n",
    "RMSE =np.sqrt(mean_squared_error(y_test,y_pred))\n",
    "RMSE"
   ]
  },
  {
   "cell_type": "markdown",
   "id": "ba405c79-805a-4fe0-9e84-50f87eb61737",
   "metadata": {},
   "source": [
    "# Model Tuning\n",
    "* Neden model tuning?"
   ]
  },
  {
   "cell_type": "code",
   "execution_count": 151,
   "id": "684ac5dc-cdcc-4890-b777-59da5b5a85e8",
   "metadata": {
    "tags": []
   },
   "outputs": [
    {
     "data": {
      "text/plain": [
       "360.281459053577"
      ]
     },
     "execution_count": 151,
     "metadata": {},
     "output_type": "execute_result"
    }
   ],
   "source": [
    "ridge_model = Ridge().fit(X_train,y_train)\n",
    "y_pred = ridge_model.predict(X_test)\n",
    "np.sqrt(mean_squared_error(y_test,y_pred))"
   ]
  },
  {
   "cell_type": "code",
   "execution_count": 167,
   "id": "9c2a561d-b9e9-4b6a-9f36-7c470aa9dbe5",
   "metadata": {
    "collapsed": true,
    "jupyter": {
     "outputs_hidden": true
    },
    "tags": []
   },
   "outputs": [
    {
     "data": {
      "text/html": [
       "<div>\n",
       "<style scoped>\n",
       "    .dataframe tbody tr th:only-of-type {\n",
       "        vertical-align: middle;\n",
       "    }\n",
       "\n",
       "    .dataframe tbody tr th {\n",
       "        vertical-align: top;\n",
       "    }\n",
       "\n",
       "    .dataframe thead th {\n",
       "        text-align: right;\n",
       "    }\n",
       "</style>\n",
       "<table border=\"1\" class=\"dataframe\">\n",
       "  <thead>\n",
       "    <tr style=\"text-align: right;\">\n",
       "      <th></th>\n",
       "      <th>AtBat</th>\n",
       "      <th>Hits</th>\n",
       "      <th>HmRun</th>\n",
       "      <th>Runs</th>\n",
       "      <th>RBI</th>\n",
       "      <th>Walks</th>\n",
       "      <th>Years</th>\n",
       "      <th>CAtBat</th>\n",
       "      <th>CHits</th>\n",
       "      <th>CHmRun</th>\n",
       "      <th>CRuns</th>\n",
       "      <th>CRBI</th>\n",
       "      <th>CWalks</th>\n",
       "      <th>PutOuts</th>\n",
       "      <th>Assists</th>\n",
       "      <th>Errors</th>\n",
       "      <th>League_N</th>\n",
       "      <th>Division_W</th>\n",
       "      <th>NewLeague_N</th>\n",
       "    </tr>\n",
       "  </thead>\n",
       "  <tbody>\n",
       "    <tr>\n",
       "      <th>183</th>\n",
       "      <td>328.0</td>\n",
       "      <td>91.0</td>\n",
       "      <td>12.0</td>\n",
       "      <td>51.0</td>\n",
       "      <td>43.0</td>\n",
       "      <td>33.0</td>\n",
       "      <td>2.0</td>\n",
       "      <td>342.0</td>\n",
       "      <td>94.0</td>\n",
       "      <td>12.0</td>\n",
       "      <td>51.0</td>\n",
       "      <td>44.0</td>\n",
       "      <td>33.0</td>\n",
       "      <td>145.0</td>\n",
       "      <td>59.0</td>\n",
       "      <td>8.0</td>\n",
       "      <td>1</td>\n",
       "      <td>0</td>\n",
       "      <td>1</td>\n",
       "    </tr>\n",
       "    <tr>\n",
       "      <th>229</th>\n",
       "      <td>514.0</td>\n",
       "      <td>144.0</td>\n",
       "      <td>0.0</td>\n",
       "      <td>67.0</td>\n",
       "      <td>54.0</td>\n",
       "      <td>79.0</td>\n",
       "      <td>9.0</td>\n",
       "      <td>4739.0</td>\n",
       "      <td>1169.0</td>\n",
       "      <td>13.0</td>\n",
       "      <td>583.0</td>\n",
       "      <td>374.0</td>\n",
       "      <td>528.0</td>\n",
       "      <td>229.0</td>\n",
       "      <td>453.0</td>\n",
       "      <td>15.0</td>\n",
       "      <td>1</td>\n",
       "      <td>0</td>\n",
       "      <td>1</td>\n",
       "    </tr>\n",
       "    <tr>\n",
       "      <th>286</th>\n",
       "      <td>593.0</td>\n",
       "      <td>152.0</td>\n",
       "      <td>23.0</td>\n",
       "      <td>69.0</td>\n",
       "      <td>75.0</td>\n",
       "      <td>53.0</td>\n",
       "      <td>6.0</td>\n",
       "      <td>2765.0</td>\n",
       "      <td>686.0</td>\n",
       "      <td>133.0</td>\n",
       "      <td>369.0</td>\n",
       "      <td>384.0</td>\n",
       "      <td>321.0</td>\n",
       "      <td>315.0</td>\n",
       "      <td>10.0</td>\n",
       "      <td>6.0</td>\n",
       "      <td>0</td>\n",
       "      <td>1</td>\n",
       "      <td>0</td>\n",
       "    </tr>\n",
       "    <tr>\n",
       "      <th>102</th>\n",
       "      <td>233.0</td>\n",
       "      <td>49.0</td>\n",
       "      <td>2.0</td>\n",
       "      <td>41.0</td>\n",
       "      <td>23.0</td>\n",
       "      <td>18.0</td>\n",
       "      <td>8.0</td>\n",
       "      <td>1350.0</td>\n",
       "      <td>336.0</td>\n",
       "      <td>7.0</td>\n",
       "      <td>166.0</td>\n",
       "      <td>122.0</td>\n",
       "      <td>106.0</td>\n",
       "      <td>102.0</td>\n",
       "      <td>132.0</td>\n",
       "      <td>10.0</td>\n",
       "      <td>0</td>\n",
       "      <td>0</td>\n",
       "      <td>0</td>\n",
       "    </tr>\n",
       "    <tr>\n",
       "      <th>153</th>\n",
       "      <td>341.0</td>\n",
       "      <td>95.0</td>\n",
       "      <td>6.0</td>\n",
       "      <td>48.0</td>\n",
       "      <td>42.0</td>\n",
       "      <td>20.0</td>\n",
       "      <td>10.0</td>\n",
       "      <td>2964.0</td>\n",
       "      <td>808.0</td>\n",
       "      <td>81.0</td>\n",
       "      <td>379.0</td>\n",
       "      <td>428.0</td>\n",
       "      <td>221.0</td>\n",
       "      <td>158.0</td>\n",
       "      <td>4.0</td>\n",
       "      <td>5.0</td>\n",
       "      <td>1</td>\n",
       "      <td>1</td>\n",
       "      <td>1</td>\n",
       "    </tr>\n",
       "    <tr>\n",
       "      <th>...</th>\n",
       "      <td>...</td>\n",
       "      <td>...</td>\n",
       "      <td>...</td>\n",
       "      <td>...</td>\n",
       "      <td>...</td>\n",
       "      <td>...</td>\n",
       "      <td>...</td>\n",
       "      <td>...</td>\n",
       "      <td>...</td>\n",
       "      <td>...</td>\n",
       "      <td>...</td>\n",
       "      <td>...</td>\n",
       "      <td>...</td>\n",
       "      <td>...</td>\n",
       "      <td>...</td>\n",
       "      <td>...</td>\n",
       "      <td>...</td>\n",
       "      <td>...</td>\n",
       "      <td>...</td>\n",
       "    </tr>\n",
       "    <tr>\n",
       "      <th>24</th>\n",
       "      <td>629.0</td>\n",
       "      <td>168.0</td>\n",
       "      <td>18.0</td>\n",
       "      <td>73.0</td>\n",
       "      <td>102.0</td>\n",
       "      <td>40.0</td>\n",
       "      <td>18.0</td>\n",
       "      <td>8424.0</td>\n",
       "      <td>2464.0</td>\n",
       "      <td>164.0</td>\n",
       "      <td>1008.0</td>\n",
       "      <td>1072.0</td>\n",
       "      <td>402.0</td>\n",
       "      <td>1067.0</td>\n",
       "      <td>157.0</td>\n",
       "      <td>14.0</td>\n",
       "      <td>0</td>\n",
       "      <td>0</td>\n",
       "      <td>0</td>\n",
       "    </tr>\n",
       "    <tr>\n",
       "      <th>236</th>\n",
       "      <td>237.0</td>\n",
       "      <td>52.0</td>\n",
       "      <td>0.0</td>\n",
       "      <td>15.0</td>\n",
       "      <td>25.0</td>\n",
       "      <td>30.0</td>\n",
       "      <td>24.0</td>\n",
       "      <td>14053.0</td>\n",
       "      <td>4256.0</td>\n",
       "      <td>160.0</td>\n",
       "      <td>2165.0</td>\n",
       "      <td>1314.0</td>\n",
       "      <td>1566.0</td>\n",
       "      <td>523.0</td>\n",
       "      <td>43.0</td>\n",
       "      <td>6.0</td>\n",
       "      <td>1</td>\n",
       "      <td>1</td>\n",
       "      <td>1</td>\n",
       "    </tr>\n",
       "    <tr>\n",
       "      <th>93</th>\n",
       "      <td>511.0</td>\n",
       "      <td>138.0</td>\n",
       "      <td>25.0</td>\n",
       "      <td>76.0</td>\n",
       "      <td>96.0</td>\n",
       "      <td>61.0</td>\n",
       "      <td>3.0</td>\n",
       "      <td>592.0</td>\n",
       "      <td>164.0</td>\n",
       "      <td>28.0</td>\n",
       "      <td>87.0</td>\n",
       "      <td>110.0</td>\n",
       "      <td>71.0</td>\n",
       "      <td>157.0</td>\n",
       "      <td>7.0</td>\n",
       "      <td>8.0</td>\n",
       "      <td>0</td>\n",
       "      <td>1</td>\n",
       "      <td>0</td>\n",
       "    </tr>\n",
       "    <tr>\n",
       "      <th>137</th>\n",
       "      <td>343.0</td>\n",
       "      <td>103.0</td>\n",
       "      <td>6.0</td>\n",
       "      <td>48.0</td>\n",
       "      <td>36.0</td>\n",
       "      <td>40.0</td>\n",
       "      <td>15.0</td>\n",
       "      <td>4338.0</td>\n",
       "      <td>1193.0</td>\n",
       "      <td>70.0</td>\n",
       "      <td>581.0</td>\n",
       "      <td>421.0</td>\n",
       "      <td>325.0</td>\n",
       "      <td>211.0</td>\n",
       "      <td>56.0</td>\n",
       "      <td>13.0</td>\n",
       "      <td>0</td>\n",
       "      <td>0</td>\n",
       "      <td>0</td>\n",
       "    </tr>\n",
       "    <tr>\n",
       "      <th>133</th>\n",
       "      <td>445.0</td>\n",
       "      <td>99.0</td>\n",
       "      <td>1.0</td>\n",
       "      <td>46.0</td>\n",
       "      <td>24.0</td>\n",
       "      <td>29.0</td>\n",
       "      <td>4.0</td>\n",
       "      <td>618.0</td>\n",
       "      <td>129.0</td>\n",
       "      <td>1.0</td>\n",
       "      <td>72.0</td>\n",
       "      <td>31.0</td>\n",
       "      <td>48.0</td>\n",
       "      <td>278.0</td>\n",
       "      <td>415.0</td>\n",
       "      <td>16.0</td>\n",
       "      <td>0</td>\n",
       "      <td>1</td>\n",
       "      <td>0</td>\n",
       "    </tr>\n",
       "  </tbody>\n",
       "</table>\n",
       "<p>197 rows × 19 columns</p>\n",
       "</div>"
      ],
      "text/plain": [
       "     AtBat   Hits  HmRun  Runs    RBI  Walks  Years   CAtBat   CHits  CHmRun  \\\n",
       "183  328.0   91.0   12.0  51.0   43.0   33.0    2.0    342.0    94.0    12.0   \n",
       "229  514.0  144.0    0.0  67.0   54.0   79.0    9.0   4739.0  1169.0    13.0   \n",
       "286  593.0  152.0   23.0  69.0   75.0   53.0    6.0   2765.0   686.0   133.0   \n",
       "102  233.0   49.0    2.0  41.0   23.0   18.0    8.0   1350.0   336.0     7.0   \n",
       "153  341.0   95.0    6.0  48.0   42.0   20.0   10.0   2964.0   808.0    81.0   \n",
       "..     ...    ...    ...   ...    ...    ...    ...      ...     ...     ...   \n",
       "24   629.0  168.0   18.0  73.0  102.0   40.0   18.0   8424.0  2464.0   164.0   \n",
       "236  237.0   52.0    0.0  15.0   25.0   30.0   24.0  14053.0  4256.0   160.0   \n",
       "93   511.0  138.0   25.0  76.0   96.0   61.0    3.0    592.0   164.0    28.0   \n",
       "137  343.0  103.0    6.0  48.0   36.0   40.0   15.0   4338.0  1193.0    70.0   \n",
       "133  445.0   99.0    1.0  46.0   24.0   29.0    4.0    618.0   129.0     1.0   \n",
       "\n",
       "      CRuns    CRBI  CWalks  PutOuts  Assists  Errors  League_N  Division_W  \\\n",
       "183    51.0    44.0    33.0    145.0     59.0     8.0         1           0   \n",
       "229   583.0   374.0   528.0    229.0    453.0    15.0         1           0   \n",
       "286   369.0   384.0   321.0    315.0     10.0     6.0         0           1   \n",
       "102   166.0   122.0   106.0    102.0    132.0    10.0         0           0   \n",
       "153   379.0   428.0   221.0    158.0      4.0     5.0         1           1   \n",
       "..      ...     ...     ...      ...      ...     ...       ...         ...   \n",
       "24   1008.0  1072.0   402.0   1067.0    157.0    14.0         0           0   \n",
       "236  2165.0  1314.0  1566.0    523.0     43.0     6.0         1           1   \n",
       "93     87.0   110.0    71.0    157.0      7.0     8.0         0           1   \n",
       "137   581.0   421.0   325.0    211.0     56.0    13.0         0           0   \n",
       "133    72.0    31.0    48.0    278.0    415.0    16.0         0           1   \n",
       "\n",
       "     NewLeague_N  \n",
       "183            1  \n",
       "229            1  \n",
       "286            0  \n",
       "102            0  \n",
       "153            1  \n",
       "..           ...  \n",
       "24             0  \n",
       "236            1  \n",
       "93             0  \n",
       "137            0  \n",
       "133            0  \n",
       "\n",
       "[197 rows x 19 columns]"
      ]
     },
     "execution_count": 167,
     "metadata": {},
     "output_type": "execute_result"
    }
   ],
   "source": [
    "X_train"
   ]
  },
  {
   "cell_type": "code",
   "execution_count": 154,
   "id": "1916b0e6-aeaf-422a-86ae-d79482d1fefe",
   "metadata": {
    "tags": []
   },
   "outputs": [],
   "source": [
    "lambdas_1 = np.random.randint(0,1000,100)"
   ]
  },
  {
   "cell_type": "code",
   "execution_count": 187,
   "id": "e8b4df80-d340-4335-9320-15b97093bd47",
   "metadata": {
    "tags": []
   },
   "outputs": [],
   "source": [
    "lambdas_2= 10**np.linspace(10,-2,100)*0.5\n",
    "import numpy as np\n",
    "from sklearn.preprocessing import normalize\n",
    "norm1 = lambdas_2 /np.linalg.norm(lambdas_2)\n",
    "lambdas_2 = normalize(lambdas_2 [:,np.newaxis], axis=0).ravel()"
   ]
  },
  {
   "cell_type": "code",
   "execution_count": 188,
   "id": "20023146-ff90-46c0-a7d3-04d805db72b0",
   "metadata": {
    "tags": []
   },
   "outputs": [
    {
     "data": {
      "text/plain": [
       "array([6.54036111e-01, 4.94754333e-01, 3.74263509e-01, 2.83116619e-01,\n",
       "       2.14167340e-01, 1.62009739e-01, 1.22554426e-01, 9.27079289e-02,\n",
       "       7.01301483e-02, 5.30508854e-02, 4.01310493e-02, 3.03576671e-02,\n",
       "       2.29644619e-02, 1.73717732e-02, 1.31411094e-02, 9.94076733e-03,\n",
       "       7.51982593e-03, 5.68847255e-03, 4.30312087e-03, 3.25515313e-03,\n",
       "       2.46240397e-03, 1.86271830e-03, 1.40907809e-03, 1.06591590e-03,\n",
       "       8.06326287e-04, 6.09956266e-04, 4.61409546e-04, 3.49039401e-04,\n",
       "       2.64035507e-04, 1.99733178e-04, 1.51090824e-04, 1.14294668e-04,\n",
       "       8.64597247e-05, 6.54036111e-05, 4.94754333e-05, 3.74263509e-05,\n",
       "       2.83116619e-05, 2.14167340e-05, 1.62009739e-05, 1.22554426e-05,\n",
       "       9.27079289e-06, 7.01301483e-06, 5.30508854e-06, 4.01310493e-06,\n",
       "       3.03576671e-06, 2.29644619e-06, 1.73717732e-06, 1.31411094e-06,\n",
       "       9.94076733e-07, 7.51982593e-07, 5.68847255e-07, 4.30312087e-07,\n",
       "       3.25515313e-07, 2.46240397e-07, 1.86271830e-07, 1.40907809e-07,\n",
       "       1.06591590e-07, 8.06326287e-08, 6.09956266e-08, 4.61409546e-08,\n",
       "       3.49039401e-08, 2.64035507e-08, 1.99733178e-08, 1.51090824e-08,\n",
       "       1.14294668e-08, 8.64597247e-09, 6.54036111e-09, 4.94754333e-09,\n",
       "       3.74263509e-09, 2.83116619e-09, 2.14167340e-09, 1.62009739e-09,\n",
       "       1.22554426e-09, 9.27079289e-10, 7.01301483e-10, 5.30508854e-10,\n",
       "       4.01310493e-10, 3.03576671e-10, 2.29644619e-10, 1.73717732e-10,\n",
       "       1.31411094e-10, 9.94076733e-11, 7.51982593e-11, 5.68847255e-11,\n",
       "       4.30312087e-11, 3.25515313e-11, 2.46240397e-11, 1.86271830e-11,\n",
       "       1.40907809e-11, 1.06591590e-11, 8.06326287e-12, 6.09956266e-12,\n",
       "       4.61409546e-12, 3.49039401e-12, 2.64035507e-12, 1.99733178e-12,\n",
       "       1.51090824e-12, 1.14294668e-12, 8.64597247e-13, 6.54036111e-13])"
      ]
     },
     "execution_count": 188,
     "metadata": {},
     "output_type": "execute_result"
    }
   ],
   "source": [
    "lambdas_2"
   ]
  },
  {
   "cell_type": "code",
   "execution_count": 189,
   "id": "106009f9-0678-4d3c-8a01-12929fd21a42",
   "metadata": {
    "tags": []
   },
   "outputs": [
    {
     "data": {
      "text/html": [
       "<style>#sk-container-id-10 {color: black;}#sk-container-id-10 pre{padding: 0;}#sk-container-id-10 div.sk-toggleable {background-color: white;}#sk-container-id-10 label.sk-toggleable__label {cursor: pointer;display: block;width: 100%;margin-bottom: 0;padding: 0.3em;box-sizing: border-box;text-align: center;}#sk-container-id-10 label.sk-toggleable__label-arrow:before {content: \"▸\";float: left;margin-right: 0.25em;color: #696969;}#sk-container-id-10 label.sk-toggleable__label-arrow:hover:before {color: black;}#sk-container-id-10 div.sk-estimator:hover label.sk-toggleable__label-arrow:before {color: black;}#sk-container-id-10 div.sk-toggleable__content {max-height: 0;max-width: 0;overflow: hidden;text-align: left;background-color: #f0f8ff;}#sk-container-id-10 div.sk-toggleable__content pre {margin: 0.2em;color: black;border-radius: 0.25em;background-color: #f0f8ff;}#sk-container-id-10 input.sk-toggleable__control:checked~div.sk-toggleable__content {max-height: 200px;max-width: 100%;overflow: auto;}#sk-container-id-10 input.sk-toggleable__control:checked~label.sk-toggleable__label-arrow:before {content: \"▾\";}#sk-container-id-10 div.sk-estimator input.sk-toggleable__control:checked~label.sk-toggleable__label {background-color: #d4ebff;}#sk-container-id-10 div.sk-label input.sk-toggleable__control:checked~label.sk-toggleable__label {background-color: #d4ebff;}#sk-container-id-10 input.sk-hidden--visually {border: 0;clip: rect(1px 1px 1px 1px);clip: rect(1px, 1px, 1px, 1px);height: 1px;margin: -1px;overflow: hidden;padding: 0;position: absolute;width: 1px;}#sk-container-id-10 div.sk-estimator {font-family: monospace;background-color: #f0f8ff;border: 1px dotted black;border-radius: 0.25em;box-sizing: border-box;margin-bottom: 0.5em;}#sk-container-id-10 div.sk-estimator:hover {background-color: #d4ebff;}#sk-container-id-10 div.sk-parallel-item::after {content: \"\";width: 100%;border-bottom: 1px solid gray;flex-grow: 1;}#sk-container-id-10 div.sk-label:hover label.sk-toggleable__label {background-color: #d4ebff;}#sk-container-id-10 div.sk-serial::before {content: \"\";position: absolute;border-left: 1px solid gray;box-sizing: border-box;top: 0;bottom: 0;left: 50%;z-index: 0;}#sk-container-id-10 div.sk-serial {display: flex;flex-direction: column;align-items: center;background-color: white;padding-right: 0.2em;padding-left: 0.2em;position: relative;}#sk-container-id-10 div.sk-item {position: relative;z-index: 1;}#sk-container-id-10 div.sk-parallel {display: flex;align-items: stretch;justify-content: center;background-color: white;position: relative;}#sk-container-id-10 div.sk-item::before, #sk-container-id-10 div.sk-parallel-item::before {content: \"\";position: absolute;border-left: 1px solid gray;box-sizing: border-box;top: 0;bottom: 0;left: 50%;z-index: -1;}#sk-container-id-10 div.sk-parallel-item {display: flex;flex-direction: column;z-index: 1;position: relative;background-color: white;}#sk-container-id-10 div.sk-parallel-item:first-child::after {align-self: flex-end;width: 50%;}#sk-container-id-10 div.sk-parallel-item:last-child::after {align-self: flex-start;width: 50%;}#sk-container-id-10 div.sk-parallel-item:only-child::after {width: 0;}#sk-container-id-10 div.sk-dashed-wrapped {border: 1px dashed gray;margin: 0 0.4em 0.5em 0.4em;box-sizing: border-box;padding-bottom: 0.4em;background-color: white;}#sk-container-id-10 div.sk-label label {font-family: monospace;font-weight: bold;display: inline-block;line-height: 1.2em;}#sk-container-id-10 div.sk-label-container {text-align: center;}#sk-container-id-10 div.sk-container {/* jupyter's `normalize.less` sets `[hidden] { display: none; }` but bootstrap.min.css set `[hidden] { display: none !important; }` so we also need the `!important` here to be able to override the default hidden behavior on the sphinx rendered scikit-learn.org. See: https://github.com/scikit-learn/scikit-learn/issues/21755 */display: inline-block !important;position: relative;}#sk-container-id-10 div.sk-text-repr-fallback {display: none;}</style><div id=\"sk-container-id-10\" class=\"sk-top-container\"><div class=\"sk-text-repr-fallback\"><pre>RidgeCV(alphas=array([6.54036111e-01, 4.94754333e-01, 3.74263509e-01, 2.83116619e-01,\n",
       "       2.14167340e-01, 1.62009739e-01, 1.22554426e-01, 9.27079289e-02,\n",
       "       7.01301483e-02, 5.30508854e-02, 4.01310493e-02, 3.03576671e-02,\n",
       "       2.29644619e-02, 1.73717732e-02, 1.31411094e-02, 9.94076733e-03,\n",
       "       7.51982593e-03, 5.68847255e-03, 4.30312087e-03, 3.25515313e-03,\n",
       "       2.46240397e-03, 1.86271830e-0...\n",
       "       4.01310493e-10, 3.03576671e-10, 2.29644619e-10, 1.73717732e-10,\n",
       "       1.31411094e-10, 9.94076733e-11, 7.51982593e-11, 5.68847255e-11,\n",
       "       4.30312087e-11, 3.25515313e-11, 2.46240397e-11, 1.86271830e-11,\n",
       "       1.40907809e-11, 1.06591590e-11, 8.06326287e-12, 6.09956266e-12,\n",
       "       4.61409546e-12, 3.49039401e-12, 2.64035507e-12, 1.99733178e-12,\n",
       "       1.51090824e-12, 1.14294668e-12, 8.64597247e-13, 6.54036111e-13]),\n",
       "        cv=10, scoring=&#x27;neg_mean_squared_error&#x27;)</pre><b>In a Jupyter environment, please rerun this cell to show the HTML representation or trust the notebook. <br />On GitHub, the HTML representation is unable to render, please try loading this page with nbviewer.org.</b></div><div class=\"sk-container\" hidden><div class=\"sk-item\"><div class=\"sk-estimator sk-toggleable\"><input class=\"sk-toggleable__control sk-hidden--visually\" id=\"sk-estimator-id-10\" type=\"checkbox\" checked><label for=\"sk-estimator-id-10\" class=\"sk-toggleable__label sk-toggleable__label-arrow\">RidgeCV</label><div class=\"sk-toggleable__content\"><pre>RidgeCV(alphas=array([6.54036111e-01, 4.94754333e-01, 3.74263509e-01, 2.83116619e-01,\n",
       "       2.14167340e-01, 1.62009739e-01, 1.22554426e-01, 9.27079289e-02,\n",
       "       7.01301483e-02, 5.30508854e-02, 4.01310493e-02, 3.03576671e-02,\n",
       "       2.29644619e-02, 1.73717732e-02, 1.31411094e-02, 9.94076733e-03,\n",
       "       7.51982593e-03, 5.68847255e-03, 4.30312087e-03, 3.25515313e-03,\n",
       "       2.46240397e-03, 1.86271830e-0...\n",
       "       4.01310493e-10, 3.03576671e-10, 2.29644619e-10, 1.73717732e-10,\n",
       "       1.31411094e-10, 9.94076733e-11, 7.51982593e-11, 5.68847255e-11,\n",
       "       4.30312087e-11, 3.25515313e-11, 2.46240397e-11, 1.86271830e-11,\n",
       "       1.40907809e-11, 1.06591590e-11, 8.06326287e-12, 6.09956266e-12,\n",
       "       4.61409546e-12, 3.49039401e-12, 2.64035507e-12, 1.99733178e-12,\n",
       "       1.51090824e-12, 1.14294668e-12, 8.64597247e-13, 6.54036111e-13]),\n",
       "        cv=10, scoring=&#x27;neg_mean_squared_error&#x27;)</pre></div></div></div></div></div>"
      ],
      "text/plain": [
       "RidgeCV(alphas=array([6.54036111e-01, 4.94754333e-01, 3.74263509e-01, 2.83116619e-01,\n",
       "       2.14167340e-01, 1.62009739e-01, 1.22554426e-01, 9.27079289e-02,\n",
       "       7.01301483e-02, 5.30508854e-02, 4.01310493e-02, 3.03576671e-02,\n",
       "       2.29644619e-02, 1.73717732e-02, 1.31411094e-02, 9.94076733e-03,\n",
       "       7.51982593e-03, 5.68847255e-03, 4.30312087e-03, 3.25515313e-03,\n",
       "       2.46240397e-03, 1.86271830e-0...\n",
       "       4.01310493e-10, 3.03576671e-10, 2.29644619e-10, 1.73717732e-10,\n",
       "       1.31411094e-10, 9.94076733e-11, 7.51982593e-11, 5.68847255e-11,\n",
       "       4.30312087e-11, 3.25515313e-11, 2.46240397e-11, 1.86271830e-11,\n",
       "       1.40907809e-11, 1.06591590e-11, 8.06326287e-12, 6.09956266e-12,\n",
       "       4.61409546e-12, 3.49039401e-12, 2.64035507e-12, 1.99733178e-12,\n",
       "       1.51090824e-12, 1.14294668e-12, 8.64597247e-13, 6.54036111e-13]),\n",
       "        cv=10, scoring='neg_mean_squared_error')"
      ]
     },
     "execution_count": 189,
     "metadata": {},
     "output_type": "execute_result"
    }
   ],
   "source": [
    "ridgecv = RidgeCV(alphas= lambdas_2, scoring='neg_mean_squared_error', cv =10)\n",
    "ridgecv.fit(X_train,y_train)## ridge cross-val"
   ]
  },
  {
   "cell_type": "code",
   "execution_count": 191,
   "id": "76866d8f-7994-4f1c-82d1-c736a1d33b32",
   "metadata": {
    "tags": []
   },
   "outputs": [
    {
     "data": {
      "text/plain": [
       "0.6540361106735454"
      ]
     },
     "execution_count": 191,
     "metadata": {},
     "output_type": "execute_result"
    }
   ],
   "source": [
    "ridgecv.alpha_  ## optimum parametre değeri"
   ]
  },
  {
   "cell_type": "code",
   "execution_count": 192,
   "id": "23f28496-ee7c-4140-88fe-220ec92e7416",
   "metadata": {
    "tags": []
   },
   "outputs": [],
   "source": [
    "# final modeli\n",
    "ridge_tuned = Ridge(ridgecv.alpha_).fit(X_train,y_train)"
   ]
  },
  {
   "cell_type": "code",
   "execution_count": 193,
   "id": "9e55934d-14c5-4c64-af27-295281bf146c",
   "metadata": {
    "tags": []
   },
   "outputs": [
    {
     "data": {
      "text/plain": [
       "356.881947452576"
      ]
     },
     "execution_count": 193,
     "metadata": {},
     "output_type": "execute_result"
    }
   ],
   "source": [
    "y_pred = ridge_tuned.predict(X_test)\n",
    "np.sqrt(mean_squared_error(y_test,y_pred))"
   ]
  },
  {
   "cell_type": "code",
   "execution_count": 210,
   "id": "ed306768-a9fa-402e-b52e-7c733008bbf7",
   "metadata": {
    "tags": []
   },
   "outputs": [],
   "source": [
    "lambdas_1 = np.random.randint(0,1000,100)\n",
    "import numpy as np\n",
    "from sklearn.preprocessing import normalize\n",
    "norm1 = lambdas_1 /np.linalg.norm(lambdas_1)\n",
    "lambdas_1 = normalize(lambdas_1 [:,np.newaxis], axis=0).ravel()"
   ]
  },
  {
   "cell_type": "markdown",
   "id": "5d9f3985-191b-467f-a663-01f50c4af0a4",
   "metadata": {},
   "source": [
    "----------------------"
   ]
  },
  {
   "cell_type": "code",
   "execution_count": 211,
   "id": "3dd40a73-d307-4c22-92f2-353af593cab4",
   "metadata": {
    "tags": []
   },
   "outputs": [
    {
     "data": {
      "text/html": [
       "<style>#sk-container-id-16 {color: black;}#sk-container-id-16 pre{padding: 0;}#sk-container-id-16 div.sk-toggleable {background-color: white;}#sk-container-id-16 label.sk-toggleable__label {cursor: pointer;display: block;width: 100%;margin-bottom: 0;padding: 0.3em;box-sizing: border-box;text-align: center;}#sk-container-id-16 label.sk-toggleable__label-arrow:before {content: \"▸\";float: left;margin-right: 0.25em;color: #696969;}#sk-container-id-16 label.sk-toggleable__label-arrow:hover:before {color: black;}#sk-container-id-16 div.sk-estimator:hover label.sk-toggleable__label-arrow:before {color: black;}#sk-container-id-16 div.sk-toggleable__content {max-height: 0;max-width: 0;overflow: hidden;text-align: left;background-color: #f0f8ff;}#sk-container-id-16 div.sk-toggleable__content pre {margin: 0.2em;color: black;border-radius: 0.25em;background-color: #f0f8ff;}#sk-container-id-16 input.sk-toggleable__control:checked~div.sk-toggleable__content {max-height: 200px;max-width: 100%;overflow: auto;}#sk-container-id-16 input.sk-toggleable__control:checked~label.sk-toggleable__label-arrow:before {content: \"▾\";}#sk-container-id-16 div.sk-estimator input.sk-toggleable__control:checked~label.sk-toggleable__label {background-color: #d4ebff;}#sk-container-id-16 div.sk-label input.sk-toggleable__control:checked~label.sk-toggleable__label {background-color: #d4ebff;}#sk-container-id-16 input.sk-hidden--visually {border: 0;clip: rect(1px 1px 1px 1px);clip: rect(1px, 1px, 1px, 1px);height: 1px;margin: -1px;overflow: hidden;padding: 0;position: absolute;width: 1px;}#sk-container-id-16 div.sk-estimator {font-family: monospace;background-color: #f0f8ff;border: 1px dotted black;border-radius: 0.25em;box-sizing: border-box;margin-bottom: 0.5em;}#sk-container-id-16 div.sk-estimator:hover {background-color: #d4ebff;}#sk-container-id-16 div.sk-parallel-item::after {content: \"\";width: 100%;border-bottom: 1px solid gray;flex-grow: 1;}#sk-container-id-16 div.sk-label:hover label.sk-toggleable__label {background-color: #d4ebff;}#sk-container-id-16 div.sk-serial::before {content: \"\";position: absolute;border-left: 1px solid gray;box-sizing: border-box;top: 0;bottom: 0;left: 50%;z-index: 0;}#sk-container-id-16 div.sk-serial {display: flex;flex-direction: column;align-items: center;background-color: white;padding-right: 0.2em;padding-left: 0.2em;position: relative;}#sk-container-id-16 div.sk-item {position: relative;z-index: 1;}#sk-container-id-16 div.sk-parallel {display: flex;align-items: stretch;justify-content: center;background-color: white;position: relative;}#sk-container-id-16 div.sk-item::before, #sk-container-id-16 div.sk-parallel-item::before {content: \"\";position: absolute;border-left: 1px solid gray;box-sizing: border-box;top: 0;bottom: 0;left: 50%;z-index: -1;}#sk-container-id-16 div.sk-parallel-item {display: flex;flex-direction: column;z-index: 1;position: relative;background-color: white;}#sk-container-id-16 div.sk-parallel-item:first-child::after {align-self: flex-end;width: 50%;}#sk-container-id-16 div.sk-parallel-item:last-child::after {align-self: flex-start;width: 50%;}#sk-container-id-16 div.sk-parallel-item:only-child::after {width: 0;}#sk-container-id-16 div.sk-dashed-wrapped {border: 1px dashed gray;margin: 0 0.4em 0.5em 0.4em;box-sizing: border-box;padding-bottom: 0.4em;background-color: white;}#sk-container-id-16 div.sk-label label {font-family: monospace;font-weight: bold;display: inline-block;line-height: 1.2em;}#sk-container-id-16 div.sk-label-container {text-align: center;}#sk-container-id-16 div.sk-container {/* jupyter's `normalize.less` sets `[hidden] { display: none; }` but bootstrap.min.css set `[hidden] { display: none !important; }` so we also need the `!important` here to be able to override the default hidden behavior on the sphinx rendered scikit-learn.org. See: https://github.com/scikit-learn/scikit-learn/issues/21755 */display: inline-block !important;position: relative;}#sk-container-id-16 div.sk-text-repr-fallback {display: none;}</style><div id=\"sk-container-id-16\" class=\"sk-top-container\"><div class=\"sk-text-repr-fallback\"><pre>RidgeCV(alphas=array([0.0523123 , 0.00499032, 0.0831146 , 0.01256183, 0.03699718,\n",
       "       0.16037848, 0.11701435, 0.12148842, 0.0505915 , 0.06470205,\n",
       "       0.11254027, 0.16209928, 0.10376419, 0.16037848, 0.00154872,\n",
       "       0.1208001 , 0.08173796, 0.00137664, 0.06986445, 0.07244565,\n",
       "       0.12269298, 0.10668955, 0.06040005, 0.01806839, 0.01497095,\n",
       "       0.02890943, 0.0805334 , 0.14265425, 0.09722515, 0.07175733,\n",
       "       0.1...\n",
       "       0.12200466, 0.09602059, 0.01686383, 0.1627876 , 0.11494939,\n",
       "       0.13439442, 0.08603996, 0.15366737, 0.16244344, 0.03080231,\n",
       "       0.15160241, 0.13852434, 0.06194877, 0.04078294, 0.05919549,\n",
       "       0.10496875, 0.07915676, 0.16588504, 0.05833509, 0.15280697,\n",
       "       0.01841255, 0.04474078, 0.0437083 , 0.13164114, 0.03286726,\n",
       "       0.08345876, 0.03200686, 0.14609585, 0.16812208, 0.02976983]),\n",
       "        cv=10, scoring=&#x27;neg_mean_squared_error&#x27;)</pre><b>In a Jupyter environment, please rerun this cell to show the HTML representation or trust the notebook. <br />On GitHub, the HTML representation is unable to render, please try loading this page with nbviewer.org.</b></div><div class=\"sk-container\" hidden><div class=\"sk-item\"><div class=\"sk-estimator sk-toggleable\"><input class=\"sk-toggleable__control sk-hidden--visually\" id=\"sk-estimator-id-16\" type=\"checkbox\" checked><label for=\"sk-estimator-id-16\" class=\"sk-toggleable__label sk-toggleable__label-arrow\">RidgeCV</label><div class=\"sk-toggleable__content\"><pre>RidgeCV(alphas=array([0.0523123 , 0.00499032, 0.0831146 , 0.01256183, 0.03699718,\n",
       "       0.16037848, 0.11701435, 0.12148842, 0.0505915 , 0.06470205,\n",
       "       0.11254027, 0.16209928, 0.10376419, 0.16037848, 0.00154872,\n",
       "       0.1208001 , 0.08173796, 0.00137664, 0.06986445, 0.07244565,\n",
       "       0.12269298, 0.10668955, 0.06040005, 0.01806839, 0.01497095,\n",
       "       0.02890943, 0.0805334 , 0.14265425, 0.09722515, 0.07175733,\n",
       "       0.1...\n",
       "       0.12200466, 0.09602059, 0.01686383, 0.1627876 , 0.11494939,\n",
       "       0.13439442, 0.08603996, 0.15366737, 0.16244344, 0.03080231,\n",
       "       0.15160241, 0.13852434, 0.06194877, 0.04078294, 0.05919549,\n",
       "       0.10496875, 0.07915676, 0.16588504, 0.05833509, 0.15280697,\n",
       "       0.01841255, 0.04474078, 0.0437083 , 0.13164114, 0.03286726,\n",
       "       0.08345876, 0.03200686, 0.14609585, 0.16812208, 0.02976983]),\n",
       "        cv=10, scoring=&#x27;neg_mean_squared_error&#x27;)</pre></div></div></div></div></div>"
      ],
      "text/plain": [
       "RidgeCV(alphas=array([0.0523123 , 0.00499032, 0.0831146 , 0.01256183, 0.03699718,\n",
       "       0.16037848, 0.11701435, 0.12148842, 0.0505915 , 0.06470205,\n",
       "       0.11254027, 0.16209928, 0.10376419, 0.16037848, 0.00154872,\n",
       "       0.1208001 , 0.08173796, 0.00137664, 0.06986445, 0.07244565,\n",
       "       0.12269298, 0.10668955, 0.06040005, 0.01806839, 0.01497095,\n",
       "       0.02890943, 0.0805334 , 0.14265425, 0.09722515, 0.07175733,\n",
       "       0.1...\n",
       "       0.12200466, 0.09602059, 0.01686383, 0.1627876 , 0.11494939,\n",
       "       0.13439442, 0.08603996, 0.15366737, 0.16244344, 0.03080231,\n",
       "       0.15160241, 0.13852434, 0.06194877, 0.04078294, 0.05919549,\n",
       "       0.10496875, 0.07915676, 0.16588504, 0.05833509, 0.15280697,\n",
       "       0.01841255, 0.04474078, 0.0437083 , 0.13164114, 0.03286726,\n",
       "       0.08345876, 0.03200686, 0.14609585, 0.16812208, 0.02976983]),\n",
       "        cv=10, scoring='neg_mean_squared_error')"
      ]
     },
     "execution_count": 211,
     "metadata": {},
     "output_type": "execute_result"
    }
   ],
   "source": [
    "ridgecv = RidgeCV(alphas= lambdas_1, scoring='neg_mean_squared_error', cv =10)\n",
    "ridgecv.fit(X_train,y_train)## ridge cross-val"
   ]
  },
  {
   "cell_type": "code",
   "execution_count": 212,
   "id": "7d5f0f34-a103-4698-8452-eceeaf696235",
   "metadata": {
    "tags": []
   },
   "outputs": [
    {
     "data": {
      "text/plain": [
       "0.1691545606502015"
      ]
     },
     "execution_count": 212,
     "metadata": {},
     "output_type": "execute_result"
    }
   ],
   "source": [
    "ridgecv.alpha_"
   ]
  },
  {
   "cell_type": "code",
   "execution_count": 213,
   "id": "0c4c8eb6-83e4-402f-a83f-f828f7de4356",
   "metadata": {
    "tags": []
   },
   "outputs": [],
   "source": [
    "ridge_tuned = Ridge(ridgecv.alpha_).fit(X_train,y_train)"
   ]
  },
  {
   "cell_type": "code",
   "execution_count": 214,
   "id": "ccae2c4e-389c-4d0f-94f3-340721e3e63e",
   "metadata": {
    "tags": []
   },
   "outputs": [
    {
     "data": {
      "text/plain": [
       "357.0043449096543"
      ]
     },
     "execution_count": 214,
     "metadata": {},
     "output_type": "execute_result"
    }
   ],
   "source": [
    "y_pred = ridge_tuned.predict(X_test)\n",
    "np.sqrt(mean_squared_error(y_test,y_pred))"
   ]
  },
  {
   "cell_type": "code",
   "execution_count": null,
   "id": "15734e6f-325a-42f5-a168-cba4e294111d",
   "metadata": {},
   "outputs": [],
   "source": []
  }
 ],
 "metadata": {
  "kernelspec": {
   "display_name": "Python 3 (ipykernel)",
   "language": "python",
   "name": "python3"
  },
  "language_info": {
   "codemirror_mode": {
    "name": "ipython",
    "version": 3
   },
   "file_extension": ".py",
   "mimetype": "text/x-python",
   "name": "python",
   "nbconvert_exporter": "python",
   "pygments_lexer": "ipython3",
   "version": "3.11.4"
  }
 },
 "nbformat": 4,
 "nbformat_minor": 5
}
