{
 "cells": [
  {
   "cell_type": "markdown",
   "id": "05d3df14-f7a7-4272-9fab-8bd60ecc0dde",
   "metadata": {},
   "source": [
    "# Doğrusal Regresyon Modelleri\n",
    "* Basit Doğrusal Regresyon\n",
    "* Çoklu Doğrusal Regresyon\n",
    "* Ridge Regresyon\n",
    "* Lasso Regresyon\n",
    "* Elastic Net Regresyon = rige + lasso"
   ]
  },
  {
   "cell_type": "markdown",
   "id": "bcea65eb-41d3-476c-9a5d-7d17e1d0d63a",
   "metadata": {},
   "source": [
    "### Her Model için\n",
    "* Model\n",
    "* Tahmin\n",
    "* Model Optimzasyonu"
   ]
  },
  {
   "cell_type": "markdown",
   "id": "8c28a288-a8a2-43f0-8957-41614b4b5c0d",
   "metadata": {},
   "source": [
    "# Basit Doğrusal Regresyon\n",
    "* 1 tane bağımsız değişkenden oluşan + 1 tane bağımlı değişkenden oluşan Model\n",
    "* Temel amaç, bağımlı ve bağımsız değişken arasında ki ilişkiyi ifade eden doğrusal fonksiyonu bulmaktır.\n",
    "* Modellemek, çeşitli kavramlar arasında ki ilişkileri belirli matematiksel formlarda ifade etmek demektir.\n",
    "### $ \\hat{y}= b_0 + b_1 x_i$\n",
    "* $x_i$ : bağımsız değişken değerleri\n",
    "* $b_0$ ve $b_1$ veri seti içerisinden bulmamız gereken kat sayılar\n",
    "* $\\hat{y}$ : tahmin edilen değerler.\n",
    "--------------\n",
    "* Anakitle modeli: $Y = \\beta_0+\\beta_1 X+ \\epsilon  $\n",
    "* $\\beta_0 $: Doğrunun Y eksenini kestiği nokta\n",
    "* $\\beta_1 $: Doğrunun eğimi\n",
    "* $\\epsilon$ : Hata terimi\n",
    "----------------------\n",
    "* örneklem modeli\n",
    "* $ \\hat{y}= b_0 + b_1 x_i+ e_i$\n",
    "---------------\n",
    "* tahmin modeli\n",
    "* $\\hat{y}= b_0 + b_1 x_i$\n",
    "* $e_i= y_i-\\hat{y}_i$ hatalar artıklar \n",
    "--------------------\n",
    "\n",
    "* $e_i= y_i - (b_0+b_1 x_i)$\n",
    "* $SSE = \\Sigma{(y_i- \\hat{y}_i)^2}$\n",
    "* $SSE = \\Sigma{(y_i- (b_0+b_1 x_i))^2}$\n"
   ]
  },
  {
   "cell_type": "code",
   "execution_count": null,
   "id": "d01e0361-dacf-4b9a-aefc-e5e4e9a1b61f",
   "metadata": {},
   "outputs": [],
   "source": []
  },
  {
   "cell_type": "code",
   "execution_count": null,
   "id": "96a02195-ae85-442e-b64d-b3f773453906",
   "metadata": {},
   "outputs": [],
   "source": []
  }
 ],
 "metadata": {
  "kernelspec": {
   "display_name": "Python 3 (ipykernel)",
   "language": "python",
   "name": "python3"
  },
  "language_info": {
   "codemirror_mode": {
    "name": "ipython",
    "version": 3
   },
   "file_extension": ".py",
   "mimetype": "text/x-python",
   "name": "python",
   "nbconvert_exporter": "python",
   "pygments_lexer": "ipython3",
   "version": "3.11.4"
  }
 },
 "nbformat": 4,
 "nbformat_minor": 5
}
