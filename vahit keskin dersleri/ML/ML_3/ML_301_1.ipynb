{
 "cells": [
  {
   "cell_type": "markdown",
   "id": "7aa4bb5a-a5d9-40a1-bf7f-c1139a811162",
   "metadata": {},
   "source": [
    "# Doğrusal Olmayan Regresyon Modelleri\n",
    "* K-En Yakın Komşu KNN\n",
    "* Destek Vektör Regresyonu (Support Vector Regression)\n",
    "* Yapay Sinir Ağları\n",
    "* CART (Ağaca Dayalı, Tekli ağaç yapısı söz konusu olduğunda, Classification and Regression Trees)\n",
    "* Random Forests\n",
    "* Gradient Boosting Machines (çok ileri ağaca dayalı)\n",
    "* XGBoost (GBM türevi)\n",
    "* LightGBM ( XGBoostun halefi daha hafif)\n",
    "* CatBoost(ileri derece ağaca dayalı, Kategorik değişkenele daha performanslı çalışma imkanı sunabilmektedir.)"
   ]
  },
  {
   "cell_type": "markdown",
   "id": "b0a1fc4e-df6e-482a-a574-6bb0ff429f24",
   "metadata": {},
   "source": [
    "# K-NN\n",
    "* Gözlemlerin birbirine olan bezerlikleri üzerinden tahmin yapılır.\n",
    "*  Sınıflandırma ya da regresyon problemleirnde kullanılabilen algoritmadır.\n",
    "* Parametrik olmayan bir öğrenme türüdür.\n",
    "* Anlaşılması kolaydır.\n",
    "* Büyük veri setlerinde performans açısından çok iyi değildir!\n",
    "----------------\n",
    "* $\\sqrt{\\Sigma{(x_i-y_i)^2}}$   ****  öklid ya da benzeri bir uzaklık hesabı ile her biz gözleme uzaklanık hesaplanır (tahmin için)\n",
    "------------\n",
    "* hesaplama basamakları:\n",
    "- Komşu sayısını berlile (K)\n",
    "- Bilinmeyen nokta ile diğer tüm noktalar ie arasındaki uzaklıkları hesapla.\n",
    "- Uzaklıkları sırala ve belirnen k sayısına göre en yakın olan k gözlemi seç\n",
    "- Sınıflandırma ise en sık sınıf, regresyon ise ortalama değeri tahmin değeri olarak ver."
   ]
  },
  {
   "cell_type": "markdown",
   "id": "323a699b-5245-422e-8e1d-1da47d146f88",
   "metadata": {},
   "source": [
    "## Doğrusal Olmayan Regresyon Modelleri\n",
    "* gerekli kütphaneler :"
   ]
  },
  {
   "cell_type": "code",
   "execution_count": 8,
   "id": "6b0d862f-4f23-4ee5-b522-9d6ec1f5e7d8",
   "metadata": {
    "tags": []
   },
   "outputs": [],
   "source": [
    "import pandas as pd\n",
    "import numpy as np\n",
    "from sklearn.model_selection import train_test_split, GridSearchCV\n",
    "from sklearn.metrics import mean_squared_error, r2_score\n",
    "import matplotlib.pyplot as plt\n",
    "from sklearn.preprocessing import scale, StandardScaler ## standartlaStırma\n",
    "from sklearn import model_selection\n",
    "from sklearn.linear_model import LinearRegression\n",
    "from sklearn.tree import DecisionTreeRegressor\n",
    "from sklearn.neighbors import KNeighborsRegressor\n",
    "from sklearn.neural_network import MLPRegressor\n",
    "from sklearn.ensemble import RandomForestRegressor\n",
    "from sklearn.ensemble import GradientBoostingRegressor\n",
    "from sklearn import neighbors\n",
    "from sklearn.svm import SVR"
   ]
  },
  {
   "cell_type": "markdown",
   "id": "93fd1e02-e3ec-4a05-9021-91ed69e954fc",
   "metadata": {},
   "source": [
    "### KNN model & tahmin"
   ]
  },
  {
   "cell_type": "code",
   "execution_count": 18,
   "id": "6cd18085-7041-47ad-bade-d65846b453df",
   "metadata": {
    "tags": []
   },
   "outputs": [],
   "source": [
    "df = pd.read_csv('Hitters.csv')\n",
    "df = df.dropna()\n",
    "y= df['Salary']\n",
    "dms = pd.get_dummies(df[['League', 'Division', 'NewLeague']]) ## one hot encoding\n",
    "X_= df.drop(['Salary', 'League', 'Division','NewLeague'], axis =1).astype('float64')\n",
    "X= pd.concat([X_,dms[['League_N', 'Division_W', 'NewLeague_N']]], axis=1)\n",
    "\n",
    "X_train, X_test, y_train, y_test = train_test_split(X,y, test_size=0.25, random_state=42)"
   ]
  },
  {
   "cell_type": "code",
   "execution_count": 20,
   "id": "de1a07f9-c3be-498a-a142-229af741d4fa",
   "metadata": {
    "tags": []
   },
   "outputs": [],
   "source": [
    "## Model"
   ]
  },
  {
   "cell_type": "code",
   "execution_count": 22,
   "id": "e956ea37-877b-4f14-a3e6-22a7020271ac",
   "metadata": {
    "tags": []
   },
   "outputs": [],
   "source": [
    "knn_model = KNeighborsRegressor().fit(X_train,y_train)"
   ]
  },
  {
   "cell_type": "code",
   "execution_count": 41,
   "id": "f7d1095e-bc90-4426-9189-ba7995a5cf47",
   "metadata": {
    "tags": []
   },
   "outputs": [
    {
     "data": {
      "text/plain": [
       "2"
      ]
     },
     "execution_count": 41,
     "metadata": {},
     "output_type": "execute_result"
    }
   ],
   "source": [
    "knn_model.p"
   ]
  },
  {
   "cell_type": "code",
   "execution_count": 35,
   "id": "c0314535-5ab7-48cd-a7cd-dc5245860d48",
   "metadata": {
    "collapsed": true,
    "jupyter": {
     "outputs_hidden": true
    },
    "tags": []
   },
   "outputs": [
    {
     "data": {
      "text/plain": [
       "\u001b[1;31mType:\u001b[0m        KNeighborsRegressor\n",
       "\u001b[1;31mString form:\u001b[0m KNeighborsRegressor()\n",
       "\u001b[1;31mFile:\u001b[0m        c:\\users\\ycanf\\anaconda3\\lib\\site-packages\\sklearn\\neighbors\\_regression.py\n",
       "\u001b[1;31mDocstring:\u001b[0m  \n",
       "Regression based on k-nearest neighbors.\n",
       "\n",
       "The target is predicted by local interpolation of the targets\n",
       "associated of the nearest neighbors in the training set.\n",
       "\n",
       "Read more in the :ref:`User Guide <regression>`.\n",
       "\n",
       ".. versionadded:: 0.9\n",
       "\n",
       "Parameters\n",
       "----------\n",
       "n_neighbors : int, default=5\n",
       "    Number of neighbors to use by default for :meth:`kneighbors` queries.\n",
       "\n",
       "weights : {'uniform', 'distance'}, callable or None, default='uniform'\n",
       "    Weight function used in prediction.  Possible values:\n",
       "\n",
       "    - 'uniform' : uniform weights.  All points in each neighborhood\n",
       "      are weighted equally.\n",
       "    - 'distance' : weight points by the inverse of their distance.\n",
       "      in this case, closer neighbors of a query point will have a\n",
       "      greater influence than neighbors which are further away.\n",
       "    - [callable] : a user-defined function which accepts an\n",
       "      array of distances, and returns an array of the same shape\n",
       "      containing the weights.\n",
       "\n",
       "    Uniform weights are used by default.\n",
       "\n",
       "algorithm : {'auto', 'ball_tree', 'kd_tree', 'brute'}, default='auto'\n",
       "    Algorithm used to compute the nearest neighbors:\n",
       "\n",
       "    - 'ball_tree' will use :class:`BallTree`\n",
       "    - 'kd_tree' will use :class:`KDTree`\n",
       "    - 'brute' will use a brute-force search.\n",
       "    - 'auto' will attempt to decide the most appropriate algorithm\n",
       "      based on the values passed to :meth:`fit` method.\n",
       "\n",
       "    Note: fitting on sparse input will override the setting of\n",
       "    this parameter, using brute force.\n",
       "\n",
       "leaf_size : int, default=30\n",
       "    Leaf size passed to BallTree or KDTree.  This can affect the\n",
       "    speed of the construction and query, as well as the memory\n",
       "    required to store the tree.  The optimal value depends on the\n",
       "    nature of the problem.\n",
       "\n",
       "p : int, default=2\n",
       "    Power parameter for the Minkowski metric. When p = 1, this is\n",
       "    equivalent to using manhattan_distance (l1), and euclidean_distance\n",
       "    (l2) for p = 2. For arbitrary p, minkowski_distance (l_p) is used.\n",
       "\n",
       "metric : str or callable, default='minkowski'\n",
       "    Metric to use for distance computation. Default is \"minkowski\", which\n",
       "    results in the standard Euclidean distance when p = 2. See the\n",
       "    documentation of `scipy.spatial.distance\n",
       "    <https://docs.scipy.org/doc/scipy/reference/spatial.distance.html>`_ and\n",
       "    the metrics listed in\n",
       "    :class:`~sklearn.metrics.pairwise.distance_metrics` for valid metric\n",
       "    values.\n",
       "\n",
       "    If metric is \"precomputed\", X is assumed to be a distance matrix and\n",
       "    must be square during fit. X may be a :term:`sparse graph`, in which\n",
       "    case only \"nonzero\" elements may be considered neighbors.\n",
       "\n",
       "    If metric is a callable function, it takes two arrays representing 1D\n",
       "    vectors as inputs and must return one value indicating the distance\n",
       "    between those vectors. This works for Scipy's metrics, but is less\n",
       "    efficient than passing the metric name as a string.\n",
       "\n",
       "metric_params : dict, default=None\n",
       "    Additional keyword arguments for the metric function.\n",
       "\n",
       "n_jobs : int, default=None\n",
       "    The number of parallel jobs to run for neighbors search.\n",
       "    ``None`` means 1 unless in a :obj:`joblib.parallel_backend` context.\n",
       "    ``-1`` means using all processors. See :term:`Glossary <n_jobs>`\n",
       "    for more details.\n",
       "    Doesn't affect :meth:`fit` method.\n",
       "\n",
       "Attributes\n",
       "----------\n",
       "effective_metric_ : str or callable\n",
       "    The distance metric to use. It will be same as the `metric` parameter\n",
       "    or a synonym of it, e.g. 'euclidean' if the `metric` parameter set to\n",
       "    'minkowski' and `p` parameter set to 2.\n",
       "\n",
       "effective_metric_params_ : dict\n",
       "    Additional keyword arguments for the metric function. For most metrics\n",
       "    will be same with `metric_params` parameter, but may also contain the\n",
       "    `p` parameter value if the `effective_metric_` attribute is set to\n",
       "    'minkowski'.\n",
       "\n",
       "n_features_in_ : int\n",
       "    Number of features seen during :term:`fit`.\n",
       "\n",
       "    .. versionadded:: 0.24\n",
       "\n",
       "feature_names_in_ : ndarray of shape (`n_features_in_`,)\n",
       "    Names of features seen during :term:`fit`. Defined only when `X`\n",
       "    has feature names that are all strings.\n",
       "\n",
       "    .. versionadded:: 1.0\n",
       "\n",
       "n_samples_fit_ : int\n",
       "    Number of samples in the fitted data.\n",
       "\n",
       "See Also\n",
       "--------\n",
       "NearestNeighbors : Unsupervised learner for implementing neighbor searches.\n",
       "RadiusNeighborsRegressor : Regression based on neighbors within a fixed radius.\n",
       "KNeighborsClassifier : Classifier implementing the k-nearest neighbors vote.\n",
       "RadiusNeighborsClassifier : Classifier implementing\n",
       "    a vote among neighbors within a given radius.\n",
       "\n",
       "Notes\n",
       "-----\n",
       "See :ref:`Nearest Neighbors <neighbors>` in the online documentation\n",
       "for a discussion of the choice of ``algorithm`` and ``leaf_size``.\n",
       "\n",
       ".. warning::\n",
       "\n",
       "   Regarding the Nearest Neighbors algorithms, if it is found that two\n",
       "   neighbors, neighbor `k+1` and `k`, have identical distances but\n",
       "   different labels, the results will depend on the ordering of the\n",
       "   training data.\n",
       "\n",
       "https://en.wikipedia.org/wiki/K-nearest_neighbors_algorithm\n",
       "\n",
       "Examples\n",
       "--------\n",
       ">>> X = [[0], [1], [2], [3]]\n",
       ">>> y = [0, 0, 1, 1]\n",
       ">>> from sklearn.neighbors import KNeighborsRegressor\n",
       ">>> neigh = KNeighborsRegressor(n_neighbors=2)\n",
       ">>> neigh.fit(X, y)\n",
       "KNeighborsRegressor(...)\n",
       ">>> print(neigh.predict([[1.5]]))\n",
       "[0.5]"
      ]
     },
     "metadata": {},
     "output_type": "display_data"
    }
   ],
   "source": [
    "?knn_model"
   ]
  },
  {
   "cell_type": "code",
   "execution_count": 42,
   "id": "42305877-9f00-4e07-82e3-453e85626fbd",
   "metadata": {
    "collapsed": true,
    "jupyter": {
     "outputs_hidden": true
    },
    "tags": []
   },
   "outputs": [
    {
     "data": {
      "text/plain": [
       "['__abstractmethods__',\n",
       " '__annotations__',\n",
       " '__class__',\n",
       " '__delattr__',\n",
       " '__dict__',\n",
       " '__dir__',\n",
       " '__doc__',\n",
       " '__eq__',\n",
       " '__format__',\n",
       " '__ge__',\n",
       " '__getattribute__',\n",
       " '__getstate__',\n",
       " '__gt__',\n",
       " '__hash__',\n",
       " '__init__',\n",
       " '__init_subclass__',\n",
       " '__le__',\n",
       " '__lt__',\n",
       " '__module__',\n",
       " '__ne__',\n",
       " '__new__',\n",
       " '__reduce__',\n",
       " '__reduce_ex__',\n",
       " '__repr__',\n",
       " '__setattr__',\n",
       " '__setstate__',\n",
       " '__sizeof__',\n",
       " '__sklearn_clone__',\n",
       " '__str__',\n",
       " '__subclasshook__',\n",
       " '__weakref__',\n",
       " '_abc_impl',\n",
       " '_build_request_for_signature',\n",
       " '_check_algorithm_metric',\n",
       " '_check_feature_names',\n",
       " '_check_n_features',\n",
       " '_estimator_type',\n",
       " '_fit',\n",
       " '_fit_X',\n",
       " '_fit_method',\n",
       " '_get_default_requests',\n",
       " '_get_metadata_request',\n",
       " '_get_param_names',\n",
       " '_get_tags',\n",
       " '_kneighbors_reduce_func',\n",
       " '_more_tags',\n",
       " '_parameter_constraints',\n",
       " '_repr_html_',\n",
       " '_repr_html_inner',\n",
       " '_repr_mimebundle_',\n",
       " '_tree',\n",
       " '_validate_data',\n",
       " '_validate_params',\n",
       " '_y',\n",
       " 'algorithm',\n",
       " 'effective_metric_',\n",
       " 'effective_metric_params_',\n",
       " 'feature_names_in_',\n",
       " 'fit',\n",
       " 'get_metadata_routing',\n",
       " 'get_params',\n",
       " 'kneighbors',\n",
       " 'kneighbors_graph',\n",
       " 'leaf_size',\n",
       " 'metric',\n",
       " 'metric_params',\n",
       " 'n_features_in_',\n",
       " 'n_jobs',\n",
       " 'n_neighbors',\n",
       " 'n_samples_fit_',\n",
       " 'p',\n",
       " 'predict',\n",
       " 'radius',\n",
       " 'score',\n",
       " 'set_params',\n",
       " 'set_score_request',\n",
       " 'weights']"
      ]
     },
     "execution_count": 42,
     "metadata": {},
     "output_type": "execute_result"
    }
   ],
   "source": [
    "dir(knn_model)"
   ]
  },
  {
   "cell_type": "code",
   "execution_count": 43,
   "id": "619d5b79-698b-4b0c-9556-e078199eebdc",
   "metadata": {
    "tags": []
   },
   "outputs": [
    {
     "data": {
      "text/plain": [
       "array([ 510.3334,  808.3334,  772.5   ,  125.5   , 1005.    ])"
      ]
     },
     "execution_count": 43,
     "metadata": {},
     "output_type": "execute_result"
    }
   ],
   "source": [
    "knn_model.predict(X_test)[0:5]"
   ]
  },
  {
   "cell_type": "code",
   "execution_count": 44,
   "id": "fd426fe5-4c9c-4711-8f8e-beafd0b623e4",
   "metadata": {
    "tags": []
   },
   "outputs": [],
   "source": [
    "y_pred = knn_model.predict(X_test)"
   ]
  },
  {
   "cell_type": "code",
   "execution_count": 46,
   "id": "fceae5a4-da16-4c04-8b37-2407a4438d13",
   "metadata": {
    "tags": []
   },
   "outputs": [
    {
     "data": {
      "text/plain": [
       "426.6570764525201"
      ]
     },
     "execution_count": 46,
     "metadata": {},
     "output_type": "execute_result"
    }
   ],
   "source": [
    "np.sqrt(mean_squared_error(y_test,y_pred))"
   ]
  },
  {
   "cell_type": "markdown",
   "id": "325fad42-daed-49ed-ba06-0dbbce56503e",
   "metadata": {},
   "source": [
    "## knn_tuning"
   ]
  },
  {
   "cell_type": "code",
   "execution_count": 56,
   "id": "ba999533-13a5-456a-bdca-ce8b3b30a2e1",
   "metadata": {
    "tags": []
   },
   "outputs": [
    {
     "name": "stdout",
     "output_type": "stream",
     "text": [
      "k=  1\n",
      "k=  2\n",
      "k=  3\n",
      "k=  4\n",
      "k=  5\n",
      "k=  6\n",
      "k=  7\n",
      "k=  8\n",
      "k=  9\n",
      "k=  10\n"
     ]
    }
   ],
   "source": [
    "RMSE =[]\n",
    "\n",
    "for i in range(10):\n",
    "    i=i+1\n",
    "    knn_model=KNeighborsRegressor(n_neighbors= i ).fit(X_train,y_train)\n",
    "    y_pred = knn_model.predict(X_test)\n",
    "    RMSE.append(np.sqrt(mean_squared_error(y_test,y_pred)))\n",
    "    print('k= ', i)"
   ]
  },
  {
   "cell_type": "code",
   "execution_count": 57,
   "id": "147b7329-f1a5-4c13-9db9-71c49f31d6bd",
   "metadata": {
    "tags": []
   },
   "outputs": [
    {
     "data": {
      "text/plain": [
       "[455.03925390751965,\n",
       " 415.99629571490965,\n",
       " 420.6765370082348,\n",
       " 428.8564674588792,\n",
       " 426.6570764525201,\n",
       " 423.5071669008732,\n",
       " 414.9361222421057,\n",
       " 413.7094731463598,\n",
       " 417.84419990871265,\n",
       " 421.6252180741266]"
      ]
     },
     "execution_count": 57,
     "metadata": {},
     "output_type": "execute_result"
    }
   ],
   "source": [
    "RMSE # el yordamı ile bakmaya çalıştık otamatikleştirme için gridsearchcv kullanacağız"
   ]
  },
  {
   "cell_type": "code",
   "execution_count": 58,
   "id": "4c84a1b0-1909-4690-9b86-254709e73eb4",
   "metadata": {
    "tags": []
   },
   "outputs": [],
   "source": [
    "###GridSearchCV"
   ]
  },
  {
   "cell_type": "code",
   "execution_count": 60,
   "id": "aabf691e-8be7-4cec-829a-5d6d8579bffe",
   "metadata": {
    "tags": []
   },
   "outputs": [],
   "source": [
    "knn_params = {'n_neighbors' : np.arange(1,30,1)}"
   ]
  },
  {
   "cell_type": "code",
   "execution_count": 61,
   "id": "2f6345fe-3f4c-42bb-8bc0-c160c0d92eb4",
   "metadata": {
    "tags": []
   },
   "outputs": [],
   "source": [
    "knn_model=KNeighborsRegressor()"
   ]
  },
  {
   "cell_type": "code",
   "execution_count": 63,
   "id": "52f72c35-eba6-4637-8e84-026e496c36d1",
   "metadata": {
    "tags": []
   },
   "outputs": [],
   "source": [
    "knn_cv_model = GridSearchCV(knn_model, knn_params, cv= 10).fit(X_train,y_train)"
   ]
  },
  {
   "cell_type": "code",
   "execution_count": 65,
   "id": "a4c7f726-bc24-43f6-85b9-f5c172b9aa14",
   "metadata": {
    "tags": []
   },
   "outputs": [
    {
     "data": {
      "text/plain": [
       "{'n_neighbors': 8}"
      ]
     },
     "execution_count": 65,
     "metadata": {},
     "output_type": "execute_result"
    }
   ],
   "source": [
    "knn_cv_model.best_params_ ## En iyi K değeri "
   ]
  },
  {
   "cell_type": "markdown",
   "id": "ed11e510-1272-4f2c-b133-7a2b068e11e4",
   "metadata": {
    "tags": []
   },
   "source": [
    "## Final Model\n"
   ]
  },
  {
   "cell_type": "code",
   "execution_count": 67,
   "id": "4597062f-95fd-4cee-a213-8b2ebd4ca21f",
   "metadata": {
    "tags": []
   },
   "outputs": [],
   "source": [
    "knn_tuned = KNeighborsRegressor(n_neighbors= knn_cv_model.best_params_['n_neighbors']).fit(X_train,y_train)"
   ]
  },
  {
   "cell_type": "code",
   "execution_count": 68,
   "id": "6664a29a-de76-4145-9403-38ab4b04f846",
   "metadata": {
    "tags": []
   },
   "outputs": [],
   "source": [
    "y_pred= knn_tuned.predict(X_test)"
   ]
  },
  {
   "cell_type": "code",
   "execution_count": 69,
   "id": "709e76d8-2d22-416e-bee4-fd8287c04c20",
   "metadata": {
    "tags": []
   },
   "outputs": [],
   "source": [
    "rmse = np.sqrt(mean_squared_error(y_test,y_pred))"
   ]
  },
  {
   "cell_type": "code",
   "execution_count": 70,
   "id": "1730c3ed-16b2-4cc8-8c08-74f1bd7c18f3",
   "metadata": {
    "tags": []
   },
   "outputs": [
    {
     "data": {
      "text/plain": [
       "413.7094731463598"
      ]
     },
     "execution_count": 70,
     "metadata": {},
     "output_type": "execute_result"
    }
   ],
   "source": [
    "rmse"
   ]
  },
  {
   "cell_type": "code",
   "execution_count": null,
   "id": "31cbb5be-de7b-4b9d-b6eb-82753d27b849",
   "metadata": {},
   "outputs": [],
   "source": []
  }
 ],
 "metadata": {
  "kernelspec": {
   "display_name": "Python 3 (ipykernel)",
   "language": "python",
   "name": "python3"
  },
  "language_info": {
   "codemirror_mode": {
    "name": "ipython",
    "version": 3
   },
   "file_extension": ".py",
   "mimetype": "text/x-python",
   "name": "python",
   "nbconvert_exporter": "python",
   "pygments_lexer": "ipython3",
   "version": "3.11.4"
  }
 },
 "nbformat": 4,
 "nbformat_minor": 5
}
