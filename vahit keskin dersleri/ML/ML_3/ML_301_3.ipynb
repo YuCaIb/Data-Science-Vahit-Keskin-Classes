{
 "cells": [
  {
   "cell_type": "markdown",
   "id": "1cb1d1a8-782f-4c0a-bc8e-50edf58fed87",
   "metadata": {
    "tags": []
   },
   "source": [
    "# Yapay Sinir Ağları (ANN)\n",
    "* İnsan beyninin bilgi işleme şelşini referans alan sınıflandırma ve regresyon problemleri için kullanılabilen kuvvetli makine öğrenmesi algoritmalarından birisidir.\n",
    "* Amaç en küçük hata ile tahmin yapabilecek katsayılara erişmektir.\n",
    "* Görüntü işleme ses işleme gibi problemlerde sık yer bulur, yapay zekaya açılan kapıdır.\n",
    "--------\n",
    "##### Bir insan sinir hücresi: Dendirit, Soma, Akson, Snapsis ten oluşur\n",
    "* Dentirit : gelen sinyalleri somaya iletmek (ağırlıklarla alıyor)\n",
    "* Soma: Dendiritlerden gelen bilgiyi toplamak\n",
    "* Akson: toplanan bilgiyi hücrelere iletilmesi için aktarım yapar.\n",
    "* Sinapsis: bilgileri dönüşüme uğratmaktır ve daha sonra bilgileri hücrelere iletmektir.(değiştirilmiş ağırlıklarla gönderiyor)\n",
    "--------\n",
    "#### Yapay sinir ağı: Girdiler(Ağırlıklar), Toplama Fonksiyonu, Aktivasyon Fonksiyonu, Çıktı bölümlerinden oluşur.\n",
    "-  Bir katmanda ki bütün hücreler diğer katnmanda ki bütün hücrelerle bağlantılıdır.\n",
    "-  çok katmanlı ağlar içerisinde en sık kullanılan yöntemlerden birisi , Geriye yayınımlı(back propogation) ağlardır. Bu ağda  öğrenme kuralı olarak 'Delta Öğrenme kuramı' kullanılır.\n",
    "- Delta Öğrenme kuralı : Kabul edilebilir hata miktarı elde edileyinceye kadar A çıktısı ile gerçek çıktı arasında ki farklar minimize edilmeye çalışılır\n",
    "---------------\n",
    "* Örnek veri seti toplanır\n",
    "* Ağın topolojik yapısına karar verilir.\n",
    "* Ağda bulunan ağırlıklara başlangıç değeri atılır. (bazen rastgele bazen bazı yöntemler ile)\n",
    "* Örnek veri seti ağa sunuçlur.\n",
    "* İleri hesaplama işlemleri yapılır.\n",
    "* Gerçek çıktılar ile tahmin çıktıları karşılaştırırlır. Öğrenmenin tamamlanması basamakları gerçekleşir.\n",
    "-----------\n",
    "### $h_{k}(x)=g(\\beta_{0k}+\\sum_{j=1}^{p}x_{j}\\beta_{jk})$  : Matematiksel formül  bilgiyi burada işliyoruz\n",
    "\n",
    "### $g_{}{u} = \\frac{1}{1+\\epsilon^-u}$   # dönüştürme işlemi,  aktivasyon fonksiyonu (burada) sigmiod fonksiyonu\n",
    "\n",
    "### $f{x}= Y_0 + \\sum_{k=1}^{H}Y_k h_k$  # \n",
    "\n",
    "### $\\sum_{i=1}^{n}(y_{i}-f_{i}(x))^{2}+\\lambda\\sum_{k=1}^{H}\\sum_{j=0}^{P}\\beta_{jk}^{2}+\\lambda\\sum_{k=0}^{H}\\gamma_{k}^{2}$ : sinir ağı modelinin maliyet fonksiyonunu temsil eder\n",
    "* Bu ifade, bir sinir ağı modelinin maliyet fonksiyonunu temsil eder. İlk toplam, her bir örnek için tahmin hatasının karelerini toplar. İkinci toplam, ağırlık katsayılarının karelerini toplar. Üçüncü toplam ise bias katsayılarının karelerini toplar.\n",
    "--------\n",
    "## barda yukarıdaki fonksiyonları sordum\n",
    "Tabii ki. Yukarıdaki ifadeleri terse doğru giderek düşündüğümüzde, sinir ağlarının nasıl öğrendiğini daha iyi anlayabiliriz.\n",
    "\n",
    "İlk ifade, bir sinir ağı modelinin maliyet fonksiyonunu temsil eder. Bu ifade, modelin çıktısının, hedef çıktıdan ne kadar uzak olduğunu ölçer.\n",
    "\n",
    "Bu ifadeyi terse doğru düşündüğümüzde, modelin çıktısını, hedef çıktıya yaklaştırmak için ağırlık katsayılarını ve bias katsayılarını nasıl güncellediğini anlayabiliriz.\n",
    "\n",
    "İkinci ifade, bir tek parametreli bir regresyon modelinin çıktısını temsil eder. Bu ifade, modelin çıktısının, girdilerden gelen lineer bir kombinasyona ve bir sabit katsayıya ek olarak, ağırlık katsayılarının bir fonksiyonu olduğunu gösterir.\n",
    "\n",
    "Bu ifadeyi terse doğru düşündüğümüzde, modelin çıktısını, girdilerden gelen bilgiyi kullanarak nasıl tahmin ettiğini anlayabiliriz.\n",
    "\n",
    "Üçüncü ifade, bir sigmoid fonksiyonunu temsil eder. Bu ifade, sigmoid fonksiyonunun çıktısının, girdinin değerine bağlı olarak nasıl değiştiğini gösterir.\n",
    "\n",
    "Bu ifadeyi terse doğru düşündüğümüzde, sigmoid fonksiyonunun nasıl bir aktivasyon fonksiyonu olarak kullanılabileceğini anlayabiliriz.\n",
    "\n",
    "Dördüncü ifade, bir nöronun çıktısını temsil eder. Bu ifade, nöronun çıktısının, girdilerden gelen bilgiyi ve aktivasyon fonksiyonunu kullanarak nasıl hesaplandığını gösterir.\n",
    "\n",
    "Bu ifadeyi terse doğru düşündüğümüzde, sinir ağlarının nasıl bilgi işlediğini anlayabiliriz.\n",
    "\n",
    "Bu açıklamalardan da anlaşılacağı gibi, sinir ağları, ters doğru düşünmeyi kullanarak öğrenirler. Modelin çıktısını hedef çıktıya yaklaştırmak için, ağırlık katsayılarını ve bias katsayılarını, modelin çıktısını ters yönde hesaplayarak güncellerler.\n",
    "\n",
    "Bu süreç, geri yayılım (backpropagation) algoritması olarak bilinir. Geri yayılım algoritması, sinir ağlarının öğrenmesinde kullanılan en yaygın algoritmadır."
   ]
  },
  {
   "cell_type": "markdown",
   "id": "128fe813-5e98-4244-a98a-bccb23757b69",
   "metadata": {},
   "source": [
    "Gerekli küt"
   ]
  },
  {
   "cell_type": "code",
   "execution_count": 1,
   "id": "186e60f0-1065-4e9f-afec-1024506568db",
   "metadata": {
    "tags": []
   },
   "outputs": [],
   "source": [
    "import pandas as pd\n",
    "import numpy as np\n",
    "from sklearn.model_selection import train_test_split, GridSearchCV\n",
    "from sklearn.metrics import mean_squared_error, r2_score\n",
    "import matplotlib.pyplot as plt\n",
    "from sklearn.preprocessing import scale, StandardScaler ## standartlaStırma\n",
    "from sklearn import model_selection\n",
    "from sklearn.linear_model import LinearRegression\n",
    "from sklearn.tree import DecisionTreeRegressor\n",
    "from sklearn.neighbors import KNeighborsRegressor\n",
    "from sklearn.neural_network import MLPRegressor\n",
    "from sklearn.ensemble import RandomForestRegressor\n",
    "from sklearn.ensemble import GradientBoostingRegressor\n",
    "from sklearn import neighbors\n",
    "from sklearn.svm import SVR"
   ]
  },
  {
   "cell_type": "markdown",
   "id": "38e9e228-1b6b-46a3-a309-34553b2248b8",
   "metadata": {},
   "source": [
    "ANN Model ve Tahmin"
   ]
  },
  {
   "cell_type": "code",
   "execution_count": 2,
   "id": "1b7c9959-b5f5-41a4-abb7-074f74850d82",
   "metadata": {
    "tags": []
   },
   "outputs": [],
   "source": [
    "df = pd.read_csv('Hitters.csv')\n",
    "df = df.dropna()\n",
    "y= df['Salary']\n",
    "dms = pd.get_dummies(df[['League', 'Division', 'NewLeague']]) ## one hot encoding\n",
    "X_= df.drop(['Salary', 'League', 'Division','NewLeague'], axis =1).astype('float64')\n",
    "X= pd.concat([X_,dms[['League_N', 'Division_W', 'NewLeague_N']]], axis=1)\n",
    "\n",
    "X_train, X_test, y_train, y_test = train_test_split(X,y, test_size=0.25, random_state=42)"
   ]
  },
  {
   "cell_type": "markdown",
   "id": "124aefb1-5b22-4eab-99ca-d1f057e56e28",
   "metadata": {},
   "source": [
    "* Değişkenklere standartlaştırma işlemi gerçekleştireceğiz. Hemen hemen bütün makine öğrenme algoritmaları standartlaştırma işlemini sever hatta ihtiyaç duyabilir.\n",
    "* Bazı algoritmalar heterojen veri setlerinde iyi çalışırken bazıları homojen veri setlerinde daha iyi çalışır. Yapay sinir apğları Homojen veri setlerinde daha iyi çalışan bir algoritmadır.  \n",
    "* Çünkü Hataların optimizasyonu noktasında yapılan türevleme işlemlerind eortaya çıkmış olan ayrılıkların, Yani gerçek değerler ile tahmin verileri arasında ciddi farklılıklar oluşturan değerlerin, ortaya çıkarabildiği problemler söz konusudur. Yani Standartlaştırma işlemlerinden sonra Yapay Sinir ağlarını kullanmak daha doğru olur."
   ]
  },
  {
   "cell_type": "code",
   "execution_count": 39,
   "id": "a338ebdb-e1bf-4c1a-a09e-68e23c1819f9",
   "metadata": {
    "tags": []
   },
   "outputs": [],
   "source": [
    "scaler = StandardScaler()"
   ]
  },
  {
   "cell_type": "code",
   "execution_count": 40,
   "id": "5fd4e3ab-40e0-4aa7-aa47-aaf14ae3cff9",
   "metadata": {
    "tags": []
   },
   "outputs": [],
   "source": [
    "scaler.fit(X_train)\n",
    "X_train_scaled = scaler.transform(X_train)"
   ]
  },
  {
   "cell_type": "code",
   "execution_count": 41,
   "id": "fb223500-452b-40e4-9df6-a7f12a0184b1",
   "metadata": {
    "tags": []
   },
   "outputs": [],
   "source": [
    "scaler.fit(X_test)\n",
    "X_test_scaled = scaler.transform(X_test)"
   ]
  },
  {
   "cell_type": "code",
   "execution_count": 42,
   "id": "d46378ea-7f6c-402b-bb72-3d60b58a23b2",
   "metadata": {
    "tags": []
   },
   "outputs": [
    {
     "name": "stderr",
     "output_type": "stream",
     "text": [
      "C:\\Users\\ycanf\\anaconda3\\Lib\\site-packages\\sklearn\\neural_network\\_multilayer_perceptron.py:691: ConvergenceWarning: Stochastic Optimizer: Maximum iterations (200) reached and the optimization hasn't converged yet.\n",
      "  warnings.warn(\n"
     ]
    }
   ],
   "source": [
    "mlp_model = MLPRegressor().fit(X_train_scaled,y_train)"
   ]
  },
  {
   "cell_type": "code",
   "execution_count": 43,
   "id": "c08e0c1b-135f-48f7-9781-76416aa29899",
   "metadata": {
    "tags": []
   },
   "outputs": [],
   "source": [
    "y_pred = mlp_model.predict(X_test_scaled)"
   ]
  },
  {
   "cell_type": "code",
   "execution_count": 44,
   "id": "c4d94777-f3a0-44c5-8d61-ab5e74bf2c4c",
   "metadata": {
    "tags": []
   },
   "outputs": [
    {
     "data": {
      "text/plain": [
       "658.863800279049"
      ]
     },
     "execution_count": 44,
     "metadata": {},
     "output_type": "execute_result"
    }
   ],
   "source": [
    "np.sqrt(mean_squared_error(y_test,y_pred))"
   ]
  },
  {
   "cell_type": "markdown",
   "id": "3ce88880-99dc-4a08-ad83-62bb41e26d94",
   "metadata": {},
   "source": [
    "###### Model Tuning\n",
    "* alpha - ceza kat sayısı\n",
    "* hidden_layer_sizes\n",
    "* solver da ekleyebilirdik "
   ]
  },
  {
   "cell_type": "code",
   "execution_count": 45,
   "id": "45c56142-a57d-440a-89e3-db078b760261",
   "metadata": {
    "tags": []
   },
   "outputs": [],
   "source": [
    "mlp_params = {'alpha' : [0.1 , 0.01, 0.02, 0.001, 0.0001],\n",
    "             'hidden_layer_sizes': [(10,2),(10,20),(5,10,15),(100,100)]}"
   ]
  },
  {
   "cell_type": "code",
   "execution_count": 46,
   "id": "5e655c31-ad1b-486c-99f9-2b9c9fc03644",
   "metadata": {
    "tags": []
   },
   "outputs": [
    {
     "name": "stdout",
     "output_type": "stream",
     "text": [
      "Fitting 10 folds for each of 20 candidates, totalling 200 fits\n"
     ]
    },
    {
     "name": "stderr",
     "output_type": "stream",
     "text": [
      "C:\\Users\\ycanf\\anaconda3\\Lib\\site-packages\\sklearn\\neural_network\\_multilayer_perceptron.py:691: ConvergenceWarning: Stochastic Optimizer: Maximum iterations (200) reached and the optimization hasn't converged yet.\n",
      "  warnings.warn(\n"
     ]
    }
   ],
   "source": [
    "mlp_cv_model= GridSearchCV(mlp_model, mlp_params,cv=10, n_jobs=-1,verbose= 2).fit(X_train_scaled,y_train)"
   ]
  },
  {
   "cell_type": "code",
   "execution_count": 47,
   "id": "f27d8164-93b2-4267-ad0c-34c5aa003a73",
   "metadata": {
    "tags": []
   },
   "outputs": [
    {
     "data": {
      "text/plain": [
       "{'alpha': 0.01, 'hidden_layer_sizes': (100, 100)}"
      ]
     },
     "execution_count": 47,
     "metadata": {},
     "output_type": "execute_result"
    }
   ],
   "source": [
    "mlp_cv_model.best_params_"
   ]
  },
  {
   "cell_type": "markdown",
   "id": "55bb4988-3dee-43dd-a18c-77f4b47dab6f",
   "metadata": {},
   "source": [
    "###### final paramtre"
   ]
  },
  {
   "cell_type": "code",
   "execution_count": 48,
   "id": "fd13facd-0e56-4f5f-83cb-7af397a2ef95",
   "metadata": {
    "tags": []
   },
   "outputs": [
    {
     "name": "stderr",
     "output_type": "stream",
     "text": [
      "C:\\Users\\ycanf\\anaconda3\\Lib\\site-packages\\sklearn\\neural_network\\_multilayer_perceptron.py:691: ConvergenceWarning: Stochastic Optimizer: Maximum iterations (200) reached and the optimization hasn't converged yet.\n",
      "  warnings.warn(\n"
     ]
    }
   ],
   "source": [
    "mlp_tuned = MLPRegressor(alpha = 0.01, hidden_layer_sizes=(100,100)).fit(X_train_scaled,y_train)"
   ]
  },
  {
   "cell_type": "code",
   "execution_count": 50,
   "id": "6d680455-60c0-446e-8378-97675c87e0e4",
   "metadata": {
    "tags": []
   },
   "outputs": [],
   "source": [
    "y_pred = mlp_tuned.predict(X_test_scaled)"
   ]
  },
  {
   "cell_type": "code",
   "execution_count": 51,
   "id": "9c8685b1-23b6-46d9-b8f2-02a3b47c331c",
   "metadata": {
    "tags": []
   },
   "outputs": [
    {
     "data": {
      "text/plain": [
       "356.20002620839483"
      ]
     },
     "execution_count": 51,
     "metadata": {},
     "output_type": "execute_result"
    },
    {
     "name": "stderr",
     "output_type": "stream",
     "text": [
      "C:\\Users\\ycanf\\anaconda3\\Lib\\site-packages\\joblib\\_memmapping_reducer.py:611: UserWarning: Failed to delete temporary folder: C:\\Users\\ycanf\\AppData\\Local\\Temp\\joblib_memmapping_folder_20396_3e50976f8a4a47a386a9e574a548f497_121f85af83564bd680589bf885843551\n",
      "  warnings.warn(\"Failed to delete temporary folder: {}\"\n",
      "C:\\Users\\ycanf\\anaconda3\\Lib\\site-packages\\joblib\\_memmapping_reducer.py:611: UserWarning: Failed to delete temporary folder: C:\\Users\\ycanf\\AppData\\Local\\Temp\\joblib_memmapping_folder_20396_3f6069252cbe40969ae8f388755cbae9_bdcea7025ed84075bba8ce5eeab796ff\n",
      "  warnings.warn(\"Failed to delete temporary folder: {}\"\n",
      "C:\\Users\\ycanf\\anaconda3\\Lib\\site-packages\\joblib\\_memmapping_reducer.py:611: UserWarning: Failed to delete temporary folder: C:\\Users\\ycanf\\AppData\\Local\\Temp\\joblib_memmapping_folder_20396_3e50976f8a4a47a386a9e574a548f497_ce3d166b91024cc9a8d76ca0a6ec4f89\n",
      "  warnings.warn(\"Failed to delete temporary folder: {}\"\n",
      "C:\\Users\\ycanf\\anaconda3\\Lib\\site-packages\\joblib\\_memmapping_reducer.py:611: UserWarning: Failed to delete temporary folder: C:\\Users\\ycanf\\AppData\\Local\\Temp\\joblib_memmapping_folder_20396_3e50976f8a4a47a386a9e574a548f497_0e71004ea02545c396e212126376d823\n",
      "  warnings.warn(\"Failed to delete temporary folder: {}\"\n"
     ]
    }
   ],
   "source": [
    "np.sqrt(mean_squared_error(y_test,y_pred))"
   ]
  },
  {
   "cell_type": "code",
   "execution_count": null,
   "id": "b3f8674e-3671-4be7-a2be-ffff2eaf1bde",
   "metadata": {},
   "outputs": [],
   "source": []
  }
 ],
 "metadata": {
  "kernelspec": {
   "display_name": "Python 3 (ipykernel)",
   "language": "python",
   "name": "python3"
  },
  "language_info": {
   "codemirror_mode": {
    "name": "ipython",
    "version": 3
   },
   "file_extension": ".py",
   "mimetype": "text/x-python",
   "name": "python",
   "nbconvert_exporter": "python",
   "pygments_lexer": "ipython3",
   "version": "3.11.4"
  }
 },
 "nbformat": 4,
 "nbformat_minor": 5
}
