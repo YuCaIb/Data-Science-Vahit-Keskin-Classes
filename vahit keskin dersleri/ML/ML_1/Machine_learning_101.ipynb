{
 "cells": [
  {
   "cell_type": "markdown",
   "id": "02ca4bc0-d295-40b0-8891-b5cddbad2a45",
   "metadata": {},
   "source": [
    "# Makine Öğrenmesi Nedir?\n",
    "* İnsanogluna insan üstü fayda.\n",
    "* Bilgisayarların insanlara benzer şekilde öğrenmesini sağlamak nmaksadaıyla çeşitli algoritma ve tekniklerin geliştirilmesi için çalışılan bilimsel çalışma alanıdır."
   ]
  },
  {
   "cell_type": "markdown",
   "id": "d3ad929f-f2bd-44fb-ba78-1c5b3fd036ab",
   "metadata": {},
   "source": [
    "#### Arabam ne kadar eder ?\n",
    "*  Makine öğrenmesi modelimiz bir kişinin aracının özelliklerini girdiğimizde o kişinin aracının ne kadar edeceğini bize vermiş olacak.\n",
    "*  Kilometre, hasar durumu, marka, model,vites türü,yıl... (gözlemler)\n",
    "* $Y_i = \\beta_0 + \\beta_1 X_{i1} + \\beta_2 X_{i2} + \\dots + \\beta_j X_{ij} + \\epsilon_i$ (regrasyon modeli), doğrusal bir fonksiyondur\n",
    "* $X_{i}$ gözlemler, $\\beta_j$ gözlemlerin ağırlığ, $\\beta_0$ Sabit fiyat, sabit gibi düşenebiliriz.\n",
    " "
   ]
  },
  {
   "cell_type": "markdown",
   "id": "be7a36c7-b5f1-4008-a7b8-dbbf21ae0826",
   "metadata": {},
   "source": [
    "## Gerçek Hayat örnekleri\n",
    "* Fotoğraftan araç tanıma uygulaması\n",
    "* Linkdn, letgo ve gmail cevap uygulamaları\n",
    "* Chatbotlar ve kişisel asistanlar\n",
    "* Facebook\n",
    "* Netflix, amazon ve e ticaret tavsiye sistemleri\n",
    "* Spam Engelleme\n",
    "* Cümle tamamlama ve smile tamamlama\n",
    "* Uber\n",
    "* Sahtekarlık öneleme çalışmaları (Fraud Prevention\n",
    "* Kredi Başvurusu değerlendirme\n",
    "* Boston dynamics"
   ]
  },
  {
   "cell_type": "markdown",
   "id": "130e9dde-b6dd-4b9e-b1ec-6cc19476d7a1",
   "metadata": {},
   "source": [
    "## Makine öğrenmesinde sık kullanılan kavramlar\n",
    "* Bağımlı değişken & bağımsız değişken :\n",
    "---------------\n",
    "* Bağımlı değişken \"Makine öğrenmesi probleminde tahmin etmek için hedeflediğimiz ana değişken\"\n",
    "* Bağımsız değişken \"diğer değişkenler, hedef değişkeni(bağımlı) oluşturan değişkenler.\"\n",
    "---------------\n",
    "* Öğrenme Türleri : Gözetimli öğrenme, Gözetimsiz Öğrenme, Pekiştirmeli öğrenme, Yarı denetimli öğrenme\n",
    "* gözetimli öğrenme: Bağımlı değişken ve bağımlı değişkeni meydana getiren bağımsız değişkenler bir aradaysa bu duruma gözetimli öğrenme denir.\n",
    "* gözetimsiz öğrenme: Bağımlı değişken çalışmanın içinde yoktur. Amaç, gözlem birimlerini birbilerine benzer özelliklerine göre bir araya getirmektir.\n",
    "-------------------\n",
    "* Problem Türleri: Regresyon & Sınıflandırma\n",
    "* Regresyon: bağımlı değişken sayısal/sürekli bir değişken ise bu bir regresyon problemidir.\n",
    "* Sınıflandırma: Bağımlı değişken kategorik bir değişken ise bu sınıflandırma problemidir.\n",
    "--------------------------\n",
    "* Model Eğitmek: Test-Train\n",
    "* Test orj verinin %20, Train orj verinin %80'i\n",
    "-----------\n",
    "* Değişken seçimi (Variable Selection) : Amacımız en az değişkenle en fazla açıklanabilirliği yaklamaya çalışmaktır.\n",
    "--------------\n",
    "* Model Seçimi:\n",
    "- 1. Oluşubailecek değişken kombinasyonları ile oluşturulan modeller arasından en iyi modelin seçilmesi.\n",
    "- 2. kurulan birbirinden farklı modeller arasında model seçimi\n",
    "---------------\n",
    "* Model neye göre seçilir?\n",
    "- regresyon için açıklanabilirlik oranı ve RMSE türevi bir değer.\n",
    "- Sınıflandırma için doğru sınıflandırma oranı türevi bir değer\n",
    "\n",
    "\n",
    "\n"
   ]
  },
  {
   "cell_type": "markdown",
   "id": "9dcb5bec-f5c1-4b42-907d-fa100754f741",
   "metadata": {},
   "source": [
    "## Temel Kavramlar 2\n",
    "* Overfitting(Aşırı öğrenme)\n",
    "- Eğitim setini ezberliyor, Hiç görmediği verilerle test ettiğimizde tahmin performansı düşüyor. Genllenebilirlik yetisi kazanamaması.! \n",
    "----------------\n",
    "* Deterministik Modeller vs Stokastik Modeller\n",
    "- Determenistik Modeller : Değişkenler arasında \"KESİN\" bir ilişki olduğunu varsayan modellerdir.\n",
    "- Stokastik Modeller : Olasılıksal Modeller\n",
    "------------\n",
    "* Doğrusal ve Doğrusal olmayan modeller\n",
    "- Doğrusal : Doğru ile ifade edilen modeller\n",
    "- Doğrusal olmayan : Eğri,Ağaca dayalı yöntemlerle ifade edilen modeller."
   ]
  },
  {
   "cell_type": "markdown",
   "id": "77e87b23-f6ea-4de1-84d1-ee7eb448403b",
   "metadata": {},
   "source": [
    "# Model Doğrulama Yöntemleri (Model Validation)\n",
    "* Modellerin ürettiği sonuçların değerlendirilmesi çalışmaları. \n",
    "* Model Kurmak, bağımlı değişken ile bağımsız değişkenler arasında ki ilişkiyi modellemek demektir.\n",
    "* Bir kişi hayatta kalacak mı kalmayacack mı? Bir kişi bir hastalığa sahip mi değil mi ?, Bir kişi kredisini ödeyecek mi ödemeyecek mi ? gibi soruları cevaplarkan sınıflandırma problemlerinde değerlendireceğiz.\n",
    "* Araç Fiyatı, Ev fiyatı, Ödenecek hesap  gibi problemlerini, Bağımlı değişkenin sayısal değişken olduğu, regresyon problemi olarak değerlendireceğiz \n",
    "-----------------\n",
    "* Model doğrulama yöntemleri! Model Başarısı demek değil!!!\n",
    "* Yöntemler : Holdout,K-Katlı Çapraz doğrulama (k-fold cross validation), Leave one out, Bootstrap\n",
    "- Holdout : Verinin yüzde 80 ini eğitime, testin yüzde 20 sini teste ayırıyoruz. Gözlem sayısı az olduğunda, etksi az olabiliyor.\n",
    "- K-Katlı Çapraz doğrulama (k-fold cross validation) : Veri seti eğitim ve test parçalarına ayrılır. Eğitim parçası K adet parçaya ayrılır. Belirlenen bir adet kümeyi dışarıda bırakılır, ve model dışarıda bırakılan parça ile test edilir. aynı işlem bütün parçalarla tekrar edilir. Her aşamada hatalar not edilir, ortalamaları alınır, eğitim(validasyon) hatası elde edilmiş olur. Çalışmanın en başında bölmüş olduğumuz test seti ile ile test ederiz.\n",
    "\n",
    "- Leave One Out: K-Katlı Çapraz doğrulama (k-fold cross validation)'nın özel yöntemli hali. Veriyi gözlem birimi sayısına bölüp her seferinde n'inci gözlemi dışarıda bırakarak, model kurulur eğitilir, dışarıda bıraklıan veri parçasıyla test edilir. Büyük veri setlerinde kullanımı zorlaşır.\n",
    "\n",
    "- Bootstrap: ...\n",
    "\n"
   ]
  },
  {
   "cell_type": "markdown",
   "id": "19826478-4650-4bfc-bcc3-c5cfb90609bf",
   "metadata": {},
   "source": [
    "# Model Başarı Değerlendirme\n",
    "* Modellerin tahmin başarılarının değerlendirilmesi.\n",
    "#### regresyon için      $MSE = \\frac{\\sum_{i=1}^n (y_i - \\hat{y}_i)^2}{n}$ \n",
    "- n : gözlem sayısı,  $y_i$:  gerçek değerler,  $\\hat{y}_i$: tahmin edilen değerler , mean square error\n",
    "\n",
    "$RMSE = \\sqrt{\\frac{\\sum_{i=1}^n (y_i - \\hat{y}_i)^2}{n}}$\n",
    "- n : gözlem sayısı,  $y_i$:  gerçek değerler,  $\\hat{y}_i$: tahmin edilen değerler , root mean square error\n",
    "\n",
    "$MAE = \\frac{\\sum_{i=1}^n |y_i - \\hat{y}_i|}{n}$   - mutlak hata metriği\n",
    "\n",
    "- n : gözlem sayısı,  $y_i$:  gerçek değerler,  $\\hat{y}_i$: tahmin edilen değerler , mean absloute error"
   ]
  },
  {
   "cell_type": "markdown",
   "id": "88572624-827c-4c07-a990-98ccb33b3c6e",
   "metadata": {},
   "source": [
    "## Sınıflandırma Modelleri için başarı değerlendirme\n",
    "* a: True Pozitif d: True Negatif c: False Pozitif b: False negatif\n",
    "* Doğruluk: TP+TN / n  ,  Hata Oranı: FN+FP / n   ,  Kesinlik : TP/(TP+FP) , Anma TP/ (TP+FN)\n",
    "* ROC eğirisi    x= Yanlış pozitif oranı, y = Gerçek Pozitif oranı, Eğri çizilir. Eğrinin altındaki alan ne kadar büyükse model o kadar başarılı demektir.\n"
   ]
  },
  {
   "cell_type": "markdown",
   "id": "daf6af47-ea02-4563-b1d4-d3158fa17159",
   "metadata": {},
   "source": [
    "# Yanlılık ve Varyans Değiş Yokuşu (Bias-Variance Tradeoff)\n",
    "* Model kurarken 2 tip hata olur , Eğitim Hatası ve Test Hatası\n",
    "* Eğitim Hatası: Mdeli Kurmak için kullanılan veri seti üzerinden elde ettiğimiz hatadır.\n",
    "* Test Hatası: Kurulan modeli test etmek için kullandığımız veri seti için oluşan hatadır.\n",
    "\n",
    "* Eğitim Hatası : test hatasının yanlı ve kötü bir tahmincisidir. birbirlerine bir bağımlılığı vardır.\n",
    "\n",
    "* Esneklik  verinin yapısının uygun bir şekilde yorumlanmasıdır.\n",
    "\n",
    "* Yanlılık: Verinin tüm noktalarını temsil edemiyor, az öğrenen eksik öğrenilen (under fitting)\n",
    "\n",
    "* Varyans : Değişkenlik demektir. Overfitting: yüksek varyans demektir, veriyi çok çok iyi temsil eder.\n",
    "\n",
    "* Doğru model : Düşük yanlılık, Düşük Varyans\n",
    "\n",
    "* esneklik artınca varyans artar aşırı öğrenilir."
   ]
  },
  {
   "cell_type": "markdown",
   "id": "e4bb9db8-4a2d-4444-a737-b22f0679a05a",
   "metadata": {},
   "source": [
    "# Model Tuning\n",
    "* Model parametreleri : veriden öğrenilen parametreler\n",
    "* Model hiperparametreleri: Kullanıcı tarafından berlilenen ve veri ile optimize edilen paramatrelerdir.\n",
    "* Model Tuning :  Model optimizasyondur."
   ]
  },
  {
   "cell_type": "code",
   "execution_count": null,
   "id": "1c61d10e-32e4-4d51-b77f-fb7ebbfeb664",
   "metadata": {},
   "outputs": [],
   "source": []
  }
 ],
 "metadata": {
  "kernelspec": {
   "display_name": "Python 3 (ipykernel)",
   "language": "python",
   "name": "python3"
  },
  "language_info": {
   "codemirror_mode": {
    "name": "ipython",
    "version": 3
   },
   "file_extension": ".py",
   "mimetype": "text/x-python",
   "name": "python",
   "nbconvert_exporter": "python",
   "pygments_lexer": "ipython3",
   "version": "3.11.4"
  }
 },
 "nbformat": 4,
 "nbformat_minor": 5
}
